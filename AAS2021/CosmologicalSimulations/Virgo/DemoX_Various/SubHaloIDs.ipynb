{
 "cells": [
  {
   "cell_type": "markdown",
   "metadata": {},
   "source": [
    "## Getting particles in subhalos\n",
    "We can quickly fnd particles in spheres or boxes using spatial index.\n",
    "To get exactly the particles in a sub-halo we need to read files in sub_ids files to get IDs, then use the resulting list to subselect the data obtained from a small sphere around the locaiton of the halo.\n"
   ]
  },
  {
   "cell_type": "code",
   "execution_count": null,
   "metadata": {},
   "outputs": [],
   "source": [
    "import SciServer.CasJobs as cj\n",
    "import numpy as np\n",
    "import matplotlib.pyplot as plt\n",
    "import re\n",
    "import simfiles"
   ]
  },
  {
   "cell_type": "code",
   "execution_count": null,
   "metadata": {},
   "outputs": [],
   "source": [
    "snapfiles,subtabfiles,subidsfiles=simfiles.allfiles(\"Millennium\")"
   ]
  },
  {
   "cell_type": "code",
   "execution_count": null,
   "metadata": {},
   "outputs": [],
   "source": [
    "subtabfiles[:10]"
   ]
  },
  {
   "cell_type": "code",
   "execution_count": null,
   "metadata": {},
   "outputs": [],
   "source": [
    "def addlocation(df):\n",
    "    ids=[]\n",
    "    tabs=[]\n",
    "    for i,row in df.iterrows():\n",
    "        sn=int(row['snapnum'])\n",
    "        fr=int(row['file'])\n",
    "        pattern=\"sub_ids_{0}.{1}\".format(\"%03d\"%sn,fr)\n",
    "        ids.append(list(filter(lambda x : x.endswith(pattern), subidsfiles))[0])\n",
    "        pattern=\"sub_tab_{0}.{1}\".format(\"%03d\"%sn,fr)\n",
    "        tabs.append(list(filter(lambda x : x.endswith(pattern), subtabfiles))[0])\n",
    "    df['subids']=ids\n",
    "    df['subtabs']=tabs"
   ]
  },
  {
   "cell_type": "code",
   "execution_count": null,
   "metadata": {},
   "outputs": [],
   "source": [
    "sql=\"\"\"\n",
    "select top 10 snapnum,x,y,z,phkey,np\n",
    ",      halfmassradius,subhalofileid, haloid\n",
    "  from MR h\n",
    " where h.snapnum=62 \n",
    "    and h.np between 5000 and 10000\n",
    "    and h.haloid=h.firsthaloinfofgroupid\n",
    " order by newid()\n",
    "\"\"\"\n",
    "df=cj.executeQuery(sql,\"MPAHaloTrees\")\n",
    "df['file']=(np.floor((df['subhalofileid']-df['snapnum']*1000000000000)/100000000)).astype(np.int64)\n",
    "df['rank']=df['subhalofileid'] % 100000000\n",
    "addlocation(df)\n",
    "df.head(3)\n"
   ]
  },
  {
   "cell_type": "code",
   "execution_count": null,
   "metadata": {},
   "outputs": [],
   "source": []
  },
  {
   "cell_type": "code",
   "execution_count": null,
   "metadata": {},
   "outputs": [],
   "source": [
    "def getoffsets(row):\n",
    "    tf=row['subtabs']\n",
    "    si=row['subids']\n",
    "    with open(tf,'rb') as f:\n",
    "        Ngroups,Nids,TotNgroups,NFiles,Nsubhalos  = np.fromfile(f,np.int32,5)\n",
    "        f.seek(20+2*Ngroups*4)\n",
    "        sublen=np.fromfile(f,np.int32,Nsubhalos)\n",
    "        f.seek(20+2*Ngroups*4+4*Nsubhalos)\n",
    "        offsets=np.fromfile(f,np.int32,Nsubhalos)\n",
    "    return list(zip(sublen,offsets))"
   ]
  },
  {
   "cell_type": "code",
   "execution_count": null,
   "metadata": {},
   "outputs": [],
   "source": [
    "def subhaloData(row):\n",
    "    rank=int(row['rank'])\n",
    "    nump=int(row['np'])\n",
    "    tf=row['subtabs']\n",
    "    si=row['subids']\n",
    "    TotNsubs = 0\n",
    "    with open(tf,'rb') as f:\n",
    "        Ngroups,Nids,TotNgroups,NFiles,Nsubhalos  = np.fromfile(f,np.int32,5)\n",
    "        print(Ngroups,Nids,TotNgroups,NFiles,Nsubhalos)\n",
    "        f.seek(20+2*Ngroups*4+rank*4)\n",
    "        numpf=np.fromfile(f,np.int32,1)[0]\n",
    "        f.seek(20+2*Ngroups*4+4*Nsubhalos+rank*4)\n",
    "        offset=np.fromfile(f,np.int32,1)[0]\n",
    "        print(nump,'vs',numpf,'off=',offset,'rank=',rank)\n",
    "    with open(si,'rb') as f:\n",
    "        Ngroups, Nids, TotNgroups, NTask = np.fromfile(f,np.int32,4)\n",
    "        print(Ngroups, Nids, TotNgroups, NTask)\n",
    "        f.seek(offset*8+16)\n",
    "        ids=np.fromfile(f,np.int64,nump)\n",
    "    particleid = np.bitwise_and(ids[:], (np.int64(1)<<34) - 1) # [(i << 30) >> 30 for i in ids]\n",
    "#    hashkey    = [i >> 34 for i in ids]\n",
    "    return particleid #,hashkey "
   ]
  },
  {
   "cell_type": "code",
   "execution_count": null,
   "metadata": {},
   "outputs": [],
   "source": [
    "row=df.iloc[0]\n",
    "pids=subhaloData(row)"
   ]
  },
  {
   "cell_type": "code",
   "execution_count": null,
   "metadata": {},
   "outputs": [],
   "source": [
    "sql=\"\"\"\n",
    "select p.*\n",
    "  from dbo.MillenniumParticlesPosVel({sn},'SPHERE[{x},{y},{z},{r}]') p\n",
    "\"\"\".format(sn=int(row['snapnum']),x=row['x'],y=row['y'],z=row['z'],r=5*row['halfmassradius'])\n",
    "print(sql)\n",
    "ps=cj.executeQuery(sql,'SimulationDB')\n",
    "ps.set_index('id',inplace=True)\n",
    "print('found',len(ps),'particles')"
   ]
  },
  {
   "cell_type": "code",
   "execution_count": null,
   "metadata": {},
   "outputs": [],
   "source": [
    "shp=ps.loc[pids]"
   ]
  },
  {
   "cell_type": "code",
   "execution_count": null,
   "metadata": {},
   "outputs": [],
   "source": [
    "X='x'\n",
    "Y='y'\n",
    "f,ax=plt.subplots(figsize=(8,8))\n",
    "#ax.scatter(ps[X],ps[Y],s=.1)\n",
    "ax.scatter(shp[X],shp[Y],s=.1,color='red')\n",
    "ax.set_aspect('equal')"
   ]
  },
  {
   "cell_type": "code",
   "execution_count": null,
   "metadata": {},
   "outputs": [],
   "source": []
  }
 ],
 "metadata": {
  "kernelspec": {
   "display_name": "Python 3.8 (py38)",
   "language": "python",
   "name": "py38"
  },
  "language_info": {
   "codemirror_mode": {
    "name": "ipython",
    "version": 3
   },
   "file_extension": ".py",
   "mimetype": "text/x-python",
   "name": "python",
   "nbconvert_exporter": "python",
   "pygments_lexer": "ipython3",
   "version": "3.8.5"
  }
 },
 "nbformat": 4,
 "nbformat_minor": 2
}
