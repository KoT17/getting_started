{
 "cells": [
  {
   "cell_type": "markdown",
   "metadata": {},
   "source": [
    "# Galaxy Zoo Classification GPU Demo\n",
    "\n",
    "Using votes from the Galaxy Zoo project as target indicators, we create a convolutional neural network (CNN) predictor for galaxy types based on small image cutouts from SDSS centered on the galaxy. To keep things simple, while still producing a reasonable predictor, we have limited the target to select a class in **EL** (elliptical), **CS** (spiral, of any type), and **DK** (unkown/ambiguous). The labels for training were chosen from \"high-confidence\" votes, where either > 75% of votes were for either of **EL** or **CS**, or neither of those had > 25% of votes, in which case we assign **DK**. We created a dataset of 10,000 objects from the `DR10.zooVotes` table in casjobs, and obtained jpeg image cutouts from SkyServer at 0.2' per pixel resolution and a size of 128 x 128 pixels centered on each object."
   ]
  },
  {
   "cell_type": "code",
   "execution_count": 1,
   "metadata": {},
   "outputs": [],
   "source": [
    "import pandas as pd\n",
    "import numpy as np\n",
    "import time\n",
    "from sklearn.model_selection import train_test_split\n",
    "from sklearn.preprocessing import label_binarize\n",
    "from sklearn.metrics import roc_curve, auc\n",
    "import matplotlib.pyplot as plt\n",
    "import tensorflow as tf\n",
    "from tensorflow.keras.layers import Dense, GlobalAveragePooling2D, Dropout\n",
    "from tensorflow.keras.models import Model, Sequential"
   ]
  },
  {
   "cell_type": "markdown",
   "metadata": {},
   "source": [
    "## Read in data\n",
    "\n",
    "The target labels have been prepared in **t_el**, **t_cs**, and **t_dk** with a flag of 1 for member and 0 for non-member, which can be used directly in the model training. The images have been combined together in an array indexed in the same way as the table containing the target labels and packaged in a file suitable for reading directy into a numpy array (size 10000 samples x 128 pixels x 128 pixels x 3 color channels)."
   ]
  },
  {
   "cell_type": "code",
   "execution_count": 2,
   "metadata": {},
   "outputs": [],
   "source": [
    "zoo_votes = pd.read_csv('zoo_votes.csv', index_col=0)\n",
    "images = np.load('zoo_images.npy')"
   ]
  },
  {
   "cell_type": "code",
   "execution_count": 3,
   "metadata": {},
   "outputs": [
    {
     "data": {
      "text/html": [
       "<div>\n",
       "<style scoped>\n",
       "    .dataframe tbody tr th:only-of-type {\n",
       "        vertical-align: middle;\n",
       "    }\n",
       "\n",
       "    .dataframe tbody tr th {\n",
       "        vertical-align: top;\n",
       "    }\n",
       "\n",
       "    .dataframe thead th {\n",
       "        text-align: right;\n",
       "    }\n",
       "</style>\n",
       "<table border=\"1\" class=\"dataframe\">\n",
       "  <thead>\n",
       "    <tr style=\"text-align: right;\">\n",
       "      <th></th>\n",
       "      <th>dr7objid</th>\n",
       "      <th>ra</th>\n",
       "      <th>dec</th>\n",
       "      <th>p_el</th>\n",
       "      <th>p_cs</th>\n",
       "      <th>t_el</th>\n",
       "      <th>t_cs</th>\n",
       "      <th>t_dk</th>\n",
       "    </tr>\n",
       "  </thead>\n",
       "  <tbody>\n",
       "    <tr>\n",
       "      <th>0</th>\n",
       "      <td>587722952230175035</td>\n",
       "      <td>236.2869</td>\n",
       "      <td>-0.518000</td>\n",
       "      <td>0.152</td>\n",
       "      <td>0.818</td>\n",
       "      <td>0</td>\n",
       "      <td>1</td>\n",
       "      <td>0</td>\n",
       "    </tr>\n",
       "    <tr>\n",
       "      <th>1</th>\n",
       "      <td>587722952230175138</td>\n",
       "      <td>236.3422</td>\n",
       "      <td>-0.467028</td>\n",
       "      <td>0.211</td>\n",
       "      <td>0.763</td>\n",
       "      <td>0</td>\n",
       "      <td>1</td>\n",
       "      <td>0</td>\n",
       "    </tr>\n",
       "    <tr>\n",
       "      <th>2</th>\n",
       "      <td>587722952230175173</td>\n",
       "      <td>236.3693</td>\n",
       "      <td>-0.574445</td>\n",
       "      <td>0.077</td>\n",
       "      <td>0.923</td>\n",
       "      <td>0</td>\n",
       "      <td>1</td>\n",
       "      <td>0</td>\n",
       "    </tr>\n",
       "    <tr>\n",
       "      <th>3</th>\n",
       "      <td>587722952230240617</td>\n",
       "      <td>236.3973</td>\n",
       "      <td>-0.493472</td>\n",
       "      <td>0.000</td>\n",
       "      <td>1.000</td>\n",
       "      <td>0</td>\n",
       "      <td>1</td>\n",
       "      <td>0</td>\n",
       "    </tr>\n",
       "    <tr>\n",
       "      <th>4</th>\n",
       "      <td>587722952230306133</td>\n",
       "      <td>236.5877</td>\n",
       "      <td>-0.554444</td>\n",
       "      <td>0.147</td>\n",
       "      <td>0.853</td>\n",
       "      <td>0</td>\n",
       "      <td>1</td>\n",
       "      <td>0</td>\n",
       "    </tr>\n",
       "  </tbody>\n",
       "</table>\n",
       "</div>"
      ],
      "text/plain": [
       "             dr7objid        ra       dec   p_el   p_cs  t_el  t_cs  t_dk\n",
       "0  587722952230175035  236.2869 -0.518000  0.152  0.818     0     1     0\n",
       "1  587722952230175138  236.3422 -0.467028  0.211  0.763     0     1     0\n",
       "2  587722952230175173  236.3693 -0.574445  0.077  0.923     0     1     0\n",
       "3  587722952230240617  236.3973 -0.493472  0.000  1.000     0     1     0\n",
       "4  587722952230306133  236.5877 -0.554444  0.147  0.853     0     1     0"
      ]
     },
     "execution_count": 3,
     "metadata": {},
     "output_type": "execute_result"
    }
   ],
   "source": [
    "zoo_votes.head()"
   ]
  },
  {
   "cell_type": "markdown",
   "metadata": {},
   "source": [
    "## Prepare target labels\n",
    "\n",
    "For training the model, prepare an array of n_samples x n_classes. Here we see the breakdown of number of samples per class in the dataset (which resemble that in the larget galaxy zoo dataset)"
   ]
  },
  {
   "cell_type": "code",
   "execution_count": 4,
   "metadata": {},
   "outputs": [],
   "source": [
    "targ_labs = ['t_el', 't_cs', 't_dk']\n",
    "targets = zoo_votes[targ_labs].to_numpy()"
   ]
  },
  {
   "cell_type": "code",
   "execution_count": 5,
   "metadata": {},
   "outputs": [
    {
     "data": {
      "text/plain": [
       "<BarContainer object of 3 artists>"
      ]
     },
     "execution_count": 5,
     "metadata": {},
     "output_type": "execute_result"
    },
    {
     "data": {
      "image/png": "[encoded data removed]",
      "text/plain": [
       "<Figure size 432x288 with 1 Axes>"
      ]
     },
     "metadata": {
      "needs_background": "light"
     },
     "output_type": "display_data"
    }
   ],
   "source": [
    "plt.bar(targ_labs, targets.sum(axis=0))"
   ]
  },
  {
   "cell_type": "markdown",
   "metadata": {},
   "source": [
    "to convince ourselves that each object is only assigned to one category"
   ]
  },
  {
   "cell_type": "code",
   "execution_count": 6,
   "metadata": {},
   "outputs": [
    {
     "data": {
      "text/plain": [
       "True"
      ]
     },
     "execution_count": 6,
     "metadata": {},
     "output_type": "execute_result"
    }
   ],
   "source": [
    "targets.sum() == len(zoo_votes)"
   ]
  },
  {
   "cell_type": "markdown",
   "metadata": {},
   "source": [
    "## Build model\n",
    "\n",
    "We use tensorflow/keras to build a model based on an existing pretrained image classification network, and add layers to make compatible with the 3 class problem here."
   ]
  },
  {
   "cell_type": "code",
   "execution_count": 7,
   "metadata": {
    "scrolled": true
   },
   "outputs": [],
   "source": [
    "res = tf.keras.applications.resnet.ResNet101(input_shape=(128, 128, 3), include_top=False)"
   ]
  },
  {
   "cell_type": "code",
   "execution_count": 8,
   "metadata": {},
   "outputs": [],
   "source": [
    "model = Sequential()\n",
    "model.add(res)\n",
    "model.add(Dropout(0.5))\n",
    "model.add(GlobalAveragePooling2D())\n",
    "model.add(Dense(128, activation='relu'))\n",
    "model.add(Dense(targets.shape[1], activation='softmax'))"
   ]
  },
  {
   "cell_type": "code",
   "execution_count": 9,
   "metadata": {},
   "outputs": [],
   "source": [
    "model.compile(loss='categorical_crossentropy', optimizer='adam', metrics=['accuracy'])"
   ]
  },
  {
   "cell_type": "markdown",
   "metadata": {},
   "source": [
    "## Train the model\n",
    "Here we show the devices available to tensorflow for training. On a GPU system, this will have devices tagged \"GPU\" in addition to the CPU devices."
   ]
  },
  {
   "cell_type": "markdown",
   "metadata": {},
   "source": [
    "Set aside a validation dataset to be used to evaluate performance of the model and show classification results"
   ]
  },
  {
   "cell_type": "code",
   "execution_count": 10,
   "metadata": {},
   "outputs": [],
   "source": [
    "X_tr, X_te, Y_tr, Y_te = train_test_split(images, targets, test_size=0.33, random_state=42)"
   ]
  },
  {
   "cell_type": "code",
   "execution_count": 11,
   "metadata": {},
   "outputs": [],
   "source": [
    "X_tr_in = tf.keras.applications.resnet.preprocess_input(np.copy(X_tr))\n",
    "X_te_in = tf.keras.applications.resnet.preprocess_input(np.copy(X_te))"
   ]
  },
  {
   "cell_type": "code",
   "execution_count": 12,
   "metadata": {
    "scrolled": true
   },
   "outputs": [
    {
     "data": {
      "text/plain": [
       "[PhysicalDevice(name='/physical_device:CPU:0', device_type='CPU'),\n",
       " PhysicalDevice(name='/physical_device:XLA_CPU:0', device_type='XLA_CPU')]"
      ]
     },
     "execution_count": 12,
     "metadata": {},
     "output_type": "execute_result"
    }
   ],
   "source": [
    "tf.config.experimental.list_physical_devices()"
   ]
  },
  {
   "cell_type": "code",
   "execution_count": null,
   "metadata": {},
   "outputs": [
    {
     "name": "stdout",
     "output_type": "stream",
     "text": [
      "Epoch 1/4\n",
      "210/210 [==============================] - ETA: 0s - loss: 0.5918 - accuracy: 0.7940 "
     ]
    }
   ],
   "source": [
    "tstart = time.time()\n",
    "model.fit(X_tr_in, Y_tr, epochs=4, validation_data=(X_te_in, Y_te))\n",
    "print(f'Total wall time: {time.time() - tstart:0.2f}')"
   ]
  },
  {
   "cell_type": "markdown",
   "metadata": {},
   "source": [
    "## Evaluate classification performance\n",
    "\n",
    "using the test set we created earlier, make predictions and then plot the ROC curve showing the false positive and true positive rates as a function of classification threshold (e.g. label class X if P_x > threshold), for each of the classes separately."
   ]
  },
  {
   "cell_type": "code",
   "execution_count": null,
   "metadata": {
    "scrolled": true
   },
   "outputs": [],
   "source": [
    "pred_te = model.predict(X_te_in)"
   ]
  },
  {
   "cell_type": "code",
   "execution_count": null,
   "metadata": {},
   "outputs": [],
   "source": [
    "f, a = plt.subplots(1, 1, figsize = (12,7))\n",
    "for i in range(targets.shape[1]):\n",
    "    fpr, tpr, thresholds = roc_curve(Y_te[:, i], pred_te[:, i])\n",
    "    auc_ = auc(fpr, tpr)\n",
    "    plt.step(fpr, tpr, label=f'{targ_labs[i]} - AUC: {auc_:0.2f}')\n",
    "plt.plot([0,1], [0,1], ls='--', c='k')\n",
    "plt.title('ROC Curve')\n",
    "plt.xlabel('False Positive Rate')\n",
    "plt.ylabel('True Positive Rate')\n",
    "plt.legend()"
   ]
  },
  {
   "cell_type": "markdown",
   "metadata": {},
   "source": [
    "Using `argmax` to identify the most-likely class, assign labels to the test data. The distribution of classes predicted in the test set looks similar to the overall dataset, with a bit larger share of spiral galaxies, but the trend largely holds"
   ]
  },
  {
   "cell_type": "code",
   "execution_count": null,
   "metadata": {},
   "outputs": [],
   "source": [
    "pred_argmax_lab = label_binarize(pred_te.argmax(axis=1), classes=range(len(targ_labs)))\n",
    "plt.bar(targ_labs, pred_argmax_lab.sum(axis=0))"
   ]
  },
  {
   "cell_type": "markdown",
   "metadata": {},
   "source": [
    "## Preview the results\n",
    "\n",
    "Finally, display some images predictions in each of the 3 classes. These predictions all look pretty good to the human eye, and it is fairly clear what constitutes unkown or ambiguous objects! A pretty good result for about 5 minutes of training!"
   ]
  },
  {
   "cell_type": "code",
   "execution_count": null,
   "metadata": {},
   "outputs": [],
   "source": [
    "cand_el = np.where(pred_argmax_lab[:, 0])[0]\n",
    "cand_cs = np.where(pred_argmax_lab[:, 1])[0]\n",
    "cand_dk = np.where(pred_argmax_lab[:, 2])[0]"
   ]
  },
  {
   "cell_type": "code",
   "execution_count": null,
   "metadata": {},
   "outputs": [],
   "source": [
    "f, a = plt.subplots(3, 5, figsize=[16, 8])\n",
    "f.suptitle('predicted class associations')\n",
    "for i in range(a.shape[1]):\n",
    "    plt.sca(a[0][i])\n",
    "    plt.imshow(X_te[cand_el[i]])\n",
    "    i == 0 and plt.ylabel('eliptical')\n",
    "for i in range(a.shape[1]):\n",
    "    plt.sca(a[1][i])\n",
    "    plt.imshow(X_te[cand_cs[i]])\n",
    "    i == 0 and plt.ylabel('spiral')\n",
    "for i in range(a.shape[1]):\n",
    "    plt.sca(a[2][i])\n",
    "    plt.imshow(X_te[cand_dk[i]])\n",
    "    i == 0 and plt.ylabel('ambiguous')"
   ]
  }
 ],
 "metadata": {
  "kernelspec": {
   "display_name": "Python 3.8 (py38)",
   "language": "python",
   "name": "py38"
  },
  "language_info": {
   "codemirror_mode": {
    "name": "ipython",
    "version": 3
   },
   "file_extension": ".py",
   "mimetype": "text/x-python",
   "name": "python",
   "nbconvert_exporter": "python",
   "pygments_lexer": "ipython3",
   "version": "3.8.5"
  },
  "sciserver": {
   "copySource": {
    "path": "GalZooClassDemo/fetch_data",
    "volId": "49850",
    "volType": "uservolumes"
   },
   "imageInfo": {
    "cachedContainer": {
     "arik": 68570
    },
    "dataVolumes": [],
    "domain": 16,
    "name": "GPU Essentials",
    "userVolumes": [
     66068,
     49850,
     49851
    ]
   },
   "lastEdit": {
    "time": 1610041601557,
    "user": "arik"
   }
  }
 },
 "nbformat": 4,
 "nbformat_minor": 4
}
