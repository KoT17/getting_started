{
 "cells": [
  {
   "cell_type": "code",
   "execution_count": 1,
   "metadata": {},
   "outputs": [],
   "source": [
    "import warnings\n",
    "warnings.simplefilter('ignore')"
   ]
  },
  {
   "cell_type": "markdown",
   "metadata": {},
   "source": [
    "# Marvin Results\n",
    "\n",
    "This tutorial explores some basics of how to handle results of your Marvin Query.  Much of this information can also be found in the [Marvin Results documentation](https://sdss-marvin.readthedocs.io/en/latest/query/results.html).\n",
    "\n",
    "Table of Contents:\n",
    "- [Performing a Query](#query)<br>\n",
    "- [Retrieving Results](#retrieve)<br>\n",
    "- [Formatting Results](#format)<br>\n",
    "- [Quickly Plotting Results](#plot)<br>\n",
    "- [Downloading Results](#download)<br>"
   ]
  },
  {
   "cell_type": "markdown",
   "metadata": {},
   "source": [
    "**Note**:\n",
    "Marvin seamlessly switches data access modes between local files and a database, when a database is available.  The Sciserver-hosted database containing all MaNGA DR15 data is currently down.  All notebooks will currently turn off the database feature and use file-access mode."
   ]
  },
  {
   "cell_type": "code",
   "execution_count": 2,
   "metadata": {},
   "outputs": [
    {
     "name": "stdout",
     "output_type": "stream",
     "text": [
      "INFO: No release version set. Setting default to DR15\n"
     ]
    },
    {
     "name": "stderr",
     "output_type": "stream",
     "text": [
      "/home/idies/miniconda3/lib/python3.7/site-packages/sqlalchemy/ext/declarative/clsregistry.py:120: SAWarning: This declarative base already contains a class with the same class name and module name as marvin.db.models.SampleModelClasses.MangaTarget, and will be replaced in the string-lookup table.\n",
      "  item.__name__\n",
      "/home/idies/miniconda3/lib/python3.7/site-packages/pympler/asizeof.py:1491: PendingDeprecationWarning: the matrix subclass is not the recommended way to represent matrices or deal with linear algebra (see https://docs.scipy.org/doc/numpy/user/numpy-for-matlab-users.html). Please adjust your code to use regular ndarray.\n",
      "  numpy.matrix(range(0)), numpy.ma.masked_array([])):\n",
      "/home/idies/miniconda3/lib/python3.7/importlib/_bootstrap.py:219: RuntimeWarning: numpy.dtype size changed, may indicate binary incompatibility. Expected 96, got 88\n",
      "  return f(*args, **kwds)\n"
     ]
    }
   ],
   "source": [
    "from marvin import config\n",
    "config.forceDbOff()"
   ]
  },
  {
   "cell_type": "markdown",
   "metadata": {},
   "source": [
    "<a id='query'></a>\n",
    "## Performing a Query\n",
    "Our first step is to generate a query.  Let's perform a simple metadata query to look for all galaxies with a redshift < 0.1.  Let's also return the absolute magnitude g-r color and the Elliptical Petrosian half-light radius.  This step assumes familiarity with Marvin Queries.  To learn how to write queries, please see the [Marvin Query documentation](https://sdss-marvin.readthedocs.io/en/latest/query/query.html) or the [Marvin Query Tutorial](https://sdss-marvin.readthedocs.io/en/latest/tutorials/notebooks/marvin_queries.html)."
   ]
  },
  {
   "cell_type": "code",
   "execution_count": 3,
   "metadata": {},
   "outputs": [
    {
     "name": "stderr",
     "output_type": "stream",
     "text": [
      "/home/idies/miniconda3/lib/python3.7/site-packages/sdss_marvin-2.3.2.dev0-py3.7.egg/marvin/utils/datamodel/query/base.py:127: MarvinUserWarning: Could not remotely retrieve full set of parameters. 409\n",
      "  warnings.warn('Could not remotely retrieve full set of parameters. {0}'.format(e), MarvinUserWarning)\n",
      "/home/idies/miniconda3/lib/python3.7/site-packages/sdss_marvin-2.3.2.dev0-py3.7.egg/marvin/tools/query.py:236: MarvinUserWarning: No local database found. Cannot perform queries.\n",
      "  warnings.warn('No local database found. Cannot perform queries.', MarvinUserWarning)\n"
     ]
    }
   ],
   "source": [
    "# set up and run the query\n",
    "from marvin.tools.query import Query\n",
    "q = Query(search_filter='nsa.z < 0.1', return_params=['absmag_g_r', 'nsa.elpetro_th50_r'])\n",
    "r = q.run()"
   ]
  },
  {
   "cell_type": "code",
   "execution_count": 4,
   "metadata": {},
   "outputs": [
    {
     "data": {
      "text/plain": [
       "Marvin Results(query=nsa.z < 0.1, totalcount=4275, count=100, mode=remote)"
      ]
     },
     "execution_count": 4,
     "metadata": {},
     "output_type": "execute_result"
    }
   ],
   "source": [
    "# repr the results\n",
    "r"
   ]
  },
  {
   "cell_type": "markdown",
   "metadata": {},
   "source": [
    "Our query runs and indicates a total count of 4275 results.  By default, queries that return more than 1000 rows will be automatically paginated into sets (or chunks) of 100 rows, indicated by ``count=100``.  The number of rows queries return can be changed using the ``limit`` keyword argument to ``Qeuery``.  The results are stored in the ``results`` attribute."
   ]
  },
  {
   "cell_type": "code",
   "execution_count": 5,
   "metadata": {},
   "outputs": [
    {
     "data": {
      "text/plain": [
       "<ResultSet(set=1.0/43, index=0:100, count_in_set=100, total=4275)>\n",
       "[ResultRow(mangaid='1-109056', plateifu='8077-6103', elpetro_absmag_g_r=1.11703872680664, elpetro_th50_r=3.709004, z=0.047301855),\n",
       " ResultRow(mangaid='1-109073', plateifu='8078-12704', elpetro_absmag_g_r=1.05978775024414, elpetro_th50_r=7.5472426, z=0.043588243),\n",
       " ResultRow(mangaid='1-109081', plateifu='8077-12705', elpetro_absmag_g_r=1.23031806945801, elpetro_th50_r=9.6066475, z=0.04385919),\n",
       " ResultRow(mangaid='1-109112', plateifu='8078-1901', elpetro_absmag_g_r=1.5319881439209, elpetro_th50_r=2.255412, z=0.024970215),\n",
       " ResultRow(mangaid='1-109152', plateifu='8154-12702', elpetro_absmag_g_r=1.5439453125, elpetro_th50_r=16.126255, z=0.028173625),\n",
       " ResultRow(mangaid='1-109167', plateifu='8078-1902', elpetro_absmag_g_r=1.65657424926758, elpetro_th50_r=1.913222, z=0.024634399),\n",
       " ResultRow(mangaid='1-109234', plateifu='9193-1901', elpetro_absmag_g_r=1.52570343017578, elpetro_th50_r=2.1652818, z=0.04093087),\n",
       " ResultRow(mangaid='1-109244', plateifu='8080-12702', elpetro_absmag_g_r=1.52271270751953, elpetro_th50_r=15.379007, z=0.026791101),\n",
       " ResultRow(mangaid='1-109250', plateifu='8080-1902', elpetro_absmag_g_r=0.780342102050781, elpetro_th50_r=2.1597683, z=0.03837309),\n",
       " ResultRow(mangaid='1-109270', plateifu='9193-12703', elpetro_absmag_g_r=1.28193092346191, elpetro_th50_r=2.7423985, z=0.025226595),\n",
       " ResultRow(mangaid='1-109284', plateifu='8080-6103', elpetro_absmag_g_r=1.13128662109375, elpetro_th50_r=3.6136615, z=0.06861011),\n",
       " ResultRow(mangaid='1-109356', plateifu='8081-3703', elpetro_absmag_g_r=1.01610565185547, elpetro_th50_r=4.400281, z=0.024178172),\n",
       " ResultRow(mangaid='1-109378', plateifu='8084-12703', elpetro_absmag_g_r=1.15368461608887, elpetro_th50_r=9.641704, z=0.03911035),\n",
       " ResultRow(mangaid='1-109392', plateifu='8085-6101', elpetro_absmag_g_r=1.57899284362793, elpetro_th50_r=6.786712, z=0.051480327),\n",
       " ResultRow(mangaid='1-109394', plateifu='8082-9102', elpetro_absmag_g_r=1.26038932800293, elpetro_th50_r=7.1713686, z=0.03610732),\n",
       " ResultRow(mangaid='1-109428', plateifu='8155-3704', elpetro_absmag_g_r=1.65565872192383, elpetro_th50_r=1.6106, z=0.047659427),\n",
       " ResultRow(mangaid='1-109521', plateifu='8156-6101', elpetro_absmag_g_r=1.79952621459961, elpetro_th50_r=5.324952, z=0.049048375),\n",
       " ResultRow(mangaid='1-113208', plateifu='8618-3701', elpetro_absmag_g_r=1.48788070678711, elpetro_th50_r=2.7162027, z=0.069904365),\n",
       " ResultRow(mangaid='1-113219', plateifu='7815-9102', elpetro_absmag_g_r=0.543312072753906, elpetro_th50_r=5.1585293, z=0.040889695),\n",
       " ResultRow(mangaid='1-113242', plateifu='7972-6101', elpetro_absmag_g_r=1.90381813049316, elpetro_th50_r=6.1714554, z=0.043719698),\n",
       " ResultRow(mangaid='1-113265', plateifu='7972-12703', elpetro_absmag_g_r=1.04117393493652, elpetro_th50_r=8.041406, z=0.043739777),\n",
       " ResultRow(mangaid='1-113315', plateifu='7972-3702', elpetro_absmag_g_r=1.66540908813477, elpetro_th50_r=3.020077, z=0.062216245),\n",
       " ResultRow(mangaid='1-113322', plateifu='7972-12701', elpetro_absmag_g_r=2.22256088256836, elpetro_th50_r=6.599677, z=0.043162815),\n",
       " ResultRow(mangaid='1-113343', plateifu='7972-1901', elpetro_absmag_g_r=1.6228084564209, elpetro_th50_r=1.4783916, z=0.043394886),\n",
       " ResultRow(mangaid='1-113346', plateifu='7972-12702', elpetro_absmag_g_r=0.943971633911133, elpetro_th50_r=7.121848, z=0.043138873),\n",
       " ResultRow(mangaid='1-113368', plateifu='7972-6103', elpetro_absmag_g_r=1.61076927185059, elpetro_th50_r=5.5207486, z=0.04315339),\n",
       " ResultRow(mangaid='1-113375', plateifu='7972-12704', elpetro_absmag_g_r=0.757579803466797, elpetro_th50_r=8.967658, z=0.028214978),\n",
       " ResultRow(mangaid='1-113375', plateifu='7815-9101', elpetro_absmag_g_r=0.757579803466797, elpetro_th50_r=8.967658, z=0.028214978),\n",
       " ResultRow(mangaid='1-113379', plateifu='7972-3701', elpetro_absmag_g_r=1.09770011901855, elpetro_th50_r=6.083876, z=0.01716112),\n",
       " ResultRow(mangaid='1-113379', plateifu='7815-6101', elpetro_absmag_g_r=1.09770011901855, elpetro_th50_r=6.083876, z=0.01716112),\n",
       " ResultRow(mangaid='1-113403', plateifu='7815-12703', elpetro_absmag_g_r=0.745466232299805, elpetro_th50_r=4.264062, z=0.071512625),\n",
       " ResultRow(mangaid='1-113404', plateifu='7972-6104', elpetro_absmag_g_r=1.0419807434082, elpetro_th50_r=3.5516825, z=0.04227131),\n",
       " ResultRow(mangaid='1-113405', plateifu='7972-3704', elpetro_absmag_g_r=1.27382469177246, elpetro_th50_r=2.4373574, z=0.042472336),\n",
       " ResultRow(mangaid='1-113418', plateifu='7815-12704', elpetro_absmag_g_r=1.44098854064941, elpetro_th50_r=7.3141084, z=0.043080613),\n",
       " ResultRow(mangaid='1-113469', plateifu='7972-12705', elpetro_absmag_g_r=0.847789764404297, elpetro_th50_r=6.080981, z=0.03946172),\n",
       " ResultRow(mangaid='1-113469', plateifu='7815-12702', elpetro_absmag_g_r=0.847789764404297, elpetro_th50_r=6.080981, z=0.03946172),\n",
       " ResultRow(mangaid='1-113518', plateifu='7972-6102', elpetro_absmag_g_r=0.380338668823242, elpetro_th50_r=6.411989, z=0.029997509),\n",
       " ResultRow(mangaid='1-113520', plateifu='7815-1901', elpetro_absmag_g_r=1.7510347366333, elpetro_th50_r=2.9852433, z=0.016765233),\n",
       " ResultRow(mangaid='1-113525', plateifu='8618-6103', elpetro_absmag_g_r=1.57906627655029, elpetro_th50_r=7.97363, z=0.016945735),\n",
       " ResultRow(mangaid='1-113525', plateifu='7815-1902', elpetro_absmag_g_r=1.57906627655029, elpetro_th50_r=7.97363, z=0.016945735),\n",
       " ResultRow(mangaid='1-113525', plateifu='7972-9102', elpetro_absmag_g_r=1.57906627655029, elpetro_th50_r=7.97363, z=0.016945735),\n",
       " ResultRow(mangaid='1-113539', plateifu='8618-12701', elpetro_absmag_g_r=1.26716613769531, elpetro_th50_r=16.69943, z=0.017700225),\n",
       " ResultRow(mangaid='1-113540', plateifu='7815-3702', elpetro_absmag_g_r=0.952407836914062, elpetro_th50_r=3.774947, z=0.029382324),\n",
       " ResultRow(mangaid='1-113551', plateifu='7972-3703', elpetro_absmag_g_r=1.46421432495117, elpetro_th50_r=2.8334177, z=0.058850706),\n",
       " ResultRow(mangaid='1-113567', plateifu='7815-12701', elpetro_absmag_g_r=1.41732978820801, elpetro_th50_r=9.660081, z=0.016743217),\n",
       " ResultRow(mangaid='1-113567', plateifu='8618-1902', elpetro_absmag_g_r=1.41732978820801, elpetro_th50_r=9.660081, z=0.016743217),\n",
       " ResultRow(mangaid='1-113585', plateifu='7815-3703', elpetro_absmag_g_r=1.68158912658691, elpetro_th50_r=4.0300894, z=0.070275955),\n",
       " ResultRow(mangaid='1-113587', plateifu='8618-12704', elpetro_absmag_g_r=1.02355575561523, elpetro_th50_r=5.0809765, z=0.070492566),\n",
       " ResultRow(mangaid='1-113647', plateifu='8618-6104', elpetro_absmag_g_r=1.78754997253418, elpetro_th50_r=3.973523, z=0.073856324),\n",
       " ResultRow(mangaid='1-113651', plateifu='7815-3704', elpetro_absmag_g_r=1.4986743927002, elpetro_th50_r=2.9653854, z=0.07088467),\n",
       " ResultRow(mangaid='1-113654', plateifu='8618-9102', elpetro_absmag_g_r=1.10831832885742, elpetro_th50_r=4.8888135, z=0.043069396),\n",
       " ResultRow(mangaid='1-113663', plateifu='8618-3703', elpetro_absmag_g_r=2.80322933197021, elpetro_th50_r=3.0503495, z=0.031632792),\n",
       " ResultRow(mangaid='1-113672', plateifu='8618-3704', elpetro_absmag_g_r=1.25676536560059, elpetro_th50_r=2.3030307, z=0.070227824),\n",
       " ResultRow(mangaid='1-113698', plateifu='8618-1901', elpetro_absmag_g_r=0.995195388793945, elpetro_th50_r=3.0674524, z=0.01674447),\n",
       " ResultRow(mangaid='1-113700', plateifu='8618-12703', elpetro_absmag_g_r=0.61408805847168, elpetro_th50_r=4.672201, z=0.037837222),\n",
       " ResultRow(mangaid='1-113712', plateifu='7815-6104', elpetro_absmag_g_r=0.69244384765625, elpetro_th50_r=4.579272, z=0.08069666),\n",
       " ResultRow(mangaid='1-114073', plateifu='7975-12705', elpetro_absmag_g_r=0.751516342163086, elpetro_th50_r=8.9485855, z=0.040289473),\n",
       " ResultRow(mangaid='1-114082', plateifu='7975-3701', elpetro_absmag_g_r=1.44381332397461, elpetro_th50_r=4.7315826, z=0.04026826),\n",
       " ResultRow(mangaid='1-114121', plateifu='7975-12701', elpetro_absmag_g_r=1.43171119689941, elpetro_th50_r=6.238, z=0.08793132),\n",
       " ResultRow(mangaid='1-114128', plateifu='7975-6101', elpetro_absmag_g_r=1.86342239379883, elpetro_th50_r=3.2862449, z=0.077874966),\n",
       " ResultRow(mangaid='1-114129', plateifu='7975-12702', elpetro_absmag_g_r=2.19032287597656, elpetro_th50_r=10.662438, z=0.07740972),\n",
       " ResultRow(mangaid='1-114145', plateifu='7975-6102', elpetro_absmag_g_r=1.41496467590332, elpetro_th50_r=6.643856, z=0.03418848),\n",
       " ResultRow(mangaid='1-114171', plateifu='7975-3702', elpetro_absmag_g_r=1.70641708374023, elpetro_th50_r=4.3282833, z=0.0881405),\n",
       " ResultRow(mangaid='1-114303', plateifu='7975-1901', elpetro_absmag_g_r=0.658689498901367, elpetro_th50_r=9.024738, z=0.022010738),\n",
       " ResultRow(mangaid='1-114306', plateifu='7975-9101', elpetro_absmag_g_r=0.99525260925293, elpetro_th50_r=7.50072, z=0.063650504),\n",
       " ResultRow(mangaid='1-114325', plateifu='7975-12703', elpetro_absmag_g_r=1.34337997436523, elpetro_th50_r=15.39947, z=0.028879073),\n",
       " ResultRow(mangaid='1-114334', plateifu='7975-1902', elpetro_absmag_g_r=1.43183898925781, elpetro_th50_r=3.0839577, z=0.022247298),\n",
       " ResultRow(mangaid='1-114454', plateifu='7975-12704', elpetro_absmag_g_r=1.29723358154297, elpetro_th50_r=5.009307, z=0.08886057),\n",
       " ResultRow(mangaid='1-114465', plateifu='7975-6104', elpetro_absmag_g_r=1.21394157409668, elpetro_th50_r=4.044877, z=0.07885468),\n",
       " ResultRow(mangaid='1-114500', plateifu='7975-9102', elpetro_absmag_g_r=1.14164924621582, elpetro_th50_r=7.546844, z=0.022084892),\n",
       " ResultRow(mangaid='1-114502', plateifu='7975-6103', elpetro_absmag_g_r=1.4673023223877, elpetro_th50_r=3.4307737, z=0.07980582),\n",
       " ResultRow(mangaid='1-114532', plateifu='7975-3703', elpetro_absmag_g_r=1.73165702819824, elpetro_th50_r=2.771671, z=0.09022606),\n",
       " ResultRow(mangaid='1-114928', plateifu='7977-3702', elpetro_absmag_g_r=1.65719413757324, elpetro_th50_r=4.630486, z=0.027347839),\n",
       " ResultRow(mangaid='1-114955', plateifu='7977-12701', elpetro_absmag_g_r=1.01249313354492, elpetro_th50_r=5.0340056, z=0.09227989),\n",
       " ResultRow(mangaid='1-114956', plateifu='7977-3704', elpetro_absmag_g_r=1.3456974029541, elpetro_th50_r=3.938061, z=0.027024804),\n",
       " ResultRow(mangaid='1-114980', plateifu='7977-9102', elpetro_absmag_g_r=1.14808464050293, elpetro_th50_r=4.933189, z=0.06309155),\n",
       " ResultRow(mangaid='1-114998', plateifu='7977-6102', elpetro_absmag_g_r=2.77035713195801, elpetro_th50_r=6.30899, z=0.06140417),\n",
       " ResultRow(mangaid='1-115062', plateifu='7977-1901', elpetro_absmag_g_r=1.65952682495117, elpetro_th50_r=1.2997066, z=0.026056856),\n",
       " ResultRow(mangaid='1-115085', plateifu='7977-6103', elpetro_absmag_g_r=0.912630081176758, elpetro_th50_r=4.956891, z=0.034930434),\n",
       " ResultRow(mangaid='1-115097', plateifu='7977-3701', elpetro_absmag_g_r=1.49947357177734, elpetro_th50_r=4.6528153, z=0.027447285),\n",
       " ResultRow(mangaid='1-115128', plateifu='7977-1902', elpetro_absmag_g_r=1.1044979095459, elpetro_th50_r=7.786209, z=0.035811584),\n",
       " ResultRow(mangaid='1-115162', plateifu='7977-12703', elpetro_absmag_g_r=1.13131713867188, elpetro_th50_r=7.3267035, z=0.073862724),\n",
       " ResultRow(mangaid='1-115320', plateifu='7977-3703', elpetro_absmag_g_r=0.99519157409668, elpetro_th50_r=4.7248664, z=0.02752743),\n",
       " ResultRow(mangaid='1-120935', plateifu='8144-12703', elpetro_absmag_g_r=1.19215965270996, elpetro_th50_r=8.773484, z=0.038908858),\n",
       " ResultRow(mangaid='1-120941', plateifu='8144-9101', elpetro_absmag_g_r=1.37554359436035, elpetro_th50_r=7.1364207, z=0.01578745),\n",
       " ResultRow(mangaid='1-120943', plateifu='8144-6102', elpetro_absmag_g_r=1.49009323120117, elpetro_th50_r=8.043222, z=0.039309647),\n",
       " ResultRow(mangaid='1-120955', plateifu='8144-12702', elpetro_absmag_g_r=1.05715751647949, elpetro_th50_r=8.804214, z=0.05122785),\n",
       " ResultRow(mangaid='1-120967', plateifu='8144-12704', elpetro_absmag_g_r=1.39360427856445, elpetro_th50_r=5.12678, z=0.088961706),\n",
       " ResultRow(mangaid='1-121023', plateifu='8144-6103', elpetro_absmag_g_r=1.77910804748535, elpetro_th50_r=3.7603483, z=0.061740246),\n",
       " ResultRow(mangaid='1-121035', plateifu='8144-1901', elpetro_absmag_g_r=1.74846458435059, elpetro_th50_r=2.7543511, z=0.026805064),\n",
       " ResultRow(mangaid='1-121075', plateifu='8144-3702', elpetro_absmag_g_r=1.42728805541992, elpetro_th50_r=2.659395, z=0.09785346),\n",
       " ResultRow(mangaid='1-121151', plateifu='8139-12701', elpetro_absmag_g_r=0.917177200317383, elpetro_th50_r=9.731242, z=0.015587572),\n",
       " ResultRow(mangaid='1-121202', plateifu='8139-1902', elpetro_absmag_g_r=1.09575843811035, elpetro_th50_r=2.0993154, z=0.04063847),\n",
       " ResultRow(mangaid='1-121206', plateifu='8139-9101', elpetro_absmag_g_r=0.632560729980469, elpetro_th50_r=8.30522, z=0.019181596),\n",
       " ResultRow(mangaid='1-121209', plateifu='8139-6101', elpetro_absmag_g_r=1.92057991027832, elpetro_th50_r=5.6420918, z=0.027710963),\n",
       " ResultRow(mangaid='1-121218', plateifu='8139-3703', elpetro_absmag_g_r=0.984956741333008, elpetro_th50_r=7.5811753, z=0.044036068),\n",
       " ResultRow(mangaid='1-121235', plateifu='8936-3702', elpetro_absmag_g_r=1.61528015136719, elpetro_th50_r=3.3564723, z=0.06093322),\n",
       " ResultRow(mangaid='1-121236', plateifu='8139-6104', elpetro_absmag_g_r=1.68639945983887, elpetro_th50_r=7.485542, z=0.06078583),\n",
       " ResultRow(mangaid='1-121277', plateifu='8977-6101', elpetro_absmag_g_r=2.23527336120605, elpetro_th50_r=3.765603, z=0.054161508),\n",
       " ResultRow(mangaid='1-121330', plateifu='8977-12702', elpetro_absmag_g_r=0.697284698486328, elpetro_th50_r=9.804438, z=0.017497633)]"
      ]
     },
     "execution_count": 5,
     "metadata": {},
     "output_type": "execute_result"
    }
   ],
   "source": [
    "# look at the results\n",
    "r.results"
   ]
  },
  {
   "cell_type": "markdown",
   "metadata": {},
   "source": [
    "A ``ResultSet`` contains a list of tuple rows with some default parameters like ``mangaid`` and ``plateifu``, plus any parameters used in the ``Query`` ``search_filter`` or requested with the ``return_params`` keyword.  The redshift, g-r color, and half-light radius has been returned.  We can look at all the columns available using the ``columns`` attribute.   "
   ]
  },
  {
   "cell_type": "code",
   "execution_count": 6,
   "metadata": {},
   "outputs": [
    {
     "data": {
      "text/plain": [
       "<ParameterGroup name=Columns, n_parameters=5>\n",
       " [<QueryParameter full=cube.mangaid, name=mangaid, short=mangaid, remote=mangaid, display=Manga-ID>,\n",
       " <QueryParameter full=cube.plateifu, name=plateifu, short=plateifu, remote=plateifu, display=Plate-IFU>,\n",
       " <QueryParameter full=nsa.elpetro_absmag_g_r, name=elpetro_absmag_g_r, short=absmag_g_r, remote=elpetro_absmag_g_r, display=Absmag g-r>,\n",
       " <QueryParameter full=nsa.elpetro_th50_r, name=elpetro_th50_r, short=th50_r, remote=elpetro_th50_r, display=r-band half-light radius>,\n",
       " <QueryParameter full=nsa.z, name=z, short=z, remote=z, display=Redshift>]"
      ]
     },
     "execution_count": 6,
     "metadata": {},
     "output_type": "execute_result"
    }
   ],
   "source": [
    "# look at the columns returned by your results\n",
    "r.columns"
   ]
  },
  {
   "cell_type": "markdown",
   "metadata": {},
   "source": [
    "<a id='retrieve'></a>\n",
    "## Retrieving Results\n",
    "There are several options for handling paginated results.  To page through the sets of results without extending the results, use ``getNext`` and ``getPrevious``.  These methods simply page through.   "
   ]
  },
  {
   "cell_type": "code",
   "execution_count": 7,
   "metadata": {},
   "outputs": [
    {
     "name": "stdout",
     "output_type": "stream",
     "text": [
      "INFO: Retrieving next 100, from 100 to 200\n"
     ]
    }
   ],
   "source": [
    "# get the next set of results\n",
    "n = r.getNext()"
   ]
  },
  {
   "cell_type": "code",
   "execution_count": 8,
   "metadata": {},
   "outputs": [
    {
     "data": {
      "text/plain": [
       "<ResultSet(set=2.0/43, index=100:200, count_in_set=100, total=4275)>\n",
       "[ResultRow(mangaid='1-121334', plateifu='8977-1902', elpetro_absmag_g_r=1.6729907989502, elpetro_th50_r=2.038858, z=0.041755456),\n",
       " ResultRow(mangaid='1-121375', plateifu='8977-3701', elpetro_absmag_g_r=1.73355865478516, elpetro_th50_r=2.5991359, z=0.08281895),\n",
       " ResultRow(mangaid='1-121387', plateifu='8977-1901', elpetro_absmag_g_r=1.38675498962402, elpetro_th50_r=1.9763646, z=0.02816286),\n",
       " ResultRow(mangaid='1-121413', plateifu='8977-12704', elpetro_absmag_g_r=0.746274948120117, elpetro_th50_r=8.373097, z=0.015870864),\n",
       " ResultRow(mangaid='1-121486', plateifu='8717-3704', elpetro_absmag_g_r=1.18856620788574, elpetro_th50_r=5.8174176, z=0.02900766),\n",
       " ResultRow(mangaid='1-121523', plateifu='8977-12703', elpetro_absmag_g_r=2.02036094665527, elpetro_th50_r=5.3151755, z=0.07524252),\n",
       " ResultRow(mangaid='1-121598', plateifu='8717-9102', elpetro_absmag_g_r=2.1969108581543, elpetro_th50_r=8.247149, z=0.07141149),\n",
       " ResultRow(mangaid='1-121607', plateifu='9485-1902', elpetro_absmag_g_r=1.71369934082031, elpetro_th50_r=3.4489717, z=0.040510714),\n",
       " ResultRow(mangaid='1-121612', plateifu='9485-12702', elpetro_absmag_g_r=0.873281478881836, elpetro_th50_r=11.117785, z=0.018719127),\n",
       " ResultRow(mangaid='1-121697', plateifu='8717-6101', elpetro_absmag_g_r=1.64321327209473, elpetro_th50_r=3.934585, z=0.045633167),\n",
       " ResultRow(mangaid='1-121735', plateifu='8717-3703', elpetro_absmag_g_r=0.967935562133789, elpetro_th50_r=2.760352, z=0.045781285),\n",
       " ResultRow(mangaid='1-121773', plateifu='8717-12703', elpetro_absmag_g_r=0.82383918762207, elpetro_th50_r=12.163798, z=0.019982),\n",
       " ResultRow(mangaid='1-121784', plateifu='9181-3701', elpetro_absmag_g_r=1.23087501525879, elpetro_th50_r=2.910236, z=0.040277373),\n",
       " ResultRow(mangaid='1-121789', plateifu='9485-3701', elpetro_absmag_g_r=1.45931434631348, elpetro_th50_r=2.5209637, z=0.039232377),\n",
       " ResultRow(mangaid='1-121803', plateifu='9181-1901', elpetro_absmag_g_r=1.66340065002441, elpetro_th50_r=2.154927, z=0.040841118),\n",
       " ResultRow(mangaid='1-121837', plateifu='9485-3702', elpetro_absmag_g_r=1.32039070129395, elpetro_th50_r=3.1066482, z=0.04150405),\n",
       " ResultRow(mangaid='1-121851', plateifu='9485-6101', elpetro_absmag_g_r=1.6701717376709, elpetro_th50_r=5.7463317, z=0.0719923),\n",
       " ResultRow(mangaid='1-121871', plateifu='9485-3703', elpetro_absmag_g_r=1.15477180480957, elpetro_th50_r=2.8915582, z=0.044164646),\n",
       " ResultRow(mangaid='1-121911', plateifu='9183-12701', elpetro_absmag_g_r=1.38198661804199, elpetro_th50_r=2.099706, z=0.021172762),\n",
       " ResultRow(mangaid='1-121936', plateifu='9485-12703', elpetro_absmag_g_r=1.10766410827637, elpetro_th50_r=9.055465, z=0.021801304),\n",
       " ResultRow(mangaid='1-121947', plateifu='9485-6102', elpetro_absmag_g_r=1.85177803039551, elpetro_th50_r=4.768344, z=0.08911668),\n",
       " ResultRow(mangaid='1-121973', plateifu='9485-6104', elpetro_absmag_g_r=1.4388542175293, elpetro_th50_r=4.3080053, z=0.03284431),\n",
       " ResultRow(mangaid='1-121992', plateifu='9183-1902', elpetro_absmag_g_r=1.55809211730957, elpetro_th50_r=1.7025301, z=0.028021712),\n",
       " ResultRow(mangaid='1-121994', plateifu='9485-9102', elpetro_absmag_g_r=0.971985816955566, elpetro_th50_r=7.9107075, z=0.01881695),\n",
       " ResultRow(mangaid='1-122002', plateifu='9485-1901', elpetro_absmag_g_r=1.04083061218262, elpetro_th50_r=2.2439673, z=0.0712221),\n",
       " ResultRow(mangaid='1-122044', plateifu='9181-9102', elpetro_absmag_g_r=1.43736457824707, elpetro_th50_r=4.6225705, z=0.03944391),\n",
       " ResultRow(mangaid='1-122054', plateifu='9485-12704', elpetro_absmag_g_r=1.55994606018066, elpetro_th50_r=1.8313472, z=0.042210944),\n",
       " ResultRow(mangaid='1-122057', plateifu='9181-1902', elpetro_absmag_g_r=1.33530044555664, elpetro_th50_r=1.8541994, z=0.039947372),\n",
       " ResultRow(mangaid='1-122059', plateifu='9183-12704', elpetro_absmag_g_r=1.40407371520996, elpetro_th50_r=8.177371, z=0.07624522),\n",
       " ResultRow(mangaid='1-122067', plateifu='9181-6104', elpetro_absmag_g_r=0.855253219604492, elpetro_th50_r=6.305724, z=0.023368739),\n",
       " ResultRow(mangaid='1-122088', plateifu='9486-12701', elpetro_absmag_g_r=0.916702270507812, elpetro_th50_r=23.943218, z=0.041527998),\n",
       " ResultRow(mangaid='1-122094', plateifu='9183-9101', elpetro_absmag_g_r=1.50480842590332, elpetro_th50_r=7.5826054, z=0.035518885),\n",
       " ResultRow(mangaid='1-122119', plateifu='9183-9102', elpetro_absmag_g_r=0.64360237121582, elpetro_th50_r=6.849651, z=0.022320488),\n",
       " ResultRow(mangaid='1-122141', plateifu='9183-3704', elpetro_absmag_g_r=1.48015403747559, elpetro_th50_r=5.1550875, z=0.040416818),\n",
       " ResultRow(mangaid='1-122151', plateifu='9183-6102', elpetro_absmag_g_r=1.30054664611816, elpetro_th50_r=3.4436033, z=0.012434407),\n",
       " ResultRow(mangaid='1-122284', plateifu='9183-6101', elpetro_absmag_g_r=1.33587646484375, elpetro_th50_r=3.2532105, z=0.022492083),\n",
       " ResultRow(mangaid='1-122304', plateifu='9183-3703', elpetro_absmag_g_r=1.27674674987793, elpetro_th50_r=3.8723712, z=0.023345275),\n",
       " ResultRow(mangaid='1-122329', plateifu='9486-6103', elpetro_absmag_g_r=2.3619499206543, elpetro_th50_r=6.4339447, z=0.09824831),\n",
       " ResultRow(mangaid='1-122333', plateifu='9486-1901', elpetro_absmag_g_r=1.30059051513672, elpetro_th50_r=3.6777198, z=0.020872675),\n",
       " ResultRow(mangaid='1-122334', plateifu='9486-6104', elpetro_absmag_g_r=1.59306716918945, elpetro_th50_r=3.7192764, z=0.0636345),\n",
       " ResultRow(mangaid='1-122361', plateifu='9486-6102', elpetro_absmag_g_r=1.66129302978516, elpetro_th50_r=3.4541478, z=0.06388101),\n",
       " ResultRow(mangaid='1-122364', plateifu='9486-12703', elpetro_absmag_g_r=0.655183792114258, elpetro_th50_r=6.2598157, z=0.03692947),\n",
       " ResultRow(mangaid='1-122412', plateifu='9486-12705', elpetro_absmag_g_r=1.55437088012695, elpetro_th50_r=3.987158, z=0.026033143),\n",
       " ResultRow(mangaid='1-122586', plateifu='9486-1902', elpetro_absmag_g_r=1.61582374572754, elpetro_th50_r=3.6972797, z=0.09901853),\n",
       " ResultRow(mangaid='1-124604', plateifu='8439-6103', elpetro_absmag_g_r=1.38611221313477, elpetro_th50_r=6.671316, z=0.025300121),\n",
       " ResultRow(mangaid='1-133922', plateifu='8486-6104', elpetro_absmag_g_r=1.51949119567871, elpetro_th50_r=5.8533196, z=0.017471846),\n",
       " ResultRow(mangaid='1-133941', plateifu='8486-9102', elpetro_absmag_g_r=1.04214859008789, elpetro_th50_r=6.990097, z=0.018904544),\n",
       " ResultRow(mangaid='1-133945', plateifu='8486-3703', elpetro_absmag_g_r=1.70501899719238, elpetro_th50_r=4.45846, z=0.018324839),\n",
       " ResultRow(mangaid='1-133948', plateifu='8486-6103', elpetro_absmag_g_r=1.62374401092529, elpetro_th50_r=5.7896214, z=0.019519413),\n",
       " ResultRow(mangaid='1-133976', plateifu='8486-9101', elpetro_absmag_g_r=1.26091766357422, elpetro_th50_r=7.1167397, z=0.018293807),\n",
       " ResultRow(mangaid='1-133987', plateifu='8486-1902', elpetro_absmag_g_r=1.73217391967773, elpetro_th50_r=2.802563, z=0.0195435),\n",
       " ResultRow(mangaid='1-134004', plateifu='8486-1901', elpetro_absmag_g_r=1.27153015136719, elpetro_th50_r=2.7430627, z=0.018560141),\n",
       " ResultRow(mangaid='1-134020', plateifu='8486-6102', elpetro_absmag_g_r=1.4318904876709, elpetro_th50_r=6.7024417, z=0.019326739),\n",
       " ResultRow(mangaid='1-134209', plateifu='8549-9101', elpetro_absmag_g_r=1.46211814880371, elpetro_th50_r=7.4399447, z=0.05450417),\n",
       " ResultRow(mangaid='1-134239', plateifu='8549-3703', elpetro_absmag_g_r=1.20720481872559, elpetro_th50_r=5.2907796, z=0.057108603),\n",
       " ResultRow(mangaid='1-134248', plateifu='8549-3702', elpetro_absmag_g_r=1.04830741882324, elpetro_th50_r=4.191506, z=0.021220362),\n",
       " ResultRow(mangaid='1-134293', plateifu='8549-6103', elpetro_absmag_g_r=0.724908828735352, elpetro_th50_r=6.3753557, z=0.0416784),\n",
       " ResultRow(mangaid='1-134503', plateifu='8555-1901', elpetro_absmag_g_r=1.38505744934082, elpetro_th50_r=2.0556333, z=0.037147228),\n",
       " ResultRow(mangaid='1-134562', plateifu='8549-1902', elpetro_absmag_g_r=0.999540328979492, elpetro_th50_r=2.2174587, z=0.035513703),\n",
       " ResultRow(mangaid='1-134597', plateifu='8549-12705', elpetro_absmag_g_r=1.32281875610352, elpetro_th50_r=9.297193, z=0.044193756),\n",
       " ResultRow(mangaid='1-134599', plateifu='8549-12704', elpetro_absmag_g_r=1.2156925201416, elpetro_th50_r=8.573873, z=0.019658027),\n",
       " ResultRow(mangaid='1-134614', plateifu='8549-6102', elpetro_absmag_g_r=1.25503730773926, elpetro_th50_r=6.3667097, z=0.052827705),\n",
       " ResultRow(mangaid='1-134620', plateifu='9031-12703', elpetro_absmag_g_r=1.27625465393066, elpetro_th50_r=6.1913915, z=0.05467777),\n",
       " ResultRow(mangaid='1-134634', plateifu='8549-3704', elpetro_absmag_g_r=1.71317291259766, elpetro_th50_r=2.9844701, z=0.052325144),\n",
       " ResultRow(mangaid='1-134695', plateifu='9029-6104', elpetro_absmag_g_r=1.37136077880859, elpetro_th50_r=5.647572, z=0.030443763),\n",
       " ResultRow(mangaid='1-134716', plateifu='8600-12705', elpetro_absmag_g_r=1.10339736938477, elpetro_th50_r=5.6302, z=0.044653505),\n",
       " ResultRow(mangaid='1-134737', plateifu='8600-3701', elpetro_absmag_g_r=0.759981155395508, elpetro_th50_r=7.4525113, z=0.027212886),\n",
       " ResultRow(mangaid='1-134793', plateifu='8600-6104', elpetro_absmag_g_r=0.940788269042969, elpetro_th50_r=4.1034894, z=0.042241145),\n",
       " ResultRow(mangaid='1-134848', plateifu='8555-12703', elpetro_absmag_g_r=1.4580078125, elpetro_th50_r=8.759561, z=0.058449455),\n",
       " ResultRow(mangaid='1-134924', plateifu='8555-9101', elpetro_absmag_g_r=1.76020240783691, elpetro_th50_r=7.2696977, z=0.031999655),\n",
       " ResultRow(mangaid='1-134954', plateifu='8555-12705', elpetro_absmag_g_r=1.38137054443359, elpetro_th50_r=7.277096, z=0.03152322),\n",
       " ResultRow(mangaid='1-134964', plateifu='8555-3701', elpetro_absmag_g_r=1.5971508026123, elpetro_th50_r=4.083911, z=0.04623478),\n",
       " ResultRow(mangaid='1-135003', plateifu='8978-3704', elpetro_absmag_g_r=1.6054744720459, elpetro_th50_r=2.5476737, z=0.047362),\n",
       " ResultRow(mangaid='1-135030', plateifu='8603-12704', elpetro_absmag_g_r=1.31695175170898, elpetro_th50_r=9.510229, z=0.027328927),\n",
       " ResultRow(mangaid='1-135044', plateifu='8978-9101', elpetro_absmag_g_r=1.29121780395508, elpetro_th50_r=7.662796, z=0.030334592),\n",
       " ResultRow(mangaid='1-135054', plateifu='8550-12703', elpetro_absmag_g_r=1.34156799316406, elpetro_th50_r=8.450563, z=0.029812202),\n",
       " ResultRow(mangaid='1-135055', plateifu='8601-6104', elpetro_absmag_g_r=1.68307113647461, elpetro_th50_r=6.2496862, z=0.03005805),\n",
       " ResultRow(mangaid='1-135057', plateifu='8601-12703', elpetro_absmag_g_r=0.928314208984375, elpetro_th50_r=10.336591, z=0.028851816),\n",
       " ResultRow(mangaid='1-135058', plateifu='8603-6103', elpetro_absmag_g_r=1.1861629486084, elpetro_th50_r=5.4803433, z=0.027008722),\n",
       " ResultRow(mangaid='1-135059', plateifu='9869-3703', elpetro_absmag_g_r=1.56065368652344, elpetro_th50_r=4.517418, z=0.031673912),\n",
       " ResultRow(mangaid='1-135072', plateifu='9029-12701', elpetro_absmag_g_r=1.53062629699707, elpetro_th50_r=15.706424, z=0.032463174),\n",
       " ResultRow(mangaid='1-135077', plateifu='8312-6104', elpetro_absmag_g_r=1.33458137512207, elpetro_th50_r=4.5255995, z=0.02906636),\n",
       " ResultRow(mangaid='1-135078', plateifu='9029-12705', elpetro_absmag_g_r=0.914762496948242, elpetro_th50_r=11.824622, z=0.029515387),\n",
       " ResultRow(mangaid='1-135086', plateifu='9029-3704', elpetro_absmag_g_r=1.7380199432373, elpetro_th50_r=4.3874955, z=0.03325921),\n",
       " ResultRow(mangaid='1-135091', plateifu='9029-3702', elpetro_absmag_g_r=1.69864463806152, elpetro_th50_r=5.194832, z=0.03177491),\n",
       " ResultRow(mangaid='1-135093', plateifu='9029-12702', elpetro_absmag_g_r=1.25051116943359, elpetro_th50_r=10.963458, z=0.031887233),\n",
       " ResultRow(mangaid='1-135095', plateifu='8312-3702', elpetro_absmag_g_r=1.44723129272461, elpetro_th50_r=5.083953, z=0.033232406),\n",
       " ResultRow(mangaid='1-135101', plateifu='9869-3701', elpetro_absmag_g_r=1.41915702819824, elpetro_th50_r=5.1746187, z=0.029458474),\n",
       " ResultRow(mangaid='1-135115', plateifu='9029-3701', elpetro_absmag_g_r=1.5458869934082, elpetro_th50_r=3.8289318, z=0.030088266),\n",
       " ResultRow(mangaid='1-135117', plateifu='9029-6101', elpetro_absmag_g_r=1.53122138977051, elpetro_th50_r=5.676358, z=0.03332269),\n",
       " ResultRow(mangaid='1-135129', plateifu='8603-12705', elpetro_absmag_g_r=1.81981086730957, elpetro_th50_r=7.0050564, z=0.03279687),\n",
       " ResultRow(mangaid='1-135133', plateifu='8603-12703', elpetro_absmag_g_r=1.36585807800293, elpetro_th50_r=8.372363, z=0.029968275),\n",
       " ResultRow(mangaid='1-135134', plateifu='8603-9101', elpetro_absmag_g_r=1.85215187072754, elpetro_th50_r=6.969442, z=0.030343022),\n",
       " ResultRow(mangaid='1-135142', plateifu='9869-12704', elpetro_absmag_g_r=1.43869781494141, elpetro_th50_r=4.4684577, z=0.032675706),\n",
       " ResultRow(mangaid='1-135152', plateifu='8312-6103', elpetro_absmag_g_r=0.762582778930664, elpetro_th50_r=5.637061, z=0.030181052),\n",
       " ResultRow(mangaid='1-135157', plateifu='8603-3702', elpetro_absmag_g_r=1.68464851379395, elpetro_th50_r=4.9703183, z=0.032371264),\n",
       " ResultRow(mangaid='1-135193', plateifu='9869-1901', elpetro_absmag_g_r=1.84131813049316, elpetro_th50_r=2.2399387, z=0.030885829),\n",
       " ResultRow(mangaid='1-135202', plateifu='8600-3703', elpetro_absmag_g_r=1.58297348022461, elpetro_th50_r=8.494537, z=0.027710915),\n",
       " ResultRow(mangaid='1-135207', plateifu='8555-1902', elpetro_absmag_g_r=1.51096343994141, elpetro_th50_r=3.5980227, z=0.031484954),\n",
       " ResultRow(mangaid='1-135227', plateifu='9029-6103', elpetro_absmag_g_r=1.5926513671875, elpetro_th50_r=5.6132045, z=0.030449074)]"
      ]
     },
     "execution_count": 8,
     "metadata": {},
     "output_type": "execute_result"
    }
   ],
   "source": [
    "# look at page 2\n",
    "r.results"
   ]
  },
  {
   "cell_type": "code",
   "execution_count": 9,
   "metadata": {},
   "outputs": [
    {
     "name": "stdout",
     "output_type": "stream",
     "text": [
      "INFO: Retrieving previous 100, from 0 to 100\n"
     ]
    }
   ],
   "source": [
    "# get the previous set \n",
    "p = r.getPrevious()"
   ]
  },
  {
   "cell_type": "markdown",
   "metadata": {},
   "source": [
    "To extend your results and keep them, use the ``extendSet`` method.  By default, extending a set grabs the next page of 100 results (defined by ``r.chunk``) and appends to the existing set of results.  Rerunning ``extendSet`` continues to append results until you've retrieved them all. To avoid running ``extendSet`` multiple times, you can run use the ``loop`` method, which will loop over all pages appending the data until you've retrieved all the results. "
   ]
  },
  {
   "cell_type": "code",
   "execution_count": 10,
   "metadata": {},
   "outputs": [
    {
     "name": "stdout",
     "output_type": "stream",
     "text": [
      "INFO: Retrieving next 100, from 100 to 200\n"
     ]
    },
    {
     "data": {
      "text/plain": [
       "Marvin Results(query=nsa.z < 0.1, totalcount=4275, count=200, mode=remote)"
      ]
     },
     "execution_count": 10,
     "metadata": {},
     "output_type": "execute_result"
    }
   ],
   "source": [
    "# extend the set by one page\n",
    "r.extendSet()\n",
    "r"
   ]
  },
  {
   "cell_type": "markdown",
   "metadata": {},
   "source": [
    "We now have 200 results out of the 4275.  For results with a small number of total counts, you can attempt to retrieve all of the results with the ``getAll`` method.  Currently this method is limited to returning results containing 500,000 rows or rows with 25 columns.\n",
    "\n",
    "#### Getting all the results\n",
    "There are several options for getting all of the results.  \n",
    "- Use the ``getAll`` method to attempt to retrieve all the results in one request. \n",
    "- Use the ``loop`` method to loop over all the pages to extend/append the results together\n",
    "- Rerun the ``Query`` using a new ``limit`` to retrieve all the results. \n",
    "\n",
    "**Note:** A bug was recently found in ``getAll`` and might not work.  Instead we will rerun the query using a large limit to return all the results."
   ]
  },
  {
   "cell_type": "code",
   "execution_count": 11,
   "metadata": {},
   "outputs": [
    {
     "data": {
      "text/plain": [
       "Marvin Results(query=nsa.z < 0.1, totalcount=4275, count=4342, mode=remote)"
      ]
     },
     "execution_count": 11,
     "metadata": {},
     "output_type": "execute_result"
    }
   ],
   "source": [
    "# get all the results\n",
    "# r.getAll()\n",
    "\n",
    "# rerun the query\n",
    "q = Query(search_filter='nsa.z < 0.1', return_params=['absmag_g_r', 'nsa.elpetro_th50_r'], limit=5000)\n",
    "r = q.run()\n",
    "r"
   ]
  },
  {
   "cell_type": "markdown",
   "metadata": {},
   "source": [
    "We now have all the results.  We can extract columns of data by indexing the results list using the column name.  Let's extract the redshift and color."
   ]
  },
  {
   "cell_type": "code",
   "execution_count": 12,
   "metadata": {},
   "outputs": [],
   "source": [
    "# extract individual columns of data\n",
    "redshift = r.results['nsa.z']\n",
    "color = r.results['absmag_g_r']"
   ]
  },
  {
   "cell_type": "markdown",
   "metadata": {},
   "source": [
    "<a id='format'></a>\n",
    "## Formatting Results\n",
    "You can convert the results to a variety of formats using the ``toXXX`` methods.  Common formats are **FITS**, **Astropy Table**, **Pandas Dataframe**, **JSON**, or **CSV**.  Only the FITS and CSV conversions will write the output to a file.  Astropy Tables and Pandas Dataframes have more options for writing out your dataset to a file.  Let's convert to Pandas Dataframe."
   ]
  },
  {
   "cell_type": "code",
   "execution_count": 13,
   "metadata": {},
   "outputs": [
    {
     "data": {
      "text/html": [
       "<div>\n",
       "<style scoped>\n",
       "    .dataframe tbody tr th:only-of-type {\n",
       "        vertical-align: middle;\n",
       "    }\n",
       "\n",
       "    .dataframe tbody tr th {\n",
       "        vertical-align: top;\n",
       "    }\n",
       "\n",
       "    .dataframe thead th {\n",
       "        text-align: right;\n",
       "    }\n",
       "</style>\n",
       "<table border=\"1\" class=\"dataframe\">\n",
       "  <thead>\n",
       "    <tr style=\"text-align: right;\">\n",
       "      <th></th>\n",
       "      <th>mangaid</th>\n",
       "      <th>plateifu</th>\n",
       "      <th>elpetro_absmag_g_r</th>\n",
       "      <th>elpetro_th50_r</th>\n",
       "      <th>z</th>\n",
       "    </tr>\n",
       "  </thead>\n",
       "  <tbody>\n",
       "    <tr>\n",
       "      <th>0</th>\n",
       "      <td>1-109056</td>\n",
       "      <td>8077-6103</td>\n",
       "      <td>1.117039</td>\n",
       "      <td>3.709004</td>\n",
       "      <td>0.047302</td>\n",
       "    </tr>\n",
       "    <tr>\n",
       "      <th>1</th>\n",
       "      <td>1-109073</td>\n",
       "      <td>8078-12704</td>\n",
       "      <td>1.059788</td>\n",
       "      <td>7.547243</td>\n",
       "      <td>0.043588</td>\n",
       "    </tr>\n",
       "    <tr>\n",
       "      <th>2</th>\n",
       "      <td>1-109081</td>\n",
       "      <td>8077-12705</td>\n",
       "      <td>1.230318</td>\n",
       "      <td>9.606647</td>\n",
       "      <td>0.043859</td>\n",
       "    </tr>\n",
       "    <tr>\n",
       "      <th>3</th>\n",
       "      <td>1-109112</td>\n",
       "      <td>8078-1901</td>\n",
       "      <td>1.531988</td>\n",
       "      <td>2.255412</td>\n",
       "      <td>0.024970</td>\n",
       "    </tr>\n",
       "    <tr>\n",
       "      <th>4</th>\n",
       "      <td>1-109152</td>\n",
       "      <td>8154-12702</td>\n",
       "      <td>1.543945</td>\n",
       "      <td>16.126255</td>\n",
       "      <td>0.028174</td>\n",
       "    </tr>\n",
       "  </tbody>\n",
       "</table>\n",
       "</div>"
      ],
      "text/plain": [
       "    mangaid    plateifu  elpetro_absmag_g_r  elpetro_th50_r         z\n",
       "0  1-109056   8077-6103            1.117039        3.709004  0.047302\n",
       "1  1-109073  8078-12704            1.059788        7.547243  0.043588\n",
       "2  1-109081  8077-12705            1.230318        9.606647  0.043859\n",
       "3  1-109112   8078-1901            1.531988        2.255412  0.024970\n",
       "4  1-109152  8154-12702            1.543945       16.126255  0.028174"
      ]
     },
     "execution_count": 13,
     "metadata": {},
     "output_type": "execute_result"
    }
   ],
   "source": [
    "# convert the marvin results to a Pandas dataframe\n",
    "df = r.toDF()\n",
    "df.head()"
   ]
  },
  {
   "cell_type": "markdown",
   "metadata": {},
   "source": [
    "You can also convert the data into Marvin objects using the ``convertToTool`` method.  This will attempt to convert each result row into its corresponding Marvin Object.  The default conversion is to a ``Cube`` object.  Converted objects are stored in the ``r.objects`` attribute.  Let's convert our results to cubes. **Depending on the number of results, this may take awhile.  Let's limit our conversion to 5.**  Once converted, we now have Marvin Tools at our disposal."
   ]
  },
  {
   "cell_type": "code",
   "execution_count": 14,
   "metadata": {},
   "outputs": [
    {
     "name": "stdout",
     "output_type": "stream",
     "text": [
      "Converting results to Marvin Cube objects\n"
     ]
    }
   ],
   "source": [
    "# convert the top 5 to cubes\n",
    "r.convertToTool('cube', limit=5)"
   ]
  },
  {
   "cell_type": "code",
   "execution_count": 15,
   "metadata": {},
   "outputs": [
    {
     "data": {
      "text/plain": [
       "[<Marvin Cube (plateifu='8077-6103', mode='local', data_origin='file')>,\n",
       " <Marvin Cube (plateifu='8078-12704', mode='local', data_origin='file')>,\n",
       " <Marvin Cube (plateifu='8077-12705', mode='local', data_origin='file')>,\n",
       " <Marvin Cube (plateifu='8078-1901', mode='local', data_origin='file')>,\n",
       " <Marvin Cube (plateifu='8154-12702', mode='local', data_origin='file')>]"
      ]
     },
     "execution_count": 15,
     "metadata": {},
     "output_type": "execute_result"
    }
   ],
   "source": [
    "# look at the objects\n",
    "r.objects"
   ]
  },
  {
   "cell_type": "markdown",
   "metadata": {},
   "source": [
    "<a id='plot'></a>\n",
    "## Quickly Plotting the Results\n",
    "You can quickly plot the full set of results using the ``plot`` method.  ``plot`` accepts two string column names and will attempt to create a scatter plot, a hex-binned plot, or a scatter-density plot, depending on the total number of results.  The ``plot`` method returns the matplotlib **Figure** and **Axes** objects, as well as a dictionary of histogram information for each column.  The ``Results.plot`` method uses the underlying [plot utility function](https://sdss-marvin.readthedocs.io/en/latest/tools/utils/plot-scatter.html).  The utility function offers up more custom plotting options. Let's plot g-r color versus redshift.  **Regardless of the number of results you currently have loaded, the ``plot`` method will automatically retrieve all the results before plotting.** "
   ]
  },
  {
   "cell_type": "code",
   "execution_count": 16,
   "metadata": {},
   "outputs": [
    {
     "name": "stderr",
     "output_type": "stream",
     "text": [
      "/home/idies/miniconda3/lib/python3.7/site-packages/sdss_marvin-2.3.2.dev0-py3.7.egg/marvin/utils/plot/scatter.py:64: MarvinUserWarning: Masking out NaN values!\n",
      "  warnings.warn(\"Masking out NaN values!\", MarvinUserWarning)\n",
      "/home/idies/miniconda3/lib/python3.7/site-packages/numpy/core/fromnumeric.py:688: UserWarning: Warning: 'partition' will ignore the 'mask' of the MaskedArray.\n",
      "  a.partition(kth, axis=axis, kind=kind, order=order)\n",
      "/home/idies/miniconda3/lib/python3.7/site-packages/numpy/lib/function_base.py:3250: RuntimeWarning: Invalid value encountered in median\n",
      "  r = func(a, **kwargs)\n",
      "/home/idies/miniconda3/lib/python3.7/site-packages/numpy/lib/function_base.py:3652: RuntimeWarning: Invalid value encountered in percentile\n",
      "  interpolation=interpolation)\n"
     ]
    },
    {
     "data": {
      "image/png": "[encoded data removed]",
      "text/plain": [
       "<Figure size 432x288 with 4 Axes>"
      ]
     },
     "metadata": {},
     "output_type": "display_data"
    }
   ],
   "source": [
    "# make a scatter plot\n",
    "fig, ax, histdata = r.plot('z', 'absmag_g_r')"
   ]
  },
  {
   "cell_type": "markdown",
   "metadata": {},
   "source": [
    "By default, it will also plot histograms of the column as well.  This can be turned off by setting `with_hist=False`."
   ]
  },
  {
   "cell_type": "code",
   "execution_count": 17,
   "metadata": {},
   "outputs": [
    {
     "data": {
      "image/png": "[encoded data removed]",
      "text/plain": [
       "<Figure size 432x288 with 2 Axes>"
      ]
     },
     "metadata": {},
     "output_type": "display_data"
    }
   ],
   "source": [
    "# make only a scatter plot\n",
    "fig, ax = r.plot('z', 'absmag_g_r', with_hist=False)"
   ]
  },
  {
   "cell_type": "markdown",
   "metadata": {},
   "source": [
    "We can also quickly plot a histogram of a single column of data using the ``hist`` method, which uses an underlying [hist utility function](https://sdss-marvin.readthedocs.io/en/latest/tools/utils/plot-hist.html).    "
   ]
  },
  {
   "cell_type": "code",
   "execution_count": 18,
   "metadata": {},
   "outputs": [
    {
     "data": {
      "image/png": "[encoded data removed]",
      "text/plain": [
       "<Figure size 432x288 with 1 Axes>"
      ]
     },
     "metadata": {},
     "output_type": "display_data"
    }
   ],
   "source": [
    "histdata, fig, ax = r.hist('absmag_g_r')"
   ]
  },
  {
   "cell_type": "markdown",
   "metadata": {},
   "source": [
    "<a id='download'></a>\n",
    "## Downloading Results\n",
    "You can download the raw files from your results using the ``download`` method.  This uses the ``downloadList`` utility function under the hood.  By default this will download the DRP cubes for each target row.  It accepts any keyword arguments as ``downloadList``."
   ]
  },
  {
   "cell_type": "code",
   "execution_count": 19,
   "metadata": {},
   "outputs": [],
   "source": [
    "# download the DRP datacube files from the results \n",
    "# r.download()"
   ]
  },
  {
   "cell_type": "markdown",
   "metadata": {},
   "source": [
    "## Additional Resoures\n",
    "- Get a refresher on [Queries](https://sdss-marvin.readthedocs.io/en/latest/query/query.html)\n",
    "- See more details of what you can do with [Results](https://sdss-marvin.readthedocs.io/en/latest/query/results.html#using-results)\n",
    "- See the [Results API](https://sdss-marvin.readthedocs.io/en/latest/reference/queries.html#marvin-results-ref) for a look at the Marvin Results object."
   ]
  },
  {
   "cell_type": "code",
   "execution_count": null,
   "metadata": {},
   "outputs": [],
   "source": []
  }
 ],
 "metadata": {
  "kernelspec": {
   "display_name": "Python 3",
   "language": "python",
   "name": "python3"
  },
  "language_info": {
   "codemirror_mode": {
    "name": "ipython",
    "version": 3
   },
   "file_extension": ".py",
   "mimetype": "text/x-python",
   "name": "python",
   "nbconvert_exporter": "python",
   "pygments_lexer": "ipython3",
   "version": "3.7.1"
  }
 },
 "nbformat": 4,
 "nbformat_minor": 2
}
