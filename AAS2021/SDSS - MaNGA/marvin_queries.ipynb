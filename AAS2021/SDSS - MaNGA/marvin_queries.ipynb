{
 "cells": [
  {
   "cell_type": "code",
   "execution_count": 1,
   "metadata": {
    "nbsphinx": "hidden"
   },
   "outputs": [],
   "source": [
    "import warnings\n",
    "warnings.simplefilter('ignore')"
   ]
  },
  {
   "cell_type": "markdown",
   "metadata": {
    "raw_mimetype": "text/restructuredtext"
   },
   "source": [
    "# Marvin Queries\n",
    "This tutorial goes through a few basics of how to perform queries on the MaNGA dataset using the Marvin Query tool. Please see the [Marvin Query](../../query/query.rst) page for more details on how to use Queries.  This tutorial covers the basics of:\n",
    "\n",
    "\n",
    " * querying on metadata information from the NSA catalog\n",
    " * how to combine multiple filter and return additional parameters\n",
    " * how to perform radial cone searches with Marvin\n",
    " * querying on information from the MaNGA DAPall summary file\n",
    " * querying using quality and target flags "
   ]
  },
  {
   "cell_type": "markdown",
   "metadata": {},
   "source": [
    "First let's import some basics"
   ]
  },
  {
   "cell_type": "markdown",
   "metadata": {},
   "source": [
    "**Note**:\n",
    "Marvin seamlessly switches data access modes between local files and a database, when a database is available.  The Sciserver-hosted database containing all MaNGA DR15 data is currently down.  All notebooks will currently turn off the database feature and use file-access mode."
   ]
  },
  {
   "cell_type": "code",
   "execution_count": 2,
   "metadata": {},
   "outputs": [
    {
     "name": "stdout",
     "output_type": "stream",
     "text": [
      "INFO: No release version set. Setting default to DR15\n"
     ]
    },
    {
     "name": "stderr",
     "output_type": "stream",
     "text": [
      "/home/idies/miniconda3/lib/python3.7/site-packages/sqlalchemy/ext/declarative/clsregistry.py:120: SAWarning: This declarative base already contains a class with the same class name and module name as marvin.db.models.SampleModelClasses.MangaTarget, and will be replaced in the string-lookup table.\n",
      "  item.__name__\n",
      "/home/idies/miniconda3/lib/python3.7/site-packages/pympler/asizeof.py:1491: PendingDeprecationWarning: the matrix subclass is not the recommended way to represent matrices or deal with linear algebra (see https://docs.scipy.org/doc/numpy/user/numpy-for-matlab-users.html). Please adjust your code to use regular ndarray.\n",
      "  numpy.matrix(range(0)), numpy.ma.masked_array([])):\n",
      "/home/idies/miniconda3/lib/python3.7/importlib/_bootstrap.py:219: RuntimeWarning: numpy.dtype size changed, may indicate binary incompatibility. Expected 96, got 88\n",
      "  return f(*args, **kwds)\n"
     ]
    }
   ],
   "source": [
    "from marvin import config\n",
    "config.forceDbOff()"
   ]
  },
  {
   "cell_type": "code",
   "execution_count": 3,
   "metadata": {},
   "outputs": [
    {
     "name": "stderr",
     "output_type": "stream",
     "text": [
      "/home/idies/miniconda3/lib/python3.7/site-packages/sdss_marvin-2.3.2.dev0-py3.7.egg/marvin/utils/datamodel/query/base.py:127: MarvinUserWarning: Could not remotely retrieve full set of parameters. 409\n",
      "  warnings.warn('Could not remotely retrieve full set of parameters. {0}'.format(e), MarvinUserWarning)\n"
     ]
    }
   ],
   "source": [
    "# we should be using DR15 MaNGA data\n",
    "from marvin import config\n",
    "config.release\n",
    "\n",
    "# import the Query tool\n",
    "from marvin.tools.query import Query"
   ]
  },
  {
   "cell_type": "markdown",
   "metadata": {
    "raw_mimetype": "text/markdown"
   },
   "source": [
    "## Query Basics  \n",
    "### Querying on Metadata \n",
    "Let's go through some Query basics of how to do a query on metadata.  The two main keyword arguments to Query are **search_filter** and **return_params**.  **search_filter** is a string representing the SQL ``where`` condition you'd like to filter on.  This tutorial assumes a basic familiarity with the SQL boolean syntax needed to construct Marvin Queries.  Please see the [tutorial on SQL Boolean syntax](../boolean-search-tutorial.rst) to learn more. **return_params** is a list of parameters you want to return in the query in addition to those used in the SQL filter condition. "
   ]
  },
  {
   "cell_type": "markdown",
   "metadata": {},
   "source": [
    "Let's search for all galaxies with a redshift less than 0.1. To specify our search parameter, redshift, we must know the database table and name of the parameter. In this case, MaNGA uses the NASA-Sloan Atlas (NSA) for redshift information.  In the NSA catalog, the redshift is the **z** parameter of the **nsa** table, so our search parameter will be ``nsa.z``.  Generically, all search parameters will take the form `table.parameter`."
   ]
  },
  {
   "cell_type": "code",
   "execution_count": 4,
   "metadata": {},
   "outputs": [],
   "source": [
    "# filter for galaxies with a redshift < 0.1\n",
    "my_filter = 'nsa.z < 0.1'"
   ]
  },
  {
   "cell_type": "code",
   "execution_count": 5,
   "metadata": {},
   "outputs": [
    {
     "name": "stderr",
     "output_type": "stream",
     "text": [
      "/home/idies/miniconda3/lib/python3.7/site-packages/sdss_marvin-2.3.2.dev0-py3.7.egg/marvin/tools/query.py:236: MarvinUserWarning: No local database found. Cannot perform queries.\n",
      "  warnings.warn('No local database found. Cannot perform queries.', MarvinUserWarning)\n"
     ]
    },
    {
     "name": "stdout",
     "output_type": "stream",
     "text": [
      "Marvin Results(query=nsa.z < 0.1, totalcount=4275, count=100, mode=remote)\n",
      "number of results: 4275\n"
     ]
    }
   ],
   "source": [
    "# construct the query\n",
    "q = Query(search_filter=my_filter)\n",
    "\n",
    "# run the query\n",
    "r = q.run()\n",
    "\n",
    "# print some stuff\n",
    "print(r)\n",
    "print('number of results:', r.totalcount)"
   ]
  },
  {
   "cell_type": "markdown",
   "metadata": {},
   "source": [
    "After constructing queries, we can run them with **q.run()**.  This returns a **Marvin Results** object. Let's take a look.  This query returned 4275 objects.  For queries with large results, the results are automatically paginated in sets of 100 objects.  Default parameters returned in queries always include the **mangaid** and **plateifu**.  Marvin Queries will also return any parameters used in the definition of your filter condition. Since we filtered on redshift, the redshift is automatically included."
   ]
  },
  {
   "cell_type": "code",
   "execution_count": 6,
   "metadata": {},
   "outputs": [
    {
     "name": "stdout",
     "output_type": "stream",
     "text": [
      "number in current set: 100\n",
      "<ResultSet(set=1.0/428, index=0:10, count_in_set=10, total=4275)>\n",
      "[ResultRow(mangaid='1-109056', plateifu='8077-6103', z=0.047301855),\n",
      " ResultRow(mangaid='1-109073', plateifu='8078-12704', z=0.043588243),\n",
      " ResultRow(mangaid='1-109081', plateifu='8077-12705', z=0.04385919),\n",
      " ResultRow(mangaid='1-109112', plateifu='8078-1901', z=0.024970215),\n",
      " ResultRow(mangaid='1-109152', plateifu='8154-12702', z=0.028173625),\n",
      " ResultRow(mangaid='1-109167', plateifu='8078-1902', z=0.024634399),\n",
      " ResultRow(mangaid='1-109234', plateifu='9193-1901', z=0.04093087),\n",
      " ResultRow(mangaid='1-109244', plateifu='8080-12702', z=0.026791101),\n",
      " ResultRow(mangaid='1-109250', plateifu='8080-1902', z=0.03837309),\n",
      " ResultRow(mangaid='1-109270', plateifu='9193-12703', z=0.025226595)]\n"
     ]
    }
   ],
   "source": [
    "# look at the current page of results (subset of 10)\n",
    "print('number in current set:', len(r.results))\n",
    "print(r.results[0:10])"
   ]
  },
  {
   "cell_type": "markdown",
   "metadata": {},
   "source": [
    "### Multiple Search Criteria and Returning Additional Parameters\n",
    "We can easily combine query filter conditions by constructing a boolean string using AND.  Let's search for galaxies with a redshift < 0.1 and log M$_\\star$ < 10.  The NSA catalog contains the Sersic profile determination for stellar mass, which is the **sersic_mass** or **sersic_logmass** parameter of the **`nsa`** table, so our search parameter will be **nsa.sersic_logmass**.  \n",
    "\n",
    "Let's also return the object RA and Dec as well using the **return_params** keyword.  This accepts a list of string parameters.  Object RA and Dec are included in the **cube** table so the parameter names are `cube.ra` and `cube.dec`."
   ]
  },
  {
   "cell_type": "code",
   "execution_count": 7,
   "metadata": {},
   "outputs": [
    {
     "name": "stdout",
     "output_type": "stream",
     "text": [
      "Marvin Results(query=nsa.z < 0.1 and nsa.sersic_logmass < 10, totalcount=1932, count=100, mode=remote)\n",
      "Number of objects: 1932\n"
     ]
    }
   ],
   "source": [
    "my_filter = 'nsa.z < 0.1 and nsa.sersic_logmass < 10'\n",
    "q = Query(search_filter=my_filter, return_params=['cube.ra', 'cube.dec'])\n",
    "r = q.run()\n",
    "print(r)\n",
    "print('Number of objects:', r.totalcount)"
   ]
  },
  {
   "cell_type": "markdown",
   "metadata": {},
   "source": [
    "This query return 1932 objects and now includes the RA, Dec, redshift and log Sersic stellar mass parameters. "
   ]
  },
  {
   "cell_type": "code",
   "execution_count": 8,
   "metadata": {},
   "outputs": [
    {
     "data": {
      "text/plain": [
       "<ResultSet(set=1.0/194, index=0:10, count_in_set=10, total=1932)>\n",
       "[ResultRow(mangaid='1-109073', plateifu='8078-12704', ra=42.1567757009, dec=-0.554292603774, sersic_logmass=9.89949192244604, z=0.043588243),\n",
       " ResultRow(mangaid='1-109234', plateifu='9193-1901', ra=45.9974263376, dec=0.426382098814, sersic_logmass=9.71193050058009, z=0.04093087),\n",
       " ResultRow(mangaid='1-109250', plateifu='8080-1902', ra=47.7852584272, dec=-1.05434100442, sersic_logmass=8.86787071716472, z=0.03837309),\n",
       " ResultRow(mangaid='1-109270', plateifu='9193-12703', ra=46.6858583566, dec=-0.40880014755, sersic_logmass=9.13073750680896, z=0.025226595),\n",
       " ResultRow(mangaid='1-109356', plateifu='8081-3703', ra=50.0738407878, dec=0.523632230733, sersic_logmass=9.48148182790177, z=0.024178172),\n",
       " ResultRow(mangaid='1-113219', plateifu='7815-9102', ra=317.374745914, dec=10.0519434342, sersic_logmass=9.37199220235954, z=0.040889695),\n",
       " ResultRow(mangaid='1-113322', plateifu='7972-12701', ra=315.533514754, dec=11.0751131018, sersic_logmass=9.95351585800623, z=0.043162815),\n",
       " ResultRow(mangaid='1-113346', plateifu='7972-12702', ra=315.85387762, dec=10.8770313048, sersic_logmass=9.94489278802962, z=0.043138873),\n",
       " ResultRow(mangaid='1-113375', plateifu='7972-12704', ra=316.639658795, dec=10.7512221884, sersic_logmass=9.821927450202, z=0.028214978),\n",
       " ResultRow(mangaid='1-113375', plateifu='7815-9101', ra=316.639658795, dec=10.7512221884, sersic_logmass=9.821927450202, z=0.028214978)]"
      ]
     },
     "execution_count": 8,
     "metadata": {},
     "output_type": "execute_result"
    }
   ],
   "source": [
    "# print the first 10 rows\n",
    "r.results[0:10]"
   ]
  },
  {
   "cell_type": "markdown",
   "metadata": {},
   "source": [
    "## Radial Queries in Marvin\n",
    "Cone searches can be performed with Marvin Queries using a special **functional** syntax in your SQL string. Cone searches can be performed using the special ``radial`` string function.  The syntax for a cone search query is **radial(RA, Dec, radius)**.  Let's search for all galaxies within 0.5 degrees centered on RA, Dec = 232.5447, 48.6902.  The RA and Dec must be in decimal degrees and the radius is in units of degrees. "
   ]
  },
  {
   "cell_type": "code",
   "execution_count": 9,
   "metadata": {},
   "outputs": [
    {
     "name": "stdout",
     "output_type": "stream",
     "text": [
      "Marvin Results(query=radial(232.5447, 48.6902, 0.5), totalcount=2, count=2, mode=remote)\n",
      "<ResultSet(set=1.0/1, index=0:2, count_in_set=2, total=2)>\n",
      "[ResultRow(mangaid='1-209232', plateifu='8485-1901', ra=232.544703894, dec=48.6902009334),\n",
      " ResultRow(mangaid='1-209266', plateifu='8485-9101', ra=233.107502765, dec=48.8332849239)]\n"
     ]
    }
   ],
   "source": [
    "# build the radial filter condition\n",
    "my_filter = 'radial(232.5447, 48.6902, 0.5)'\n",
    "q = Query(search_filter=my_filter)\n",
    "r = q.run()\n",
    "print(r)\n",
    "print(r.results)"
   ]
  },
  {
   "cell_type": "markdown",
   "metadata": {},
   "source": [
    "## Queries using DAPall parameters.  \n",
    "MaNGA provides derived analysis properties in its **dapall** summary file.  Marvin allows for queries on any of the parameters in the file.  The table name for these parameters is **dapall**.  Let's find all galaxies that have a total measure star-formation rate > 5 M$_\\odot$/year.  The total SFR parameter in the DAPall table is ``sfr_tot``.      "
   ]
  },
  {
   "cell_type": "code",
   "execution_count": 10,
   "metadata": {},
   "outputs": [
    {
     "name": "stdout",
     "output_type": "stream",
     "text": [
      "Marvin Results(query=dapall.sfr_tot > 5, totalcount=6, count=3, mode=remote)\n",
      "<ResultSet(set=1.0/2, index=0:3, count_in_set=3, total=6)>\n",
      "[ResultRow(mangaid='1-24092', plateifu='7991-1901', sfr_tot=5.69988, bintype_name='HYB10', template_name='GAU-MILESHC'),\n",
      " ResultRow(mangaid='1-37863', plateifu='9193-12704', sfr_tot=6.82693, bintype_name='HYB10', template_name='GAU-MILESHC'),\n",
      " ResultRow(mangaid='1-43214', plateifu='8135-1902', sfr_tot=27.4152, bintype_name='HYB10', template_name='GAU-MILESHC')]\n"
     ]
    }
   ],
   "source": [
    "my_filter = 'dapall.sfr_tot > 5'\n",
    "q = Query(search_filter=my_filter)\n",
    "r = q.run()\n",
    "print(r)\n",
    "print(r.results)"
   ]
  },
  {
   "cell_type": "markdown",
   "metadata": {},
   "source": [
    "The query returns 6 results, but looking at the plateifu, we see there are only 3 unique targets.  This is because the DAPall file provides measurements for multiple bintypes and by default will return entries for all bintypes.  We can select those out using the ``bintype.name`` parameter. Let's filter on only the HYB10 bintype. "
   ]
  },
  {
   "cell_type": "code",
   "execution_count": 11,
   "metadata": {},
   "outputs": [
    {
     "name": "stdout",
     "output_type": "stream",
     "text": [
      "Marvin Results(query=dapall.sfr_tot > 5 and bintype.name==HYB10, totalcount=3, count=3, mode=remote)\n",
      "<ResultSet(set=1.0/1, index=0:3, count_in_set=3, total=3)>\n",
      "[ResultRow(mangaid='1-24092', plateifu='7991-1901', sfr_tot=5.69988, bintype_name='HYB10', template_name='GAU-MILESHC'),\n",
      " ResultRow(mangaid='1-37863', plateifu='9193-12704', sfr_tot=6.82693, bintype_name='HYB10', template_name='GAU-MILESHC'),\n",
      " ResultRow(mangaid='1-43214', plateifu='8135-1902', sfr_tot=27.4152, bintype_name='HYB10', template_name='GAU-MILESHC')]\n"
     ]
    }
   ],
   "source": [
    "my_filter = 'dapall.sfr_tot > 5 and bintype.name==HYB10'\n",
    "q = Query(search_filter=my_filter)\n",
    "r = q.run()\n",
    "print(r)\n",
    "print(r.results)"
   ]
  },
  {
   "cell_type": "markdown",
   "metadata": {},
   "source": [
    "## Query on Quality and Target Flags \n",
    "Marvin includes the ability to perform queries using quality or target flag information. These work using the special **quality** and **targets** keyword arguments.  These keywords accept a list of flag maskbit labels provided by the [Maskbit Datamodel](../../datamodel/dr15.rst#dr15-maskbits).  These keywords are inclusive, meaning they will only filter on objects satisfying those labels. "
   ]
  },
  {
   "cell_type": "markdown",
   "metadata": {},
   "source": [
    "### Searching by Target Flags\n",
    "Let's find all galaxies that are in the MaNGA MAIN target selection sample. Targets in the MAIN sample are a part of the PRIMARY, SECONDARY and COLOR-ENHANCED samples.  These are the **primary**, **secondary**, and **color-enhanced** flag labels. The **targets** keywords accepts all labels from the MANGA_TARGET1, MANGA_TARGET2, or MANGA_TARGET3 maskbit schema. "
   ]
  },
  {
   "cell_type": "code",
   "execution_count": 12,
   "metadata": {},
   "outputs": [
    {
     "name": "stdout",
     "output_type": "stream",
     "text": [
      "Marvin Results(query=None, totalcount=2372, count=100, mode=remote)\n",
      "There are 2372 galaxies in the main sample\n",
      "<ResultSet(set=1.0/475, index=0:5, count_in_set=5, total=2372)>\n",
      "[ResultRow(mangaid='1-109056', plateifu='8077-6103', manga_target1=2080),\n",
      " ResultRow(mangaid='1-109073', plateifu='8078-12704', manga_target1=2336),\n",
      " ResultRow(mangaid='1-109081', plateifu='8077-12705', manga_target1=4112),\n",
      " ResultRow(mangaid='1-109112', plateifu='8078-1901', manga_target1=1040),\n",
      " ResultRow(mangaid='1-109152', plateifu='8154-12702', manga_target1=4096)]\n"
     ]
    }
   ],
   "source": [
    "# create the targets list of labels\n",
    "targets = ['primary', 'secondary', 'color-enhanced']\n",
    "q = Query(targets=targets)\n",
    "r = q.run()\n",
    "print(r)\n",
    "print('There are {0} galaxies in the main sample'.format(r.totalcount))\n",
    "print(r.results[0:5])"
   ]
  },
  {
   "cell_type": "markdown",
   "metadata": {},
   "source": [
    "The **targets** keyword is equivalent to the ``cube.manga_targetX`` search parameter, where `X` is 1, 2, or 3.  The bits for the primary, secondary, and color-enhanced samples are 10, 11, and 12, respectively.  These combine into the value 7168.  The above query is equivalent to the filter condition ``cube.manga_target1 & 7168`` "
   ]
  },
  {
   "cell_type": "code",
   "execution_count": 13,
   "metadata": {},
   "outputs": [
    {
     "name": "stdout",
     "output_type": "stream",
     "text": [
      "Marvin Results(query=cube.manga_target1 & 7168, totalcount=4498, count=100, mode=remote)\n"
     ]
    }
   ],
   "source": [
    "value = 1<<10 | 1<<11 | 1<<12\n",
    "my_filter = 'cube.manga_target1 & {0}'.format(value)\n",
    "q = Query(search_filter=my_filter)\n",
    "r = q.run()\n",
    "print(r)"
   ]
  },
  {
   "cell_type": "markdown",
   "metadata": {},
   "source": [
    "Let's search only for galaxies that are ``Milky Way Analogs`` or ``Dwarfs`` ancillary targets. "
   ]
  },
  {
   "cell_type": "code",
   "execution_count": 14,
   "metadata": {},
   "outputs": [
    {
     "name": "stdout",
     "output_type": "stream",
     "text": [
      "Marvin Results(query=None, totalcount=26, count=26, mode=remote)\n",
      "There are 26 galaxies from the Milky Way Analogs and Dwarfs ancillary target catalogs\n",
      "<ResultSet(set=1.0/1, index=0:26, count_in_set=26, total=26)>\n",
      "[ResultRow(mangaid='1-121994', plateifu='9485-9102', manga_target3=16384),\n",
      " ResultRow(mangaid='1-124604', plateifu='8439-6103', manga_target3=8192),\n",
      " ResultRow(mangaid='1-135491', plateifu='9869-6101', manga_target3=8192),\n",
      " ResultRow(mangaid='1-146067', plateifu='8937-6102', manga_target3=16384),\n",
      " ResultRow(mangaid='1-187821', plateifu='8996-6104', manga_target3=16384),\n",
      " ResultRow(mangaid='1-198869', plateifu='8551-6101', manga_target3=16384),\n",
      " ResultRow(mangaid='1-199488', plateifu='9038-6103', manga_target3=16384),\n",
      " ResultRow(mangaid='1-218519', plateifu='8942-12703', manga_target3=16384),\n",
      " ResultRow(mangaid='1-234408', plateifu='8319-6102', manga_target3=8192),\n",
      " ResultRow(mangaid='1-23818', plateifu='8611-6104', manga_target3=16384),\n",
      " ResultRow(mangaid='1-276557', plateifu='8993-6101', manga_target3=16384),\n",
      " ResultRow(mangaid='1-295506', plateifu='9049-6101', manga_target3=16384),\n",
      " ResultRow(mangaid='1-321962', plateifu='8552-6101', manga_target3=16384),\n",
      " ResultRow(mangaid='1-338566', plateifu='8566-6103', manga_target3=16384),\n",
      " ResultRow(mangaid='1-351538', plateifu='8567-6101', manga_target3=8192),\n",
      " ResultRow(mangaid='1-384388', plateifu='9494-6102', manga_target3=16384),\n",
      " ResultRow(mangaid='1-384394', plateifu='9494-6103', manga_target3=16384),\n",
      " ResultRow(mangaid='1-384930', plateifu='9493-12702', manga_target3=16384),\n",
      " ResultRow(mangaid='1-385149', plateifu='9502-6102', manga_target3=16384),\n",
      " ResultRow(mangaid='1-386657', plateifu='8987-6101', manga_target3=16384),\n",
      " ResultRow(mangaid='1-386800', plateifu='8987-6103', manga_target3=16384),\n",
      " ResultRow(mangaid='1-415958', plateifu='8985-6101', manga_target3=16384),\n",
      " ResultRow(mangaid='1-457843', plateifu='8982-12702', manga_target3=16384),\n",
      " ResultRow(mangaid='43-130', plateifu='9507-6104', manga_target3=16384),\n",
      " ResultRow(mangaid='43-22', plateifu='8713-6101', manga_target3=16384),\n",
      " ResultRow(mangaid='43-47', plateifu='8725-9101', manga_target3=16384)]\n"
     ]
    }
   ],
   "source": [
    "targets = ['mwa', 'dwarf']\n",
    "q = Query(targets=targets)\n",
    "r = q.run()\n",
    "print(r)\n",
    "print('There are {0} galaxies from the Milky Way Analogs and Dwarfs ancillary target catalogs'.format(r.totalcount))\n",
    "print(r.results)"
   ]
  },
  {
   "cell_type": "markdown",
   "metadata": {},
   "source": [
    "### Searching by Quality Flags\n",
    "The **quality** accepts all labels from the MANGA_DRPQUAL and MANGA_DAPQUAL maskbit schema.  Let's find all galaxies that suffered from bad flux calibration.  This is the flag **BADFLUX** (bit 8) from the MANGA_DRPQUAL maskbit schema.  "
   ]
  },
  {
   "cell_type": "code",
   "execution_count": 15,
   "metadata": {},
   "outputs": [
    {
     "name": "stdout",
     "output_type": "stream",
     "text": [
      "Marvin Results(query=None, totalcount=82, count=82, mode=remote)\n",
      "There are 82 galaxies with bad flux calibration\n",
      "<ResultSet(set=1.0/9, index=0:10, count_in_set=10, total=82)>\n",
      "[ResultRow(mangaid='1-109493', plateifu='8156-9101', quality=1073742144),\n",
      " ResultRow(mangaid='1-113273', plateifu='7972-1902', quality=1073742144),\n",
      " ResultRow(mangaid='1-120967', plateifu='8144-12704', quality=1073742144),\n",
      " ResultRow(mangaid='1-121035', plateifu='8144-1901', quality=1073742144),\n",
      " ResultRow(mangaid='1-136304', plateifu='8606-1902', quality=1073742144),\n",
      " ResultRow(mangaid='1-138157', plateifu='8252-9102', quality=1073742144),\n",
      " ResultRow(mangaid='1-149170', plateifu='8997-3701', quality=1073742144),\n",
      " ResultRow(mangaid='1-152527', plateifu='8144-6101', quality=1073742144),\n",
      " ResultRow(mangaid='1-152769', plateifu='8936-3704', quality=1073742144),\n",
      " ResultRow(mangaid='1-174629', plateifu='8947-3703', quality=1073742080)]\n"
     ]
    }
   ],
   "source": [
    "quality = ['BADFLUX']\n",
    "q = Query(quality=quality)\n",
    "r = q.run()\n",
    "print(r)\n",
    "print('There are {0} galaxies with bad flux calibration'.format(r.totalcount))\n",
    "print(r.results[0:10])"
   ]
  },
  {
   "cell_type": "markdown",
   "metadata": {},
   "source": [
    "The **quality** keyword is equivalent to the search parameters ``cube.quality`` for DRP flags or the ``file.quality`` for DAP flags.  The above query is equivalent to ``cube.quality & 256``.  You can also perform a NOT bitmask selection using the ``~`` symbol.  To perform a NOT selection we can only use the ``cube.quality`` parameter. Let's select all galaxies that do not have bad flux calibration.  "
   ]
  },
  {
   "cell_type": "code",
   "execution_count": 16,
   "metadata": {},
   "outputs": [
    {
     "name": "stdout",
     "output_type": "stream",
     "text": [
      "Objects with bad flux calibration: 82\n",
      "Bad objects with no bad flux calibration: 604\n"
     ]
    }
   ],
   "source": [
    "# the above query as a filter condition\n",
    "q = Query(search_filter='cube.quality & 256')\n",
    "r = q.run()\n",
    "print('Objects with bad flux calibration:', r.totalcount)\n",
    "\n",
    "# objects with bad quality other than bad flux calibration\n",
    "q = Query(search_filter='cube.quality & ~256')\n",
    "r = q.run()\n",
    "print('Bad objects with no bad flux calibration:', r.totalcount)"
   ]
  },
  {
   "cell_type": "markdown",
   "metadata": {},
   "source": [
    "To find exactly objects with good quality and no bad flags set, use ``cube.quality == 0``. "
   ]
  },
  {
   "cell_type": "code",
   "execution_count": 17,
   "metadata": {},
   "outputs": [
    {
     "name": "stdout",
     "output_type": "stream",
     "text": [
      "Marvin Results(query=cube.quality == 0, totalcount=4253, count=100, mode=remote)\n",
      "Objects with good quality: 4253\n"
     ]
    }
   ],
   "source": [
    "q = Query(search_filter='cube.quality == 0')\n",
    "r = q.run()\n",
    "print(r)\n",
    "print('Objects with good quality:', r.totalcount)"
   ]
  },
  {
   "cell_type": "markdown",
   "metadata": {},
   "source": [
    "## Useful Resources\n",
    "\n",
    "Check out these pages on the Marvin Docs site for more information querying with Marvin.\n",
    "\n",
    "- [Query](../../query/query.rst)\n",
    "- [Query Datamodel](../../datamodel/query_dm.rst)\n",
    "- [Results](../../query/results.rst)\n",
    "- [SQL Boolean Syntax Tutorial](../boolean-search-tutorial.rst)"
   ]
  }
 ],
 "metadata": {
  "anaconda-cloud": {},
  "celltoolbar": "Raw Cell Format",
  "kernelspec": {
   "display_name": "Python 3",
   "language": "python",
   "name": "python3"
  },
  "language_info": {
   "codemirror_mode": {
    "name": "ipython",
    "version": 3
   },
   "file_extension": ".py",
   "mimetype": "text/x-python",
   "name": "python",
   "nbconvert_exporter": "python",
   "pygments_lexer": "ipython3",
   "version": "3.7.1"
  }
 },
 "nbformat": 4,
 "nbformat_minor": 2
}
