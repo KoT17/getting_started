{
 "cells": [
  {
   "cell_type": "markdown",
   "metadata": {},
   "source": [
    "# Step 1: Define set of halos we want to investigate."
   ]
  },
  {
   "cell_type": "markdown",
   "metadata": {},
   "source": [
    "### Steps:\n",
    "* Query for Halos: shows usage of CasJobs.\n",
    "* Store them in HDF5 and CSV file : shows usage of Teporary file storage\n",
    "* Store them in a table : shows usage of MyDB\n",
    "* Share CSV file :  shows usage of Files Service \n",
    "<!-- <img src=\"images/uc1.png\"/> -->"
   ]
  },
  {
   "cell_type": "code",
   "execution_count": 1,
   "metadata": {},
   "outputs": [],
   "source": [
    "# Import necessary libraries.\n",
    "import SciServer.CasJobs as cj\n",
    "import os\n",
    "import pandas\n",
    "import tables"
   ]
  },
  {
   "cell_type": "code",
   "execution_count": 2,
   "metadata": {},
   "outputs": [
    {
     "name": "stdout",
     "output_type": "stream",
     "text": [
      "Found 102 halos\n"
     ]
    }
   ],
   "source": [
    "# define SQL: query from Millennium halo merger trees tab \n",
    "# find halos with mass in given range\n",
    "query = \"\"\"\n",
    "SELECT haloId,np,x,y,z, halfMassRadius \n",
    "  FROM mpahalotrees..mr \n",
    " WHERE snapnum=63 \n",
    "   AND np between 200000 AND 210000\n",
    "\"\"\"\n",
    "\n",
    "# query CasJobs table. Using MPAHaloTrees as context\n",
    "halosDF=cj.executeQuery(query, \"MPAHaloTrees\")\n",
    "\n",
    "print(\"Found\",len(halosDF),\"halos\")"
   ]
  },
  {
   "cell_type": "code",
   "execution_count": 3,
   "metadata": {},
   "outputs": [],
   "source": [
    "# this code is here to adjust the root_folder scratch storage to the user\n",
    "import SciServer.Authentication as auth\n",
    "USER=auth.getKeystoneUserWithToken(auth.getToken())\n",
    "root_folder=f'/home/idies/workspace/Temporary/{USER.userName}/scratch/cosmodata/'"
   ]
  },
  {
   "cell_type": "code",
   "execution_count": 4,
   "metadata": {},
   "outputs": [],
   "source": [
    "# store result as HDF5 file \n",
    "os.makedirs(root_folder,exist_ok=True)\n",
    "h5store = pandas.HDFStore(f'{root_folder}HaloSample.h5')\n",
    "h5store['halos']=halosDF\n",
    "h5store.close()\n",
    "\n",
    "# store result as CSV file\n",
    "halosDF.to_csv(f'{root_folder}HaloSample.csv')"
   ]
  },
  {
   "cell_type": "markdown",
   "metadata": {},
   "source": [
    "GOTO root folder and see data has appeared"
   ]
  },
  {
   "cell_type": "markdown",
   "metadata": {},
   "source": [
    "GOTO CasJobs schema browser and ensure no table halo_sample"
   ]
  },
  {
   "cell_type": "markdown",
   "metadata": {},
   "source": [
    "create table in MyDB"
   ]
  },
  {
   "cell_type": "code",
   "execution_count": 5,
   "metadata": {},
   "outputs": [
    {
     "data": {
      "text/html": [
       "<div>\n",
       "<style scoped>\n",
       "    .dataframe tbody tr th:only-of-type {\n",
       "        vertical-align: middle;\n",
       "    }\n",
       "\n",
       "    .dataframe tbody tr th {\n",
       "        vertical-align: top;\n",
       "    }\n",
       "\n",
       "    .dataframe thead th {\n",
       "        text-align: right;\n",
       "    }\n",
       "</style>\n",
       "<table border=\"1\" class=\"dataframe\">\n",
       "  <thead>\n",
       "    <tr style=\"text-align: right;\">\n",
       "      <th></th>\n",
       "      <th>Rows Affected</th>\n",
       "    </tr>\n",
       "  </thead>\n",
       "  <tbody>\n",
       "    <tr>\n",
       "      <th>0</th>\n",
       "      <td>0</td>\n",
       "    </tr>\n",
       "  </tbody>\n",
       "</table>\n",
       "</div>"
      ],
      "text/plain": [
       "   Rows Affected\n",
       "0              0"
      ]
     },
     "execution_count": 5,
     "metadata": {},
     "output_type": "execute_result"
    }
   ],
   "source": [
    "# in case the table was already created:\n",
    "try:\n",
    "    cj.executeQuery(\"drop table halo_sample\",\"MyDB\")    \n",
    "except:\n",
    "    pass\n",
    "\n",
    "ddl = \"\"\"\n",
    "CREATE TABLE halo_sample(\n",
    "  haloID bigint,np integer,x real,y real,z real, halfMassRadius real)\n",
    "\"\"\"\n",
    "cj.executeQuery(ddl,\"MyDB\")"
   ]
  },
  {
   "cell_type": "markdown",
   "metadata": {},
   "source": [
    "upload directly from DataFrame"
   ]
  },
  {
   "cell_type": "code",
   "execution_count": 6,
   "metadata": {},
   "outputs": [],
   "source": [
    "response=cj.uploadPandasDataFrameToTable(halosDF,\"halo_sample\")"
   ]
  },
  {
   "cell_type": "markdown",
   "metadata": {},
   "source": [
    "GOTO CasJobs and see that table was written"
   ]
  }
 ],
 "metadata": {
  "kernelspec": {
   "display_name": "Python 3.8 (py38)",
   "language": "python",
   "name": "py38"
  },
  "language_info": {
   "codemirror_mode": {
    "name": "ipython",
    "version": 3
   },
   "file_extension": ".py",
   "mimetype": "text/x-python",
   "name": "python",
   "nbconvert_exporter": "python",
   "pygments_lexer": "ipython3",
   "version": "3.8.5"
  }
 },
 "nbformat": 4,
 "nbformat_minor": 1
}
