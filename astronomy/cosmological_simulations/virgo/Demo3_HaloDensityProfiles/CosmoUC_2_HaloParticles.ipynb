{
 "cells": [
  {
   "cell_type": "markdown",
   "metadata": {},
   "source": [
    "# Step 2: Retrieve Particles around halos\n",
    "For each Halo in sample defined in UC-1, extract particles in sphere of radius 2Mpc and store in Scratch DB and HDF5 file.\n",
    "\n",
    "This code uses a special built table valued function in the database SimulationDB.\n",
    "It can access the raw data files from within the database to get the particles efficiently.\n",
    "Hence all particle access is from within SQL."
   ]
  },
  {
   "cell_type": "code",
   "execution_count": 1,
   "metadata": {},
   "outputs": [],
   "source": [
    "import SciServer.CasJobs as cj\n",
    "import pandas\n",
    "import os\n",
    "import numpy\n",
    "from datetime import datetime"
   ]
  },
  {
   "cell_type": "code",
   "execution_count": 2,
   "metadata": {},
   "outputs": [],
   "source": [
    "# this code is here to adjust the root_folder scratch storage to the user\n",
    "import SciServer.Authentication as auth\n",
    "USER=auth.getKeystoneUserWithToken(auth.getToken())\n",
    "root_folder=f'/home/idies/workspace/Temporary/{USER.userName}/scratch/cosmodata/'"
   ]
  },
  {
   "cell_type": "code",
   "execution_count": 3,
   "metadata": {},
   "outputs": [],
   "source": [
    "# retrieve halos from MyScratch file defined in UC-1\n",
    "store = pandas.HDFStore(f'{root_folder}HaloSample.h5','r')\n",
    "halos = store.get('halos')\n",
    "store.close()"
   ]
  },
  {
   "cell_type": "code",
   "execution_count": 4,
   "metadata": {},
   "outputs": [
    {
     "data": {
      "text/html": [
       "<div>\n",
       "<style scoped>\n",
       "    .dataframe tbody tr th:only-of-type {\n",
       "        vertical-align: middle;\n",
       "    }\n",
       "\n",
       "    .dataframe tbody tr th {\n",
       "        vertical-align: top;\n",
       "    }\n",
       "\n",
       "    .dataframe thead th {\n",
       "        text-align: right;\n",
       "    }\n",
       "</style>\n",
       "<table border=\"1\" class=\"dataframe\">\n",
       "  <thead>\n",
       "    <tr style=\"text-align: right;\">\n",
       "      <th></th>\n",
       "      <th>haloId</th>\n",
       "      <th>np</th>\n",
       "      <th>x</th>\n",
       "      <th>y</th>\n",
       "      <th>z</th>\n",
       "      <th>halfMassRadius</th>\n",
       "    </tr>\n",
       "  </thead>\n",
       "  <tbody>\n",
       "    <tr>\n",
       "      <th>0</th>\n",
       "      <td>313000080000000</td>\n",
       "      <td>200039</td>\n",
       "      <td>486.280200</td>\n",
       "      <td>157.82020</td>\n",
       "      <td>388.2235</td>\n",
       "      <td>0.513466</td>\n",
       "    </tr>\n",
       "    <tr>\n",
       "      <th>1</th>\n",
       "      <td>465001631000000</td>\n",
       "      <td>200044</td>\n",
       "      <td>168.364700</td>\n",
       "      <td>225.70780</td>\n",
       "      <td>274.2794</td>\n",
       "      <td>0.489514</td>\n",
       "    </tr>\n",
       "    <tr>\n",
       "      <th>2</th>\n",
       "      <td>259001305032328</td>\n",
       "      <td>200525</td>\n",
       "      <td>368.534000</td>\n",
       "      <td>207.11040</td>\n",
       "      <td>286.1121</td>\n",
       "      <td>0.575769</td>\n",
       "    </tr>\n",
       "    <tr>\n",
       "      <th>3</th>\n",
       "      <td>426000068000000</td>\n",
       "      <td>200210</td>\n",
       "      <td>96.649380</td>\n",
       "      <td>458.64020</td>\n",
       "      <td>298.5108</td>\n",
       "      <td>0.530035</td>\n",
       "    </tr>\n",
       "    <tr>\n",
       "      <th>4</th>\n",
       "      <td>428000049000000</td>\n",
       "      <td>200123</td>\n",
       "      <td>87.790540</td>\n",
       "      <td>383.21790</td>\n",
       "      <td>345.3171</td>\n",
       "      <td>0.545141</td>\n",
       "    </tr>\n",
       "    <tr>\n",
       "      <th>...</th>\n",
       "      <td>...</td>\n",
       "      <td>...</td>\n",
       "      <td>...</td>\n",
       "      <td>...</td>\n",
       "      <td>...</td>\n",
       "      <td>...</td>\n",
       "    </tr>\n",
       "    <tr>\n",
       "      <th>97</th>\n",
       "      <td>482000079000000</td>\n",
       "      <td>209068</td>\n",
       "      <td>130.260600</td>\n",
       "      <td>85.02935</td>\n",
       "      <td>473.2986</td>\n",
       "      <td>0.424814</td>\n",
       "    </tr>\n",
       "    <tr>\n",
       "      <th>98</th>\n",
       "      <td>485000114000000</td>\n",
       "      <td>207711</td>\n",
       "      <td>151.466800</td>\n",
       "      <td>59.10039</td>\n",
       "      <td>479.3499</td>\n",
       "      <td>0.589006</td>\n",
       "    </tr>\n",
       "    <tr>\n",
       "      <th>99</th>\n",
       "      <td>485008673000000</td>\n",
       "      <td>209051</td>\n",
       "      <td>176.334400</td>\n",
       "      <td>48.27508</td>\n",
       "      <td>453.0608</td>\n",
       "      <td>0.698470</td>\n",
       "    </tr>\n",
       "    <tr>\n",
       "      <th>100</th>\n",
       "      <td>505000079000000</td>\n",
       "      <td>209496</td>\n",
       "      <td>59.468820</td>\n",
       "      <td>88.61140</td>\n",
       "      <td>430.0368</td>\n",
       "      <td>0.514679</td>\n",
       "    </tr>\n",
       "    <tr>\n",
       "      <th>101</th>\n",
       "      <td>511002775000000</td>\n",
       "      <td>206394</td>\n",
       "      <td>5.660174</td>\n",
       "      <td>26.85592</td>\n",
       "      <td>444.3501</td>\n",
       "      <td>0.466691</td>\n",
       "    </tr>\n",
       "  </tbody>\n",
       "</table>\n",
       "<p>102 rows × 6 columns</p>\n",
       "</div>"
      ],
      "text/plain": [
       "              haloId      np           x          y         z  halfMassRadius\n",
       "0    313000080000000  200039  486.280200  157.82020  388.2235        0.513466\n",
       "1    465001631000000  200044  168.364700  225.70780  274.2794        0.489514\n",
       "2    259001305032328  200525  368.534000  207.11040  286.1121        0.575769\n",
       "3    426000068000000  200210   96.649380  458.64020  298.5108        0.530035\n",
       "4    428000049000000  200123   87.790540  383.21790  345.3171        0.545141\n",
       "..               ...     ...         ...        ...       ...             ...\n",
       "97   482000079000000  209068  130.260600   85.02935  473.2986        0.424814\n",
       "98   485000114000000  207711  151.466800   59.10039  479.3499        0.589006\n",
       "99   485008673000000  209051  176.334400   48.27508  453.0608        0.698470\n",
       "100  505000079000000  209496   59.468820   88.61140  430.0368        0.514679\n",
       "101  511002775000000  206394    5.660174   26.85592  444.3501        0.466691\n",
       "\n",
       "[102 rows x 6 columns]"
      ]
     },
     "execution_count": 4,
     "metadata": {},
     "output_type": "execute_result"
    }
   ],
   "source": [
    "halos"
   ]
  },
  {
   "cell_type": "code",
   "execution_count": 5,
   "metadata": {},
   "outputs": [
    {
     "name": "stdout",
     "output_type": "stream",
     "text": [
      "Query 1 : SELECT * FROM dbo.MillenniumParticles(63, dbo.Sphere::New(486.2802,157.8202,388.2235,2).ToString()) \n",
      "# particles found = 266145  in time  0:00:09.193790\n",
      "Query 2 : SELECT * FROM dbo.MillenniumParticles(63, dbo.Sphere::New(168.3647,225.7078,274.2794,2).ToString()) \n",
      "# particles found = 264876  in time  0:00:08.655707\n",
      "Query 3 : SELECT * FROM dbo.MillenniumParticles(63, dbo.Sphere::New(368.534,207.1104,286.1121,2).ToString()) \n",
      "# particles found = 358473  in time  0:00:11.247860\n",
      "Query 4 : SELECT * FROM dbo.MillenniumParticles(63, dbo.Sphere::New(96.64938,458.6402,298.5108,2).ToString()) \n",
      "# particles found = 267676  in time  0:00:08.431994\n",
      "Query 5 : SELECT * FROM dbo.MillenniumParticles(63, dbo.Sphere::New(87.79054,383.2179,345.3171,2).ToString()) \n",
      "# particles found = 260958  in time  0:00:08.192998\n",
      "Query 6 : SELECT * FROM dbo.MillenniumParticles(63, dbo.Sphere::New(17.72766,52.44431,373.2024,2).ToString()) \n",
      "# particles found = 326834  in time  0:00:09.994263\n",
      "Query 7 : SELECT * FROM dbo.MillenniumParticles(63, dbo.Sphere::New(20.2832,463.8716,81.29838,2).ToString()) \n",
      "# particles found = 310437  in time  0:00:09.409871\n",
      "Query 8 : SELECT * FROM dbo.MillenniumParticles(63, dbo.Sphere::New(379.0278,209.2801,176.6615,2).ToString()) \n",
      "# particles found = 276522  in time  0:00:08.298399\n",
      "Query 9 : SELECT * FROM dbo.MillenniumParticles(63, dbo.Sphere::New(454.8799,153.8547,298.9499,2).ToString()) \n",
      "# particles found = 280412  in time  0:00:08.314026\n",
      "Query 10 : SELECT * FROM dbo.MillenniumParticles(63, dbo.Sphere::New(494.9914,377.6429,324.9916,2).ToString()) \n",
      "# particles found = 271562  in time  0:00:08.285248\n",
      "Query 11 : SELECT * FROM dbo.MillenniumParticles(63, dbo.Sphere::New(170.3705,375.292,382.7364,2).ToString()) \n",
      "# particles found = 279085  in time  0:00:09.272011\n",
      "Query 12 : SELECT * FROM dbo.MillenniumParticles(63, dbo.Sphere::New(7.714601,134.8024,351.5968,2).ToString()) \n",
      "# particles found = 297611  in time  0:00:11.056466\n",
      "Query 13 : SELECT * FROM dbo.MillenniumParticles(63, dbo.Sphere::New(177.9322,208.4725,290.6645,2).ToString()) \n",
      "# particles found = 281563  in time  0:00:08.808869\n",
      "Query 14 : SELECT * FROM dbo.MillenniumParticles(63, dbo.Sphere::New(230.1587,81.94385,450.4962,2).ToString()) \n",
      "# particles found = 331539  in time  0:00:09.613792\n",
      "Query 15 : SELECT * FROM dbo.MillenniumParticles(63, dbo.Sphere::New(241.8134,117.4466,197.9644,2).ToString()) \n",
      "# particles found = 270810  in time  0:00:08.237377\n",
      "Query 16 : SELECT * FROM dbo.MillenniumParticles(63, dbo.Sphere::New(217.5263,151.8889,37.10935,2).ToString()) \n",
      "# particles found = 317578  in time  0:00:10.255765\n",
      "Query 17 : SELECT * FROM dbo.MillenniumParticles(63, dbo.Sphere::New(13.43808,351.463,109.2095,2).ToString()) \n",
      "# particles found = 327057  in time  0:00:09.738111\n",
      "Query 18 : SELECT * FROM dbo.MillenniumParticles(63, dbo.Sphere::New(1.216602,412.7472,145.233,2).ToString()) \n",
      "# particles found = 306536  in time  0:00:09.573953\n",
      "Query 19 : SELECT * FROM dbo.MillenniumParticles(63, dbo.Sphere::New(94.28911,281.026,178.1171,2).ToString()) \n",
      "# particles found = 321305  in time  0:00:09.497478\n",
      "Query 20 : SELECT * FROM dbo.MillenniumParticles(63, dbo.Sphere::New(108.6772,318.12,248.3616,2).ToString()) \n",
      "# particles found = 266436  in time  0:00:07.651181\n"
     ]
    }
   ],
   "source": [
    "# open target store for particles, also an HDF5 file\n",
    "particleStore = pandas.HDFStore(f'{root_folder}HaloParticles.h5')\n",
    "\n",
    "# add halos data to this file\n",
    "particleStore.put(\"Halos\",halos)\n",
    "\n",
    "# define radius of sphere within which we want to look for particles\n",
    "RadiusMax=2\n",
    "\n",
    "# set maximum number of halos for which to find particles\n",
    "# set to small value when running demo\n",
    "maxnum=20\n",
    "count=0\n",
    "\n",
    "# loop over halos, retrieve particlees for each one.\n",
    "# NB could be done in one query !!\n",
    "for ix,haloID, np, x, y, z, halfMassRadius in halos.itertuples():\n",
    "    start=datetime.now()\n",
    "    count+=1\n",
    "    query = f\"SELECT * FROM dbo.MillenniumParticles(63, dbo.Sphere::New({x},{y},{z},{RadiusMax}).ToString()) \"\n",
    "    print(\"Query\",count,\":\",query)\n",
    "    # submit query, use SimulationDB as context as this \n",
    "    df = cj.executeQuery(query, \"SimulationDB\")\n",
    "    particleStore[f'Halo_{haloID}']= df\n",
    "    end=datetime.now()\n",
    "    print(\"# particles found =\",len(df),\" in time \",end-start)\n",
    "    if(count >= maxnum) :\n",
    "        break;\n",
    "\n",
    "particleStore.close()"
   ]
  },
  {
   "cell_type": "markdown",
   "metadata": {},
   "source": [
    "**GOTO folder and see data has appeared**"
   ]
  },
  {
   "cell_type": "markdown",
   "metadata": {},
   "source": [
    "**GOTO CasJobs and see no data in MyScratch**"
   ]
  },
  {
   "cell_type": "code",
   "execution_count": 6,
   "metadata": {},
   "outputs": [
    {
     "data": {
      "text/html": [
       "<div>\n",
       "<style scoped>\n",
       "    .dataframe tbody tr th:only-of-type {\n",
       "        vertical-align: middle;\n",
       "    }\n",
       "\n",
       "    .dataframe tbody tr th {\n",
       "        vertical-align: top;\n",
       "    }\n",
       "\n",
       "    .dataframe thead th {\n",
       "        text-align: right;\n",
       "    }\n",
       "</style>\n",
       "<table border=\"1\" class=\"dataframe\">\n",
       "  <thead>\n",
       "    <tr style=\"text-align: right;\">\n",
       "      <th></th>\n",
       "      <th>Rows Affected</th>\n",
       "    </tr>\n",
       "  </thead>\n",
       "  <tbody>\n",
       "    <tr>\n",
       "      <th>0</th>\n",
       "      <td>0</td>\n",
       "    </tr>\n",
       "  </tbody>\n",
       "</table>\n",
       "</div>"
      ],
      "text/plain": [
       "   Rows Affected\n",
       "0              0"
      ]
     },
     "execution_count": 6,
     "metadata": {},
     "output_type": "execute_result"
    }
   ],
   "source": [
    "# write particle contents to MyScratch table\n",
    "# 1st: create table\n",
    "try:\n",
    "    ddl=\"drop TABLE [myscratch:default].halo200k_particles\"\n",
    "    cj.executeQuery(ddl,context=\"[myscratch:default]\")\n",
    "except:\n",
    "    pass\n",
    "\n",
    "ddl=\"CREATE TABLE [myscratch:default].halo200k_particles(metaId bigint,id bigint, x real,y real,z real,haloID bigint)\"\n",
    "cj.executeQuery(ddl,context=\"[myscratch:default]\")"
   ]
  },
  {
   "cell_type": "code",
   "execution_count": 7,
   "metadata": {},
   "outputs": [],
   "source": [
    "particles = pandas.HDFStore(f\"{root_folder}HaloParticles.h5\")\n",
    "keys=particles.keys()"
   ]
  },
  {
   "cell_type": "code",
   "execution_count": 8,
   "metadata": {},
   "outputs": [
    {
     "name": "stdout",
     "output_type": "stream",
     "text": [
      "Duration : 0:00:09.773558\n",
      "Duration : 0:00:09.591688\n",
      "Duration : 0:00:12.924550\n",
      "Duration : 0:00:10.115145\n",
      "Duration : 0:00:09.435166\n",
      "Duration : 0:00:11.706373\n",
      "Duration : 0:00:11.072421\n",
      "Duration : 0:00:10.067161\n",
      "Duration : 0:00:10.121218\n",
      "Duration : 0:00:09.893673\n",
      "Duration : 0:00:10.695924\n",
      "Duration : 0:00:10.636464\n",
      "Duration : 0:00:10.270264\n",
      "Duration : 0:00:11.963823\n",
      "Duration : 0:00:10.376019\n",
      "Duration : 0:00:11.890572\n",
      "Duration : 0:00:12.566383\n",
      "Duration : 0:00:12.090870\n",
      "Duration : 0:00:12.655622\n",
      "Duration : 0:00:10.566009\n"
     ]
    }
   ],
   "source": [
    "# save particles to  for maxnum halos\n",
    "maxnum=20\n",
    "count = 0\n",
    "for i,haloID, np, x, y, z, halfMassRadius in halos.itertuples():\n",
    "    start=datetime.now()\n",
    "    key = f'Halo_{haloID}'\n",
    "    if('/'+ key not in keys):\n",
    "        print(f'Cannot find data for key {key}')\n",
    "        continue\n",
    "    df = particles.get(key)\n",
    "    ids = numpy.empty(len(df.index),dtype=numpy.dtype('i8'))\n",
    "    ids.fill(haloID)\n",
    "    df['haloID']=ids\n",
    "    response=cj.uploadPandasDataFrameToTable(df,\"halo200k_particles\",context=\"[myscratch:default]\")\n",
    "    end=datetime.now()\n",
    "    print(\"Duration :\",end-start)\n",
    "    count+=1\n",
    "    if(count >= maxnum):\n",
    "        break"
   ]
  },
  {
   "cell_type": "code",
   "execution_count": 9,
   "metadata": {},
   "outputs": [],
   "source": [
    "particles.close()  "
   ]
  },
  {
   "cell_type": "markdown",
   "metadata": {},
   "source": [
    "**GOTO CasJobs see that particles were written**"
   ]
  }
 ],
 "metadata": {
  "kernelspec": {
   "display_name": "Python 3.8 (py38)",
   "language": "python",
   "name": "py38"
  },
  "language_info": {
   "codemirror_mode": {
    "name": "ipython",
    "version": 3
   },
   "file_extension": ".py",
   "mimetype": "text/x-python",
   "name": "python",
   "nbconvert_exporter": "python",
   "pygments_lexer": "ipython3",
   "version": "3.8.5"
  }
 },
 "nbformat": 4,
 "nbformat_minor": 1
}
