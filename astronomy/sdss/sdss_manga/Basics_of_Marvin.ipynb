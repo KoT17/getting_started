{
 "cells": [
  {
   "cell_type": "markdown",
   "metadata": {},
   "source": [
    "# Basics of Marvin\n",
    "\n",
    "In this notebook, you will learn the common core functionality across many of the Marvin Tools.  This includes the basics of accessing and handling MaNGA data from different locations, as well as a beginners guide of interacting with data via the core tools of Cubes and Maps.  Much of this information can be found in the [Getting Started section](https://sdss-marvin.readthedocs.io/en/stable/getting-started.html) of the Marvin documentation.  \n",
    "\n",
    "## Table of Contents\n",
    "- [Data Access Modes](#modes) <br>\n",
    "- [Interacting with Data Content](#interaction) <br>\n",
    " - [Object Datamodels](#datamodel) <br>\n",
    " - [Extracting Data](#extract) <br> \n",
    " - [Accessing Associated Objects](#associates)<br>\n",
    " - [Quality and Target Flags](#flags)<br>\n",
    " - [NSA and DAPall Metadata](#mixin)<br>\n",
    " - [Downloading Files](#download)<br>\n",
    "- [Interacting with Spaxels](#spaxels)<br>"
   ]
  },
  {
   "cell_type": "markdown",
   "metadata": {},
   "source": [
    "<a id=\"common\"></a>\n",
    "## Common Core Functionality \n",
    "\n",
    "Marvin Tools provides the core functionality for accessing MaNGA data with Marvin. At the lowest level they are class wrappers around data products or elements (datacubes, maps, and spaxels). Their purpose is to provide a more natural way to interact with the data, unconstrained by specific data storage architectures such as files or databases, or by data location such as a laptop or remote server.  \n",
    "\n",
    "All Marvin Tools are built off a set of common core functionalities and features, and thus behave in very similar ways.  There are four main classes provided in Marvin: the ``Cube``, the ``RSS``, the ``Maps``, and the ``ModelCube``.\n",
    "We will start by focusing on a Marvin Cube to demonstrate the common features and handling of Marvin Tools.  Everything discussed here also applies to any of the other available Marvin Tools listed above.   \n",
    "  \n",
    "Let's start by importing the Marvin Cube class."
   ]
  },
  {
   "cell_type": "code",
   "execution_count": 1,
   "metadata": {
    "execution": {
     "iopub.execute_input": "2022-05-25T12:32:59.501953Z",
     "iopub.status.busy": "2022-05-25T12:32:59.500297Z",
     "iopub.status.idle": "2022-05-25T12:33:38.137915Z",
     "shell.execute_reply": "2022-05-25T12:33:38.135980Z",
     "shell.execute_reply.started": "2022-05-25T12:32:59.501900Z"
    }
   },
   "outputs": [
    {
     "name": "stderr",
     "output_type": "stream",
     "text": [
      "/home/idies/miniconda3/envs/py38/lib/python3.8/site-packages/marvin/core/exceptions.py:50: UserWarning: cannot initiate Sentry error reporting: [Errno 6] No such device or address.\n",
      "  warnings.warn('cannot initiate Sentry error reporting: {0}.'.format(str(ee)),\n",
      "\u001b[0;34m[INFO]: \u001b[0mNo release version set. Setting default to DR17\n",
      "\u001b[1;33m[WARNING]: \u001b[0m\u001b[0;39mpath /home/idies/workspace/sdss_sas/mangawork/manga/spectro/redux/v3_1_1/drpall-v3_1_1.fits cannot be found. Setting drpall to None.\u001b[0m \u001b[0;36m(MarvinUserWarning)\u001b[0m\n",
      "\u001b[1;33m[WARNING]: \u001b[0m\u001b[0;39mpath /home/idies/workspace/sdss_sas/mangawork/manga/spectro/analysis/v3_1_1/3.1.0/dapall-v3_1_1-3.1.0.fits cannot be found. Setting dapall to None.\u001b[0m \u001b[0;36m(MarvinUserWarning)\u001b[0m\n"
     ]
    }
   ],
   "source": [
    "from marvin.tools import Cube"
   ]
  },
  {
   "cell_type": "markdown",
   "metadata": {},
   "source": [
    "You may see the info message `No release version set. Setting default to DR17`.  The default data release Marvin uses is DR17. For this tutorial, we will be using DR17 data so there is no need to do anything further.  In general, to change which release Marvin uses, we can use the Marvin `config.setRelease` method on the `config` object.   "
   ]
  },
  {
   "cell_type": "code",
   "execution_count": 2,
   "metadata": {
    "execution": {
     "iopub.execute_input": "2022-05-25T12:33:38.154163Z",
     "iopub.status.busy": "2022-05-25T12:33:38.153701Z",
     "iopub.status.idle": "2022-05-25T12:33:38.163252Z",
     "shell.execute_reply": "2022-05-25T12:33:38.161478Z",
     "shell.execute_reply.started": "2022-05-25T12:33:38.154119Z"
    },
    "tags": []
   },
   "outputs": [],
   "source": [
    "from marvin import config\n",
    "\n",
    "# set the release to DR17\n",
    "config.setRelease(\"DR17\")"
   ]
  },
  {
   "cell_type": "markdown",
   "metadata": {},
   "source": [
    "<a id=\"modes\"></a>\n",
    "### Data Access Modes"
   ]
  },
  {
   "cell_type": "markdown",
   "metadata": {},
   "source": [
    "Let's instantiate our first cube, for galaxy with plate-IFU designation 8485-1901.  Each marvin tool takes a string id input and can one of: a string filepath and name, a plate-IFU designation, or a manga-ID designation.  Marvin will attempt to identify the input format and properly load the target data."
   ]
  },
  {
   "cell_type": "code",
   "execution_count": 4,
   "metadata": {
    "execution": {
     "iopub.execute_input": "2022-05-25T12:33:42.323400Z",
     "iopub.status.busy": "2022-05-25T12:33:42.322725Z",
     "iopub.status.idle": "2022-05-25T12:33:43.527421Z",
     "shell.execute_reply": "2022-05-25T12:33:43.525520Z",
     "shell.execute_reply.started": "2022-05-25T12:33:42.323350Z"
    }
   },
   "outputs": [
    {
     "data": {
      "text/plain": [
       "<Marvin Cube (plateifu='8485-1901', mode='local', data_origin='db')>"
      ]
     },
     "execution_count": 4,
     "metadata": {},
     "output_type": "execute_result"
    }
   ],
   "source": [
    "# instantiate a cube for 8485-1901\n",
    "cube = Cube('8485-1901')\n",
    "cube"
   ]
  },
  {
   "cell_type": "markdown",
   "metadata": {},
   "source": [
    "Once instantiated, each marvin tool indicates a **mode** and a **data-origin**.  Note that `mode=\"local\"` and  `data_origin=\"db\"`.  This indicates that we have accessed the object from the SciServer-hosted DR17 MaNGA database.  Instantiating a cube in this way provides quick and convenient access to the cube contents without file access."
   ]
  },
  {
   "cell_type": "markdown",
   "metadata": {},
   "source": [
    "What if we won't have the MaNGa data products for our target of interest?  We can specify the **plateifu** or **mangaid** of the target and Marvin will access it remotely.  In this case, you would see `mode=\"remote\"` and `data_origin=\"api\"`.  This indicates the cube has been remotely loaded using the built-in Marvin API. By specifying an input plateifu or mangaid, marvin will always first try to access the data locally, and then fall back to remote access.  Since we're accesing data hosted on SciServer, all data is local either in database or files. "
   ]
  },
  {
   "cell_type": "markdown",
   "metadata": {},
   "source": [
    "You can also explicitly load a file using the ``filename`` keyword argument.  Instantiating a Cube in this manner loads the actual FITS file, and provide access to the filename on disk.      "
   ]
  },
  {
   "cell_type": "code",
   "execution_count": 6,
   "metadata": {
    "execution": {
     "iopub.execute_input": "2022-05-25T12:37:40.265259Z",
     "iopub.status.busy": "2022-05-25T12:37:40.264358Z",
     "iopub.status.idle": "2022-05-25T12:37:56.312241Z",
     "shell.execute_reply": "2022-05-25T12:37:56.310526Z",
     "shell.execute_reply.started": "2022-05-25T12:37:40.265204Z"
    },
    "tags": []
   },
   "outputs": [
    {
     "data": {
      "text/plain": [
       "<Marvin Cube (plateifu='8485-1901', mode='local', data_origin='file')>"
      ]
     },
     "execution_count": 6,
     "metadata": {},
     "output_type": "execute_result"
    }
   ],
   "source": [
    "# Explicitly load a cube from a file on disk \n",
    "filename = '/home/idies/workspace/sdss_sas/dr17/manga/spectro/redux/v3_1_1/8485/stack/manga-8485-1901-LOGCUBE.fits.gz'\n",
    "cube = Cube(filename=filename)\n",
    "cube"
   ]
  },
  {
   "cell_type": "code",
   "execution_count": 7,
   "metadata": {
    "execution": {
     "iopub.execute_input": "2022-05-25T12:39:45.237654Z",
     "iopub.status.busy": "2022-05-25T12:39:45.236780Z",
     "iopub.status.idle": "2022-05-25T12:39:45.263777Z",
     "shell.execute_reply": "2022-05-25T12:39:45.261778Z",
     "shell.execute_reply.started": "2022-05-25T12:39:45.237563Z"
    }
   },
   "outputs": [
    {
     "data": {
      "text/plain": [
       "'/home/idies/workspace/sdss_sas/dr17/manga/spectro/redux/v3_1_1/8485/stack/manga-8485-1901-LOGCUBE.fits.gz'"
      ]
     },
     "execution_count": 7,
     "metadata": {},
     "output_type": "execute_result"
    }
   ],
   "source": [
    "# print the local filename\n",
    "cube.filename"
   ]
  },
  {
   "cell_type": "markdown",
   "metadata": {},
   "source": [
    "<a id=\"interaction\"></a>\n",
    "### Interacting with Data Content\n",
    "\n",
    "Regardless of how you load an object, the way we interact with all the tools, and the way they behave, is the same.  They also all provide some quick access to basic metadata, like coordinates, header information, and WCS.\n",
    "<a id=\"metadata\"></a>"
   ]
  },
  {
   "cell_type": "code",
   "execution_count": 8,
   "metadata": {
    "execution": {
     "iopub.execute_input": "2022-05-25T12:41:30.793043Z",
     "iopub.status.busy": "2022-05-25T12:41:30.792192Z",
     "iopub.status.idle": "2022-05-25T12:41:30.821225Z",
     "shell.execute_reply": "2022-05-25T12:41:30.819326Z",
     "shell.execute_reply.started": "2022-05-25T12:41:30.792992Z"
    }
   },
   "outputs": [
    {
     "name": "stdout",
     "output_type": "stream",
     "text": [
      "Target Coordindates: 232.544703894 48.6902009334\n",
      "Header:\n"
     ]
    },
    {
     "data": {
      "text/plain": [
       "XTENSION= 'IMAGE   '           / IMAGE extension                                \n",
       "BITPIX  =                  -32 / Number of bits per data pixel                  \n",
       "NAXIS   =                    3 / Number of data axes                            \n",
       "NAXIS1  =                   34 /                                                \n",
       "NAXIS2  =                   34 /                                                \n",
       "NAXIS3  =                 4563 /                                                \n",
       "PCOUNT  =                    0 / No Group Parameters                            \n",
       "GCOUNT  =                    1 / One Data Group                                 \n",
       "AUTHOR  = 'Brian Cherinka & David Law <bcherinka@stsci.edu, dlaw@stsci.edu>' /  \n",
       "VERSDRP2= 'v3_1_1  '           / MaNGA DRP version (2d processing)              \n",
       "VERSDRP3= 'v3_1_1  '           / MaNGA DRP Version (3d processing)              \n",
       "VERSPLDS= 'v5_1    '           / Platedesign Version                            \n",
       "VERSFLAT= 'v1_33   '           / Specflat Version                               \n",
       "VERSCORE= 'v1_9_1  '           / MaNGAcore Version                              \n",
       "VERSPRIM= 'v2_9    '           / MaNGA Preimaging Version                       \n",
       "VERSUTIL= 'v5_5_36 '           / Version of idlutils                            \n",
       "VERSIDL = 'x86_64 linux unix linux 7.1.1 Aug 21 2009 64 64 ' / Version of IDL   \n",
       "BSCALE  =              1.00000 / Intensity unit scaling                         \n",
       "BZERO   =              0.00000 / Intensity zeropoint                            \n",
       "BUNIT   = '1E-17 erg/s/cm^2/Angstrom/spaxel' / Specific intensity (per spaxel)  \n",
       "MASKNAME= 'MANGA_DRP3PIXMASK'  / Bits in sdssMaskbits.par used by mask extension\n",
       "TELESCOP= 'SDSS 2.5-M'         / Sloan Digital Sky Survey                       \n",
       "INSTRUME= 'MaNGA   '           / SDSS-IV MaNGA IFU                              \n",
       "SRVYMODE= 'MaNGA dither'       / Survey leading this observation and its mode   \n",
       "PLATETYP= 'APOGEE-2&MaNGA'     / Type of plate (e.g. MaNGA, APOGEE-2&MANGA)     \n",
       "OBJSYS  = 'ICRS    '           / The TCC objSys                                 \n",
       "EQUINOX =              2000.00 /                                                \n",
       "RADESYS = 'FK5     '           /                                                \n",
       "LAMPLIST= 'lamphgcdne.dat'     /                                                \n",
       "TPLDATA = 'BOSZ_3000-11000A.fits' /                                             \n",
       "NEXP    =                    9 / Total number of exposures                      \n",
       "EXPTIME =              8100.87 / Total exposure time (seconds)                  \n",
       "BLUESN2 =              18.6492 / Total SN2 in blue channel                      \n",
       "REDSN2  =              39.4486 / Total SN2 in red channel                       \n",
       "AIRMSMIN=              1.03987 / Minimum airmass                                \n",
       "AIRMSMED=              1.04708 / Median airmass                                 \n",
       "AIRMSMAX=              1.08221 / Maximum airmass                                \n",
       "SEEMIN  =              1.17605 / Best guider seeing                             \n",
       "SEEMED  =              1.30563 / Median guider seeing                           \n",
       "SEEMAX  =              1.42456 / Worst guider seeing                            \n",
       "TRANSMIN=             0.804670 / Worst guider transparency                      \n",
       "TRANSMED=             0.831482 / Median guider transparency                     \n",
       "TRANSMAX=             0.839711 / Best guider transparency                       \n",
       "MJDMIN  =                57132 / MJD of first exposure                          \n",
       "MJDMED  =                57132 / MJD of median exposure                         \n",
       "MJDMAX  =                57132 / MJD of last exposure                           \n",
       "DATE-OBS= '2015-04-20'         / Date of median exposure                        \n",
       "MJDRED  =                59186 / MJD of the reduction                           \n",
       "DATERED = '2020-12-03'         / Date of the reduction                          \n",
       "MNGTARG1=                 2336 / manga_target1 maskbit                          \n",
       "MNGTARG2=                    0 / manga_target2 maskbit                          \n",
       "MNGTARG3=                    0 / manga_target3 maskbit                          \n",
       "IFURA   =        232.544700000 / IFU R.A. (J2000 deg.)                          \n",
       "IFUDEC  =        48.6902010000 / IFU Dec. (J2000 deg.)                          \n",
       "OBJRA   =        232.544703894 / Object R.A. (J2000 deg.)                       \n",
       "OBJDEC  =        48.6902009334 / Object Dec. (J2000 deg.)                       \n",
       "CENRA   =        234.064260000 / Plate center R.A. (J2000 deg.)                 \n",
       "CENDEC  =        48.5898740000 / Plate center Dec. (J2000 deg.)                 \n",
       "PLATEID =                 8485 / Current plate                                  \n",
       "DESIGNID=                 8980 / Current design                                 \n",
       "IFUDSGN =                 1901 / ifuDesign                                      \n",
       "FRLPLUG =                   29 / Plugged ferrule                                \n",
       "PLATEIFU= '8485-1901'          / PLATEID-ifuDesign                              \n",
       "CARTID  = '3       '           / Cart(s) used                                   \n",
       "HARNAME = 'ma060   '           / Harness name(s)                                \n",
       "METFILE = 'ma060-56887-3.par'  / IFU metrology file(s)                          \n",
       "MANGAID = '1-209232'           / MaNGA ID number                                \n",
       "CATIDNUM= '1       '           / Primary target input catalog                   \n",
       "PLTTARG = 'plateTargets-1.par' / plateTarget reference file                     \n",
       "DRP3QUAL=                    0 / DRP-3d quality bitmask                         \n",
       "IFUGLON =        78.9550411299 / IFU Galactic longitude (deg)                   \n",
       "IFUGLAT =        52.6212190954 / IFU Galactic latitude (deg)                    \n",
       "EBVGAL  =            0.0144335 / Galactic reddening E(B-V)                      \n",
       "GFWHM   =              2.43640 / Reconstructed FWHM in g-band (arcsec)          \n",
       "RFWHM   =              2.43751 / Reconstructed FWHM in r-band (arcsec)          \n",
       "IFWHM   =              2.42862 / Reconstructed FWHM in i-band (arcsec)          \n",
       "ZFWHM   =              2.40892 / Reconstructed FWHM in z-band (arcsec)          \n",
       "CTYPE3  = 'WAVE-LOG'           /                                                \n",
       "CRPIX3  =                    1 / Starting pixel (1-indexed)                     \n",
       "CRVAL3  =        3621.59598486 / Central wavelength of first pixel              \n",
       "CD3_3   =       0.833903304339 / Initial dispersion per pixel                   \n",
       "CUNIT3  = 'Angstrom'           /                                                \n",
       "CRPIX1  =              18.0000 /Reference pixel (1-indexed)                     \n",
       "CRPIX2  =              18.0000 /Reference pixel (1-indexed)                     \n",
       "CRVAL1  =        232.544700000 /                                                \n",
       "CRVAL2  =        48.6902010000 /                                                \n",
       "CD1_1   =         -0.000138889 /                                                \n",
       "CD2_2   =          0.000138889 /                                                \n",
       "CTYPE1  = 'RA---TAN'           /                                                \n",
       "CTYPE2  = 'DEC--TAN'           /                                                \n",
       "CUNIT1  = 'deg     '           /                                                \n",
       "CUNIT2  = 'deg     '           /                                                \n",
       "HDUCLASS= 'SDSS    '           /SDSS format class                               \n",
       "HDUCLAS1= 'CUBE    '           /                                                \n",
       "HDUCLAS2= 'DATA    '           /                                                \n",
       "ERRDATA = 'IVAR    '           / Error extension name                           \n",
       "QUALDATA= 'MASK    '           / Mask extension name                            \n",
       "EXTNAME = 'FLUX    '           /                                                \n",
       "DATASUM = '3419504613'         / data unit checksum updated 2020-12-03T14:10:52 \n",
       "CHECKSUM= 'EcA8HZ77EbA7EZ77'   / HDU checksum updated 2020-12-03T14:10:52       "
      ]
     },
     "execution_count": 8,
     "metadata": {},
     "output_type": "execute_result"
    }
   ],
   "source": [
    "print('Target Coordindates:', cube.ra, cube.dec)\n",
    "print('Header:')\n",
    "\n",
    "# access the PRIMARY header for the current object\n",
    "cube.header"
   ]
  },
  {
   "cell_type": "code",
   "execution_count": 9,
   "metadata": {
    "execution": {
     "iopub.execute_input": "2022-05-25T12:41:31.743388Z",
     "iopub.status.busy": "2022-05-25T12:41:31.742673Z",
     "iopub.status.idle": "2022-05-25T12:41:31.762797Z",
     "shell.execute_reply": "2022-05-25T12:41:31.756135Z",
     "shell.execute_reply.started": "2022-05-25T12:41:31.743339Z"
    }
   },
   "outputs": [
    {
     "data": {
      "text/plain": [
       "WCS Keywords\n",
       "\n",
       "Number of WCS axes: 3\n",
       "CTYPE : 'RA---TAN'  'DEC--TAN'  'WAVE-LOG'  \n",
       "CRVAL : 232.5447  48.690201  3.62159598486e-07  \n",
       "CRPIX : 18.0  18.0  1.0  \n",
       "CD1_1 CD1_2 CD1_3  : -0.000138889  0.0  0.0  \n",
       "CD2_1 CD2_2 CD2_3  : 0.0  0.000138889  0.0  \n",
       "CD3_1 CD3_2 CD3_3  : 0.0  0.0  8.33903304339e-11  \n",
       "NAXIS : 34  34  4563"
      ]
     },
     "execution_count": 9,
     "metadata": {},
     "output_type": "execute_result"
    }
   ],
   "source": [
    "# show the WCS for the current object\n",
    "cube.wcs"
   ]
  },
  {
   "cell_type": "markdown",
   "metadata": {},
   "source": [
    "<a id=\"datamodel\"></a>\n",
    "### Object Datamodels\n",
    "Every Marvin object comes with a built-in **datamodel**, which shows us what extensions are available, how they are names, and what they contain.  "
   ]
  },
  {
   "cell_type": "code",
   "execution_count": 10,
   "metadata": {
    "execution": {
     "iopub.execute_input": "2022-05-25T12:41:33.381918Z",
     "iopub.status.busy": "2022-05-25T12:41:33.381184Z",
     "iopub.status.idle": "2022-05-25T12:41:33.404216Z",
     "shell.execute_reply": "2022-05-25T12:41:33.402077Z",
     "shell.execute_reply.started": "2022-05-25T12:41:33.381851Z"
    }
   },
   "outputs": [
    {
     "data": {
      "text/plain": [
       "<DRPCubeDataModel release='MPL-11', n_datacubes=3, n_spectra=2>"
      ]
     },
     "execution_count": 10,
     "metadata": {},
     "output_type": "execute_result"
    }
   ],
   "source": [
    "# look up the cube datmaodel\n",
    "datamodel = cube.datamodel\n",
    "datamodel"
   ]
  },
  {
   "cell_type": "markdown",
   "metadata": {},
   "source": [
    "The datamodel for a cube contains 3 datacube extensions and 2 spectral extensions.  Let's look at them more closely.   "
   ]
  },
  {
   "cell_type": "code",
   "execution_count": 11,
   "metadata": {
    "execution": {
     "iopub.execute_input": "2022-05-25T12:41:34.557788Z",
     "iopub.status.busy": "2022-05-25T12:41:34.557085Z",
     "iopub.status.idle": "2022-05-25T12:41:34.584537Z",
     "shell.execute_reply": "2022-05-25T12:41:34.576617Z",
     "shell.execute_reply.started": "2022-05-25T12:41:34.557736Z"
    }
   },
   "outputs": [
    {
     "name": "stdout",
     "output_type": "stream",
     "text": [
      "Datacubes:\n"
     ]
    },
    {
     "data": {
      "text/plain": [
       "[<DataCube 'flux', release='MPL-11', unit='1e-17 erg / (Angstrom cm2 s spaxel)'>,\n",
       " <DataCube 'dispersion', release='MPL-11', unit='Angstrom'>,\n",
       " <DataCube 'dispersion_prepixel', release='MPL-11', unit='Angstrom'>]"
      ]
     },
     "execution_count": 11,
     "metadata": {},
     "output_type": "execute_result"
    }
   ],
   "source": [
    "# see what datacubes are available\n",
    "print('Datacubes:')\n",
    "datamodel.datacubes"
   ]
  },
  {
   "cell_type": "code",
   "execution_count": 12,
   "metadata": {
    "execution": {
     "iopub.execute_input": "2022-05-25T12:41:35.210439Z",
     "iopub.status.busy": "2022-05-25T12:41:35.209748Z",
     "iopub.status.idle": "2022-05-25T12:41:35.225982Z",
     "shell.execute_reply": "2022-05-25T12:41:35.221890Z",
     "shell.execute_reply.started": "2022-05-25T12:41:35.210388Z"
    }
   },
   "outputs": [
    {
     "name": "stdout",
     "output_type": "stream",
     "text": [
      "Spectra:\n"
     ]
    },
    {
     "data": {
      "text/plain": [
       "[<Spectrum 'spectral_resolution', release='MPL-11', unit='Angstrom'>,\n",
       " <Spectrum 'spectral_resolution_prepixel', release='MPL-11', unit='Angstrom'>]"
      ]
     },
     "execution_count": 12,
     "metadata": {},
     "output_type": "execute_result"
    }
   ],
   "source": [
    "# see what additional spectral extensions are available\n",
    "print('Spectra:')\n",
    "datamodel.spectra"
   ]
  },
  {
   "cell_type": "markdown",
   "metadata": {},
   "source": [
    "This tells us that this cube has three associated 3D datacubes, ``flux``, ``dispersion``, and ``dispersion_prepixel``, and two associated spectra, ``spectral_resolution`` and ``spectral_resolution_prepixel``, as well as their associated units. The ``description`` attribute provides information on what the extension is.  "
   ]
  },
  {
   "cell_type": "code",
   "execution_count": 13,
   "metadata": {
    "execution": {
     "iopub.execute_input": "2022-05-25T12:41:36.236264Z",
     "iopub.status.busy": "2022-05-25T12:41:36.235508Z",
     "iopub.status.idle": "2022-05-25T12:41:36.250390Z",
     "shell.execute_reply": "2022-05-25T12:41:36.248283Z",
     "shell.execute_reply.started": "2022-05-25T12:41:36.236214Z"
    }
   },
   "outputs": [
    {
     "name": "stdout",
     "output_type": "stream",
     "text": [
      "Flux description: 3D rectified cube\n",
      "Spectral Resolution description: Median spectral resolution as a function of wavelength for the fibers in this IFU\n"
     ]
    }
   ],
   "source": [
    "print('Flux description:', datamodel.datacubes.flux.description)\n",
    "print('Spectral Resolution description:', datamodel.spectra.spectral_resolution.description)"
   ]
  },
  {
   "cell_type": "markdown",
   "metadata": {},
   "source": [
    "The names of each of the datacubes and spectral extensions are available as object attributes and can be used to access the associated data quantity.  Let's access the ``flux`` for our current cube.  "
   ]
  },
  {
   "cell_type": "code",
   "execution_count": 14,
   "metadata": {
    "execution": {
     "iopub.execute_input": "2022-05-25T12:41:37.421228Z",
     "iopub.status.busy": "2022-05-25T12:41:37.420462Z",
     "iopub.status.idle": "2022-05-25T12:41:38.180975Z",
     "shell.execute_reply": "2022-05-25T12:41:38.179030Z",
     "shell.execute_reply.started": "2022-05-25T12:41:37.421178Z"
    }
   },
   "outputs": [
    {
     "name": "stdout",
     "output_type": "stream",
     "text": [
      "[[[0. 0. 0. ... 0. 0. 0.]\n",
      "  [0. 0. 0. ... 0. 0. 0.]\n",
      "  [0. 0. 0. ... 0. 0. 0.]\n",
      "  ...\n",
      "  [0. 0. 0. ... 0. 0. 0.]\n",
      "  [0. 0. 0. ... 0. 0. 0.]\n",
      "  [0. 0. 0. ... 0. 0. 0.]]\n",
      "\n",
      " [[0. 0. 0. ... 0. 0. 0.]\n",
      "  [0. 0. 0. ... 0. 0. 0.]\n",
      "  [0. 0. 0. ... 0. 0. 0.]\n",
      "  ...\n",
      "  [0. 0. 0. ... 0. 0. 0.]\n",
      "  [0. 0. 0. ... 0. 0. 0.]\n",
      "  [0. 0. 0. ... 0. 0. 0.]]\n",
      "\n",
      " [[0. 0. 0. ... 0. 0. 0.]\n",
      "  [0. 0. 0. ... 0. 0. 0.]\n",
      "  [0. 0. 0. ... 0. 0. 0.]\n",
      "  ...\n",
      "  [0. 0. 0. ... 0. 0. 0.]\n",
      "  [0. 0. 0. ... 0. 0. 0.]\n",
      "  [0. 0. 0. ... 0. 0. 0.]]\n",
      "\n",
      " ...\n",
      "\n",
      " [[0. 0. 0. ... 0. 0. 0.]\n",
      "  [0. 0. 0. ... 0. 0. 0.]\n",
      "  [0. 0. 0. ... 0. 0. 0.]\n",
      "  ...\n",
      "  [0. 0. 0. ... 0. 0. 0.]\n",
      "  [0. 0. 0. ... 0. 0. 0.]\n",
      "  [0. 0. 0. ... 0. 0. 0.]]\n",
      "\n",
      " [[0. 0. 0. ... 0. 0. 0.]\n",
      "  [0. 0. 0. ... 0. 0. 0.]\n",
      "  [0. 0. 0. ... 0. 0. 0.]\n",
      "  ...\n",
      "  [0. 0. 0. ... 0. 0. 0.]\n",
      "  [0. 0. 0. ... 0. 0. 0.]\n",
      "  [0. 0. 0. ... 0. 0. 0.]]\n",
      "\n",
      " [[0. 0. 0. ... 0. 0. 0.]\n",
      "  [0. 0. 0. ... 0. 0. 0.]\n",
      "  [0. 0. 0. ... 0. 0. 0.]\n",
      "  ...\n",
      "  [0. 0. 0. ... 0. 0. 0.]\n",
      "  [0. 0. 0. ... 0. 0. 0.]\n",
      "  [0. 0. 0. ... 0. 0. 0.]]] 1e-17 erg / (Angstrom cm2 s spaxel)\n"
     ]
    }
   ],
   "source": [
    "flux = cube.flux\n",
    "print(flux)"
   ]
  },
  {
   "cell_type": "markdown",
   "metadata": {},
   "source": [
    "The flux is represented as a 3D array with units. We can also access the inverse variance and the mask using ``flux.ivar`` and ``flux.mask``, respectively.  Marvin uses [Astropy quantities](https://sdss-marvin.readthedocs.io/en/stable/getting-started.html#marvin-quantities) to represent all internal multidimensional data, e.g. 3-d datacube and 2-d map arrays, or 1-d spectral data.  \n",
    "\n",
    "<a id=\"extract\"></a>\n",
    "### Extracting data\n",
    "All marvin arrays can be sliced to extract subsets of data.  Slices of datacubes produce new datacubes.  Slices of spectra produce new spectra.  A single slice from a datacube extracts a spectrum.  Each spectrum can be easily displayed with its ``plot`` attribute.        "
   ]
  },
  {
   "cell_type": "code",
   "execution_count": 15,
   "metadata": {
    "execution": {
     "iopub.execute_input": "2022-05-25T12:41:38.384117Z",
     "iopub.status.busy": "2022-05-25T12:41:38.383411Z",
     "iopub.status.idle": "2022-05-25T12:41:38.394914Z",
     "shell.execute_reply": "2022-05-25T12:41:38.393095Z",
     "shell.execute_reply.started": "2022-05-25T12:41:38.384066Z"
    }
   },
   "outputs": [
    {
     "data": {
      "text/plain": [
       "(4563, 34, 34)"
      ]
     },
     "execution_count": 15,
     "metadata": {},
     "output_type": "execute_result"
    }
   ],
   "source": [
    "cube.flux.shape"
   ]
  },
  {
   "cell_type": "code",
   "execution_count": 16,
   "metadata": {
    "execution": {
     "iopub.execute_input": "2022-05-25T12:41:39.210528Z",
     "iopub.status.busy": "2022-05-25T12:41:39.209529Z",
     "iopub.status.idle": "2022-05-25T12:41:39.249096Z",
     "shell.execute_reply": "2022-05-25T12:41:39.246795Z",
     "shell.execute_reply.started": "2022-05-25T12:41:39.210475Z"
    }
   },
   "outputs": [
    {
     "name": "stdout",
     "output_type": "stream",
     "text": [
      "[[[-9.93820876e-02 -7.15121105e-02 -7.89452866e-02 ...  5.43163009e-02\n",
      "    6.31108955e-02  6.59798905e-02]\n",
      "  [-5.75637035e-02 -1.42117683e-02  7.46554649e-03 ...  9.48844925e-02\n",
      "    8.10624734e-02  7.58140385e-02]\n",
      "  [ 7.99062662e-03  6.33949339e-02  9.38284919e-02 ...  1.96541667e-01\n",
      "    1.27651587e-01  9.39158425e-02]\n",
      "  ...\n",
      "  [ 9.72499028e-02  1.99625835e-01  2.56450355e-01 ...  3.11387450e-01\n",
      "    1.57728136e-01  4.22539860e-02]\n",
      "  [ 8.18896964e-02  1.48136094e-01  1.90696374e-01 ...  2.51043409e-01\n",
      "    1.69934362e-01  8.70603770e-02]\n",
      "  [ 4.28893529e-02  8.08156654e-02  9.24271718e-02 ...  1.82513535e-01\n",
      "    1.47605971e-01  9.43290964e-02]]\n",
      "\n",
      " [[ 7.58984610e-02  1.35781109e-01  1.52565435e-01 ... -1.12886392e-02\n",
      "   -3.62226507e-03 -2.27341596e-02]\n",
      "  [ 7.60935172e-02  1.43332601e-01  2.03127891e-01 ...  2.33732630e-04\n",
      "    1.63819212e-02  2.48044971e-02]\n",
      "  [ 9.67817083e-02  1.87968075e-01  2.51382113e-01 ...  8.80081952e-02\n",
      "    8.79872292e-02  9.18349400e-02]\n",
      "  ...\n",
      "  [ 1.28787681e-01  2.40487427e-01  3.22154075e-01 ...  2.23609179e-01\n",
      "    1.60379931e-01  9.01109725e-02]\n",
      "  [ 5.50573580e-02  1.71424299e-01  2.80810416e-01 ...  2.03754812e-01\n",
      "    1.98113248e-01  1.52969852e-01]\n",
      "  [ 3.08815651e-02  1.35046601e-01  2.21480682e-01 ...  1.87740475e-01\n",
      "    1.83409914e-01  1.44411609e-01]]\n",
      "\n",
      " [[ 6.56622499e-02  1.49800822e-01  1.82216093e-01 ...  1.09369949e-01\n",
      "    1.52719960e-01  1.21237583e-01]\n",
      "  [ 5.21800742e-02  1.29189789e-01  1.90989345e-01 ...  9.02226567e-02\n",
      "    1.31511599e-01  1.34030461e-01]\n",
      "  [ 6.19699098e-02  1.50975451e-01  2.21252233e-01 ...  1.21991679e-01\n",
      "    1.20440923e-01  1.17079966e-01]\n",
      "  ...\n",
      "  [ 1.24225914e-01  1.93028733e-01  2.85234660e-01 ...  3.00444752e-01\n",
      "    2.54336178e-01  2.27908716e-01]\n",
      "  [ 5.27763925e-02  1.47568047e-01  2.71074474e-01 ...  2.67660201e-01\n",
      "    2.50030220e-01  2.48678669e-01]\n",
      "  [ 1.25212008e-02  1.28484696e-01  2.30985686e-01 ...  2.39749864e-01\n",
      "    2.13250011e-01  1.78458631e-01]]\n",
      "\n",
      " ...\n",
      "\n",
      " [[ 0.00000000e+00  0.00000000e+00  0.00000000e+00 ...  0.00000000e+00\n",
      "    0.00000000e+00  0.00000000e+00]\n",
      "  [ 0.00000000e+00  0.00000000e+00  0.00000000e+00 ...  0.00000000e+00\n",
      "    0.00000000e+00  0.00000000e+00]\n",
      "  [ 0.00000000e+00  0.00000000e+00  0.00000000e+00 ...  0.00000000e+00\n",
      "    0.00000000e+00  0.00000000e+00]\n",
      "  ...\n",
      "  [ 0.00000000e+00  0.00000000e+00  0.00000000e+00 ...  0.00000000e+00\n",
      "    0.00000000e+00  0.00000000e+00]\n",
      "  [ 0.00000000e+00  0.00000000e+00  0.00000000e+00 ...  0.00000000e+00\n",
      "    0.00000000e+00  0.00000000e+00]\n",
      "  [ 0.00000000e+00  0.00000000e+00  0.00000000e+00 ...  0.00000000e+00\n",
      "    0.00000000e+00  0.00000000e+00]]\n",
      "\n",
      " [[ 0.00000000e+00  0.00000000e+00  0.00000000e+00 ...  0.00000000e+00\n",
      "    0.00000000e+00  0.00000000e+00]\n",
      "  [ 0.00000000e+00  0.00000000e+00  0.00000000e+00 ...  0.00000000e+00\n",
      "    0.00000000e+00  0.00000000e+00]\n",
      "  [ 0.00000000e+00  0.00000000e+00  0.00000000e+00 ...  0.00000000e+00\n",
      "    0.00000000e+00  0.00000000e+00]\n",
      "  ...\n",
      "  [ 0.00000000e+00  0.00000000e+00  0.00000000e+00 ...  0.00000000e+00\n",
      "    0.00000000e+00  0.00000000e+00]\n",
      "  [ 0.00000000e+00  0.00000000e+00  0.00000000e+00 ...  0.00000000e+00\n",
      "    0.00000000e+00  0.00000000e+00]\n",
      "  [ 0.00000000e+00  0.00000000e+00  0.00000000e+00 ...  0.00000000e+00\n",
      "    0.00000000e+00  0.00000000e+00]]\n",
      "\n",
      " [[ 0.00000000e+00  0.00000000e+00  0.00000000e+00 ...  0.00000000e+00\n",
      "    0.00000000e+00  0.00000000e+00]\n",
      "  [ 0.00000000e+00  0.00000000e+00  0.00000000e+00 ...  0.00000000e+00\n",
      "    0.00000000e+00  0.00000000e+00]\n",
      "  [ 0.00000000e+00  0.00000000e+00  0.00000000e+00 ...  0.00000000e+00\n",
      "    0.00000000e+00  0.00000000e+00]\n",
      "  ...\n",
      "  [ 0.00000000e+00  0.00000000e+00  0.00000000e+00 ...  0.00000000e+00\n",
      "    0.00000000e+00  0.00000000e+00]\n",
      "  [ 0.00000000e+00  0.00000000e+00  0.00000000e+00 ...  0.00000000e+00\n",
      "    0.00000000e+00  0.00000000e+00]\n",
      "  [ 0.00000000e+00  0.00000000e+00  0.00000000e+00 ...  0.00000000e+00\n",
      "    0.00000000e+00  0.00000000e+00]]] 1e-17 erg / (Angstrom cm2 s spaxel)\n"
     ]
    }
   ],
   "source": [
    "# create a small datacube subset in a 10x10 pixel region around the center of the target\n",
    "central_pixel = int(cube.flux.shape[1]/2)\n",
    "lo = central_pixel - 5\n",
    "hi = central_pixel + 5\n",
    "subset = flux[:, lo:hi, lo:hi]\n",
    "print(subset)"
   ]
  },
  {
   "cell_type": "code",
   "execution_count": 17,
   "metadata": {
    "execution": {
     "iopub.execute_input": "2022-05-25T12:41:39.750199Z",
     "iopub.status.busy": "2022-05-25T12:41:39.749638Z",
     "iopub.status.idle": "2022-05-25T12:41:39.771667Z",
     "shell.execute_reply": "2022-05-25T12:41:39.770078Z",
     "shell.execute_reply.started": "2022-05-25T12:41:39.750150Z"
    }
   },
   "outputs": [
    {
     "name": "stdout",
     "output_type": "stream",
     "text": [
      "[0.5073041 0.4354824 0.4198173 ... 0.        0.        0.       ] 1e-17 erg / (Angstrom cm2 s spaxel)\n"
     ]
    }
   ],
   "source": [
    "# extract a single spectrum and display it\n",
    "spectrum = flux[:, 16, 17]\n",
    "print(spectrum)"
   ]
  },
  {
   "cell_type": "code",
   "execution_count": 18,
   "metadata": {
    "execution": {
     "iopub.execute_input": "2022-05-25T12:41:40.370975Z",
     "iopub.status.busy": "2022-05-25T12:41:40.370272Z",
     "iopub.status.idle": "2022-05-25T12:41:41.598935Z",
     "shell.execute_reply": "2022-05-25T12:41:41.596834Z",
     "shell.execute_reply.started": "2022-05-25T12:41:40.370922Z"
    }
   },
   "outputs": [
    {
     "data": {
      "text/plain": [
       "<AxesSubplot:xlabel='$\\\\mathrm{Wavelength}\\\\,[$$\\\\mathrm{\\\\mathring{A}}$$]$', ylabel='$\\\\mathrm{Flux}\\\\,[$$\\\\mathrm{1 \\\\times 10^{-17}\\\\,erg\\\\,\\\\mathring{A}^{-1}\\\\,s^{-1}\\\\,spaxel^{-1}\\\\,cm^{-2}}$$]$'>"
      ]
     },
     "execution_count": 18,
     "metadata": {},
     "output_type": "execute_result"
    },
    {
     "data": {
      "image/png": "[encoded data removed]",
      "text/plain": [
       "<Figure size 432x288 with 1 Axes>"
      ]
     },
     "metadata": {},
     "output_type": "display_data"
    }
   ],
   "source": [
    "spectrum.plot(show_std=True)"
   ]
  },
  {
   "cell_type": "code",
   "execution_count": 19,
   "metadata": {
    "execution": {
     "iopub.execute_input": "2022-05-25T12:41:42.210158Z",
     "iopub.status.busy": "2022-05-25T12:41:42.209309Z",
     "iopub.status.idle": "2022-05-25T12:41:43.502579Z",
     "shell.execute_reply": "2022-05-25T12:41:43.500700Z",
     "shell.execute_reply.started": "2022-05-25T12:41:42.210104Z"
    }
   },
   "outputs": [
    {
     "data": {
      "text/plain": [
       "<AxesSubplot:xlabel='$\\\\mathrm{Wavelength}\\\\,[$$\\\\mathrm{\\\\mathring{A}}$$]$', ylabel='$\\\\mathrm{Flux}\\\\,[$$\\\\mathrm{1 \\\\times 10^{-17}\\\\,erg\\\\,\\\\mathring{A}^{-1}\\\\,s^{-1}\\\\,spaxel^{-1}\\\\,cm^{-2}}$$]$'>"
      ]
     },
     "execution_count": 19,
     "metadata": {},
     "output_type": "execute_result"
    },
    {
     "data": {
      "image/png": "[encoded data removed]",
      "text/plain": [
       "<Figure size 432x288 with 1 Axes>"
      ]
     },
     "metadata": {},
     "output_type": "display_data"
    }
   ],
   "source": [
    "spaxel = cube[16,16]\n",
    "spaxel\n",
    "spaxel.flux.plot()"
   ]
  },
  {
   "cell_type": "markdown",
   "metadata": {},
   "source": [
    "<a id=\"associates\"></a>\n",
    "### Accessing Associated Objects\n",
    "\n",
    "For a given target galaxy, there are many associated MaNGA Data Products from both the reduction and analysis pipelines.  Marvin seamlessly connects these together so you don't have to access them individually.  Let's access the DAP Maps objects associated with our cube.  To do so we use the ``getMaps`` method on ``cube``.  All instances have ``getXXX`` methods that allow you to access associated data objects for a given target.  "
   ]
  },
  {
   "cell_type": "code",
   "execution_count": 20,
   "metadata": {
    "execution": {
     "iopub.execute_input": "2022-05-25T12:41:43.548427Z",
     "iopub.status.busy": "2022-05-25T12:41:43.547991Z",
     "iopub.status.idle": "2022-05-25T12:41:50.834297Z",
     "shell.execute_reply": "2022-05-25T12:41:50.832309Z",
     "shell.execute_reply.started": "2022-05-25T12:41:43.548382Z"
    }
   },
   "outputs": [
    {
     "data": {
      "text/plain": [
       "<Marvin Maps (plateifu='8485-1901', mode='local', data_origin='db', bintype='HYB10', template='MILESHC-MASTARSSP')>"
      ]
     },
     "execution_count": 20,
     "metadata": {},
     "output_type": "execute_result"
    }
   ],
   "source": [
    "# access the Maps object from our cube\n",
    "maps = cube.getMaps()\n",
    "maps"
   ]
  },
  {
   "cell_type": "markdown",
   "metadata": {},
   "source": [
    "When accessing associated objects, Marvin also smartly determines whether to open the file locally or remotely grab it over the API.  In our case, the **mode** is local and **data_origin** is file.  DAP Maps have different bintypes.  The default binning is **HYB10**, a hybrid binning scheme to S/N~10.  To load a different bintype, use the ``bintype`` keyword argument in the ``cube.getMaps`` method.    \n",
    "\n",
    "A ``Maps`` behaves very similarly to a ``Cube`` and everything we have discussed above will still work. Instead of datacubes and spectra, a ``Maps`` object contains a set of 2D quantities called ``Map``, each one of them representing a different property measured by the DAP. One can get a full list of all the properties available using the datamodel."
   ]
  },
  {
   "cell_type": "code",
   "execution_count": 21,
   "metadata": {
    "execution": {
     "iopub.execute_input": "2022-05-25T12:41:50.884846Z",
     "iopub.status.busy": "2022-05-25T12:41:50.884329Z",
     "iopub.status.idle": "2022-05-25T12:41:51.016287Z",
     "shell.execute_reply": "2022-05-25T12:41:51.014739Z",
     "shell.execute_reply.started": "2022-05-25T12:41:50.884801Z"
    }
   },
   "outputs": [
    {
     "data": {
      "text/plain": [
       "[<Property 'spx_skycoo', channel='on_sky_x', release='3.1.0', unit='arcsec'>,\n",
       " <Property 'spx_skycoo', channel='on_sky_y', release='3.1.0', unit='arcsec'>,\n",
       " <Property 'spx_ellcoo', channel='elliptical_radius', release='3.1.0', unit='arcsec'>,\n",
       " <Property 'spx_ellcoo', channel='r_re', release='3.1.0', unit=''>,\n",
       " <Property 'spx_ellcoo', channel='r_h_kpc', release='3.1.0', unit='kpc / h'>,\n",
       " <Property 'spx_ellcoo', channel='elliptical_azimuth', release='3.1.0', unit='deg'>,\n",
       " <Property 'spx_mflux', channel='None', release='3.1.0', unit='1e-17 erg / (cm2 s spaxel)'>,\n",
       " <Property 'spx_snr', channel='None', release='3.1.0', unit=''>,\n",
       " <Property 'binid', channel='binned_spectra', release='3.1.0', unit=''>,\n",
       " <Property 'binid', channel='stellar_continua', release='3.1.0', unit=''>,\n",
       " <Property 'binid', channel='em_line_moments', release='3.1.0', unit=''>,\n",
       " <Property 'binid', channel='em_line_models', release='3.1.0', unit=''>,\n",
       " <Property 'binid', channel='spectral_indices', release='3.1.0', unit=''>,\n",
       " <Property 'bin_lwskycoo', channel='lum_weighted_on_sky_x', release='3.1.0', unit='arcsec'>,\n",
       " <Property 'bin_lwskycoo', channel='lum_weighted_on_sky_y', release='3.1.0', unit='arcsec'>,\n",
       " <Property 'bin_lwellcoo', channel='lum_weighted_elliptical_radius', release='3.1.0', unit='arcsec'>,\n",
       " <Property 'bin_lwellcoo', channel='r_re', release='3.1.0', unit=''>,\n",
       " <Property 'bin_lwellcoo', channel='r_h_kpc', release='3.1.0', unit='kpc / h'>,\n",
       " <Property 'bin_lwellcoo', channel='lum_weighted_elliptical_azimuth', release='3.1.0', unit='deg'>,\n",
       " <Property 'bin_area', channel='None', release='3.1.0', unit='arcsec2'>,\n",
       " <Property 'bin_farea', channel='None', release='3.1.0', unit=''>,\n",
       " <Property 'bin_mflux', channel='None', release='3.1.0', unit='1e-17 erg / (cm2 s spaxel)'>,\n",
       " <Property 'bin_snr', channel='None', release='3.1.0', unit=''>,\n",
       " <Property 'stellar_vel', channel='None', release='3.1.0', unit='km / s'>,\n",
       " <Property 'stellar_sigma', channel='None', release='3.1.0', unit='km / s'>,\n",
       " <Property 'specindex', channel='cn1', release='3.1.0', unit='mag'>,\n",
       " <Property 'specindex', channel='cn2', release='3.1.0', unit='mag'>,\n",
       " <Property 'specindex', channel='ca4227', release='3.1.0', unit='Angstrom'>,\n",
       " <Property 'specindex', channel='g4300', release='3.1.0', unit='Angstrom'>,\n",
       " <Property 'specindex', channel='fe4383', release='3.1.0', unit='Angstrom'>,\n",
       " <Property 'specindex', channel='ca4455', release='3.1.0', unit='Angstrom'>,\n",
       " <Property 'specindex', channel='fe4531', release='3.1.0', unit='Angstrom'>,\n",
       " <Property 'specindex', channel='c24668', release='3.1.0', unit='Angstrom'>,\n",
       " <Property 'specindex', channel='hb', release='3.1.0', unit='Angstrom'>,\n",
       " <Property 'specindex', channel='fe5015', release='3.1.0', unit='Angstrom'>,\n",
       " <Property 'specindex', channel='mg1', release='3.1.0', unit='mag'>,\n",
       " <Property 'specindex', channel='mg2', release='3.1.0', unit='mag'>,\n",
       " <Property 'specindex', channel='mgb', release='3.1.0', unit='Angstrom'>,\n",
       " <Property 'specindex', channel='fe5270', release='3.1.0', unit='Angstrom'>,\n",
       " <Property 'specindex', channel='fe5335', release='3.1.0', unit='Angstrom'>,\n",
       " <Property 'specindex', channel='fe5406', release='3.1.0', unit='Angstrom'>,\n",
       " <Property 'specindex', channel='fe5709', release='3.1.0', unit='Angstrom'>,\n",
       " <Property 'specindex', channel='fe5782', release='3.1.0', unit='Angstrom'>,\n",
       " <Property 'specindex', channel='nad', release='3.1.0', unit='Angstrom'>,\n",
       " <Property 'specindex', channel='tio1', release='3.1.0', unit='mag'>,\n",
       " <Property 'specindex', channel='tio2', release='3.1.0', unit='mag'>,\n",
       " <Property 'specindex', channel='hdeltaa', release='3.1.0', unit='Angstrom'>,\n",
       " <Property 'specindex', channel='hgammaa', release='3.1.0', unit='Angstrom'>,\n",
       " <Property 'specindex', channel='hdeltaf', release='3.1.0', unit='Angstrom'>,\n",
       " <Property 'specindex', channel='hgammaf', release='3.1.0', unit='Angstrom'>,\n",
       " <Property 'specindex', channel='cahk', release='3.1.0', unit='Angstrom'>,\n",
       " <Property 'specindex', channel='caii1', release='3.1.0', unit='Angstrom'>,\n",
       " <Property 'specindex', channel='caii2', release='3.1.0', unit='Angstrom'>,\n",
       " <Property 'specindex', channel='caii3', release='3.1.0', unit='Angstrom'>,\n",
       " <Property 'specindex', channel='pa17', release='3.1.0', unit='Angstrom'>,\n",
       " <Property 'specindex', channel='pa14', release='3.1.0', unit='Angstrom'>,\n",
       " <Property 'specindex', channel='pa12', release='3.1.0', unit='Angstrom'>,\n",
       " <Property 'specindex', channel='mgicvd', release='3.1.0', unit='Angstrom'>,\n",
       " <Property 'specindex', channel='naicvd', release='3.1.0', unit='Angstrom'>,\n",
       " <Property 'specindex', channel='mgiir', release='3.1.0', unit='Angstrom'>,\n",
       " <Property 'specindex', channel='fehcvd', release='3.1.0', unit='Angstrom'>,\n",
       " <Property 'specindex', channel='nai', release='3.1.0', unit='Angstrom'>,\n",
       " <Property 'specindex', channel='btio', release='3.1.0', unit='mag'>,\n",
       " <Property 'specindex', channel='atio', release='3.1.0', unit='mag'>,\n",
       " <Property 'specindex', channel='cah1', release='3.1.0', unit='mag'>,\n",
       " <Property 'specindex', channel='cah2', release='3.1.0', unit='mag'>,\n",
       " <Property 'specindex', channel='naisdss', release='3.1.0', unit='Angstrom'>,\n",
       " <Property 'specindex', channel='tio2sdss', release='3.1.0', unit='Angstrom'>,\n",
       " <Property 'specindex', channel='d4000', release='3.1.0', unit=''>,\n",
       " <Property 'specindex', channel='dn4000', release='3.1.0', unit=''>,\n",
       " <Property 'specindex', channel='tiocvd', release='3.1.0', unit=''>,\n",
       " <Property 'specindex_corr', channel='cn1', release='3.1.0', unit='mag'>,\n",
       " <Property 'specindex_corr', channel='cn2', release='3.1.0', unit='mag'>,\n",
       " <Property 'specindex_corr', channel='ca4227', release='3.1.0', unit='Angstrom'>,\n",
       " <Property 'specindex_corr', channel='g4300', release='3.1.0', unit='Angstrom'>,\n",
       " <Property 'specindex_corr', channel='fe4383', release='3.1.0', unit='Angstrom'>,\n",
       " <Property 'specindex_corr', channel='ca4455', release='3.1.0', unit='Angstrom'>,\n",
       " <Property 'specindex_corr', channel='fe4531', release='3.1.0', unit='Angstrom'>,\n",
       " <Property 'specindex_corr', channel='c24668', release='3.1.0', unit='Angstrom'>,\n",
       " <Property 'specindex_corr', channel='hb', release='3.1.0', unit='Angstrom'>,\n",
       " <Property 'specindex_corr', channel='fe5015', release='3.1.0', unit='Angstrom'>,\n",
       " <Property 'specindex_corr', channel='mg1', release='3.1.0', unit='mag'>,\n",
       " <Property 'specindex_corr', channel='mg2', release='3.1.0', unit='mag'>,\n",
       " <Property 'specindex_corr', channel='mgb', release='3.1.0', unit='Angstrom'>,\n",
       " <Property 'specindex_corr', channel='fe5270', release='3.1.0', unit='Angstrom'>,\n",
       " <Property 'specindex_corr', channel='fe5335', release='3.1.0', unit='Angstrom'>,\n",
       " <Property 'specindex_corr', channel='fe5406', release='3.1.0', unit='Angstrom'>,\n",
       " <Property 'specindex_corr', channel='fe5709', release='3.1.0', unit='Angstrom'>,\n",
       " <Property 'specindex_corr', channel='fe5782', release='3.1.0', unit='Angstrom'>,\n",
       " <Property 'specindex_corr', channel='nad', release='3.1.0', unit='Angstrom'>,\n",
       " <Property 'specindex_corr', channel='tio1', release='3.1.0', unit='mag'>,\n",
       " <Property 'specindex_corr', channel='tio2', release='3.1.0', unit='mag'>,\n",
       " <Property 'specindex_corr', channel='hdeltaa', release='3.1.0', unit='Angstrom'>,\n",
       " <Property 'specindex_corr', channel='hgammaa', release='3.1.0', unit='Angstrom'>,\n",
       " <Property 'specindex_corr', channel='hdeltaf', release='3.1.0', unit='Angstrom'>,\n",
       " <Property 'specindex_corr', channel='hgammaf', release='3.1.0', unit='Angstrom'>,\n",
       " <Property 'specindex_corr', channel='cahk', release='3.1.0', unit='Angstrom'>,\n",
       " <Property 'specindex_corr', channel='caii1', release='3.1.0', unit='Angstrom'>,\n",
       " <Property 'specindex_corr', channel='caii2', release='3.1.0', unit='Angstrom'>,\n",
       " <Property 'specindex_corr', channel='caii3', release='3.1.0', unit='Angstrom'>,\n",
       " <Property 'specindex_corr', channel='pa17', release='3.1.0', unit='Angstrom'>,\n",
       " <Property 'specindex_corr', channel='pa14', release='3.1.0', unit='Angstrom'>,\n",
       " <Property 'specindex_corr', channel='pa12', release='3.1.0', unit='Angstrom'>,\n",
       " <Property 'specindex_corr', channel='mgicvd', release='3.1.0', unit='Angstrom'>,\n",
       " <Property 'specindex_corr', channel='naicvd', release='3.1.0', unit='Angstrom'>,\n",
       " <Property 'specindex_corr', channel='mgiir', release='3.1.0', unit='Angstrom'>,\n",
       " <Property 'specindex_corr', channel='fehcvd', release='3.1.0', unit='Angstrom'>,\n",
       " <Property 'specindex_corr', channel='nai', release='3.1.0', unit='Angstrom'>,\n",
       " <Property 'specindex_corr', channel='btio', release='3.1.0', unit='mag'>,\n",
       " <Property 'specindex_corr', channel='atio', release='3.1.0', unit='mag'>,\n",
       " <Property 'specindex_corr', channel='cah1', release='3.1.0', unit='mag'>,\n",
       " <Property 'specindex_corr', channel='cah2', release='3.1.0', unit='mag'>,\n",
       " <Property 'specindex_corr', channel='naisdss', release='3.1.0', unit='Angstrom'>,\n",
       " <Property 'specindex_corr', channel='tio2sdss', release='3.1.0', unit='Angstrom'>,\n",
       " <Property 'specindex_corr', channel='d4000', release='3.1.0', unit=''>,\n",
       " <Property 'specindex_corr', channel='dn4000', release='3.1.0', unit=''>,\n",
       " <Property 'specindex_corr', channel='tiocvd', release='3.1.0', unit=''>,\n",
       " <Property 'emline_sflux', channel='oiid_3728', release='3.1.0', unit='1e-17 erg / (cm2 s spaxel)'>,\n",
       " <Property 'emline_sflux', channel='oii_3729', release='3.1.0', unit='1e-17 erg / (cm2 s spaxel)'>,\n",
       " <Property 'emline_sflux', channel='h12_3751', release='3.1.0', unit='1e-17 erg / (cm2 s spaxel)'>,\n",
       " <Property 'emline_sflux', channel='h11_3771', release='3.1.0', unit='1e-17 erg / (cm2 s spaxel)'>,\n",
       " <Property 'emline_sflux', channel='hthe_3798', release='3.1.0', unit='1e-17 erg / (cm2 s spaxel)'>,\n",
       " <Property 'emline_sflux', channel='heta_3836', release='3.1.0', unit='1e-17 erg / (cm2 s spaxel)'>,\n",
       " <Property 'emline_sflux', channel='neiii_3869', release='3.1.0', unit='1e-17 erg / (cm2 s spaxel)'>,\n",
       " <Property 'emline_sflux', channel='hei_3889', release='3.1.0', unit='1e-17 erg / (cm2 s spaxel)'>,\n",
       " <Property 'emline_sflux', channel='hzet_3890', release='3.1.0', unit='1e-17 erg / (cm2 s spaxel)'>,\n",
       " <Property 'emline_sflux', channel='neiii_3968', release='3.1.0', unit='1e-17 erg / (cm2 s spaxel)'>,\n",
       " <Property 'emline_sflux', channel='heps_3971', release='3.1.0', unit='1e-17 erg / (cm2 s spaxel)'>,\n",
       " <Property 'emline_sflux', channel='hdel_4102', release='3.1.0', unit='1e-17 erg / (cm2 s spaxel)'>,\n",
       " <Property 'emline_sflux', channel='hgam_4341', release='3.1.0', unit='1e-17 erg / (cm2 s spaxel)'>,\n",
       " <Property 'emline_sflux', channel='heii_4687', release='3.1.0', unit='1e-17 erg / (cm2 s spaxel)'>,\n",
       " <Property 'emline_sflux', channel='hb_4862', release='3.1.0', unit='1e-17 erg / (cm2 s spaxel)'>,\n",
       " <Property 'emline_sflux', channel='oiii_4960', release='3.1.0', unit='1e-17 erg / (cm2 s spaxel)'>,\n",
       " <Property 'emline_sflux', channel='oiii_5008', release='3.1.0', unit='1e-17 erg / (cm2 s spaxel)'>,\n",
       " <Property 'emline_sflux', channel='ni_5199', release='3.1.0', unit='1e-17 erg / (cm2 s spaxel)'>,\n",
       " <Property 'emline_sflux', channel='ni_5201', release='3.1.0', unit='1e-17 erg / (cm2 s spaxel)'>,\n",
       " <Property 'emline_sflux', channel='hei_5877', release='3.1.0', unit='1e-17 erg / (cm2 s spaxel)'>,\n",
       " <Property 'emline_sflux', channel='oi_6302', release='3.1.0', unit='1e-17 erg / (cm2 s spaxel)'>,\n",
       " <Property 'emline_sflux', channel='oi_6365', release='3.1.0', unit='1e-17 erg / (cm2 s spaxel)'>,\n",
       " <Property 'emline_sflux', channel='nii_6549', release='3.1.0', unit='1e-17 erg / (cm2 s spaxel)'>,\n",
       " <Property 'emline_sflux', channel='ha_6564', release='3.1.0', unit='1e-17 erg / (cm2 s spaxel)'>,\n",
       " <Property 'emline_sflux', channel='nii_6585', release='3.1.0', unit='1e-17 erg / (cm2 s spaxel)'>,\n",
       " <Property 'emline_sflux', channel='sii_6718', release='3.1.0', unit='1e-17 erg / (cm2 s spaxel)'>,\n",
       " <Property 'emline_sflux', channel='sii_6732', release='3.1.0', unit='1e-17 erg / (cm2 s spaxel)'>,\n",
       " <Property 'emline_sflux', channel='hei_7067', release='3.1.0', unit='1e-17 erg / (cm2 s spaxel)'>,\n",
       " <Property 'emline_sflux', channel='ariii_7137', release='3.1.0', unit='1e-17 erg / (cm2 s spaxel)'>,\n",
       " <Property 'emline_sflux', channel='ariii_7753', release='3.1.0', unit='1e-17 erg / (cm2 s spaxel)'>,\n",
       " <Property 'emline_sflux', channel='peta_9017', release='3.1.0', unit='1e-17 erg / (cm2 s spaxel)'>,\n",
       " <Property 'emline_sflux', channel='siii_9071', release='3.1.0', unit='1e-17 erg / (cm2 s spaxel)'>,\n",
       " <Property 'emline_sflux', channel='pzet_9231', release='3.1.0', unit='1e-17 erg / (cm2 s spaxel)'>,\n",
       " <Property 'emline_sflux', channel='siii_9533', release='3.1.0', unit='1e-17 erg / (cm2 s spaxel)'>,\n",
       " <Property 'emline_sflux', channel='peps_9548', release='3.1.0', unit='1e-17 erg / (cm2 s spaxel)'>,\n",
       " <Property 'emline_sew', channel='oiid_3728', release='3.1.0', unit='Angstrom'>,\n",
       " <Property 'emline_sew', channel='oii_3729', release='3.1.0', unit='Angstrom'>,\n",
       " <Property 'emline_sew', channel='h12_3751', release='3.1.0', unit='Angstrom'>,\n",
       " <Property 'emline_sew', channel='h11_3771', release='3.1.0', unit='Angstrom'>,\n",
       " <Property 'emline_sew', channel='hthe_3798', release='3.1.0', unit='Angstrom'>,\n",
       " <Property 'emline_sew', channel='heta_3836', release='3.1.0', unit='Angstrom'>,\n",
       " <Property 'emline_sew', channel='neiii_3869', release='3.1.0', unit='Angstrom'>,\n",
       " <Property 'emline_sew', channel='hei_3889', release='3.1.0', unit='Angstrom'>,\n",
       " <Property 'emline_sew', channel='hzet_3890', release='3.1.0', unit='Angstrom'>,\n",
       " <Property 'emline_sew', channel='neiii_3968', release='3.1.0', unit='Angstrom'>,\n",
       " <Property 'emline_sew', channel='heps_3971', release='3.1.0', unit='Angstrom'>,\n",
       " <Property 'emline_sew', channel='hdel_4102', release='3.1.0', unit='Angstrom'>,\n",
       " <Property 'emline_sew', channel='hgam_4341', release='3.1.0', unit='Angstrom'>,\n",
       " <Property 'emline_sew', channel='heii_4687', release='3.1.0', unit='Angstrom'>,\n",
       " <Property 'emline_sew', channel='hb_4862', release='3.1.0', unit='Angstrom'>,\n",
       " <Property 'emline_sew', channel='oiii_4960', release='3.1.0', unit='Angstrom'>,\n",
       " <Property 'emline_sew', channel='oiii_5008', release='3.1.0', unit='Angstrom'>,\n",
       " <Property 'emline_sew', channel='ni_5199', release='3.1.0', unit='Angstrom'>,\n",
       " <Property 'emline_sew', channel='ni_5201', release='3.1.0', unit='Angstrom'>,\n",
       " <Property 'emline_sew', channel='hei_5877', release='3.1.0', unit='Angstrom'>,\n",
       " <Property 'emline_sew', channel='oi_6302', release='3.1.0', unit='Angstrom'>,\n",
       " <Property 'emline_sew', channel='oi_6365', release='3.1.0', unit='Angstrom'>,\n",
       " <Property 'emline_sew', channel='nii_6549', release='3.1.0', unit='Angstrom'>,\n",
       " <Property 'emline_sew', channel='ha_6564', release='3.1.0', unit='Angstrom'>,\n",
       " <Property 'emline_sew', channel='nii_6585', release='3.1.0', unit='Angstrom'>,\n",
       " <Property 'emline_sew', channel='sii_6718', release='3.1.0', unit='Angstrom'>,\n",
       " <Property 'emline_sew', channel='sii_6732', release='3.1.0', unit='Angstrom'>,\n",
       " <Property 'emline_sew', channel='hei_7067', release='3.1.0', unit='Angstrom'>,\n",
       " <Property 'emline_sew', channel='ariii_7137', release='3.1.0', unit='Angstrom'>,\n",
       " <Property 'emline_sew', channel='ariii_7753', release='3.1.0', unit='Angstrom'>,\n",
       " <Property 'emline_sew', channel='peta_9017', release='3.1.0', unit='Angstrom'>,\n",
       " <Property 'emline_sew', channel='siii_9071', release='3.1.0', unit='Angstrom'>,\n",
       " <Property 'emline_sew', channel='pzet_9231', release='3.1.0', unit='Angstrom'>,\n",
       " <Property 'emline_sew', channel='siii_9533', release='3.1.0', unit='Angstrom'>,\n",
       " <Property 'emline_sew', channel='peps_9548', release='3.1.0', unit='Angstrom'>,\n",
       " <Property 'emline_gflux', channel='oii_3727', release='3.1.0', unit='1e-17 erg / (cm2 s spaxel)'>,\n",
       " <Property 'emline_gflux', channel='oii_3729', release='3.1.0', unit='1e-17 erg / (cm2 s spaxel)'>,\n",
       " <Property 'emline_gflux', channel='h12_3751', release='3.1.0', unit='1e-17 erg / (cm2 s spaxel)'>,\n",
       " <Property 'emline_gflux', channel='h11_3771', release='3.1.0', unit='1e-17 erg / (cm2 s spaxel)'>,\n",
       " <Property 'emline_gflux', channel='hthe_3798', release='3.1.0', unit='1e-17 erg / (cm2 s spaxel)'>,\n",
       " <Property 'emline_gflux', channel='heta_3836', release='3.1.0', unit='1e-17 erg / (cm2 s spaxel)'>,\n",
       " <Property 'emline_gflux', channel='neiii_3869', release='3.1.0', unit='1e-17 erg / (cm2 s spaxel)'>,\n",
       " <Property 'emline_gflux', channel='hei_3889', release='3.1.0', unit='1e-17 erg / (cm2 s spaxel)'>,\n",
       " <Property 'emline_gflux', channel='hzet_3890', release='3.1.0', unit='1e-17 erg / (cm2 s spaxel)'>,\n",
       " <Property 'emline_gflux', channel='neiii_3968', release='3.1.0', unit='1e-17 erg / (cm2 s spaxel)'>,\n",
       " <Property 'emline_gflux', channel='heps_3971', release='3.1.0', unit='1e-17 erg / (cm2 s spaxel)'>,\n",
       " <Property 'emline_gflux', channel='hdel_4102', release='3.1.0', unit='1e-17 erg / (cm2 s spaxel)'>,\n",
       " <Property 'emline_gflux', channel='hgam_4341', release='3.1.0', unit='1e-17 erg / (cm2 s spaxel)'>,\n",
       " <Property 'emline_gflux', channel='heii_4687', release='3.1.0', unit='1e-17 erg / (cm2 s spaxel)'>,\n",
       " <Property 'emline_gflux', channel='hb_4862', release='3.1.0', unit='1e-17 erg / (cm2 s spaxel)'>,\n",
       " <Property 'emline_gflux', channel='oiii_4960', release='3.1.0', unit='1e-17 erg / (cm2 s spaxel)'>,\n",
       " <Property 'emline_gflux', channel='oiii_5008', release='3.1.0', unit='1e-17 erg / (cm2 s spaxel)'>,\n",
       " <Property 'emline_gflux', channel='ni_5199', release='3.1.0', unit='1e-17 erg / (cm2 s spaxel)'>,\n",
       " <Property 'emline_gflux', channel='ni_5201', release='3.1.0', unit='1e-17 erg / (cm2 s spaxel)'>,\n",
       " <Property 'emline_gflux', channel='hei_5877', release='3.1.0', unit='1e-17 erg / (cm2 s spaxel)'>,\n",
       " <Property 'emline_gflux', channel='oi_6302', release='3.1.0', unit='1e-17 erg / (cm2 s spaxel)'>,\n",
       " <Property 'emline_gflux', channel='oi_6365', release='3.1.0', unit='1e-17 erg / (cm2 s spaxel)'>,\n",
       " <Property 'emline_gflux', channel='nii_6549', release='3.1.0', unit='1e-17 erg / (cm2 s spaxel)'>,\n",
       " <Property 'emline_gflux', channel='ha_6564', release='3.1.0', unit='1e-17 erg / (cm2 s spaxel)'>,\n",
       " <Property 'emline_gflux', channel='nii_6585', release='3.1.0', unit='1e-17 erg / (cm2 s spaxel)'>,\n",
       " <Property 'emline_gflux', channel='sii_6718', release='3.1.0', unit='1e-17 erg / (cm2 s spaxel)'>,\n",
       " <Property 'emline_gflux', channel='sii_6732', release='3.1.0', unit='1e-17 erg / (cm2 s spaxel)'>,\n",
       " <Property 'emline_gflux', channel='hei_7067', release='3.1.0', unit='1e-17 erg / (cm2 s spaxel)'>,\n",
       " <Property 'emline_gflux', channel='ariii_7137', release='3.1.0', unit='1e-17 erg / (cm2 s spaxel)'>,\n",
       " <Property 'emline_gflux', channel='ariii_7753', release='3.1.0', unit='1e-17 erg / (cm2 s spaxel)'>,\n",
       " <Property 'emline_gflux', channel='peta_9017', release='3.1.0', unit='1e-17 erg / (cm2 s spaxel)'>,\n",
       " <Property 'emline_gflux', channel='siii_9071', release='3.1.0', unit='1e-17 erg / (cm2 s spaxel)'>,\n",
       " <Property 'emline_gflux', channel='pzet_9231', release='3.1.0', unit='1e-17 erg / (cm2 s spaxel)'>,\n",
       " <Property 'emline_gflux', channel='siii_9533', release='3.1.0', unit='1e-17 erg / (cm2 s spaxel)'>,\n",
       " <Property 'emline_gflux', channel='peps_9548', release='3.1.0', unit='1e-17 erg / (cm2 s spaxel)'>,\n",
       " <Property 'emline_gvel', channel='oii_3727', release='3.1.0', unit='km / s'>,\n",
       " <Property 'emline_gvel', channel='oii_3729', release='3.1.0', unit='km / s'>,\n",
       " <Property 'emline_gvel', channel='h12_3751', release='3.1.0', unit='km / s'>,\n",
       " <Property 'emline_gvel', channel='h11_3771', release='3.1.0', unit='km / s'>,\n",
       " <Property 'emline_gvel', channel='hthe_3798', release='3.1.0', unit='km / s'>,\n",
       " <Property 'emline_gvel', channel='heta_3836', release='3.1.0', unit='km / s'>,\n",
       " <Property 'emline_gvel', channel='neiii_3869', release='3.1.0', unit='km / s'>,\n",
       " <Property 'emline_gvel', channel='hei_3889', release='3.1.0', unit='km / s'>,\n",
       " <Property 'emline_gvel', channel='hzet_3890', release='3.1.0', unit='km / s'>,\n",
       " <Property 'emline_gvel', channel='neiii_3968', release='3.1.0', unit='km / s'>,\n",
       " <Property 'emline_gvel', channel='heps_3971', release='3.1.0', unit='km / s'>,\n",
       " <Property 'emline_gvel', channel='hdel_4102', release='3.1.0', unit='km / s'>,\n",
       " <Property 'emline_gvel', channel='hgam_4341', release='3.1.0', unit='km / s'>,\n",
       " <Property 'emline_gvel', channel='heii_4687', release='3.1.0', unit='km / s'>,\n",
       " <Property 'emline_gvel', channel='hb_4862', release='3.1.0', unit='km / s'>,\n",
       " <Property 'emline_gvel', channel='oiii_4960', release='3.1.0', unit='km / s'>,\n",
       " <Property 'emline_gvel', channel='oiii_5008', release='3.1.0', unit='km / s'>,\n",
       " <Property 'emline_gvel', channel='ni_5199', release='3.1.0', unit='km / s'>,\n",
       " <Property 'emline_gvel', channel='ni_5201', release='3.1.0', unit='km / s'>,\n",
       " <Property 'emline_gvel', channel='hei_5877', release='3.1.0', unit='km / s'>,\n",
       " <Property 'emline_gvel', channel='oi_6302', release='3.1.0', unit='km / s'>,\n",
       " <Property 'emline_gvel', channel='oi_6365', release='3.1.0', unit='km / s'>,\n",
       " <Property 'emline_gvel', channel='nii_6549', release='3.1.0', unit='km / s'>,\n",
       " <Property 'emline_gvel', channel='ha_6564', release='3.1.0', unit='km / s'>,\n",
       " <Property 'emline_gvel', channel='nii_6585', release='3.1.0', unit='km / s'>,\n",
       " <Property 'emline_gvel', channel='sii_6718', release='3.1.0', unit='km / s'>,\n",
       " <Property 'emline_gvel', channel='sii_6732', release='3.1.0', unit='km / s'>,\n",
       " <Property 'emline_gvel', channel='hei_7067', release='3.1.0', unit='km / s'>,\n",
       " <Property 'emline_gvel', channel='ariii_7137', release='3.1.0', unit='km / s'>,\n",
       " <Property 'emline_gvel', channel='ariii_7753', release='3.1.0', unit='km / s'>,\n",
       " <Property 'emline_gvel', channel='peta_9017', release='3.1.0', unit='km / s'>,\n",
       " <Property 'emline_gvel', channel='siii_9071', release='3.1.0', unit='km / s'>,\n",
       " <Property 'emline_gvel', channel='pzet_9231', release='3.1.0', unit='km / s'>,\n",
       " <Property 'emline_gvel', channel='siii_9533', release='3.1.0', unit='km / s'>,\n",
       " <Property 'emline_gvel', channel='peps_9548', release='3.1.0', unit='km / s'>,\n",
       " <Property 'emline_gew', channel='oii_3727', release='3.1.0', unit='Angstrom'>,\n",
       " <Property 'emline_gew', channel='oii_3729', release='3.1.0', unit='Angstrom'>,\n",
       " <Property 'emline_gew', channel='h12_3751', release='3.1.0', unit='Angstrom'>,\n",
       " <Property 'emline_gew', channel='h11_3771', release='3.1.0', unit='Angstrom'>,\n",
       " <Property 'emline_gew', channel='hthe_3798', release='3.1.0', unit='Angstrom'>,\n",
       " <Property 'emline_gew', channel='heta_3836', release='3.1.0', unit='Angstrom'>,\n",
       " <Property 'emline_gew', channel='neiii_3869', release='3.1.0', unit='Angstrom'>,\n",
       " <Property 'emline_gew', channel='hei_3889', release='3.1.0', unit='Angstrom'>,\n",
       " <Property 'emline_gew', channel='hzet_3890', release='3.1.0', unit='Angstrom'>,\n",
       " <Property 'emline_gew', channel='neiii_3968', release='3.1.0', unit='Angstrom'>,\n",
       " <Property 'emline_gew', channel='heps_3971', release='3.1.0', unit='Angstrom'>,\n",
       " <Property 'emline_gew', channel='hdel_4102', release='3.1.0', unit='Angstrom'>,\n",
       " <Property 'emline_gew', channel='hgam_4341', release='3.1.0', unit='Angstrom'>,\n",
       " <Property 'emline_gew', channel='heii_4687', release='3.1.0', unit='Angstrom'>,\n",
       " <Property 'emline_gew', channel='hb_4862', release='3.1.0', unit='Angstrom'>,\n",
       " <Property 'emline_gew', channel='oiii_4960', release='3.1.0', unit='Angstrom'>,\n",
       " <Property 'emline_gew', channel='oiii_5008', release='3.1.0', unit='Angstrom'>,\n",
       " <Property 'emline_gew', channel='ni_5199', release='3.1.0', unit='Angstrom'>,\n",
       " <Property 'emline_gew', channel='ni_5201', release='3.1.0', unit='Angstrom'>,\n",
       " <Property 'emline_gew', channel='hei_5877', release='3.1.0', unit='Angstrom'>,\n",
       " <Property 'emline_gew', channel='oi_6302', release='3.1.0', unit='Angstrom'>,\n",
       " <Property 'emline_gew', channel='oi_6365', release='3.1.0', unit='Angstrom'>,\n",
       " <Property 'emline_gew', channel='nii_6549', release='3.1.0', unit='Angstrom'>,\n",
       " <Property 'emline_gew', channel='ha_6564', release='3.1.0', unit='Angstrom'>,\n",
       " <Property 'emline_gew', channel='nii_6585', release='3.1.0', unit='Angstrom'>,\n",
       " <Property 'emline_gew', channel='sii_6718', release='3.1.0', unit='Angstrom'>,\n",
       " <Property 'emline_gew', channel='sii_6732', release='3.1.0', unit='Angstrom'>,\n",
       " <Property 'emline_gew', channel='hei_7067', release='3.1.0', unit='Angstrom'>,\n",
       " <Property 'emline_gew', channel='ariii_7137', release='3.1.0', unit='Angstrom'>,\n",
       " <Property 'emline_gew', channel='ariii_7753', release='3.1.0', unit='Angstrom'>,\n",
       " <Property 'emline_gew', channel='peta_9017', release='3.1.0', unit='Angstrom'>,\n",
       " <Property 'emline_gew', channel='siii_9071', release='3.1.0', unit='Angstrom'>,\n",
       " <Property 'emline_gew', channel='pzet_9231', release='3.1.0', unit='Angstrom'>,\n",
       " <Property 'emline_gew', channel='siii_9533', release='3.1.0', unit='Angstrom'>,\n",
       " <Property 'emline_gew', channel='peps_9548', release='3.1.0', unit='Angstrom'>,\n",
       " <Property 'emline_gsigma', channel='oii_3727', release='3.1.0', unit='km / s'>,\n",
       " <Property 'emline_gsigma', channel='oii_3729', release='3.1.0', unit='km / s'>,\n",
       " <Property 'emline_gsigma', channel='h12_3751', release='3.1.0', unit='km / s'>,\n",
       " <Property 'emline_gsigma', channel='h11_3771', release='3.1.0', unit='km / s'>,\n",
       " <Property 'emline_gsigma', channel='hthe_3798', release='3.1.0', unit='km / s'>,\n",
       " <Property 'emline_gsigma', channel='heta_3836', release='3.1.0', unit='km / s'>,\n",
       " <Property 'emline_gsigma', channel='neiii_3869', release='3.1.0', unit='km / s'>,\n",
       " <Property 'emline_gsigma', channel='hei_3889', release='3.1.0', unit='km / s'>,\n",
       " <Property 'emline_gsigma', channel='hzet_3890', release='3.1.0', unit='km / s'>,\n",
       " <Property 'emline_gsigma', channel='neiii_3968', release='3.1.0', unit='km / s'>,\n",
       " <Property 'emline_gsigma', channel='heps_3971', release='3.1.0', unit='km / s'>,\n",
       " <Property 'emline_gsigma', channel='hdel_4102', release='3.1.0', unit='km / s'>,\n",
       " <Property 'emline_gsigma', channel='hgam_4341', release='3.1.0', unit='km / s'>,\n",
       " <Property 'emline_gsigma', channel='heii_4687', release='3.1.0', unit='km / s'>,\n",
       " <Property 'emline_gsigma', channel='hb_4862', release='3.1.0', unit='km / s'>,\n",
       " <Property 'emline_gsigma', channel='oiii_4960', release='3.1.0', unit='km / s'>,\n",
       " <Property 'emline_gsigma', channel='oiii_5008', release='3.1.0', unit='km / s'>,\n",
       " <Property 'emline_gsigma', channel='ni_5199', release='3.1.0', unit='km / s'>,\n",
       " <Property 'emline_gsigma', channel='ni_5201', release='3.1.0', unit='km / s'>,\n",
       " <Property 'emline_gsigma', channel='hei_5877', release='3.1.0', unit='km / s'>,\n",
       " <Property 'emline_gsigma', channel='oi_6302', release='3.1.0', unit='km / s'>,\n",
       " <Property 'emline_gsigma', channel='oi_6365', release='3.1.0', unit='km / s'>,\n",
       " <Property 'emline_gsigma', channel='nii_6549', release='3.1.0', unit='km / s'>,\n",
       " <Property 'emline_gsigma', channel='ha_6564', release='3.1.0', unit='km / s'>,\n",
       " <Property 'emline_gsigma', channel='nii_6585', release='3.1.0', unit='km / s'>,\n",
       " <Property 'emline_gsigma', channel='sii_6718', release='3.1.0', unit='km / s'>,\n",
       " <Property 'emline_gsigma', channel='sii_6732', release='3.1.0', unit='km / s'>,\n",
       " <Property 'emline_gsigma', channel='hei_7067', release='3.1.0', unit='km / s'>,\n",
       " <Property 'emline_gsigma', channel='ariii_7137', release='3.1.0', unit='km / s'>,\n",
       " <Property 'emline_gsigma', channel='ariii_7753', release='3.1.0', unit='km / s'>,\n",
       " <Property 'emline_gsigma', channel='peta_9017', release='3.1.0', unit='km / s'>,\n",
       " <Property 'emline_gsigma', channel='siii_9071', release='3.1.0', unit='km / s'>,\n",
       " <Property 'emline_gsigma', channel='pzet_9231', release='3.1.0', unit='km / s'>,\n",
       " <Property 'emline_gsigma', channel='siii_9533', release='3.1.0', unit='km / s'>,\n",
       " <Property 'emline_gsigma', channel='peps_9548', release='3.1.0', unit='km / s'>,\n",
       " <Property 'emline_instsigma', channel='oii_3727', release='3.1.0', unit='km / s'>,\n",
       " <Property 'emline_instsigma', channel='oii_3729', release='3.1.0', unit='km / s'>,\n",
       " <Property 'emline_instsigma', channel='h12_3751', release='3.1.0', unit='km / s'>,\n",
       " <Property 'emline_instsigma', channel='h11_3771', release='3.1.0', unit='km / s'>,\n",
       " <Property 'emline_instsigma', channel='hthe_3798', release='3.1.0', unit='km / s'>,\n",
       " <Property 'emline_instsigma', channel='heta_3836', release='3.1.0', unit='km / s'>,\n",
       " <Property 'emline_instsigma', channel='neiii_3869', release='3.1.0', unit='km / s'>,\n",
       " <Property 'emline_instsigma', channel='hei_3889', release='3.1.0', unit='km / s'>,\n",
       " <Property 'emline_instsigma', channel='hzet_3890', release='3.1.0', unit='km / s'>,\n",
       " <Property 'emline_instsigma', channel='neiii_3968', release='3.1.0', unit='km / s'>,\n",
       " <Property 'emline_instsigma', channel='heps_3971', release='3.1.0', unit='km / s'>,\n",
       " <Property 'emline_instsigma', channel='hdel_4102', release='3.1.0', unit='km / s'>,\n",
       " <Property 'emline_instsigma', channel='hgam_4341', release='3.1.0', unit='km / s'>,\n",
       " <Property 'emline_instsigma', channel='heii_4687', release='3.1.0', unit='km / s'>,\n",
       " <Property 'emline_instsigma', channel='hb_4862', release='3.1.0', unit='km / s'>,\n",
       " <Property 'emline_instsigma', channel='oiii_4960', release='3.1.0', unit='km / s'>,\n",
       " <Property 'emline_instsigma', channel='oiii_5008', release='3.1.0', unit='km / s'>,\n",
       " <Property 'emline_instsigma', channel='ni_5199', release='3.1.0', unit='km / s'>,\n",
       " <Property 'emline_instsigma', channel='ni_5201', release='3.1.0', unit='km / s'>,\n",
       " <Property 'emline_instsigma', channel='hei_5877', release='3.1.0', unit='km / s'>,\n",
       " <Property 'emline_instsigma', channel='oi_6302', release='3.1.0', unit='km / s'>,\n",
       " <Property 'emline_instsigma', channel='oi_6365', release='3.1.0', unit='km / s'>,\n",
       " <Property 'emline_instsigma', channel='nii_6549', release='3.1.0', unit='km / s'>,\n",
       " <Property 'emline_instsigma', channel='ha_6564', release='3.1.0', unit='km / s'>,\n",
       " <Property 'emline_instsigma', channel='nii_6585', release='3.1.0', unit='km / s'>,\n",
       " <Property 'emline_instsigma', channel='sii_6718', release='3.1.0', unit='km / s'>,\n",
       " <Property 'emline_instsigma', channel='sii_6732', release='3.1.0', unit='km / s'>,\n",
       " <Property 'emline_instsigma', channel='hei_7067', release='3.1.0', unit='km / s'>,\n",
       " <Property 'emline_instsigma', channel='ariii_7137', release='3.1.0', unit='km / s'>,\n",
       " <Property 'emline_instsigma', channel='ariii_7753', release='3.1.0', unit='km / s'>,\n",
       " <Property 'emline_instsigma', channel='peta_9017', release='3.1.0', unit='km / s'>,\n",
       " <Property 'emline_instsigma', channel='siii_9071', release='3.1.0', unit='km / s'>,\n",
       " <Property 'emline_instsigma', channel='pzet_9231', release='3.1.0', unit='km / s'>,\n",
       " <Property 'emline_instsigma', channel='siii_9533', release='3.1.0', unit='km / s'>,\n",
       " <Property 'emline_instsigma', channel='peps_9548', release='3.1.0', unit='km / s'>,\n",
       " <Property 'emline_ga', channel='oii_3727', release='3.1.0', unit='1e-17 erg / (Angstrom cm2 s spaxel)'>,\n",
       " <Property 'emline_ga', channel='oii_3729', release='3.1.0', unit='1e-17 erg / (Angstrom cm2 s spaxel)'>,\n",
       " <Property 'emline_ga', channel='h12_3751', release='3.1.0', unit='1e-17 erg / (Angstrom cm2 s spaxel)'>,\n",
       " <Property 'emline_ga', channel='h11_3771', release='3.1.0', unit='1e-17 erg / (Angstrom cm2 s spaxel)'>,\n",
       " <Property 'emline_ga', channel='hthe_3798', release='3.1.0', unit='1e-17 erg / (Angstrom cm2 s spaxel)'>,\n",
       " <Property 'emline_ga', channel='heta_3836', release='3.1.0', unit='1e-17 erg / (Angstrom cm2 s spaxel)'>,\n",
       " <Property 'emline_ga', channel='neiii_3869', release='3.1.0', unit='1e-17 erg / (Angstrom cm2 s spaxel)'>,\n",
       " <Property 'emline_ga', channel='hei_3889', release='3.1.0', unit='1e-17 erg / (Angstrom cm2 s spaxel)'>,\n",
       " <Property 'emline_ga', channel='hzet_3890', release='3.1.0', unit='1e-17 erg / (Angstrom cm2 s spaxel)'>,\n",
       " <Property 'emline_ga', channel='neiii_3968', release='3.1.0', unit='1e-17 erg / (Angstrom cm2 s spaxel)'>,\n",
       " <Property 'emline_ga', channel='heps_3971', release='3.1.0', unit='1e-17 erg / (Angstrom cm2 s spaxel)'>,\n",
       " <Property 'emline_ga', channel='hdel_4102', release='3.1.0', unit='1e-17 erg / (Angstrom cm2 s spaxel)'>,\n",
       " <Property 'emline_ga', channel='hgam_4341', release='3.1.0', unit='1e-17 erg / (Angstrom cm2 s spaxel)'>,\n",
       " <Property 'emline_ga', channel='heii_4687', release='3.1.0', unit='1e-17 erg / (Angstrom cm2 s spaxel)'>,\n",
       " <Property 'emline_ga', channel='hb_4862', release='3.1.0', unit='1e-17 erg / (Angstrom cm2 s spaxel)'>,\n",
       " <Property 'emline_ga', channel='oiii_4960', release='3.1.0', unit='1e-17 erg / (Angstrom cm2 s spaxel)'>,\n",
       " <Property 'emline_ga', channel='oiii_5008', release='3.1.0', unit='1e-17 erg / (Angstrom cm2 s spaxel)'>,\n",
       " <Property 'emline_ga', channel='ni_5199', release='3.1.0', unit='1e-17 erg / (Angstrom cm2 s spaxel)'>,\n",
       " <Property 'emline_ga', channel='ni_5201', release='3.1.0', unit='1e-17 erg / (Angstrom cm2 s spaxel)'>,\n",
       " <Property 'emline_ga', channel='hei_5877', release='3.1.0', unit='1e-17 erg / (Angstrom cm2 s spaxel)'>,\n",
       " <Property 'emline_ga', channel='oi_6302', release='3.1.0', unit='1e-17 erg / (Angstrom cm2 s spaxel)'>,\n",
       " <Property 'emline_ga', channel='oi_6365', release='3.1.0', unit='1e-17 erg / (Angstrom cm2 s spaxel)'>,\n",
       " <Property 'emline_ga', channel='nii_6549', release='3.1.0', unit='1e-17 erg / (Angstrom cm2 s spaxel)'>,\n",
       " <Property 'emline_ga', channel='ha_6564', release='3.1.0', unit='1e-17 erg / (Angstrom cm2 s spaxel)'>,\n",
       " <Property 'emline_ga', channel='nii_6585', release='3.1.0', unit='1e-17 erg / (Angstrom cm2 s spaxel)'>,\n",
       " <Property 'emline_ga', channel='sii_6718', release='3.1.0', unit='1e-17 erg / (Angstrom cm2 s spaxel)'>,\n",
       " <Property 'emline_ga', channel='sii_6732', release='3.1.0', unit='1e-17 erg / (Angstrom cm2 s spaxel)'>,\n",
       " <Property 'emline_ga', channel='hei_7067', release='3.1.0', unit='1e-17 erg / (Angstrom cm2 s spaxel)'>,\n",
       " <Property 'emline_ga', channel='ariii_7137', release='3.1.0', unit='1e-17 erg / (Angstrom cm2 s spaxel)'>,\n",
       " <Property 'emline_ga', channel='ariii_7753', release='3.1.0', unit='1e-17 erg / (Angstrom cm2 s spaxel)'>,\n",
       " <Property 'emline_ga', channel='peta_9017', release='3.1.0', unit='1e-17 erg / (Angstrom cm2 s spaxel)'>,\n",
       " <Property 'emline_ga', channel='siii_9071', release='3.1.0', unit='1e-17 erg / (Angstrom cm2 s spaxel)'>,\n",
       " <Property 'emline_ga', channel='pzet_9231', release='3.1.0', unit='1e-17 erg / (Angstrom cm2 s spaxel)'>,\n",
       " <Property 'emline_ga', channel='siii_9533', release='3.1.0', unit='1e-17 erg / (Angstrom cm2 s spaxel)'>,\n",
       " <Property 'emline_ga', channel='peps_9548', release='3.1.0', unit='1e-17 erg / (Angstrom cm2 s spaxel)'>,\n",
       " <Property 'emline_ganr', channel='oii_3727', release='3.1.0', unit=''>,\n",
       " <Property 'emline_ganr', channel='oii_3729', release='3.1.0', unit=''>,\n",
       " <Property 'emline_ganr', channel='h12_3751', release='3.1.0', unit=''>,\n",
       " <Property 'emline_ganr', channel='h11_3771', release='3.1.0', unit=''>,\n",
       " <Property 'emline_ganr', channel='hthe_3798', release='3.1.0', unit=''>,\n",
       " <Property 'emline_ganr', channel='heta_3836', release='3.1.0', unit=''>,\n",
       " <Property 'emline_ganr', channel='neiii_3869', release='3.1.0', unit=''>,\n",
       " <Property 'emline_ganr', channel='hei_3889', release='3.1.0', unit=''>,\n",
       " <Property 'emline_ganr', channel='hzet_3890', release='3.1.0', unit=''>,\n",
       " <Property 'emline_ganr', channel='neiii_3968', release='3.1.0', unit=''>,\n",
       " <Property 'emline_ganr', channel='heps_3971', release='3.1.0', unit=''>,\n",
       " <Property 'emline_ganr', channel='hdel_4102', release='3.1.0', unit=''>,\n",
       " <Property 'emline_ganr', channel='hgam_4341', release='3.1.0', unit=''>,\n",
       " <Property 'emline_ganr', channel='heii_4687', release='3.1.0', unit=''>,\n",
       " <Property 'emline_ganr', channel='hb_4862', release='3.1.0', unit=''>,\n",
       " <Property 'emline_ganr', channel='oiii_4960', release='3.1.0', unit=''>,\n",
       " <Property 'emline_ganr', channel='oiii_5008', release='3.1.0', unit=''>,\n",
       " <Property 'emline_ganr', channel='ni_5199', release='3.1.0', unit=''>,\n",
       " <Property 'emline_ganr', channel='ni_5201', release='3.1.0', unit=''>,\n",
       " <Property 'emline_ganr', channel='hei_5877', release='3.1.0', unit=''>,\n",
       " <Property 'emline_ganr', channel='oi_6302', release='3.1.0', unit=''>,\n",
       " <Property 'emline_ganr', channel='oi_6365', release='3.1.0', unit=''>,\n",
       " <Property 'emline_ganr', channel='nii_6549', release='3.1.0', unit=''>,\n",
       " <Property 'emline_ganr', channel='ha_6564', release='3.1.0', unit=''>,\n",
       " <Property 'emline_ganr', channel='nii_6585', release='3.1.0', unit=''>,\n",
       " <Property 'emline_ganr', channel='sii_6718', release='3.1.0', unit=''>,\n",
       " <Property 'emline_ganr', channel='sii_6732', release='3.1.0', unit=''>,\n",
       " <Property 'emline_ganr', channel='hei_7067', release='3.1.0', unit=''>,\n",
       " <Property 'emline_ganr', channel='ariii_7137', release='3.1.0', unit=''>,\n",
       " <Property 'emline_ganr', channel='ariii_7753', release='3.1.0', unit=''>,\n",
       " <Property 'emline_ganr', channel='peta_9017', release='3.1.0', unit=''>,\n",
       " <Property 'emline_ganr', channel='siii_9071', release='3.1.0', unit=''>,\n",
       " <Property 'emline_ganr', channel='pzet_9231', release='3.1.0', unit=''>,\n",
       " <Property 'emline_ganr', channel='siii_9533', release='3.1.0', unit=''>,\n",
       " <Property 'emline_ganr', channel='peps_9548', release='3.1.0', unit=''>,\n",
       " <Property 'emline_lfom', channel='oii_3727', release='3.1.0', unit=''>,\n",
       " <Property 'emline_lfom', channel='oii_3729', release='3.1.0', unit=''>,\n",
       " <Property 'emline_lfom', channel='h12_3751', release='3.1.0', unit=''>,\n",
       " <Property 'emline_lfom', channel='h11_3771', release='3.1.0', unit=''>,\n",
       " <Property 'emline_lfom', channel='hthe_3798', release='3.1.0', unit=''>,\n",
       " <Property 'emline_lfom', channel='heta_3836', release='3.1.0', unit=''>,\n",
       " <Property 'emline_lfom', channel='neiii_3869', release='3.1.0', unit=''>,\n",
       " <Property 'emline_lfom', channel='hei_3889', release='3.1.0', unit=''>,\n",
       " <Property 'emline_lfom', channel='hzet_3890', release='3.1.0', unit=''>,\n",
       " <Property 'emline_lfom', channel='neiii_3968', release='3.1.0', unit=''>,\n",
       " <Property 'emline_lfom', channel='heps_3971', release='3.1.0', unit=''>,\n",
       " <Property 'emline_lfom', channel='hdel_4102', release='3.1.0', unit=''>,\n",
       " <Property 'emline_lfom', channel='hgam_4341', release='3.1.0', unit=''>,\n",
       " <Property 'emline_lfom', channel='heii_4687', release='3.1.0', unit=''>,\n",
       " <Property 'emline_lfom', channel='hb_4862', release='3.1.0', unit=''>,\n",
       " <Property 'emline_lfom', channel='oiii_4960', release='3.1.0', unit=''>,\n",
       " <Property 'emline_lfom', channel='oiii_5008', release='3.1.0', unit=''>,\n",
       " <Property 'emline_lfom', channel='ni_5199', release='3.1.0', unit=''>,\n",
       " <Property 'emline_lfom', channel='ni_5201', release='3.1.0', unit=''>,\n",
       " <Property 'emline_lfom', channel='hei_5877', release='3.1.0', unit=''>,\n",
       " <Property 'emline_lfom', channel='oi_6302', release='3.1.0', unit=''>,\n",
       " <Property 'emline_lfom', channel='oi_6365', release='3.1.0', unit=''>,\n",
       " <Property 'emline_lfom', channel='nii_6549', release='3.1.0', unit=''>,\n",
       " <Property 'emline_lfom', channel='ha_6564', release='3.1.0', unit=''>,\n",
       " <Property 'emline_lfom', channel='nii_6585', release='3.1.0', unit=''>,\n",
       " <Property 'emline_lfom', channel='sii_6718', release='3.1.0', unit=''>,\n",
       " <Property 'emline_lfom', channel='sii_6732', release='3.1.0', unit=''>,\n",
       " <Property 'emline_lfom', channel='hei_7067', release='3.1.0', unit=''>,\n",
       " <Property 'emline_lfom', channel='ariii_7137', release='3.1.0', unit=''>,\n",
       " <Property 'emline_lfom', channel='ariii_7753', release='3.1.0', unit=''>,\n",
       " <Property 'emline_lfom', channel='peta_9017', release='3.1.0', unit=''>,\n",
       " <Property 'emline_lfom', channel='siii_9071', release='3.1.0', unit=''>,\n",
       " <Property 'emline_lfom', channel='pzet_9231', release='3.1.0', unit=''>,\n",
       " <Property 'emline_lfom', channel='siii_9533', release='3.1.0', unit=''>,\n",
       " <Property 'emline_lfom', channel='peps_9548', release='3.1.0', unit=''>,\n",
       " <Property 'emline_fom', channel='rms', release='3.1.0', unit=''>,\n",
       " <Property 'emline_fom', channel='frms', release='3.1.0', unit=''>,\n",
       " <Property 'emline_fom', channel='rchi2', release='3.1.0', unit=''>,\n",
       " <Property 'emline_fom', channel='fresid_68th_percentile', release='3.1.0', unit=''>,\n",
       " <Property 'emline_fom', channel='fresid_99th_percentile', release='3.1.0', unit=''>,\n",
       " <Property 'emline_fom', channel='fresid_max', release='3.1.0', unit=''>,\n",
       " <Property 'emline_fom', channel='per_pix_chi_68th_percentile', release='3.1.0', unit=''>,\n",
       " <Property 'emline_fom', channel='per_pix_chi_99th_percentile', release='3.1.0', unit=''>,\n",
       " <Property 'emline_fom', channel='per_pix_chi_max', release='3.1.0', unit=''>,\n",
       " <Property 'stellar_fom', channel='rms', release='3.1.0', unit=''>,\n",
       " <Property 'stellar_fom', channel='frms', release='3.1.0', unit=''>,\n",
       " <Property 'stellar_fom', channel='rchi2', release='3.1.0', unit=''>,\n",
       " <Property 'stellar_fom', channel='fresid_68th_percentile', release='3.1.0', unit=''>,\n",
       " <Property 'stellar_fom', channel='fresid_99th_percentile', release='3.1.0', unit=''>,\n",
       " <Property 'stellar_fom', channel='fresid_max', release='3.1.0', unit=''>,\n",
       " <Property 'stellar_fom', channel='per_pix_chi_68th_percentile', release='3.1.0', unit=''>,\n",
       " <Property 'stellar_fom', channel='per_pix_chi_99th_percentile', release='3.1.0', unit=''>,\n",
       " <Property 'stellar_fom', channel='per_pix_chi_max', release='3.1.0', unit=''>,\n",
       " <Property 'stellar_sigmacorr', channel='resolution_difference', release='3.1.0', unit='km / s'>,\n",
       " <Property 'stellar_sigmacorr', channel='fit', release='3.1.0', unit='km / s'>,\n",
       " <Property 'emline_sew_cnt', channel='oiid_3728', release='3.1.0', unit='1e-17 erg / (Angstrom cm2 s spaxel)'>,\n",
       " <Property 'emline_sew_cnt', channel='oii_3729', release='3.1.0', unit='1e-17 erg / (Angstrom cm2 s spaxel)'>,\n",
       " <Property 'emline_sew_cnt', channel='h12_3751', release='3.1.0', unit='1e-17 erg / (Angstrom cm2 s spaxel)'>,\n",
       " <Property 'emline_sew_cnt', channel='h11_3771', release='3.1.0', unit='1e-17 erg / (Angstrom cm2 s spaxel)'>,\n",
       " <Property 'emline_sew_cnt', channel='hthe_3798', release='3.1.0', unit='1e-17 erg / (Angstrom cm2 s spaxel)'>,\n",
       " <Property 'emline_sew_cnt', channel='heta_3836', release='3.1.0', unit='1e-17 erg / (Angstrom cm2 s spaxel)'>,\n",
       " <Property 'emline_sew_cnt', channel='neiii_3869', release='3.1.0', unit='1e-17 erg / (Angstrom cm2 s spaxel)'>,\n",
       " <Property 'emline_sew_cnt', channel='hei_3889', release='3.1.0', unit='1e-17 erg / (Angstrom cm2 s spaxel)'>,\n",
       " <Property 'emline_sew_cnt', channel='hzet_3890', release='3.1.0', unit='1e-17 erg / (Angstrom cm2 s spaxel)'>,\n",
       " <Property 'emline_sew_cnt', channel='neiii_3968', release='3.1.0', unit='1e-17 erg / (Angstrom cm2 s spaxel)'>,\n",
       " <Property 'emline_sew_cnt', channel='heps_3971', release='3.1.0', unit='1e-17 erg / (Angstrom cm2 s spaxel)'>,\n",
       " <Property 'emline_sew_cnt', channel='hdel_4102', release='3.1.0', unit='1e-17 erg / (Angstrom cm2 s spaxel)'>,\n",
       " <Property 'emline_sew_cnt', channel='hgam_4341', release='3.1.0', unit='1e-17 erg / (Angstrom cm2 s spaxel)'>,\n",
       " <Property 'emline_sew_cnt', channel='heii_4687', release='3.1.0', unit='1e-17 erg / (Angstrom cm2 s spaxel)'>,\n",
       " <Property 'emline_sew_cnt', channel='hb_4862', release='3.1.0', unit='1e-17 erg / (Angstrom cm2 s spaxel)'>,\n",
       " <Property 'emline_sew_cnt', channel='oiii_4960', release='3.1.0', unit='1e-17 erg / (Angstrom cm2 s spaxel)'>,\n",
       " <Property 'emline_sew_cnt', channel='oiii_5008', release='3.1.0', unit='1e-17 erg / (Angstrom cm2 s spaxel)'>,\n",
       " <Property 'emline_sew_cnt', channel='ni_5199', release='3.1.0', unit='1e-17 erg / (Angstrom cm2 s spaxel)'>,\n",
       " <Property 'emline_sew_cnt', channel='ni_5201', release='3.1.0', unit='1e-17 erg / (Angstrom cm2 s spaxel)'>,\n",
       " <Property 'emline_sew_cnt', channel='hei_5877', release='3.1.0', unit='1e-17 erg / (Angstrom cm2 s spaxel)'>,\n",
       " <Property 'emline_sew_cnt', channel='oi_6302', release='3.1.0', unit='1e-17 erg / (Angstrom cm2 s spaxel)'>,\n",
       " <Property 'emline_sew_cnt', channel='oi_6365', release='3.1.0', unit='1e-17 erg / (Angstrom cm2 s spaxel)'>,\n",
       " <Property 'emline_sew_cnt', channel='nii_6549', release='3.1.0', unit='1e-17 erg / (Angstrom cm2 s spaxel)'>,\n",
       " <Property 'emline_sew_cnt', channel='ha_6564', release='3.1.0', unit='1e-17 erg / (Angstrom cm2 s spaxel)'>,\n",
       " <Property 'emline_sew_cnt', channel='nii_6585', release='3.1.0', unit='1e-17 erg / (Angstrom cm2 s spaxel)'>,\n",
       " <Property 'emline_sew_cnt', channel='sii_6718', release='3.1.0', unit='1e-17 erg / (Angstrom cm2 s spaxel)'>,\n",
       " <Property 'emline_sew_cnt', channel='sii_6732', release='3.1.0', unit='1e-17 erg / (Angstrom cm2 s spaxel)'>,\n",
       " <Property 'emline_sew_cnt', channel='hei_7067', release='3.1.0', unit='1e-17 erg / (Angstrom cm2 s spaxel)'>,\n",
       " <Property 'emline_sew_cnt', channel='ariii_7137', release='3.1.0', unit='1e-17 erg / (Angstrom cm2 s spaxel)'>,\n",
       " <Property 'emline_sew_cnt', channel='ariii_7753', release='3.1.0', unit='1e-17 erg / (Angstrom cm2 s spaxel)'>,\n",
       " <Property 'emline_sew_cnt', channel='peta_9017', release='3.1.0', unit='1e-17 erg / (Angstrom cm2 s spaxel)'>,\n",
       " <Property 'emline_sew_cnt', channel='siii_9071', release='3.1.0', unit='1e-17 erg / (Angstrom cm2 s spaxel)'>,\n",
       " <Property 'emline_sew_cnt', channel='pzet_9231', release='3.1.0', unit='1e-17 erg / (Angstrom cm2 s spaxel)'>,\n",
       " <Property 'emline_sew_cnt', channel='siii_9533', release='3.1.0', unit='1e-17 erg / (Angstrom cm2 s spaxel)'>,\n",
       " <Property 'emline_sew_cnt', channel='peps_9548', release='3.1.0', unit='1e-17 erg / (Angstrom cm2 s spaxel)'>,\n",
       " <Property 'emline_gew_cnt', channel='oii_3727', release='3.1.0', unit='1e-17 erg / (Angstrom cm2 s spaxel)'>,\n",
       " <Property 'emline_gew_cnt', channel='oii_3729', release='3.1.0', unit='1e-17 erg / (Angstrom cm2 s spaxel)'>,\n",
       " <Property 'emline_gew_cnt', channel='h12_3751', release='3.1.0', unit='1e-17 erg / (Angstrom cm2 s spaxel)'>,\n",
       " <Property 'emline_gew_cnt', channel='h11_3771', release='3.1.0', unit='1e-17 erg / (Angstrom cm2 s spaxel)'>,\n",
       " <Property 'emline_gew_cnt', channel='hthe_3798', release='3.1.0', unit='1e-17 erg / (Angstrom cm2 s spaxel)'>,\n",
       " <Property 'emline_gew_cnt', channel='heta_3836', release='3.1.0', unit='1e-17 erg / (Angstrom cm2 s spaxel)'>,\n",
       " <Property 'emline_gew_cnt', channel='neiii_3869', release='3.1.0', unit='1e-17 erg / (Angstrom cm2 s spaxel)'>,\n",
       " <Property 'emline_gew_cnt', channel='hei_3889', release='3.1.0', unit='1e-17 erg / (Angstrom cm2 s spaxel)'>,\n",
       " <Property 'emline_gew_cnt', channel='hzet_3890', release='3.1.0', unit='1e-17 erg / (Angstrom cm2 s spaxel)'>,\n",
       " <Property 'emline_gew_cnt', channel='neiii_3968', release='3.1.0', unit='1e-17 erg / (Angstrom cm2 s spaxel)'>,\n",
       " <Property 'emline_gew_cnt', channel='heps_3971', release='3.1.0', unit='1e-17 erg / (Angstrom cm2 s spaxel)'>,\n",
       " <Property 'emline_gew_cnt', channel='hdel_4102', release='3.1.0', unit='1e-17 erg / (Angstrom cm2 s spaxel)'>,\n",
       " <Property 'emline_gew_cnt', channel='hgam_4341', release='3.1.0', unit='1e-17 erg / (Angstrom cm2 s spaxel)'>,\n",
       " <Property 'emline_gew_cnt', channel='heii_4687', release='3.1.0', unit='1e-17 erg / (Angstrom cm2 s spaxel)'>,\n",
       " <Property 'emline_gew_cnt', channel='hb_4862', release='3.1.0', unit='1e-17 erg / (Angstrom cm2 s spaxel)'>,\n",
       " <Property 'emline_gew_cnt', channel='oiii_4960', release='3.1.0', unit='1e-17 erg / (Angstrom cm2 s spaxel)'>,\n",
       " <Property 'emline_gew_cnt', channel='oiii_5008', release='3.1.0', unit='1e-17 erg / (Angstrom cm2 s spaxel)'>,\n",
       " <Property 'emline_gew_cnt', channel='ni_5199', release='3.1.0', unit='1e-17 erg / (Angstrom cm2 s spaxel)'>,\n",
       " <Property 'emline_gew_cnt', channel='ni_5201', release='3.1.0', unit='1e-17 erg / (Angstrom cm2 s spaxel)'>,\n",
       " <Property 'emline_gew_cnt', channel='hei_5877', release='3.1.0', unit='1e-17 erg / (Angstrom cm2 s spaxel)'>,\n",
       " <Property 'emline_gew_cnt', channel='oi_6302', release='3.1.0', unit='1e-17 erg / (Angstrom cm2 s spaxel)'>,\n",
       " <Property 'emline_gew_cnt', channel='oi_6365', release='3.1.0', unit='1e-17 erg / (Angstrom cm2 s spaxel)'>,\n",
       " <Property 'emline_gew_cnt', channel='nii_6549', release='3.1.0', unit='1e-17 erg / (Angstrom cm2 s spaxel)'>,\n",
       " <Property 'emline_gew_cnt', channel='ha_6564', release='3.1.0', unit='1e-17 erg / (Angstrom cm2 s spaxel)'>,\n",
       " <Property 'emline_gew_cnt', channel='nii_6585', release='3.1.0', unit='1e-17 erg / (Angstrom cm2 s spaxel)'>,\n",
       " <Property 'emline_gew_cnt', channel='sii_6718', release='3.1.0', unit='1e-17 erg / (Angstrom cm2 s spaxel)'>,\n",
       " <Property 'emline_gew_cnt', channel='sii_6732', release='3.1.0', unit='1e-17 erg / (Angstrom cm2 s spaxel)'>,\n",
       " <Property 'emline_gew_cnt', channel='hei_7067', release='3.1.0', unit='1e-17 erg / (Angstrom cm2 s spaxel)'>,\n",
       " <Property 'emline_gew_cnt', channel='ariii_7137', release='3.1.0', unit='1e-17 erg / (Angstrom cm2 s spaxel)'>,\n",
       " <Property 'emline_gew_cnt', channel='ariii_7753', release='3.1.0', unit='1e-17 erg / (Angstrom cm2 s spaxel)'>,\n",
       " <Property 'emline_gew_cnt', channel='peta_9017', release='3.1.0', unit='1e-17 erg / (Angstrom cm2 s spaxel)'>,\n",
       " <Property 'emline_gew_cnt', channel='siii_9071', release='3.1.0', unit='1e-17 erg / (Angstrom cm2 s spaxel)'>,\n",
       " <Property 'emline_gew_cnt', channel='pzet_9231', release='3.1.0', unit='1e-17 erg / (Angstrom cm2 s spaxel)'>,\n",
       " <Property 'emline_gew_cnt', channel='siii_9533', release='3.1.0', unit='1e-17 erg / (Angstrom cm2 s spaxel)'>,\n",
       " <Property 'emline_gew_cnt', channel='peps_9548', release='3.1.0', unit='1e-17 erg / (Angstrom cm2 s spaxel)'>,\n",
       " <Property 'specindex_model', channel='cn1', release='3.1.0', unit='mag'>,\n",
       " <Property 'specindex_model', channel='cn2', release='3.1.0', unit='mag'>,\n",
       " <Property 'specindex_model', channel='ca4227', release='3.1.0', unit='Angstrom'>,\n",
       " <Property 'specindex_model', channel='g4300', release='3.1.0', unit='Angstrom'>,\n",
       " <Property 'specindex_model', channel='fe4383', release='3.1.0', unit='Angstrom'>,\n",
       " <Property 'specindex_model', channel='ca4455', release='3.1.0', unit='Angstrom'>,\n",
       " <Property 'specindex_model', channel='fe4531', release='3.1.0', unit='Angstrom'>,\n",
       " <Property 'specindex_model', channel='c24668', release='3.1.0', unit='Angstrom'>,\n",
       " <Property 'specindex_model', channel='hb', release='3.1.0', unit='Angstrom'>,\n",
       " <Property 'specindex_model', channel='fe5015', release='3.1.0', unit='Angstrom'>,\n",
       " <Property 'specindex_model', channel='mg1', release='3.1.0', unit='mag'>,\n",
       " <Property 'specindex_model', channel='mg2', release='3.1.0', unit='mag'>,\n",
       " <Property 'specindex_model', channel='mgb', release='3.1.0', unit='Angstrom'>,\n",
       " <Property 'specindex_model', channel='fe5270', release='3.1.0', unit='Angstrom'>,\n",
       " <Property 'specindex_model', channel='fe5335', release='3.1.0', unit='Angstrom'>,\n",
       " <Property 'specindex_model', channel='fe5406', release='3.1.0', unit='Angstrom'>,\n",
       " <Property 'specindex_model', channel='fe5709', release='3.1.0', unit='Angstrom'>,\n",
       " <Property 'specindex_model', channel='fe5782', release='3.1.0', unit='Angstrom'>,\n",
       " <Property 'specindex_model', channel='nad', release='3.1.0', unit='Angstrom'>,\n",
       " <Property 'specindex_model', channel='tio1', release='3.1.0', unit='mag'>,\n",
       " <Property 'specindex_model', channel='tio2', release='3.1.0', unit='mag'>,\n",
       " <Property 'specindex_model', channel='hdeltaa', release='3.1.0', unit='Angstrom'>,\n",
       " <Property 'specindex_model', channel='hgammaa', release='3.1.0', unit='Angstrom'>,\n",
       " <Property 'specindex_model', channel='hdeltaf', release='3.1.0', unit='Angstrom'>,\n",
       " <Property 'specindex_model', channel='hgammaf', release='3.1.0', unit='Angstrom'>,\n",
       " <Property 'specindex_model', channel='cahk', release='3.1.0', unit='Angstrom'>,\n",
       " <Property 'specindex_model', channel='caii1', release='3.1.0', unit='Angstrom'>,\n",
       " <Property 'specindex_model', channel='caii2', release='3.1.0', unit='Angstrom'>,\n",
       " <Property 'specindex_model', channel='caii3', release='3.1.0', unit='Angstrom'>,\n",
       " <Property 'specindex_model', channel='pa17', release='3.1.0', unit='Angstrom'>,\n",
       " <Property 'specindex_model', channel='pa14', release='3.1.0', unit='Angstrom'>,\n",
       " <Property 'specindex_model', channel='pa12', release='3.1.0', unit='Angstrom'>,\n",
       " <Property 'specindex_model', channel='mgicvd', release='3.1.0', unit='Angstrom'>,\n",
       " <Property 'specindex_model', channel='naicvd', release='3.1.0', unit='Angstrom'>,\n",
       " <Property 'specindex_model', channel='mgiir', release='3.1.0', unit='Angstrom'>,\n",
       " <Property 'specindex_model', channel='fehcvd', release='3.1.0', unit='Angstrom'>,\n",
       " <Property 'specindex_model', channel='nai', release='3.1.0', unit='Angstrom'>,\n",
       " <Property 'specindex_model', channel='btio', release='3.1.0', unit='mag'>,\n",
       " <Property 'specindex_model', channel='atio', release='3.1.0', unit='mag'>,\n",
       " <Property 'specindex_model', channel='cah1', release='3.1.0', unit='mag'>,\n",
       " <Property 'specindex_model', channel='cah2', release='3.1.0', unit='mag'>,\n",
       " <Property 'specindex_model', channel='naisdss', release='3.1.0', unit='Angstrom'>,\n",
       " <Property 'specindex_model', channel='tio2sdss', release='3.1.0', unit='Angstrom'>,\n",
       " <Property 'specindex_model', channel='d4000', release='3.1.0', unit=''>,\n",
       " <Property 'specindex_model', channel='dn4000', release='3.1.0', unit=''>,\n",
       " <Property 'specindex_model', channel='tiocvd', release='3.1.0', unit=''>,\n",
       " <Property 'specindex_bf', channel='cn1', release='3.1.0', unit='mag'>,\n",
       " <Property 'specindex_bf', channel='cn2', release='3.1.0', unit='mag'>,\n",
       " <Property 'specindex_bf', channel='ca4227', release='3.1.0', unit='Angstrom'>,\n",
       " <Property 'specindex_bf', channel='g4300', release='3.1.0', unit='Angstrom'>,\n",
       " <Property 'specindex_bf', channel='fe4383', release='3.1.0', unit='Angstrom'>,\n",
       " <Property 'specindex_bf', channel='ca4455', release='3.1.0', unit='Angstrom'>,\n",
       " <Property 'specindex_bf', channel='fe4531', release='3.1.0', unit='Angstrom'>,\n",
       " <Property 'specindex_bf', channel='c24668', release='3.1.0', unit='Angstrom'>,\n",
       " <Property 'specindex_bf', channel='hb', release='3.1.0', unit='Angstrom'>,\n",
       " <Property 'specindex_bf', channel='fe5015', release='3.1.0', unit='Angstrom'>,\n",
       " <Property 'specindex_bf', channel='mg1', release='3.1.0', unit='mag'>,\n",
       " <Property 'specindex_bf', channel='mg2', release='3.1.0', unit='mag'>,\n",
       " <Property 'specindex_bf', channel='mgb', release='3.1.0', unit='Angstrom'>,\n",
       " <Property 'specindex_bf', channel='fe5270', release='3.1.0', unit='Angstrom'>,\n",
       " <Property 'specindex_bf', channel='fe5335', release='3.1.0', unit='Angstrom'>,\n",
       " <Property 'specindex_bf', channel='fe5406', release='3.1.0', unit='Angstrom'>,\n",
       " <Property 'specindex_bf', channel='fe5709', release='3.1.0', unit='Angstrom'>,\n",
       " <Property 'specindex_bf', channel='fe5782', release='3.1.0', unit='Angstrom'>,\n",
       " <Property 'specindex_bf', channel='nad', release='3.1.0', unit='Angstrom'>,\n",
       " <Property 'specindex_bf', channel='tio1', release='3.1.0', unit='mag'>,\n",
       " <Property 'specindex_bf', channel='tio2', release='3.1.0', unit='mag'>,\n",
       " <Property 'specindex_bf', channel='hdeltaa', release='3.1.0', unit='Angstrom'>,\n",
       " <Property 'specindex_bf', channel='hgammaa', release='3.1.0', unit='Angstrom'>,\n",
       " <Property 'specindex_bf', channel='hdeltaf', release='3.1.0', unit='Angstrom'>,\n",
       " <Property 'specindex_bf', channel='hgammaf', release='3.1.0', unit='Angstrom'>,\n",
       " <Property 'specindex_bf', channel='cahk', release='3.1.0', unit='Angstrom'>,\n",
       " <Property 'specindex_bf', channel='caii1', release='3.1.0', unit='Angstrom'>,\n",
       " <Property 'specindex_bf', channel='caii2', release='3.1.0', unit='Angstrom'>,\n",
       " <Property 'specindex_bf', channel='caii3', release='3.1.0', unit='Angstrom'>,\n",
       " <Property 'specindex_bf', channel='pa17', release='3.1.0', unit='Angstrom'>,\n",
       " <Property 'specindex_bf', channel='pa14', release='3.1.0', unit='Angstrom'>,\n",
       " <Property 'specindex_bf', channel='pa12', release='3.1.0', unit='Angstrom'>,\n",
       " <Property 'specindex_bf', channel='mgicvd', release='3.1.0', unit='Angstrom'>,\n",
       " <Property 'specindex_bf', channel='naicvd', release='3.1.0', unit='Angstrom'>,\n",
       " <Property 'specindex_bf', channel='mgiir', release='3.1.0', unit='Angstrom'>,\n",
       " <Property 'specindex_bf', channel='fehcvd', release='3.1.0', unit='Angstrom'>,\n",
       " <Property 'specindex_bf', channel='nai', release='3.1.0', unit='Angstrom'>,\n",
       " <Property 'specindex_bf', channel='btio', release='3.1.0', unit='mag'>,\n",
       " <Property 'specindex_bf', channel='atio', release='3.1.0', unit='mag'>,\n",
       " <Property 'specindex_bf', channel='cah1', release='3.1.0', unit='mag'>,\n",
       " <Property 'specindex_bf', channel='cah2', release='3.1.0', unit='mag'>,\n",
       " <Property 'specindex_bf', channel='naisdss', release='3.1.0', unit='Angstrom'>,\n",
       " <Property 'specindex_bf', channel='tio2sdss', release='3.1.0', unit='Angstrom'>,\n",
       " <Property 'specindex_bf', channel='d4000', release='3.1.0', unit=''>,\n",
       " <Property 'specindex_bf', channel='dn4000', release='3.1.0', unit=''>,\n",
       " <Property 'specindex_bf', channel='tiocvd', release='3.1.0', unit=''>,\n",
       " <Property 'specindex_bf_corr', channel='cn1', release='3.1.0', unit='mag'>,\n",
       " <Property 'specindex_bf_corr', channel='cn2', release='3.1.0', unit='mag'>,\n",
       " <Property 'specindex_bf_corr', channel='ca4227', release='3.1.0', unit='Angstrom'>,\n",
       " <Property 'specindex_bf_corr', channel='g4300', release='3.1.0', unit='Angstrom'>,\n",
       " <Property 'specindex_bf_corr', channel='fe4383', release='3.1.0', unit='Angstrom'>,\n",
       " <Property 'specindex_bf_corr', channel='ca4455', release='3.1.0', unit='Angstrom'>,\n",
       " <Property 'specindex_bf_corr', channel='fe4531', release='3.1.0', unit='Angstrom'>,\n",
       " <Property 'specindex_bf_corr', channel='c24668', release='3.1.0', unit='Angstrom'>,\n",
       " <Property 'specindex_bf_corr', channel='hb', release='3.1.0', unit='Angstrom'>,\n",
       " <Property 'specindex_bf_corr', channel='fe5015', release='3.1.0', unit='Angstrom'>,\n",
       " <Property 'specindex_bf_corr', channel='mg1', release='3.1.0', unit='mag'>,\n",
       " <Property 'specindex_bf_corr', channel='mg2', release='3.1.0', unit='mag'>,\n",
       " <Property 'specindex_bf_corr', channel='mgb', release='3.1.0', unit='Angstrom'>,\n",
       " <Property 'specindex_bf_corr', channel='fe5270', release='3.1.0', unit='Angstrom'>,\n",
       " <Property 'specindex_bf_corr', channel='fe5335', release='3.1.0', unit='Angstrom'>,\n",
       " <Property 'specindex_bf_corr', channel='fe5406', release='3.1.0', unit='Angstrom'>,\n",
       " <Property 'specindex_bf_corr', channel='fe5709', release='3.1.0', unit='Angstrom'>,\n",
       " <Property 'specindex_bf_corr', channel='fe5782', release='3.1.0', unit='Angstrom'>,\n",
       " <Property 'specindex_bf_corr', channel='nad', release='3.1.0', unit='Angstrom'>,\n",
       " <Property 'specindex_bf_corr', channel='tio1', release='3.1.0', unit='mag'>,\n",
       " <Property 'specindex_bf_corr', channel='tio2', release='3.1.0', unit='mag'>,\n",
       " <Property 'specindex_bf_corr', channel='hdeltaa', release='3.1.0', unit='Angstrom'>,\n",
       " <Property 'specindex_bf_corr', channel='hgammaa', release='3.1.0', unit='Angstrom'>,\n",
       " <Property 'specindex_bf_corr', channel='hdeltaf', release='3.1.0', unit='Angstrom'>,\n",
       " <Property 'specindex_bf_corr', channel='hgammaf', release='3.1.0', unit='Angstrom'>,\n",
       " <Property 'specindex_bf_corr', channel='cahk', release='3.1.0', unit='Angstrom'>,\n",
       " <Property 'specindex_bf_corr', channel='caii1', release='3.1.0', unit='Angstrom'>,\n",
       " <Property 'specindex_bf_corr', channel='caii2', release='3.1.0', unit='Angstrom'>,\n",
       " <Property 'specindex_bf_corr', channel='caii3', release='3.1.0', unit='Angstrom'>,\n",
       " <Property 'specindex_bf_corr', channel='pa17', release='3.1.0', unit='Angstrom'>,\n",
       " <Property 'specindex_bf_corr', channel='pa14', release='3.1.0', unit='Angstrom'>,\n",
       " <Property 'specindex_bf_corr', channel='pa12', release='3.1.0', unit='Angstrom'>,\n",
       " <Property 'specindex_bf_corr', channel='mgicvd', release='3.1.0', unit='Angstrom'>,\n",
       " <Property 'specindex_bf_corr', channel='naicvd', release='3.1.0', unit='Angstrom'>,\n",
       " <Property 'specindex_bf_corr', channel='mgiir', release='3.1.0', unit='Angstrom'>,\n",
       " <Property 'specindex_bf_corr', channel='fehcvd', release='3.1.0', unit='Angstrom'>,\n",
       " <Property 'specindex_bf_corr', channel='nai', release='3.1.0', unit='Angstrom'>,\n",
       " <Property 'specindex_bf_corr', channel='btio', release='3.1.0', unit='mag'>,\n",
       " <Property 'specindex_bf_corr', channel='atio', release='3.1.0', unit='mag'>,\n",
       " <Property 'specindex_bf_corr', channel='cah1', release='3.1.0', unit='mag'>,\n",
       " <Property 'specindex_bf_corr', channel='cah2', release='3.1.0', unit='mag'>,\n",
       " <Property 'specindex_bf_corr', channel='naisdss', release='3.1.0', unit='Angstrom'>,\n",
       " <Property 'specindex_bf_corr', channel='tio2sdss', release='3.1.0', unit='Angstrom'>,\n",
       " <Property 'specindex_bf_corr', channel='d4000', release='3.1.0', unit=''>,\n",
       " <Property 'specindex_bf_corr', channel='dn4000', release='3.1.0', unit=''>,\n",
       " <Property 'specindex_bf_corr', channel='tiocvd', release='3.1.0', unit=''>,\n",
       " <Property 'specindex_bf_model', channel='cn1', release='3.1.0', unit='mag'>,\n",
       " <Property 'specindex_bf_model', channel='cn2', release='3.1.0', unit='mag'>,\n",
       " <Property 'specindex_bf_model', channel='ca4227', release='3.1.0', unit='Angstrom'>,\n",
       " <Property 'specindex_bf_model', channel='g4300', release='3.1.0', unit='Angstrom'>,\n",
       " <Property 'specindex_bf_model', channel='fe4383', release='3.1.0', unit='Angstrom'>,\n",
       " <Property 'specindex_bf_model', channel='ca4455', release='3.1.0', unit='Angstrom'>,\n",
       " <Property 'specindex_bf_model', channel='fe4531', release='3.1.0', unit='Angstrom'>,\n",
       " <Property 'specindex_bf_model', channel='c24668', release='3.1.0', unit='Angstrom'>,\n",
       " <Property 'specindex_bf_model', channel='hb', release='3.1.0', unit='Angstrom'>,\n",
       " <Property 'specindex_bf_model', channel='fe5015', release='3.1.0', unit='Angstrom'>,\n",
       " <Property 'specindex_bf_model', channel='mg1', release='3.1.0', unit='mag'>,\n",
       " <Property 'specindex_bf_model', channel='mg2', release='3.1.0', unit='mag'>,\n",
       " <Property 'specindex_bf_model', channel='mgb', release='3.1.0', unit='Angstrom'>,\n",
       " <Property 'specindex_bf_model', channel='fe5270', release='3.1.0', unit='Angstrom'>,\n",
       " <Property 'specindex_bf_model', channel='fe5335', release='3.1.0', unit='Angstrom'>,\n",
       " <Property 'specindex_bf_model', channel='fe5406', release='3.1.0', unit='Angstrom'>,\n",
       " <Property 'specindex_bf_model', channel='fe5709', release='3.1.0', unit='Angstrom'>,\n",
       " <Property 'specindex_bf_model', channel='fe5782', release='3.1.0', unit='Angstrom'>,\n",
       " <Property 'specindex_bf_model', channel='nad', release='3.1.0', unit='Angstrom'>,\n",
       " <Property 'specindex_bf_model', channel='tio1', release='3.1.0', unit='mag'>,\n",
       " <Property 'specindex_bf_model', channel='tio2', release='3.1.0', unit='mag'>,\n",
       " <Property 'specindex_bf_model', channel='hdeltaa', release='3.1.0', unit='Angstrom'>,\n",
       " <Property 'specindex_bf_model', channel='hgammaa', release='3.1.0', unit='Angstrom'>,\n",
       " <Property 'specindex_bf_model', channel='hdeltaf', release='3.1.0', unit='Angstrom'>,\n",
       " <Property 'specindex_bf_model', channel='hgammaf', release='3.1.0', unit='Angstrom'>,\n",
       " <Property 'specindex_bf_model', channel='cahk', release='3.1.0', unit='Angstrom'>,\n",
       " <Property 'specindex_bf_model', channel='caii1', release='3.1.0', unit='Angstrom'>,\n",
       " <Property 'specindex_bf_model', channel='caii2', release='3.1.0', unit='Angstrom'>,\n",
       " <Property 'specindex_bf_model', channel='caii3', release='3.1.0', unit='Angstrom'>,\n",
       " <Property 'specindex_bf_model', channel='pa17', release='3.1.0', unit='Angstrom'>,\n",
       " <Property 'specindex_bf_model', channel='pa14', release='3.1.0', unit='Angstrom'>,\n",
       " <Property 'specindex_bf_model', channel='pa12', release='3.1.0', unit='Angstrom'>,\n",
       " <Property 'specindex_bf_model', channel='mgicvd', release='3.1.0', unit='Angstrom'>,\n",
       " <Property 'specindex_bf_model', channel='naicvd', release='3.1.0', unit='Angstrom'>,\n",
       " <Property 'specindex_bf_model', channel='mgiir', release='3.1.0', unit='Angstrom'>,\n",
       " <Property 'specindex_bf_model', channel='fehcvd', release='3.1.0', unit='Angstrom'>,\n",
       " <Property 'specindex_bf_model', channel='nai', release='3.1.0', unit='Angstrom'>,\n",
       " <Property 'specindex_bf_model', channel='btio', release='3.1.0', unit='mag'>,\n",
       " <Property 'specindex_bf_model', channel='atio', release='3.1.0', unit='mag'>,\n",
       " <Property 'specindex_bf_model', channel='cah1', release='3.1.0', unit='mag'>,\n",
       " <Property 'specindex_bf_model', channel='cah2', release='3.1.0', unit='mag'>,\n",
       " <Property 'specindex_bf_model', channel='naisdss', release='3.1.0', unit='Angstrom'>,\n",
       " <Property 'specindex_bf_model', channel='tio2sdss', release='3.1.0', unit='Angstrom'>,\n",
       " <Property 'specindex_bf_model', channel='d4000', release='3.1.0', unit=''>,\n",
       " <Property 'specindex_bf_model', channel='dn4000', release='3.1.0', unit=''>,\n",
       " <Property 'specindex_bf_model', channel='tiocvd', release='3.1.0', unit=''>,\n",
       " <Property 'specindex_wgt', channel='cn1', release='3.1.0', unit='mag'>,\n",
       " <Property 'specindex_wgt', channel='cn2', release='3.1.0', unit='mag'>,\n",
       " <Property 'specindex_wgt', channel='ca4227', release='3.1.0', unit='Angstrom'>,\n",
       " <Property 'specindex_wgt', channel='g4300', release='3.1.0', unit='Angstrom'>,\n",
       " <Property 'specindex_wgt', channel='fe4383', release='3.1.0', unit='Angstrom'>,\n",
       " <Property 'specindex_wgt', channel='ca4455', release='3.1.0', unit='Angstrom'>,\n",
       " <Property 'specindex_wgt', channel='fe4531', release='3.1.0', unit='Angstrom'>,\n",
       " <Property 'specindex_wgt', channel='c24668', release='3.1.0', unit='Angstrom'>,\n",
       " <Property 'specindex_wgt', channel='hb', release='3.1.0', unit='Angstrom'>,\n",
       " <Property 'specindex_wgt', channel='fe5015', release='3.1.0', unit='Angstrom'>,\n",
       " <Property 'specindex_wgt', channel='mg1', release='3.1.0', unit='mag'>,\n",
       " <Property 'specindex_wgt', channel='mg2', release='3.1.0', unit='mag'>,\n",
       " <Property 'specindex_wgt', channel='mgb', release='3.1.0', unit='Angstrom'>,\n",
       " <Property 'specindex_wgt', channel='fe5270', release='3.1.0', unit='Angstrom'>,\n",
       " <Property 'specindex_wgt', channel='fe5335', release='3.1.0', unit='Angstrom'>,\n",
       " <Property 'specindex_wgt', channel='fe5406', release='3.1.0', unit='Angstrom'>,\n",
       " <Property 'specindex_wgt', channel='fe5709', release='3.1.0', unit='Angstrom'>,\n",
       " <Property 'specindex_wgt', channel='fe5782', release='3.1.0', unit='Angstrom'>,\n",
       " <Property 'specindex_wgt', channel='nad', release='3.1.0', unit='Angstrom'>,\n",
       " <Property 'specindex_wgt', channel='tio1', release='3.1.0', unit='mag'>,\n",
       " <Property 'specindex_wgt', channel='tio2', release='3.1.0', unit='mag'>,\n",
       " <Property 'specindex_wgt', channel='hdeltaa', release='3.1.0', unit='Angstrom'>,\n",
       " <Property 'specindex_wgt', channel='hgammaa', release='3.1.0', unit='Angstrom'>,\n",
       " <Property 'specindex_wgt', channel='hdeltaf', release='3.1.0', unit='Angstrom'>,\n",
       " <Property 'specindex_wgt', channel='hgammaf', release='3.1.0', unit='Angstrom'>,\n",
       " <Property 'specindex_wgt', channel='cahk', release='3.1.0', unit='Angstrom'>,\n",
       " <Property 'specindex_wgt', channel='caii1', release='3.1.0', unit='Angstrom'>,\n",
       " <Property 'specindex_wgt', channel='caii2', release='3.1.0', unit='Angstrom'>,\n",
       " <Property 'specindex_wgt', channel='caii3', release='3.1.0', unit='Angstrom'>,\n",
       " <Property 'specindex_wgt', channel='pa17', release='3.1.0', unit='Angstrom'>,\n",
       " <Property 'specindex_wgt', channel='pa14', release='3.1.0', unit='Angstrom'>,\n",
       " <Property 'specindex_wgt', channel='pa12', release='3.1.0', unit='Angstrom'>,\n",
       " <Property 'specindex_wgt', channel='mgicvd', release='3.1.0', unit='Angstrom'>,\n",
       " <Property 'specindex_wgt', channel='naicvd', release='3.1.0', unit='Angstrom'>,\n",
       " <Property 'specindex_wgt', channel='mgiir', release='3.1.0', unit='Angstrom'>,\n",
       " <Property 'specindex_wgt', channel='fehcvd', release='3.1.0', unit='Angstrom'>,\n",
       " <Property 'specindex_wgt', channel='nai', release='3.1.0', unit='Angstrom'>,\n",
       " <Property 'specindex_wgt', channel='btio', release='3.1.0', unit='mag'>,\n",
       " <Property 'specindex_wgt', channel='atio', release='3.1.0', unit='mag'>,\n",
       " <Property 'specindex_wgt', channel='cah1', release='3.1.0', unit='mag'>,\n",
       " <Property 'specindex_wgt', channel='cah2', release='3.1.0', unit='mag'>,\n",
       " <Property 'specindex_wgt', channel='naisdss', release='3.1.0', unit='Angstrom'>,\n",
       " <Property 'specindex_wgt', channel='tio2sdss', release='3.1.0', unit='Angstrom'>,\n",
       " <Property 'specindex_wgt', channel='d4000', release='3.1.0', unit=''>,\n",
       " <Property 'specindex_wgt', channel='dn4000', release='3.1.0', unit=''>,\n",
       " <Property 'specindex_wgt', channel='tiocvd', release='3.1.0', unit=''>,\n",
       " <Property 'specindex_wgt_corr', channel='cn1', release='3.1.0', unit='mag'>,\n",
       " <Property 'specindex_wgt_corr', channel='cn2', release='3.1.0', unit='mag'>,\n",
       " <Property 'specindex_wgt_corr', channel='ca4227', release='3.1.0', unit='Angstrom'>,\n",
       " <Property 'specindex_wgt_corr', channel='g4300', release='3.1.0', unit='Angstrom'>,\n",
       " <Property 'specindex_wgt_corr', channel='fe4383', release='3.1.0', unit='Angstrom'>,\n",
       " <Property 'specindex_wgt_corr', channel='ca4455', release='3.1.0', unit='Angstrom'>,\n",
       " <Property 'specindex_wgt_corr', channel='fe4531', release='3.1.0', unit='Angstrom'>,\n",
       " <Property 'specindex_wgt_corr', channel='c24668', release='3.1.0', unit='Angstrom'>,\n",
       " <Property 'specindex_wgt_corr', channel='hb', release='3.1.0', unit='Angstrom'>,\n",
       " <Property 'specindex_wgt_corr', channel='fe5015', release='3.1.0', unit='Angstrom'>,\n",
       " <Property 'specindex_wgt_corr', channel='mg1', release='3.1.0', unit='mag'>,\n",
       " <Property 'specindex_wgt_corr', channel='mg2', release='3.1.0', unit='mag'>,\n",
       " <Property 'specindex_wgt_corr', channel='mgb', release='3.1.0', unit='Angstrom'>,\n",
       " <Property 'specindex_wgt_corr', channel='fe5270', release='3.1.0', unit='Angstrom'>,\n",
       " <Property 'specindex_wgt_corr', channel='fe5335', release='3.1.0', unit='Angstrom'>,\n",
       " <Property 'specindex_wgt_corr', channel='fe5406', release='3.1.0', unit='Angstrom'>,\n",
       " <Property 'specindex_wgt_corr', channel='fe5709', release='3.1.0', unit='Angstrom'>,\n",
       " <Property 'specindex_wgt_corr', channel='fe5782', release='3.1.0', unit='Angstrom'>,\n",
       " <Property 'specindex_wgt_corr', channel='nad', release='3.1.0', unit='Angstrom'>,\n",
       " <Property 'specindex_wgt_corr', channel='tio1', release='3.1.0', unit='mag'>,\n",
       " <Property 'specindex_wgt_corr', channel='tio2', release='3.1.0', unit='mag'>,\n",
       " <Property 'specindex_wgt_corr', channel='hdeltaa', release='3.1.0', unit='Angstrom'>,\n",
       " <Property 'specindex_wgt_corr', channel='hgammaa', release='3.1.0', unit='Angstrom'>,\n",
       " <Property 'specindex_wgt_corr', channel='hdeltaf', release='3.1.0', unit='Angstrom'>,\n",
       " <Property 'specindex_wgt_corr', channel='hgammaf', release='3.1.0', unit='Angstrom'>,\n",
       " <Property 'specindex_wgt_corr', channel='cahk', release='3.1.0', unit='Angstrom'>,\n",
       " <Property 'specindex_wgt_corr', channel='caii1', release='3.1.0', unit='Angstrom'>,\n",
       " <Property 'specindex_wgt_corr', channel='caii2', release='3.1.0', unit='Angstrom'>,\n",
       " <Property 'specindex_wgt_corr', channel='caii3', release='3.1.0', unit='Angstrom'>,\n",
       " <Property 'specindex_wgt_corr', channel='pa17', release='3.1.0', unit='Angstrom'>,\n",
       " <Property 'specindex_wgt_corr', channel='pa14', release='3.1.0', unit='Angstrom'>,\n",
       " <Property 'specindex_wgt_corr', channel='pa12', release='3.1.0', unit='Angstrom'>,\n",
       " <Property 'specindex_wgt_corr', channel='mgicvd', release='3.1.0', unit='Angstrom'>,\n",
       " <Property 'specindex_wgt_corr', channel='naicvd', release='3.1.0', unit='Angstrom'>,\n",
       " <Property 'specindex_wgt_corr', channel='mgiir', release='3.1.0', unit='Angstrom'>,\n",
       " <Property 'specindex_wgt_corr', channel='fehcvd', release='3.1.0', unit='Angstrom'>,\n",
       " <Property 'specindex_wgt_corr', channel='nai', release='3.1.0', unit='Angstrom'>,\n",
       " <Property 'specindex_wgt_corr', channel='btio', release='3.1.0', unit='mag'>,\n",
       " <Property 'specindex_wgt_corr', channel='atio', release='3.1.0', unit='mag'>,\n",
       " <Property 'specindex_wgt_corr', channel='cah1', release='3.1.0', unit='mag'>,\n",
       " <Property 'specindex_wgt_corr', channel='cah2', release='3.1.0', unit='mag'>,\n",
       " <Property 'specindex_wgt_corr', channel='naisdss', release='3.1.0', unit='Angstrom'>,\n",
       " <Property 'specindex_wgt_corr', channel='tio2sdss', release='3.1.0', unit='Angstrom'>,\n",
       " <Property 'specindex_wgt_corr', channel='d4000', release='3.1.0', unit=''>,\n",
       " <Property 'specindex_wgt_corr', channel='dn4000', release='3.1.0', unit=''>,\n",
       " <Property 'specindex_wgt_corr', channel='tiocvd', release='3.1.0', unit=''>,\n",
       " <Property 'specindex_wgt_model', channel='cn1', release='3.1.0', unit='mag'>,\n",
       " <Property 'specindex_wgt_model', channel='cn2', release='3.1.0', unit='mag'>,\n",
       " <Property 'specindex_wgt_model', channel='ca4227', release='3.1.0', unit='Angstrom'>,\n",
       " <Property 'specindex_wgt_model', channel='g4300', release='3.1.0', unit='Angstrom'>,\n",
       " <Property 'specindex_wgt_model', channel='fe4383', release='3.1.0', unit='Angstrom'>,\n",
       " <Property 'specindex_wgt_model', channel='ca4455', release='3.1.0', unit='Angstrom'>,\n",
       " <Property 'specindex_wgt_model', channel='fe4531', release='3.1.0', unit='Angstrom'>,\n",
       " <Property 'specindex_wgt_model', channel='c24668', release='3.1.0', unit='Angstrom'>,\n",
       " <Property 'specindex_wgt_model', channel='hb', release='3.1.0', unit='Angstrom'>,\n",
       " <Property 'specindex_wgt_model', channel='fe5015', release='3.1.0', unit='Angstrom'>,\n",
       " <Property 'specindex_wgt_model', channel='mg1', release='3.1.0', unit='mag'>,\n",
       " <Property 'specindex_wgt_model', channel='mg2', release='3.1.0', unit='mag'>,\n",
       " <Property 'specindex_wgt_model', channel='mgb', release='3.1.0', unit='Angstrom'>,\n",
       " <Property 'specindex_wgt_model', channel='fe5270', release='3.1.0', unit='Angstrom'>,\n",
       " <Property 'specindex_wgt_model', channel='fe5335', release='3.1.0', unit='Angstrom'>,\n",
       " <Property 'specindex_wgt_model', channel='fe5406', release='3.1.0', unit='Angstrom'>,\n",
       " <Property 'specindex_wgt_model', channel='fe5709', release='3.1.0', unit='Angstrom'>,\n",
       " <Property 'specindex_wgt_model', channel='fe5782', release='3.1.0', unit='Angstrom'>,\n",
       " <Property 'specindex_wgt_model', channel='nad', release='3.1.0', unit='Angstrom'>,\n",
       " <Property 'specindex_wgt_model', channel='tio1', release='3.1.0', unit='mag'>,\n",
       " <Property 'specindex_wgt_model', channel='tio2', release='3.1.0', unit='mag'>,\n",
       " <Property 'specindex_wgt_model', channel='hdeltaa', release='3.1.0', unit='Angstrom'>,\n",
       " <Property 'specindex_wgt_model', channel='hgammaa', release='3.1.0', unit='Angstrom'>,\n",
       " <Property 'specindex_wgt_model', channel='hdeltaf', release='3.1.0', unit='Angstrom'>,\n",
       " <Property 'specindex_wgt_model', channel='hgammaf', release='3.1.0', unit='Angstrom'>,\n",
       " <Property 'specindex_wgt_model', channel='cahk', release='3.1.0', unit='Angstrom'>,\n",
       " <Property 'specindex_wgt_model', channel='caii1', release='3.1.0', unit='Angstrom'>,\n",
       " <Property 'specindex_wgt_model', channel='caii2', release='3.1.0', unit='Angstrom'>,\n",
       " <Property 'specindex_wgt_model', channel='caii3', release='3.1.0', unit='Angstrom'>,\n",
       " <Property 'specindex_wgt_model', channel='pa17', release='3.1.0', unit='Angstrom'>,\n",
       " <Property 'specindex_wgt_model', channel='pa14', release='3.1.0', unit='Angstrom'>,\n",
       " <Property 'specindex_wgt_model', channel='pa12', release='3.1.0', unit='Angstrom'>,\n",
       " <Property 'specindex_wgt_model', channel='mgicvd', release='3.1.0', unit='Angstrom'>,\n",
       " <Property 'specindex_wgt_model', channel='naicvd', release='3.1.0', unit='Angstrom'>,\n",
       " <Property 'specindex_wgt_model', channel='mgiir', release='3.1.0', unit='Angstrom'>,\n",
       " <Property 'specindex_wgt_model', channel='fehcvd', release='3.1.0', unit='Angstrom'>,\n",
       " <Property 'specindex_wgt_model', channel='nai', release='3.1.0', unit='Angstrom'>,\n",
       " <Property 'specindex_wgt_model', channel='btio', release='3.1.0', unit='mag'>,\n",
       " <Property 'specindex_wgt_model', channel='atio', release='3.1.0', unit='mag'>,\n",
       " <Property 'specindex_wgt_model', channel='cah1', release='3.1.0', unit='mag'>,\n",
       " <Property 'specindex_wgt_model', channel='cah2', release='3.1.0', unit='mag'>,\n",
       " <Property 'specindex_wgt_model', channel='naisdss', release='3.1.0', unit='Angstrom'>,\n",
       " <Property 'specindex_wgt_model', channel='tio2sdss', release='3.1.0', unit='Angstrom'>,\n",
       " <Property 'specindex_wgt_model', channel='d4000', release='3.1.0', unit=''>,\n",
       " <Property 'specindex_wgt_model', channel='dn4000', release='3.1.0', unit=''>,\n",
       " <Property 'specindex_wgt_model', channel='tiocvd', release='3.1.0', unit=''>]"
      ]
     },
     "execution_count": 21,
     "metadata": {},
     "output_type": "execute_result"
    }
   ],
   "source": [
    "# look at the datamodel for the maps\n",
    "maps.datamodel"
   ]
  },
  {
   "cell_type": "markdown",
   "metadata": {},
   "source": [
    "Note that some properties such as ``spx_skycoo`` have multiple channels (in this case the ``on-sky`` ``x`` and ``y`` coordinates). To access the individual property, simply combine the property name and the channel name with an underscore, i.e. ``spx_skycoo_on_sky_x``.  As before, we can get more information about a property using the ``description`` attribute.  "
   ]
  },
  {
   "cell_type": "code",
   "execution_count": 22,
   "metadata": {
    "execution": {
     "iopub.execute_input": "2022-05-25T12:41:51.019081Z",
     "iopub.status.busy": "2022-05-25T12:41:51.018570Z",
     "iopub.status.idle": "2022-05-25T12:41:51.095121Z",
     "shell.execute_reply": "2022-05-25T12:41:51.093300Z",
     "shell.execute_reply.started": "2022-05-25T12:41:51.019034Z"
    }
   },
   "outputs": [
    {
     "name": "stdout",
     "output_type": "stream",
     "text": [
      "spx_skycoo_on_sky_x:  Offsets of each spaxel from the galaxy center. Channel = On-sky X.\n"
     ]
    }
   ],
   "source": [
    "print('spx_skycoo_on_sky_x: ', maps.datamodel.spx_skycoo_on_sky_x.description)"
   ]
  },
  {
   "cell_type": "markdown",
   "metadata": {},
   "source": [
    "More information about Marvin datamodels can be found [here](https://sdss-marvin.readthedocs.io/en/stable/datamodel/datamodels.html).  See the [DR15 Datamodel](https://sdss-marvin.readthedocs.io/en/stable/datamodel/dr15.html#datamodel-dr15) for a full description of the available datamodels for DR15.  \n",
    "\n",
    "We can retrieve the map associated to a specific property directly from the Maps instance. For example, let’s get the Hα emission line flux (fitted by a Gaussian).  As ``Map`` quantities are similar to ``DataCube``, we can easily plot the 2d map. "
   ]
  },
  {
   "cell_type": "code",
   "execution_count": 23,
   "metadata": {
    "execution": {
     "iopub.execute_input": "2022-05-25T12:41:59.215990Z",
     "iopub.status.busy": "2022-05-25T12:41:59.215273Z",
     "iopub.status.idle": "2022-05-25T12:41:59.564824Z",
     "shell.execute_reply": "2022-05-25T12:41:59.562984Z",
     "shell.execute_reply.started": "2022-05-25T12:41:59.215939Z"
    }
   },
   "outputs": [
    {
     "name": "stdout",
     "output_type": "stream",
     "text": [
      "[[0. 0. 0. ... 0. 0. 0.]\n",
      " [0. 0. 0. ... 0. 0. 0.]\n",
      " [0. 0. 0. ... 0. 0. 0.]\n",
      " ...\n",
      " [0. 0. 0. ... 0. 0. 0.]\n",
      " [0. 0. 0. ... 0. 0. 0.]\n",
      " [0. 0. 0. ... 0. 0. 0.]] 1e-17 erg / (cm2 s spaxel)\n"
     ]
    },
    {
     "data": {
      "text/plain": [
       "(34, 34)"
      ]
     },
     "execution_count": 23,
     "metadata": {},
     "output_type": "execute_result"
    }
   ],
   "source": [
    "# grab the map of H-alpha emission line flux\n",
    "ha = maps.emline_gflux_ha_6564\n",
    "print(ha)\n",
    "ha.shape"
   ]
  },
  {
   "cell_type": "code",
   "execution_count": 24,
   "metadata": {
    "execution": {
     "iopub.execute_input": "2022-05-25T12:42:00.213052Z",
     "iopub.status.busy": "2022-05-25T12:42:00.211289Z",
     "iopub.status.idle": "2022-05-25T12:42:01.046405Z",
     "shell.execute_reply": "2022-05-25T12:42:01.044428Z",
     "shell.execute_reply.started": "2022-05-25T12:42:00.212998Z"
    }
   },
   "outputs": [
    {
     "data": {
      "image/png": "[encoded data removed]",
      "text/plain": [
       "<Figure size 432x288 with 2 Axes>"
      ]
     },
     "metadata": {},
     "output_type": "display_data"
    }
   ],
   "source": [
    "# plot the H-alpha map\n",
    "fig, ax = ha.plot()"
   ]
  },
  {
   "cell_type": "markdown",
   "metadata": {},
   "source": [
    "Note that the ``plot`` method returns the matplotlib ``Figure`` and ``Axes`` for the plot. We can use those to modify or save the plot. Marvin plotting routines try to select the best parameters, colour maps, and dynamic ranges. You can modify those by passing extra arguments to plot. You can learn more in the [Map plotting section](https://sdss-marvin.readthedocs.io/en/stable/tools/utils/plot-map.html#marvin-utils-plot-map). We will talk about the Map class in detail in Working with [Astropy Quantities](https://sdss-marvin.readthedocs.io/en/stable/getting-started.html#marvin-quantities) and in [Map](https://sdss-marvin.readthedocs.io/en/stable/tools/map.html#marvin-map).\n",
    "\n",
    "Remember that all associated objects are connected together.  They can be accessed either from within an object instance or loaded independently from the class itself.  From within an instance, the core tools, ``Maps``, ``RSS``, and ``ModelCube`` are available using the ``getXXX`` methods, as well as additional auxillary tools and object data, such as ``Image``.         "
   ]
  },
  {
   "cell_type": "code",
   "execution_count": 25,
   "metadata": {
    "execution": {
     "iopub.execute_input": "2022-05-25T12:42:01.225575Z",
     "iopub.status.busy": "2022-05-25T12:42:01.224343Z",
     "iopub.status.idle": "2022-05-25T12:42:01.775139Z",
     "shell.execute_reply": "2022-05-25T12:42:01.773201Z",
     "shell.execute_reply.started": "2022-05-25T12:42:01.225488Z"
    }
   },
   "outputs": [],
   "source": [
    "# load the same Maps object by itself\n",
    "from marvin.tools import Maps\n",
    "my_maps = Maps('8485-1901')\n",
    "my_maps\n",
    "\n",
    "# get the stellar velocity map\n",
    "stvel = my_maps.stellar_velocity"
   ]
  },
  {
   "cell_type": "code",
   "execution_count": 26,
   "metadata": {
    "execution": {
     "iopub.execute_input": "2022-05-25T12:42:01.835942Z",
     "iopub.status.busy": "2022-05-25T12:42:01.835428Z",
     "iopub.status.idle": "2022-05-25T12:42:07.596486Z",
     "shell.execute_reply": "2022-05-25T12:42:07.593793Z",
     "shell.execute_reply.started": "2022-05-25T12:42:01.835894Z"
    }
   },
   "outputs": [
    {
     "data": {
      "text/plain": [
       "<WCSAxes:>"
      ]
     },
     "execution_count": 26,
     "metadata": {},
     "output_type": "execute_result"
    },
    {
     "data": {
      "image/png": "[encoded data removed]",
      "text/plain": [
       "<Figure size 432x432 with 1 Axes>"
      ]
     },
     "metadata": {
      "needs_background": "light"
     },
     "output_type": "display_data"
    }
   ],
   "source": [
    "# load an auxilliary tool, the gri color image of the target galaxy using the Marvin Image tool\n",
    "\n",
    "# get the Image of the galaxy and plot it\n",
    "image = cube.getImage()\n",
    "image.plot()"
   ]
  },
  {
   "cell_type": "markdown",
   "metadata": {},
   "source": [
    "<a id=\"flags\"></a>\n",
    "### Quality and Target Flags and Maskbits\n",
    "Each MaNGA target has associated quality assurance flags as well targeting flags.  Quality flags indiciate the overall quality of the data and/or any problems with the data discovered during the reduction and analysis pipeline runs.    "
   ]
  },
  {
   "cell_type": "code",
   "execution_count": 27,
   "metadata": {
    "execution": {
     "iopub.execute_input": "2022-05-25T12:42:07.663972Z",
     "iopub.status.busy": "2022-05-25T12:42:07.663451Z",
     "iopub.status.idle": "2022-05-25T12:42:07.679273Z",
     "shell.execute_reply": "2022-05-25T12:42:07.677465Z",
     "shell.execute_reply.started": "2022-05-25T12:42:07.663927Z"
    }
   },
   "outputs": [
    {
     "data": {
      "text/plain": [
       "<Maskbit 'MANGA_DRP3QUAL' []>"
      ]
     },
     "execution_count": 27,
     "metadata": {},
     "output_type": "execute_result"
    }
   ],
   "source": [
    "# look at the overall cube quality flags\n",
    "cube.quality_flag"
   ]
  },
  {
   "cell_type": "markdown",
   "metadata": {},
   "source": [
    "In this case the MANGA_DRP3QUAL maskbit does not have any bit activated, which means the data is safe to use. See the [Maskbits](https://sdss-marvin.readthedocs.io/en/stable/tools/utils/maskbit.html#marvin-maskbit) section for more information on how to interact with Marvin Maskbits.\n",
    "\n",
    "The targeting flags highlight the **targeting bits** set for this galaxy and tell you which sample the target belongs to."
   ]
  },
  {
   "cell_type": "code",
   "execution_count": 28,
   "metadata": {
    "execution": {
     "iopub.execute_input": "2022-05-25T12:42:07.681892Z",
     "iopub.status.busy": "2022-05-25T12:42:07.681355Z",
     "iopub.status.idle": "2022-05-25T12:42:07.702694Z",
     "shell.execute_reply": "2022-05-25T12:42:07.700567Z",
     "shell.execute_reply.started": "2022-05-25T12:42:07.681815Z"
    }
   },
   "outputs": [
    {
     "data": {
      "text/plain": [
       "[<Maskbit 'MANGA_TARGET1' ['SECONDARY_v1_1_0', 'SECONDARY_COM2', 'SECONDARY_v1_2_0']>,\n",
       " <Maskbit 'MANGA_TARGET2' []>,\n",
       " <Maskbit 'MANGA_TARGET3' []>]"
      ]
     },
     "execution_count": 28,
     "metadata": {},
     "output_type": "execute_result"
    }
   ],
   "source": [
    "# look at the targeting flags for this galaxy\n",
    "cube.target_flags"
   ]
  },
  {
   "cell_type": "markdown",
   "metadata": {},
   "source": [
    "Note that in this case the galaxy belongs to the secondary sample from the final target selection (``SECONDARY_v1_2_0``) as well as to the secondary samples from several commissioning target selections. The galaxy does not have any ancillary bit (**manga_target3**).  An **manga_target3** bit set indicates the target belongs to one of the [MaNGA Ancillary programs](https://www.sdss.org/dr15/manga/manga-target-selection/ancillary-targets/).  "
   ]
  },
  {
   "cell_type": "markdown",
   "metadata": {},
   "source": [
    "<a id=\"mixin\"></a>\n",
    "### NSA, DAPall, and Value-Added catalog data\n",
    "For each target we can also access additional catalog data: the associated parameters from the [NASA Sloan Atlas](http://nsatlas.org/), and the [DAPall](https://www.sdss.org/dr15/manga/manga-data/catalogs/#DAPALLFile) file.  The NSA catalog contains measured global galaxy photometric and shape profile information, while the DAPall catalog contains aggregrate statistics as measured by the MaNGA DAP pipeline.  NSA properties are available on all Marvin objects under the ``nsa`` attribute.  DAPall properties are available on all Marvin ``Maps`` and ``Modelcube`` objects.  "
   ]
  },
  {
   "cell_type": "code",
   "execution_count": 29,
   "metadata": {
    "execution": {
     "iopub.execute_input": "2022-05-25T12:42:07.704999Z",
     "iopub.status.busy": "2022-05-25T12:42:07.704463Z",
     "iopub.status.idle": "2022-05-25T12:42:13.297533Z",
     "shell.execute_reply": "2022-05-25T12:42:13.294022Z",
     "shell.execute_reply.started": "2022-05-25T12:42:07.704955Z"
    }
   },
   "outputs": [
    {
     "name": "stderr",
     "output_type": "stream",
     "text": [
      "Progress:   0% 0/1 [00:00<?, ?files/s, n_files=1, n_streams=1]\n"
     ]
    },
    {
     "name": "stdout",
     "output_type": "stream",
     "text": [
      "SDSS_ACCESS> Failed! See error logs in /tmp/sdss_access/20220525_001/sdss_access.\n"
     ]
    },
    {
     "name": "stderr",
     "output_type": "stream",
     "text": [
      "Progress:   0% 0/1 [00:00<?, ?files/s, n_files=1, n_streams=1]\n"
     ]
    },
    {
     "name": "stdout",
     "output_type": "stream",
     "text": [
      "SDSS_ACCESS> Failed! See error logs in /tmp/sdss_access/20220525_002/sdss_access.\n"
     ]
    },
    {
     "data": {
      "text/plain": [
       "{'iauname': 'J153010.73+484124.8',\n",
       " 'field': 145,\n",
       " 'run': 3225,\n",
       " 'camcol': 2,\n",
       " 'version': 'v1_0_1',\n",
       " 'nsaid': 221394,\n",
       " 'nsaid_v1b': -999,\n",
       " 'z': 0.0407447,\n",
       " 'zdist': 0.0412014,\n",
       " 'sersic_absmag': [-14.2599,\n",
       "  -15.9543,\n",
       "  -17.0904,\n",
       "  -18.2817,\n",
       "  -18.9128,\n",
       "  -19.2697,\n",
       "  -19.5088],\n",
       " 'elpetro_absmag': [-14.3422,\n",
       "  -15.7994,\n",
       "  -17.0133,\n",
       "  -18.1788,\n",
       "  -18.775,\n",
       "  -19.1125,\n",
       "  -19.3132],\n",
       " 'elpetro_amivar': [1.39298,\n",
       "  52.442,\n",
       "  188.696,\n",
       "  2311.74,\n",
       "  2362.19,\n",
       "  2158.28,\n",
       "  909.175],\n",
       " 'sersic_mass': 4259420000.0,\n",
       " 'elpetro_mass': 3676850000.0,\n",
       " 'elpetro_ba': 0.87454,\n",
       " 'elpetro_phi': 154.873,\n",
       " 'extinction': [0.11668,\n",
       "  0.115132,\n",
       "  0.0725557,\n",
       "  0.0533858,\n",
       "  0.0387198,\n",
       "  0.0293601,\n",
       "  0.0208166],\n",
       " 'elpetro_th50_r': 1.33067,\n",
       " 'petro_th50': 1.32995,\n",
       " 'petro_flux': [2.42345, 7.63147, 33.5316, 103.177, 187.303, 266.833, 320.63],\n",
       " 'petro_flux_ivar': [0.261188,\n",
       "  0.978818,\n",
       "  0.357724,\n",
       "  4.59488,\n",
       "  1.37015,\n",
       "  0.156463,\n",
       "  0.0512794],\n",
       " 'elpetro_flux': [2.9988, 10.9678, 33.184, 104.279, 189.074, 266.311, 329.502],\n",
       " 'elpetro_flux_ivar': [0.183006,\n",
       "  0.560983,\n",
       "  0.382391,\n",
       "  3.32798,\n",
       "  1.41304,\n",
       "  0.262453,\n",
       "  0.0543157],\n",
       " 'sersic_ba': 0.773047,\n",
       " 'sersic_n': 3.29617,\n",
       " 'sersic_phi': 163.295,\n",
       " 'sersic_th50': 1.27748,\n",
       " 'sersic_flux': [2.7631, 12.5968, 35.5298, 114.376, 213.438, 306.252, 391.783],\n",
       " 'sersic_flux_ivar': [0.234907,\n",
       "  0.390875,\n",
       "  1.03359,\n",
       "  2.70403,\n",
       "  1.11227,\n",
       "  0.504806,\n",
       "  0.0975765]}"
      ]
     },
     "execution_count": 29,
     "metadata": {},
     "output_type": "execute_result"
    }
   ],
   "source": [
    "# look at the NSA properties for this galaxy from the cube instance\n",
    "nsa = cube.nsa\n",
    "nsa"
   ]
  },
  {
   "cell_type": "code",
   "execution_count": 30,
   "metadata": {
    "execution": {
     "iopub.execute_input": "2022-05-25T12:42:13.309767Z",
     "iopub.status.busy": "2022-05-25T12:42:13.309066Z",
     "iopub.status.idle": "2022-05-25T12:42:13.970669Z",
     "shell.execute_reply": "2022-05-25T12:42:13.969101Z",
     "shell.execute_reply.started": "2022-05-25T12:42:13.309705Z"
    }
   },
   "outputs": [
    {
     "data": {
      "text/plain": [
       "{'plate': 8485,\n",
       " 'ifudesign': 1901,\n",
       " 'plateifu': '8485-1901',\n",
       " 'mangaid': '1-209232',\n",
       " 'drpallindx': 6945,\n",
       " 'mode': 'CUBE',\n",
       " 'daptype': 'HYB10-MILESHC-MASTARSSP',\n",
       " 'dapdone': 'true',\n",
       " 'objra': 232.54471,\n",
       " 'objdec': 48.6902,\n",
       " 'ifura': 232.5447,\n",
       " 'ifudec': 48.6902,\n",
       " 'mngtarg1': 2336,\n",
       " 'mngtarg2': 0,\n",
       " 'mngtarg3': 0,\n",
       " 'z': 0.0407447,\n",
       " 'ldist_z': 125.95125,\n",
       " 'adist_z': 116.28242,\n",
       " 'nsa_z': 0.0407447,\n",
       " 'nsa_zdist': 0.0412014,\n",
       " 'ldist_nsa_z': 125.95125,\n",
       " 'adist_nsa_z': 116.28242,\n",
       " 'nsa_elpetro_ba': 0.87454,\n",
       " 'nsa_elpetro_phi': 154.873,\n",
       " 'nsa_elpetro_th50_r': 1.33067,\n",
       " 'nsa_sersic_ba': 0.773047,\n",
       " 'nsa_sersic_phi': 163.295,\n",
       " 'nsa_sersic_th50': 1.27748,\n",
       " 'nsa_sersic_n': 3.29617,\n",
       " 'versdrp2': 'v3_1_1',\n",
       " 'versdrp3': 'v3_1_1',\n",
       " 'verscore': 'v1_9_1',\n",
       " 'versutil': 'v5_5_36',\n",
       " 'versdap': '3.1.0',\n",
       " 'drp3qual': 0,\n",
       " 'dapqual': 0,\n",
       " 'rdxqakey': 'SNRG',\n",
       " 'binkey': 'HYB10',\n",
       " 'sckey': 'MILESHCMPL11',\n",
       " 'elmkey': 'EMOMMPL11',\n",
       " 'elfkey': 'EFITMPL11SSPDB',\n",
       " 'sikey': 'INDXEN',\n",
       " 'bintype': 'voronoi',\n",
       " 'binsnr': 10.0,\n",
       " 'tplkey': 'MILESHC',\n",
       " 'datedap': '2020-12-25',\n",
       " 'dapbins': 376,\n",
       " 'rcov90': 4.4759164,\n",
       " 'snr_med_1': 24.227911,\n",
       " 'snr_med_2': 32.031925,\n",
       " 'snr_med_3': 37.20222,\n",
       " 'snr_med_4': 29.826796,\n",
       " 'snr_ring_1': 43.231247,\n",
       " 'snr_ring_2': 54.85873,\n",
       " 'snr_ring_3': 68.02197,\n",
       " 'snr_ring_4': 40.380173,\n",
       " 'sb_1re': 0.76322466,\n",
       " 'bin_rmax': 3.3676703,\n",
       " 'bin_r_n_1': 21.0,\n",
       " 'bin_r_n_2': 36.0,\n",
       " 'bin_r_n_3': 26.0,\n",
       " 'bin_r_snr_1': 31.48383,\n",
       " 'bin_r_snr_2': 26.292515,\n",
       " 'bin_r_snr_3': 13.205128,\n",
       " 'stellar_z': 0.040774416,\n",
       " 'stellar_vel_lo': -161.38068,\n",
       " 'stellar_vel_hi': 44.211643,\n",
       " 'stellar_vel_lo_clip': -74.01385,\n",
       " 'stellar_vel_hi_clip': 44.24787,\n",
       " 'stellar_sigma_1re': 76.319756,\n",
       " 'stellar_cont_rchi2_1re': None,\n",
       " 'ha_z': 0.04076212,\n",
       " 'ha_gvel_lo': -100.10596,\n",
       " 'ha_gvel_hi': 103.89834,\n",
       " 'ha_gvel_lo_clip': -97.20053,\n",
       " 'ha_gvel_hi_clip': 103.94926,\n",
       " 'ha_gsigma_1re': 64.51202,\n",
       " 'ha_gsigma_hi': 70.811104,\n",
       " 'ha_gsigma_hi_clip': 66.177635,\n",
       " 'emline_sflux_cen_oiid_3728': 110.87869,\n",
       " 'emline_sflux_cen_oii_3729': -999.0,\n",
       " 'emline_sflux_cen_hthe_3798': 4.205329,\n",
       " 'emline_sflux_cen_heta_3836': -1.4909476,\n",
       " 'emline_sflux_cen_neiii_3869': 1.2606541,\n",
       " 'emline_sflux_cen_hzet_3890': 16.29278,\n",
       " 'emline_sflux_cen_neiii_3968': -999.0,\n",
       " 'emline_sflux_cen_heps_3971': 13.770959,\n",
       " 'emline_sflux_cen_hdel_4102': 20.899656,\n",
       " 'emline_sflux_cen_hgam_4341': 49.334637,\n",
       " 'emline_sflux_cen_heii_4687': -1.8790181,\n",
       " 'emline_sflux_cen_hb_4862': 120.99918,\n",
       " 'emline_sflux_cen_oiii_4960': 7.975247,\n",
       " 'emline_sflux_cen_oiii_5008': 28.914686,\n",
       " 'emline_sflux_cen_hei_5877': 10.115048,\n",
       " 'emline_sflux_cen_oi_6302': 5.9696913,\n",
       " 'emline_sflux_cen_oi_6365': 1.3715255,\n",
       " 'emline_sflux_cen_nii_6549': 69.5486,\n",
       " 'emline_sflux_cen_ha_6564': 535.4457,\n",
       " 'emline_sflux_cen_nii_6585': 216.16373,\n",
       " 'emline_sflux_cen_sii_6718': 82.10202,\n",
       " 'emline_sflux_cen_sii_6732': 57.315872,\n",
       " 'emline_sflux_1re_oiid_3728': 110.87869,\n",
       " 'emline_sflux_1re_oii_3729': -999.0,\n",
       " 'emline_sflux_1re_hthe_3798': 4.205329,\n",
       " 'emline_sflux_1re_heta_3836': -1.4909476,\n",
       " 'emline_sflux_1re_neiii_3869': 1.2606541,\n",
       " 'emline_sflux_1re_hzet_3890': 16.29278,\n",
       " 'emline_sflux_1re_neiii_3968': -999.0,\n",
       " 'emline_sflux_1re_heps_3971': 13.770959,\n",
       " 'emline_sflux_1re_hdel_4102': 20.899656,\n",
       " 'emline_sflux_1re_hgam_4341': 49.334637,\n",
       " 'emline_sflux_1re_heii_4687': -1.8790181,\n",
       " 'emline_sflux_1re_hb_4862': 120.99918,\n",
       " 'emline_sflux_1re_oiii_4960': 7.975247,\n",
       " 'emline_sflux_1re_oiii_5008': 28.914686,\n",
       " 'emline_sflux_1re_hei_5877': 10.115048,\n",
       " 'emline_sflux_1re_oi_6302': 5.9696913,\n",
       " 'emline_sflux_1re_oi_6365': 1.3715255,\n",
       " 'emline_sflux_1re_nii_6549': 69.5486,\n",
       " 'emline_sflux_1re_ha_6564': 535.4457,\n",
       " 'emline_sflux_1re_nii_6585': 216.16373,\n",
       " 'emline_sflux_1re_sii_6718': 82.10202,\n",
       " 'emline_sflux_1re_sii_6732': 57.315872,\n",
       " 'emline_sflux_tot_oiid_3728': 370.94617,\n",
       " 'emline_sflux_tot_oii_3729': -999.0,\n",
       " 'emline_sflux_tot_hthe_3798': 21.79515,\n",
       " 'emline_sflux_tot_heta_3836': 8.13614,\n",
       " 'emline_sflux_tot_neiii_3869': 14.79254,\n",
       " 'emline_sflux_tot_hzet_3890': 59.5456,\n",
       " 'emline_sflux_tot_neiii_3968': -999.0,\n",
       " 'emline_sflux_tot_heps_3971': 25.720627,\n",
       " 'emline_sflux_tot_hdel_4102': 83.91503,\n",
       " 'emline_sflux_tot_hgam_4341': 123.10069,\n",
       " 'emline_sflux_tot_heii_4687': 12.303834,\n",
       " 'emline_sflux_tot_hb_4862': 330.53693,\n",
       " 'emline_sflux_tot_oiii_4960': 31.879642,\n",
       " 'emline_sflux_tot_oiii_5008': 84.84094,\n",
       " 'emline_sflux_tot_hei_5877': 9.203226,\n",
       " 'emline_sflux_tot_oi_6302': 7.5663395,\n",
       " 'emline_sflux_tot_oi_6365': 3.5099328,\n",
       " 'emline_sflux_tot_nii_6549': 193.40521,\n",
       " 'emline_sflux_tot_ha_6564': 1367.3187,\n",
       " 'emline_sflux_tot_nii_6585': 570.63574,\n",
       " 'emline_sflux_tot_sii_6718': 236.95793,\n",
       " 'emline_sflux_tot_sii_6732': 152.06473,\n",
       " 'emline_ssb_1re_oiid_3728': 5.2799377,\n",
       " 'emline_ssb_1re_oii_3729': -999.0,\n",
       " 'emline_ssb_1re_hthe_3798': 0.20025375,\n",
       " 'emline_ssb_1re_heta_3836': -0.07099751,\n",
       " 'emline_ssb_1re_neiii_3869': 0.060031146,\n",
       " 'emline_ssb_1re_hzet_3890': 0.77584666,\n",
       " 'emline_ssb_1re_neiii_3968': -999.0,\n",
       " 'emline_ssb_1re_heps_3971': 0.65575993,\n",
       " 'emline_ssb_1re_hdel_4102': 0.99522173,\n",
       " 'emline_ssb_1re_hgam_4341': 2.3492684,\n",
       " 'emline_ssb_1re_heii_4687': -0.08947705,\n",
       " 'emline_ssb_1re_hb_4862': 5.761866,\n",
       " 'emline_ssb_1re_oiii_4960': 0.37977368,\n",
       " 'emline_ssb_1re_oiii_5008': 1.3768898,\n",
       " 'emline_ssb_1re_hei_5877': 0.48166898,\n",
       " 'emline_ssb_1re_oi_6302': 0.284271,\n",
       " 'emline_ssb_1re_oi_6365': 0.06531074,\n",
       " 'emline_ssb_1re_nii_6549': 3.3118382,\n",
       " 'emline_ssb_1re_ha_6564': 25.497414,\n",
       " 'emline_ssb_1re_nii_6585': 10.29351,\n",
       " 'emline_ssb_1re_sii_6718': 3.90962,\n",
       " 'emline_ssb_1re_sii_6732': 2.7293272,\n",
       " 'emline_ssb_peak_oiid_3728': 6.6201205,\n",
       " 'emline_ssb_peak_oii_3729': -999.0,\n",
       " 'emline_ssb_peak_hthe_3798': 0.34312147,\n",
       " 'emline_ssb_peak_heta_3836': 0.36540174,\n",
       " 'emline_ssb_peak_neiii_3869': 0.29393983,\n",
       " 'emline_ssb_peak_hzet_3890': 0.9868256,\n",
       " 'emline_ssb_peak_neiii_3968': -999.0,\n",
       " 'emline_ssb_peak_heps_3971': 0.9162055,\n",
       " 'emline_ssb_peak_hdel_4102': 1.2747911,\n",
       " 'emline_ssb_peak_hgam_4341': 3.0055637,\n",
       " 'emline_ssb_peak_heii_4687': 0.38122043,\n",
       " 'emline_ssb_peak_hb_4862': 7.305655,\n",
       " 'emline_ssb_peak_oiii_4960': 0.57911116,\n",
       " 'emline_ssb_peak_oiii_5008': 1.7088968,\n",
       " 'emline_ssb_peak_hei_5877': 0.65947694,\n",
       " 'emline_ssb_peak_oi_6302': 0.69227606,\n",
       " 'emline_ssb_peak_oi_6365': 0.22954026,\n",
       " 'emline_ssb_peak_nii_6549': 4.1860547,\n",
       " 'emline_ssb_peak_ha_6564': 33.24686,\n",
       " 'emline_ssb_peak_nii_6585': 13.146056,\n",
       " 'emline_ssb_peak_sii_6718': 4.9346967,\n",
       " 'emline_ssb_peak_sii_6732': 3.5843985,\n",
       " 'emline_sew_1re_oiid_3728': 10.311445,\n",
       " 'emline_sew_1re_oii_3729': -999.0,\n",
       " 'emline_sew_1re_hthe_3798': 0.30974323,\n",
       " 'emline_sew_1re_heta_3836': -0.099445686,\n",
       " 'emline_sew_1re_neiii_3869': 0.085854426,\n",
       " 'emline_sew_1re_hzet_3890': 1.1499895,\n",
       " 'emline_sew_1re_neiii_3968': -999.0,\n",
       " 'emline_sew_1re_heps_3971': 0.9226922,\n",
       " 'emline_sew_1re_hdel_4102': 1.2972716,\n",
       " 'emline_sew_1re_hgam_4341': 3.0327437,\n",
       " 'emline_sew_1re_heii_4687': -0.11290995,\n",
       " 'emline_sew_1re_hb_4862': 6.349988,\n",
       " 'emline_sew_1re_oiii_4960': 0.41676217,\n",
       " 'emline_sew_1re_oiii_5008': 1.5406282,\n",
       " 'emline_sew_1re_hei_5877': 0.5360109,\n",
       " 'emline_sew_1re_oi_6302': 0.30807462,\n",
       " 'emline_sew_1re_oi_6365': 0.0713936,\n",
       " 'emline_sew_1re_nii_6549': 3.570891,\n",
       " 'emline_sew_1re_ha_6564': 27.438877,\n",
       " 'emline_sew_1re_nii_6585': 11.101881,\n",
       " 'emline_sew_1re_sii_6718': 4.256535,\n",
       " 'emline_sew_1re_sii_6732': 2.9681525,\n",
       " 'emline_sew_peak_oiid_3728': 180.99417,\n",
       " 'emline_sew_peak_oii_3729': -999.0,\n",
       " 'emline_sew_peak_hthe_3798': 28.538538,\n",
       " 'emline_sew_peak_heta_3836': 84.00968,\n",
       " 'emline_sew_peak_neiii_3869': 85.71233,\n",
       " 'emline_sew_peak_hzet_3890': 119.83253,\n",
       " 'emline_sew_peak_neiii_3968': -999.0,\n",
       " 'emline_sew_peak_heps_3971': 51.23986,\n",
       " 'emline_sew_peak_hdel_4102': 29.185837,\n",
       " 'emline_sew_peak_hgam_4341': 9.050733,\n",
       " 'emline_sew_peak_heii_4687': 36.92541,\n",
       " 'emline_sew_peak_hb_4862': 17.483444,\n",
       " 'emline_sew_peak_oiii_4960': 15.356261,\n",
       " 'emline_sew_peak_oiii_5008': 8.067648,\n",
       " 'emline_sew_peak_hei_5877': 12.816424,\n",
       " 'emline_sew_peak_oi_6302': 29.011494,\n",
       " 'emline_sew_peak_oi_6365': 6.9314866,\n",
       " 'emline_sew_peak_nii_6549': 9.30666,\n",
       " 'emline_sew_peak_ha_6564': 35.678192,\n",
       " 'emline_sew_peak_nii_6585': 14.63268,\n",
       " 'emline_sew_peak_sii_6718': 15.452231,\n",
       " 'emline_sew_peak_sii_6732': 12.646622,\n",
       " 'emline_gflux_cen_oii_3727': 47.096947,\n",
       " 'emline_gflux_cen_oii_3729': 60.270462,\n",
       " 'emline_gflux_cen_hthe_3798': 5.527583,\n",
       " 'emline_gflux_cen_heta_3836': 4.7099757,\n",
       " 'emline_gflux_cen_neiii_3869': 3.2851672,\n",
       " 'emline_gflux_cen_hzet_3890': 15.828454,\n",
       " 'emline_gflux_cen_neiii_3968': 0.9855501,\n",
       " 'emline_gflux_cen_heps_3971': 10.498351,\n",
       " 'emline_gflux_cen_hdel_4102': 22.732374,\n",
       " 'emline_gflux_cen_hgam_4341': 46.179935,\n",
       " 'emline_gflux_cen_heii_4687': 1.725451,\n",
       " 'emline_gflux_cen_hb_4862': 118.527916,\n",
       " 'emline_gflux_cen_oiii_4960': 10.165042,\n",
       " 'emline_gflux_cen_oiii_5008': 29.042974,\n",
       " 'emline_gflux_cen_hei_5877': 13.912533,\n",
       " 'emline_gflux_cen_oi_6302': 9.512271,\n",
       " 'emline_gflux_cen_oi_6365': 3.0439262,\n",
       " 'emline_gflux_cen_nii_6549': 71.375145,\n",
       " 'emline_gflux_cen_ha_6564': 535.36694,\n",
       " 'emline_gflux_cen_nii_6585': 209.92686,\n",
       " 'emline_gflux_cen_sii_6718': 81.03452,\n",
       " 'emline_gflux_cen_sii_6732': 56.569397,\n",
       " 'emline_gflux_1re_oii_3727': 47.096947,\n",
       " 'emline_gflux_1re_oii_3729': 60.270462,\n",
       " 'emline_gflux_1re_hthe_3798': 5.527583,\n",
       " 'emline_gflux_1re_heta_3836': 4.7099757,\n",
       " 'emline_gflux_1re_neiii_3869': 3.2851672,\n",
       " 'emline_gflux_1re_hzet_3890': 15.828454,\n",
       " 'emline_gflux_1re_neiii_3968': 0.9855501,\n",
       " 'emline_gflux_1re_heps_3971': 10.498351,\n",
       " 'emline_gflux_1re_hdel_4102': 22.732374,\n",
       " 'emline_gflux_1re_hgam_4341': 46.179935,\n",
       " 'emline_gflux_1re_heii_4687': 1.725451,\n",
       " 'emline_gflux_1re_hb_4862': 118.527916,\n",
       " 'emline_gflux_1re_oiii_4960': 10.165042,\n",
       " 'emline_gflux_1re_oiii_5008': 29.042974,\n",
       " 'emline_gflux_1re_hei_5877': 13.912533,\n",
       " 'emline_gflux_1re_oi_6302': 9.512271,\n",
       " 'emline_gflux_1re_oi_6365': 3.0439262,\n",
       " 'emline_gflux_1re_nii_6549': 71.375145,\n",
       " 'emline_gflux_1re_ha_6564': 535.36694,\n",
       " 'emline_gflux_1re_nii_6585': 209.92686,\n",
       " 'emline_gflux_1re_sii_6718': 81.03452,\n",
       " 'emline_gflux_1re_sii_6732': 56.569397,\n",
       " 'emline_gflux_tot_oii_3727': 159.48962,\n",
       " 'emline_gflux_tot_oii_3729': 216.18344,\n",
       " 'emline_gflux_tot_hthe_3798': 25.743406,\n",
       " 'emline_gflux_tot_heta_3836': 26.998579,\n",
       " 'emline_gflux_tot_neiii_3869': 21.468443,\n",
       " 'emline_gflux_tot_hzet_3890': 50.93585,\n",
       " 'emline_gflux_tot_neiii_3968': 6.636564,\n",
       " 'emline_gflux_tot_heps_3971': 37.248337,\n",
       " 'emline_gflux_tot_hdel_4102': 72.398315,\n",
       " 'emline_gflux_tot_hgam_4341': 127.01411,\n",
       " 'emline_gflux_tot_heii_4687': 23.596724,\n",
       " 'emline_gflux_tot_hb_4862': 323.8042,\n",
       " 'emline_gflux_tot_oiii_4960': 32.459015,\n",
       " 'emline_gflux_tot_oiii_5008': 92.74011,\n",
       " 'emline_gflux_tot_hei_5877': 45.530247,\n",
       " 'emline_gflux_tot_oi_6302': 39.242374,\n",
       " 'emline_gflux_tot_oi_6365': 12.557566,\n",
       " 'emline_gflux_tot_nii_6549': 191.41609,\n",
       " 'emline_gflux_tot_ha_6564': 1368.2084,\n",
       " 'emline_gflux_tot_nii_6585': 562.9884,\n",
       " 'emline_gflux_tot_sii_6718': 233.4078,\n",
       " 'emline_gflux_tot_sii_6732': 157.66383,\n",
       " 'emline_gsb_1re_oii_3727': 2.2427118,\n",
       " 'emline_gsb_1re_oii_3729': 2.870022,\n",
       " 'emline_gsb_1re_hthe_3798': 0.26321825,\n",
       " 'emline_gsb_1re_heta_3836': 0.22428456,\n",
       " 'emline_gsb_1re_neiii_3869': 0.15643653,\n",
       " 'emline_gsb_1re_hzet_3890': 0.7537359,\n",
       " 'emline_gsb_1re_neiii_3968': 0.046930958,\n",
       " 'emline_gsb_1re_heps_3971': 0.49992147,\n",
       " 'emline_gsb_1re_hdel_4102': 1.082494,\n",
       " 'emline_gsb_1re_hgam_4341': 2.1990445,\n",
       " 'emline_gsb_1re_heii_4687': 0.08216433,\n",
       " 'emline_gsb_1re_hb_4862': 5.6441865,\n",
       " 'emline_gsb_1re_oiii_4960': 0.48404962,\n",
       " 'emline_gsb_1re_oiii_5008': 1.3829988,\n",
       " 'emline_gsb_1re_hei_5877': 0.6625016,\n",
       " 'emline_gsb_1re_oi_6302': 0.4529653,\n",
       " 'emline_gsb_1re_oi_6365': 0.14494887,\n",
       " 'emline_gsb_1re_nii_6549': 3.3988163,\n",
       " 'emline_gsb_1re_ha_6564': 25.493664,\n",
       " 'emline_gsb_1re_nii_6585': 9.996517,\n",
       " 'emline_gsb_1re_sii_6718': 3.8587868,\n",
       " 'emline_gsb_1re_sii_6732': 2.693781,\n",
       " 'emline_gsb_peak_oii_3727': 2.671669,\n",
       " 'emline_gsb_peak_oii_3729': 3.7333188,\n",
       " 'emline_gsb_peak_hthe_3798': 0.57881063,\n",
       " 'emline_gsb_peak_heta_3836': 0.47894806,\n",
       " 'emline_gsb_peak_neiii_3869': 0.48567894,\n",
       " 'emline_gsb_peak_hzet_3890': 1.033914,\n",
       " 'emline_gsb_peak_neiii_3968': 0.14570369,\n",
       " 'emline_gsb_peak_heps_3971': 0.6405921,\n",
       " 'emline_gsb_peak_hdel_4102': 1.3583963,\n",
       " 'emline_gsb_peak_hgam_4341': 2.7997725,\n",
       " 'emline_gsb_peak_heii_4687': 0.3065025,\n",
       " 'emline_gsb_peak_hb_4862': 7.2015195,\n",
       " 'emline_gsb_peak_oiii_4960': 0.606641,\n",
       " 'emline_gsb_peak_oiii_5008': 1.73326,\n",
       " 'emline_gsb_peak_hei_5877': 0.89677495,\n",
       " 'emline_gsb_peak_oi_6302': 0.5550097,\n",
       " 'emline_gsb_peak_oi_6365': 0.17760311,\n",
       " 'emline_gsb_peak_nii_6549': 4.3682632,\n",
       " 'emline_gsb_peak_ha_6564': 33.383545,\n",
       " 'emline_gsb_peak_nii_6585': 12.847834,\n",
       " 'emline_gsb_peak_sii_6718': 4.8912587,\n",
       " 'emline_gsb_peak_sii_6732': 3.556248,\n",
       " 'emline_gew_1re_oii_3727': 4.4174757,\n",
       " 'emline_gew_1re_oii_3729': 5.5819483,\n",
       " 'emline_gew_1re_hthe_3798': 0.40892464,\n",
       " 'emline_gew_1re_heta_3836': 0.34353215,\n",
       " 'emline_gew_1re_neiii_3869': 0.23011628,\n",
       " 'emline_gew_1re_hzet_3890': 1.1166526,\n",
       " 'emline_gew_1re_neiii_3968': 0.06585198,\n",
       " 'emline_gew_1re_heps_3971': 0.70796096,\n",
       " 'emline_gew_1re_hdel_4102': 1.3936503,\n",
       " 'emline_gew_1re_hgam_4341': 2.8376873,\n",
       " 'emline_gew_1re_heii_4687': 0.09271578,\n",
       " 'emline_gew_1re_hb_4862': 6.2213483,\n",
       " 'emline_gew_1re_oiii_4960': 0.5302029,\n",
       " 'emline_gew_1re_oiii_5008': 1.5469724,\n",
       " 'emline_gew_1re_hei_5877': 0.7387831,\n",
       " 'emline_gew_1re_oi_6302': 0.49631265,\n",
       " 'emline_gew_1re_oi_6365': 0.15593366,\n",
       " 'emline_gew_1re_nii_6549': 3.6604574,\n",
       " 'emline_gew_1re_ha_6564': 27.428705,\n",
       " 'emline_gew_1re_nii_6585': 10.777622,\n",
       " 'emline_gew_1re_sii_6718': 4.200433,\n",
       " 'emline_gew_1re_sii_6732': 2.929534,\n",
       " 'emline_gew_peak_oii_3727': 94.00483,\n",
       " 'emline_gew_peak_oii_3729': 144.72806,\n",
       " 'emline_gew_peak_hthe_3798': 47.33008,\n",
       " 'emline_gew_peak_heta_3836': 41.94314,\n",
       " 'emline_gew_peak_neiii_3869': 96.100296,\n",
       " 'emline_gew_peak_hzet_3890': 52.955242,\n",
       " 'emline_gew_peak_neiii_3968': 11.254043,\n",
       " 'emline_gew_peak_heps_3971': 58.359867,\n",
       " 'emline_gew_peak_hdel_4102': 22.535536,\n",
       " 'emline_gew_peak_hgam_4341': 12.186954,\n",
       " 'emline_gew_peak_heii_4687': 21.70563,\n",
       " 'emline_gew_peak_hb_4862': 17.130587,\n",
       " 'emline_gew_peak_oiii_4960': 4.7141423,\n",
       " 'emline_gew_peak_oiii_5008': 10.883569,\n",
       " 'emline_gew_peak_hei_5877': 10.609774,\n",
       " 'emline_gew_peak_oi_6302': 3.617533,\n",
       " 'emline_gew_peak_oi_6365': 1.4068618,\n",
       " 'emline_gew_peak_nii_6549': 4.1225095,\n",
       " 'emline_gew_peak_ha_6564': 37.87427,\n",
       " 'emline_gew_peak_nii_6585': 12.67484,\n",
       " 'emline_gew_peak_sii_6718': 9.060256,\n",
       " 'emline_gew_peak_sii_6732': 8.58594,\n",
       " 'specindex_lo_cn1': -0.36732063,\n",
       " 'specindex_lo_cn2': -0.50265694,\n",
       " 'specindex_lo_ca4227': -6.6911736,\n",
       " 'specindex_lo_g4300': -9.574901,\n",
       " 'specindex_lo_fe4383': -9.62769,\n",
       " 'specindex_lo_ca4455': -15.169691,\n",
       " 'specindex_lo_fe4531': -12.209097,\n",
       " 'specindex_lo_c24668': -27.830086,\n",
       " 'specindex_lo_hb': -4.7544847,\n",
       " 'specindex_lo_fe5015': -25.883041,\n",
       " 'specindex_lo_mg1': -0.105826944,\n",
       " 'specindex_lo_mg2': -0.08485867,\n",
       " 'specindex_lo_mgb': -5.219403,\n",
       " 'specindex_lo_fe5270': -15.688294,\n",
       " 'specindex_lo_fe5335': -999.0,\n",
       " 'specindex_lo_fe5406': -7.124665,\n",
       " 'specindex_lo_fe5709': -15.771476,\n",
       " 'specindex_lo_fe5782': -8.484196,\n",
       " 'specindex_lo_nad': -13.312887,\n",
       " 'specindex_lo_tio1': -0.15939379,\n",
       " 'specindex_lo_tio2': -0.008055623,\n",
       " 'specindex_lo_hdeltaa': -2.8050091,\n",
       " 'specindex_lo_hgammaa': -15.50174,\n",
       " 'specindex_lo_hdeltaf': -2.7838402,\n",
       " 'specindex_lo_hgammaf': -1.3625861,\n",
       " 'specindex_lo_cahk': -39.276043,\n",
       " 'specindex_lo_caii1': -8.669105,\n",
       " 'specindex_lo_caii2': -4.293009,\n",
       " 'specindex_lo_caii3': -19.1316,\n",
       " 'specindex_lo_pa17': -7.34774,\n",
       " 'specindex_lo_pa14': -106.33945,\n",
       " 'specindex_lo_pa12': -16.326445,\n",
       " 'specindex_lo_mgicvd': -2.5356696,\n",
       " 'specindex_lo_naicvd': -12.896213,\n",
       " 'specindex_lo_mgiir': -4.677001,\n",
       " 'specindex_lo_fehcvd': -999.0,\n",
       " 'specindex_lo_nai': -8.96253,\n",
       " 'specindex_lo_btio': -0.3768788,\n",
       " 'specindex_lo_atio': -0.099575624,\n",
       " 'specindex_lo_cah1': -0.16689076,\n",
       " 'specindex_lo_cah2': -0.21050885,\n",
       " 'specindex_lo_naisdss': -2.102233,\n",
       " 'specindex_lo_tio2sdss': -0.026733777,\n",
       " 'specindex_lo_d4000': 1.3803755,\n",
       " 'specindex_lo_dn4000': 1.1372832,\n",
       " 'specindex_lo_tiocvd': 0.669907,\n",
       " 'specindex_hi_cn1': 0.20690726,\n",
       " 'specindex_hi_cn2': 0.23403849,\n",
       " 'specindex_hi_ca4227': 7.1192923,\n",
       " 'specindex_hi_g4300': 14.272084,\n",
       " 'specindex_hi_fe4383': 20.136677,\n",
       " 'specindex_hi_ca4455': 7.571451,\n",
       " 'specindex_hi_fe4531': 13.780079,\n",
       " 'specindex_hi_c24668': 13.029904,\n",
       " 'specindex_hi_hb': 10.102457,\n",
       " 'specindex_hi_fe5015': 10.167952,\n",
       " 'specindex_hi_mg1': 0.21013664,\n",
       " 'specindex_hi_mg2': 0.20562616,\n",
       " 'specindex_hi_mgb': 6.6207366,\n",
       " 'specindex_hi_fe5270': 7.851519,\n",
       " 'specindex_hi_fe5335': -999.0,\n",
       " 'specindex_hi_fe5406': 8.051439,\n",
       " 'specindex_hi_fe5709': 7.729172,\n",
       " 'specindex_hi_fe5782': 7.2380276,\n",
       " 'specindex_hi_nad': 7.7634287,\n",
       " 'specindex_hi_tio1': 0.20994593,\n",
       " 'specindex_hi_tio2': 0.23014522,\n",
       " 'specindex_hi_hdeltaa': 12.943827,\n",
       " 'specindex_hi_hgammaa': 14.670104,\n",
       " 'specindex_hi_hdeltaf': 11.168492,\n",
       " 'specindex_hi_hgammaf': 8.349498,\n",
       " 'specindex_hi_cahk': 41.84755,\n",
       " 'specindex_hi_caii1': 27.60105,\n",
       " 'specindex_hi_caii2': 26.927216,\n",
       " 'specindex_hi_caii3': 10.420651,\n",
       " 'specindex_hi_pa17': 13.3753,\n",
       " 'specindex_hi_pa14': 139.7757,\n",
       " 'specindex_hi_pa12': 6.846839,\n",
       " 'specindex_hi_mgicvd': 12.777427,\n",
       " 'specindex_hi_naicvd': 12.615888,\n",
       " 'specindex_hi_mgiir': 11.563297,\n",
       " 'specindex_hi_fehcvd': -999.0,\n",
       " 'specindex_hi_nai': 15.567846,\n",
       " 'specindex_hi_btio': 0.14632416,\n",
       " 'specindex_hi_atio': 0.1956641,\n",
       " 'specindex_hi_cah1': 0.1981567,\n",
       " 'specindex_hi_cah2': 0.14518185,\n",
       " 'specindex_hi_naisdss': 8.083093,\n",
       " 'specindex_hi_tio2sdss': 0.23847778,\n",
       " 'specindex_hi_d4000': 3.668685,\n",
       " 'specindex_hi_dn4000': 3.5204535,\n",
       " 'specindex_hi_tiocvd': 1.2258942,\n",
       " 'specindex_lo_clip_cn1': -0.3073739,\n",
       " 'specindex_lo_clip_cn2': -0.3656546,\n",
       " 'specindex_lo_clip_ca4227': -3.2164998,\n",
       " 'specindex_lo_clip_g4300': -5.9517255,\n",
       " 'specindex_lo_clip_fe4383': -7.1687245,\n",
       " 'specindex_lo_clip_ca4455': -6.4760885,\n",
       " 'specindex_lo_clip_fe4531': -6.032057,\n",
       " 'specindex_lo_clip_c24668': -10.496529,\n",
       " 'specindex_lo_clip_hb': -0.7645767,\n",
       " 'specindex_lo_clip_fe5015': -7.718187,\n",
       " 'specindex_lo_clip_mg1': -0.08838088,\n",
       " 'specindex_lo_clip_mg2': -0.03558516,\n",
       " 'specindex_lo_clip_mgb': -2.0792913,\n",
       " 'specindex_lo_clip_fe5270': -5.584293,\n",
       " 'specindex_lo_clip_fe5335': -999.0,\n",
       " 'specindex_lo_clip_fe5406': -2.785225,\n",
       " 'specindex_lo_clip_fe5709': -4.3595862,\n",
       " 'specindex_lo_clip_fe5782': -6.634539,\n",
       " 'specindex_lo_clip_nad': -4.9086585,\n",
       " 'specindex_lo_clip_tio1': -0.13928652,\n",
       " 'specindex_lo_clip_tio2': -0.009044982,\n",
       " 'specindex_lo_clip_hdeltaa': -1.7011722,\n",
       " 'specindex_lo_clip_hgammaa': -9.475805,\n",
       " 'specindex_lo_clip_hdeltaf': -1.3497192,\n",
       " 'specindex_lo_clip_hgammaf': -0.8350453,\n",
       " 'specindex_lo_clip_cahk': -4.6628957,\n",
       " 'specindex_lo_clip_caii1': -4.8920765,\n",
       " 'specindex_lo_clip_caii2': -3.459737,\n",
       " 'specindex_lo_clip_caii3': -9.200775,\n",
       " 'specindex_lo_clip_pa17': -5.265324,\n",
       " 'specindex_lo_clip_pa14': -2.6711807,\n",
       " 'specindex_lo_clip_pa12': -7.5326767,\n",
       " 'specindex_lo_clip_mgicvd': -1.1123719,\n",
       " 'specindex_lo_clip_naicvd': -8.709009,\n",
       " 'specindex_lo_clip_mgiir': -4.3319345,\n",
       " 'specindex_lo_clip_fehcvd': -999.0,\n",
       " 'specindex_lo_clip_nai': -7.0659637,\n",
       " 'specindex_lo_clip_btio': -0.2615575,\n",
       " 'specindex_lo_clip_atio': -0.09989268,\n",
       " 'specindex_lo_clip_cah1': -0.1647923,\n",
       " 'specindex_lo_clip_cah2': -0.13944207,\n",
       " 'specindex_lo_clip_naisdss': -1.9376982,\n",
       " 'specindex_lo_clip_tio2sdss': -0.02195934,\n",
       " 'specindex_lo_clip_d4000': 1.3719034,\n",
       " 'specindex_lo_clip_dn4000': 1.1170316,\n",
       " 'specindex_lo_clip_tiocvd': 0.7291488,\n",
       " 'specindex_hi_clip_cn1': 0.0114914635,\n",
       " 'specindex_hi_clip_cn2': 0.17341022,\n",
       " 'specindex_hi_clip_ca4227': 5.834103,\n",
       " 'specindex_hi_clip_g4300': 14.003687,\n",
       " 'specindex_hi_clip_fe4383': 14.436081,\n",
       " 'specindex_hi_clip_ca4455': 6.600238,\n",
       " 'specindex_hi_clip_fe4531': 12.098159,\n",
       " 'specindex_hi_clip_c24668': 11.415303,\n",
       " 'specindex_hi_clip_hb': 6.9402833,\n",
       " 'specindex_hi_clip_fe5015': 10.124216,\n",
       " 'specindex_hi_clip_mg1': 0.1736607,\n",
       " 'specindex_hi_clip_mg2': 0.20593277,\n",
       " 'specindex_hi_clip_mgb': 5.929046,\n",
       " 'specindex_hi_clip_fe5270': 6.390092,\n",
       " 'specindex_hi_clip_fe5335': -999.0,\n",
       " 'specindex_hi_clip_fe5406': 6.5081964,\n",
       " 'specindex_hi_clip_fe5709': 6.248942,\n",
       " 'specindex_hi_clip_fe5782': 7.02005,\n",
       " 'specindex_hi_clip_nad': 7.0884485,\n",
       " 'specindex_hi_clip_tio1': 0.16251288,\n",
       " 'specindex_hi_clip_tio2': 0.19260225,\n",
       " 'specindex_hi_clip_hdeltaa': 12.270476,\n",
       " 'specindex_hi_clip_hgammaa': 13.767747,\n",
       " 'specindex_hi_clip_hdeltaf': 8.113204,\n",
       " 'specindex_hi_clip_hgammaf': 7.6214685,\n",
       " 'specindex_hi_clip_cahk': 30.437012,\n",
       " 'specindex_hi_clip_caii1': 17.472021,\n",
       " 'specindex_hi_clip_caii2': 25.761072,\n",
       " 'specindex_hi_clip_caii3': 10.617257,\n",
       " 'specindex_hi_clip_pa17': 11.354992,\n",
       " 'specindex_hi_clip_pa14': 18.284037,\n",
       " 'specindex_hi_clip_pa12': 6.591611,\n",
       " 'specindex_hi_clip_mgicvd': 8.629375,\n",
       " 'specindex_hi_clip_naicvd': 10.680796,\n",
       " 'specindex_hi_clip_mgiir': 9.003777,\n",
       " 'specindex_hi_clip_fehcvd': -999.0,\n",
       " 'specindex_hi_clip_nai': 12.820754,\n",
       " 'specindex_hi_clip_btio': 0.14827053,\n",
       " 'specindex_hi_clip_atio': 0.122670874,\n",
       " 'specindex_hi_clip_cah1': 0.17446508,\n",
       " 'specindex_hi_clip_cah2': 0.13411099,\n",
       " 'specindex_hi_clip_naisdss': 4.474917,\n",
       " 'specindex_hi_clip_tio2sdss': 0.17332649,\n",
       " 'specindex_hi_clip_d4000': 1.9498507,\n",
       " 'specindex_hi_clip_dn4000': 1.6538978,\n",
       " 'specindex_hi_clip_tiocvd': 1.2162858,\n",
       " 'specindex_1re_cn1': -0.08720913,\n",
       " 'specindex_1re_cn2': -0.043823235,\n",
       " 'specindex_1re_ca4227': 0.51708597,\n",
       " 'specindex_1re_g4300': 2.1950896,\n",
       " 'specindex_1re_fe4383': 2.954662,\n",
       " 'specindex_1re_ca4455': 0.88790166,\n",
       " 'specindex_1re_fe4531': 2.2474144,\n",
       " 'specindex_1re_c24668': 3.1789286,\n",
       " 'specindex_1re_hb': 3.3953793,\n",
       " 'specindex_1re_fe5015': 2.8564656,\n",
       " 'specindex_1re_mg1': 0.04131011,\n",
       " 'specindex_1re_mg2': 0.11530561,\n",
       " 'specindex_1re_mgb': 1.9643333,\n",
       " 'specindex_1re_fe5270': 1.6138657,\n",
       " 'specindex_1re_fe5335': -999.0,\n",
       " 'specindex_1re_fe5406': 1.3561558,\n",
       " 'specindex_1re_fe5709': 0.88099754,\n",
       " 'specindex_1re_fe5782': 1.0903766,\n",
       " 'specindex_1re_nad': 1.8638027,\n",
       " 'specindex_1re_tio1': 0.022415683,\n",
       " 'specindex_1re_tio2': 0.050308425,\n",
       " 'specindex_1re_hdeltaa': 3.875484,\n",
       " 'specindex_1re_hgammaa': 1.7138364,\n",
       " 'specindex_1re_hdeltaf': 3.4496071,\n",
       " 'specindex_1re_hgammaf': 2.7258954,\n",
       " 'specindex_1re_cahk': 10.846194,\n",
       " 'specindex_1re_caii1': 1.3093591,\n",
       " 'specindex_1re_caii2': 4.182102,\n",
       " 'specindex_1re_caii3': 2.8272383,\n",
       " 'specindex_1re_pa17': 0.039932273,\n",
       " 'specindex_1re_pa14': 0.16481617,\n",
       " 'specindex_1re_pa12': 0.652461,\n",
       " 'specindex_1re_mgicvd': 3.1792862,\n",
       " 'specindex_1re_naicvd': 0.3017298,\n",
       " 'specindex_1re_mgiir': 0.6429447,\n",
       " 'specindex_1re_fehcvd': -999.0,\n",
       " 'specindex_1re_nai': 1.0878156,\n",
       " 'specindex_1re_btio': 0.003519229,\n",
       " 'specindex_1re_atio': 0.007865128,\n",
       " 'specindex_1re_cah1': 0.003056613,\n",
       " 'specindex_1re_cah2': 0.009448396,\n",
       " 'specindex_1re_naisdss': 0.48940623,\n",
       " 'specindex_1re_tio2sdss': 0.0590113,\n",
       " 'specindex_1re_d4000': 1.5279337,\n",
       " 'specindex_1re_dn4000': 1.3402184,\n",
       " 'specindex_1re_tiocvd': 1.053489,\n",
       " 'sfr_1re': 0.054571714,\n",
       " 'sfr_tot': 0.139466,\n",
       " 'stellar_rchi2_1re': 1.1334432,\n",
       " 'emline_rchi2_1re': 1.3900739,\n",
       " 'emline_sflux_cen_hei_3889': -999.0,\n",
       " 'emline_sflux_cen_ni_5199': 3.7148147,\n",
       " 'emline_sflux_cen_ni_5201': -999.0,\n",
       " 'emline_sflux_1re_hei_3889': -999.0,\n",
       " 'emline_sflux_1re_ni_5199': 3.7148147,\n",
       " 'emline_sflux_1re_ni_5201': -999.0,\n",
       " 'emline_sflux_tot_hei_3889': -999.0,\n",
       " 'emline_sflux_tot_ni_5199': 19.98231,\n",
       " 'emline_sflux_tot_ni_5201': -999.0,\n",
       " 'emline_ssb_1re_hei_3889': -999.0,\n",
       " 'emline_ssb_1re_ni_5199': 0.17689593,\n",
       " 'emline_ssb_1re_ni_5201': -999.0,\n",
       " 'emline_ssb_peak_hei_3889': -999.0,\n",
       " 'emline_ssb_peak_ni_5199': 0.29362875,\n",
       " 'emline_ssb_peak_ni_5201': -999.0,\n",
       " 'emline_sew_1re_hei_3889': -999.0,\n",
       " 'emline_sew_1re_ni_5199': 0.21299317,\n",
       " 'emline_sew_1re_ni_5201': -999.0,\n",
       " 'emline_sew_peak_hei_3889': -999.0,\n",
       " 'emline_sew_peak_ni_5199': 9.694489,\n",
       " 'emline_sew_peak_ni_5201': -999.0,\n",
       " 'emline_gflux_cen_hei_3889': 1.0116314,\n",
       " 'emline_gflux_cen_ni_5199': 5.0648713,\n",
       " 'emline_gflux_cen_ni_5201': 2.3603525,\n",
       " 'emline_gflux_1re_hei_3889': 1.0116314,\n",
       " 'emline_gflux_1re_ni_5199': 5.0648713,\n",
       " 'emline_gflux_1re_ni_5201': 2.3603525,\n",
       " 'emline_gflux_tot_hei_3889': 7.584647,\n",
       " 'emline_gflux_tot_ni_5199': 19.989307,\n",
       " 'emline_gflux_tot_ni_5201': 16.066818,\n",
       " 'emline_gsb_1re_hei_3889': 0.04817292,\n",
       " 'emline_gsb_1re_ni_5199': 0.24118435,\n",
       " 'emline_gsb_1re_ni_5201': 0.11239774,\n",
       " 'emline_gsb_peak_hei_3889': 0.45651108,\n",
       " 'emline_gsb_peak_ni_5199': 0.34398335,\n",
       " 'emline_gsb_peak_ni_5201': 0.25511917,\n",
       " 'emline_gew_1re_hei_3889': 0.06379515,\n",
       " 'emline_gew_1re_ni_5199': 0.2869513,\n",
       " 'emline_gew_1re_ni_5201': 0.13552101,\n",
       " 'emline_gew_peak_hei_3889': 123.96626,\n",
       " 'emline_gew_peak_ni_5199': 7.464558,\n",
       " 'emline_gew_peak_ni_5201': 7.462679,\n",
       " 'emline_sflux_cen_h12_3751': -1.891456,\n",
       " 'emline_sflux_cen_h11_3771': 2.8899806,\n",
       " 'emline_sflux_cen_hei_7067': 0.2880809,\n",
       " 'emline_sflux_cen_ariii_7137': 7.0837994,\n",
       " 'emline_sflux_cen_ariii_7753': 5.082034,\n",
       " 'emline_sflux_cen_peta_9017': 8.162467,\n",
       " 'emline_sflux_cen_siii_9071': 12.832713,\n",
       " 'emline_sflux_cen_pzet_9231': 6.590832,\n",
       " 'emline_sflux_cen_siii_9533': 65.96332,\n",
       " 'emline_sflux_cen_peps_9548': 43.840557,\n",
       " 'emline_sflux_1re_h12_3751': -1.891456,\n",
       " 'emline_sflux_1re_h11_3771': 2.8899806,\n",
       " 'emline_sflux_1re_hei_7067': 0.2880809,\n",
       " 'emline_sflux_1re_ariii_7137': 7.0837994,\n",
       " 'emline_sflux_1re_ariii_7753': 5.082034,\n",
       " 'emline_sflux_1re_peta_9017': 8.162467,\n",
       " 'emline_sflux_1re_siii_9071': 12.832713,\n",
       " 'emline_sflux_1re_pzet_9231': 6.590832,\n",
       " 'emline_sflux_1re_siii_9533': 65.96332,\n",
       " 'emline_sflux_1re_peps_9548': 43.840557,\n",
       " 'emline_sflux_tot_h12_3751': -7.263644,\n",
       " 'emline_sflux_tot_h11_3771': -0.8207253,\n",
       " 'emline_sflux_tot_hei_7067': -10.871338,\n",
       " 'emline_sflux_tot_ariii_7137': 10.163232,\n",
       " 'emline_sflux_tot_ariii_7753': 33.712914,\n",
       " 'emline_sflux_tot_peta_9017': 83.858604,\n",
       " 'emline_sflux_tot_siii_9071': -9.99799,\n",
       " 'emline_sflux_tot_pzet_9231': 49.01021,\n",
       " 'emline_sflux_tot_siii_9533': 179.8628,\n",
       " 'emline_sflux_tot_peps_9548': 218.29233,\n",
       " 'emline_ssb_1re_h12_3751': -0.09006933,\n",
       " 'emline_ssb_1re_h11_3771': 0.13761812,\n",
       " 'emline_ssb_1re_hei_7067': 0.013718138,\n",
       " 'emline_ssb_1re_ariii_7137': 0.33732378,\n",
       " 'emline_ssb_1re_ariii_7753': 0.24200162,\n",
       " 'emline_ssb_1re_peta_9017': 0.3886889,\n",
       " 'emline_ssb_1re_siii_9071': 0.6110816,\n",
       " 'emline_ssb_1re_pzet_9231': 0.31384915,\n",
       " 'emline_ssb_1re_siii_9533': 3.1411104,\n",
       " 'emline_ssb_1re_peps_9548': 2.0876455,\n",
       " 'emline_ssb_peak_h12_3751': 0.1854886,\n",
       " 'emline_ssb_peak_h11_3771': 0.38516578,\n",
       " 'emline_ssb_peak_hei_7067': 0.18536228,\n",
       " 'emline_ssb_peak_ariii_7137': 0.4846738,\n",
       " 'emline_ssb_peak_ariii_7753': 0.7496623,\n",
       " 'emline_ssb_peak_peta_9017': 1.9507607,\n",
       " 'emline_ssb_peak_siii_9071': 0.9891535,\n",
       " 'emline_ssb_peak_pzet_9231': 0.8261156,\n",
       " 'emline_ssb_peak_siii_9533': 4.148073,\n",
       " 'emline_ssb_peak_peps_9548': 2.5382326,\n",
       " 'emline_sew_1re_h12_3751': -0.16280438,\n",
       " 'emline_sew_1re_h11_3771': 0.22371916,\n",
       " 'emline_sew_1re_hei_7067': 0.018773844,\n",
       " 'emline_sew_1re_ariii_7137': 0.38695043,\n",
       " 'emline_sew_1re_ariii_7753': 0.29947457,\n",
       " 'emline_sew_1re_peta_9017': 0.47765663,\n",
       " 'emline_sew_1re_siii_9071': 0.723995,\n",
       " 'emline_sew_1re_pzet_9231': 0.42086932,\n",
       " 'emline_sew_1re_siii_9533': 4.2722306,\n",
       " 'emline_sew_1re_peps_9548': 2.9247372,\n",
       " 'emline_sew_peak_h12_3751': 15.486786,\n",
       " 'emline_sew_peak_h11_3771': 49.163853,\n",
       " 'emline_sew_peak_hei_7067': 14.5600815,\n",
       " 'emline_sew_peak_ariii_7137': 6.597747,\n",
       " 'emline_sew_peak_ariii_7753': 18.775183,\n",
       " 'emline_sew_peak_peta_9017': 396.79584,\n",
       " 'emline_sew_peak_siii_9071': 80.92746,\n",
       " 'emline_sew_peak_pzet_9231': 78.548706,\n",
       " 'emline_sew_peak_siii_9533': 37.238308,\n",
       " 'emline_sew_peak_peps_9548': 110.24778,\n",
       " 'emline_gflux_cen_h12_3751': 0.15770625,\n",
       " 'emline_gflux_cen_h11_3771': 0.55887127,\n",
       " 'emline_gflux_cen_hei_7067': 2.2533581,\n",
       " 'emline_gflux_cen_ariii_7137': 3.7651653,\n",
       " 'emline_gflux_cen_ariii_7753': 0.74717444,\n",
       " 'emline_gflux_cen_peta_9017': 13.321304,\n",
       " 'emline_gflux_cen_siii_9071': 27.464516,\n",
       " 'emline_gflux_cen_pzet_9231': 9.614932,\n",
       " 'emline_gflux_cen_siii_9533': 66.98663,\n",
       " 'emline_gflux_cen_peps_9548': 25.919367,\n",
       " 'emline_gflux_1re_h12_3751': 0.15770625,\n",
       " 'emline_gflux_1re_h11_3771': 0.55887127,\n",
       " 'emline_gflux_1re_hei_7067': 2.2533581,\n",
       " 'emline_gflux_1re_ariii_7137': 3.7651653,\n",
       " 'emline_gflux_1re_ariii_7753': 0.74717444,\n",
       " 'emline_gflux_1re_peta_9017': 13.321304,\n",
       " 'emline_gflux_1re_siii_9071': 27.464516,\n",
       " 'emline_gflux_1re_pzet_9231': 9.614932,\n",
       " 'emline_gflux_1re_siii_9533': 66.98663,\n",
       " 'emline_gflux_1re_peps_9548': 25.919367,\n",
       " 'emline_gflux_tot_h12_3751': 11.131106,\n",
       " 'emline_gflux_tot_h11_3771': 11.559845,\n",
       " 'emline_gflux_tot_hei_7067': 7.7153745,\n",
       " 'emline_gflux_tot_ariii_7137': 24.52319,\n",
       " 'emline_gflux_tot_ariii_7753': 16.362139,\n",
       " 'emline_gflux_tot_peta_9017': 119.01115,\n",
       " 'emline_gflux_tot_siii_9071': 145.97542,\n",
       " 'emline_gflux_tot_pzet_9231': 65.99184,\n",
       " 'emline_gflux_tot_siii_9533': 247.92728,\n",
       " 'emline_gflux_tot_peps_9548': 129.62827,\n",
       " 'emline_gsb_1re_h12_3751': 0.007509821,\n",
       " 'emline_gsb_1re_h11_3771': 0.026612917,\n",
       " 'emline_gsb_1re_hei_7067': 0.10730277,\n",
       " 'emline_gsb_1re_ariii_7137': 0.17929359,\n",
       " 'emline_gsb_1re_ariii_7753': 0.035579734,\n",
       " 'emline_gsb_1re_peta_9017': 0.6660652,\n",
       " 'emline_gsb_1re_siii_9071': 1.307834,\n",
       " 'emline_gsb_1re_pzet_9231': 0.4578539,\n",
       " 'emline_gsb_1re_siii_9533': 3.1898396,\n",
       " 'emline_gsb_1re_peps_9548': 1.2342556,\n",
       " 'emline_gsb_peak_h12_3751': 0.27470806,\n",
       " 'emline_gsb_peak_h11_3771': 0.45523643,\n",
       " 'emline_gsb_peak_hei_7067': 0.28185302,\n",
       " 'emline_gsb_peak_ariii_7137': 0.39151424,\n",
       " 'emline_gsb_peak_ariii_7753': 0.30227146,\n",
       " 'emline_gsb_peak_peta_9017': 3.6677163,\n",
       " 'emline_gsb_peak_siii_9071': 1.6529373,\n",
       " 'emline_gsb_peak_pzet_9231': 1.4403874,\n",
       " 'emline_gsb_peak_siii_9533': 4.031554,\n",
       " 'emline_gsb_peak_peps_9548': 1.4060215,\n",
       " 'emline_gew_1re_h12_3751': 0.016079608,\n",
       " 'emline_gew_1re_h11_3771': 0.040870592,\n",
       " 'emline_gew_1re_hei_7067': 0.1156062,\n",
       " 'emline_gew_1re_ariii_7137': 0.2052838,\n",
       " 'emline_gew_1re_ariii_7753': 0.0444234,\n",
       " 'emline_gew_1re_peta_9017': 0.7747051,\n",
       " 'emline_gew_1re_siii_9071': 1.5631218,\n",
       " 'emline_gew_1re_pzet_9231': 0.5988776,\n",
       " 'emline_gew_1re_siii_9533': 4.3384514,\n",
       " 'emline_gew_1re_peps_9548': 1.7261509,\n",
       " 'emline_gew_peak_h12_3751': 20.405901,\n",
       " 'emline_gew_peak_h11_3771': 30.830353,\n",
       " 'emline_gew_peak_hei_7067': 15.403333,\n",
       " 'emline_gew_peak_ariii_7137': 19.897764,\n",
       " 'emline_gew_peak_ariii_7753': 15.621719,\n",
       " 'emline_gew_peak_peta_9017': 263.4601,\n",
       " 'emline_gew_peak_siii_9071': 65.8055,\n",
       " 'emline_gew_peak_pzet_9231': 78.359344,\n",
       " 'emline_gew_peak_siii_9533': 154.2989,\n",
       " 'emline_gew_peak_peps_9548': 140.32741}"
      ]
     },
     "execution_count": 30,
     "metadata": {},
     "output_type": "execute_result"
    }
   ],
   "source": [
    "# look at the DAP all properties from the maps instance\n",
    "maps.dapall"
   ]
  },
  {
   "cell_type": "markdown",
   "metadata": {},
   "source": [
    "SDSS members produce Value-Added Catalogs (VACS) of MaNGA products.  These products can be incorporated into Marvin.  Any incorporated VACS in Marvin are contained in the ``vacs`` attribute attached to each tool.  More information on VACs in Marvin can be found [here](https://sdss-marvin.readthedocs.io/en/stable/tools/catalogues.html#value-added-catalogs-vacs).  Currently the MaNGA-HI VAC for DR15 has been contributed into Marvin.  Let's take a look at it.  "
   ]
  },
  {
   "cell_type": "code",
   "execution_count": 31,
   "metadata": {
    "execution": {
     "iopub.execute_input": "2022-05-25T12:42:13.973368Z",
     "iopub.status.busy": "2022-05-25T12:42:13.972786Z",
     "iopub.status.idle": "2022-05-25T12:42:13.984577Z",
     "shell.execute_reply": "2022-05-25T12:42:13.983181Z",
     "shell.execute_reply.started": "2022-05-25T12:42:13.973321Z"
    }
   },
   "outputs": [
    {
     "data": {
      "text/plain": [
       "<VACContainer ('firefly', 'galaxyzoo', 'gz3d', 'gema', 'HI')>"
      ]
     },
     "execution_count": 31,
     "metadata": {},
     "output_type": "execute_result"
    }
   ],
   "source": [
    "# access the available VACs for this object\n",
    "vacs = cube.vacs\n",
    "vacs"
   ]
  },
  {
   "cell_type": "markdown",
   "metadata": {},
   "source": [
    "**vacs** is a container (list) of all names of the vacs contributed into Marvin.  These names are dottable to access to vac data.  These contributed custom products can be of any format chosen by the VAC owner, a Python class, a dictionary, an array, etc.  "
   ]
  },
  {
   "cell_type": "code",
   "execution_count": 33,
   "metadata": {
    "execution": {
     "iopub.execute_input": "2022-05-25T12:42:33.223067Z",
     "iopub.status.busy": "2022-05-25T12:42:33.222216Z",
     "iopub.status.idle": "2022-05-25T12:42:34.226891Z",
     "shell.execute_reply": "2022-05-25T12:42:34.224929Z",
     "shell.execute_reply.started": "2022-05-25T12:42:33.223014Z"
    },
    "tags": []
   },
   "outputs": [
    {
     "name": "stderr",
     "output_type": "stream",
     "text": [
      "\u001b[0;34m[INFO]: \u001b[0mUsing HI data from gbt\n"
     ]
    },
    {
     "name": "stdout",
     "output_type": "stream",
     "text": [
      "Target(8485-1901)\n",
      "data type: <class 'marvin.contrib.vacs.hi.HITarget'>\n"
     ]
    },
    {
     "data": {
      "text/plain": [
       "'No data exists for 8485-1901'"
      ]
     },
     "execution_count": 33,
     "metadata": {},
     "output_type": "execute_result"
    }
   ],
   "source": [
    "# access the mangahi vac\n",
    "hi = vacs.HI\n",
    "print(hi)\n",
    "print('data type:', type(hi))\n",
    "\n",
    "# access any HI data available for 8485-1901\n",
    "hi.data"
   ]
  },
  {
   "cell_type": "markdown",
   "metadata": {},
   "source": [
    "Let's load HI data for another galaxy"
   ]
  },
  {
   "cell_type": "code",
   "execution_count": 35,
   "metadata": {
    "execution": {
     "iopub.execute_input": "2022-05-25T12:42:41.644335Z",
     "iopub.status.busy": "2022-05-25T12:42:41.643524Z",
     "iopub.status.idle": "2022-05-25T12:42:41.911623Z",
     "shell.execute_reply": "2022-05-25T12:42:41.909950Z",
     "shell.execute_reply.started": "2022-05-25T12:42:41.644282Z"
    },
    "tags": []
   },
   "outputs": [
    {
     "name": "stderr",
     "output_type": "stream",
     "text": [
      "\u001b[0;34m[INFO]: \u001b[0mUsing HI data from gbt\n"
     ]
    },
    {
     "name": "stdout",
     "output_type": "stream",
     "text": [
      "Target(7443-12701)\n",
      "[('7443-12701', '12-98126', 230.50746239, 43.53234133, 9.69312784, 0.68307342, 6143.4, 'AGBT16A_095_14-AGBT20B_328_09', 1674.7793, 1.1684214, 8.623395, -999., -999., -999., -999., -999., -999., -999., -999., -999., -999., -999., -999., -999., -999., -999., -999., -999., -999., -999., 0, 0, 0, 0.)]\n"
     ]
    }
   ],
   "source": [
    "c = Cube('7443-12701')\n",
    "hi = c.vacs.HI\n",
    "print(hi)\n",
    "print(hi.data)"
   ]
  },
  {
   "cell_type": "markdown",
   "metadata": {},
   "source": [
    "We can plot the HI spectrum for the object with the `plot_spectrum` method."
   ]
  },
  {
   "cell_type": "code",
   "execution_count": 36,
   "metadata": {
    "execution": {
     "iopub.execute_input": "2022-05-25T12:42:46.716290Z",
     "iopub.status.busy": "2022-05-25T12:42:46.715466Z",
     "iopub.status.idle": "2022-05-25T12:42:47.482572Z",
     "shell.execute_reply": "2022-05-25T12:42:47.480805Z",
     "shell.execute_reply.started": "2022-05-25T12:42:46.716238Z"
    },
    "tags": []
   },
   "outputs": [
    {
     "data": {
      "text/plain": [
       "<AxesSubplot:title={'center':'7443-12701'}, xlabel='$\\\\mathrm{Velocity}\\\\,[$$\\\\mathrm{\\\\frac{km}{s}}$$]$', ylabel='$\\\\mathrm{HI\\\\ Flux\\\\ Density}\\\\,[$$\\\\mathrm{Jy}$$]$'>"
      ]
     },
     "execution_count": 36,
     "metadata": {},
     "output_type": "execute_result"
    },
    {
     "data": {
      "image/png": "[encoded data removed]",
      "text/plain": [
       "<Figure size 432x288 with 1 Axes>"
      ]
     },
     "metadata": {},
     "output_type": "display_data"
    }
   ],
   "source": [
    "hi.plot_spectrum()"
   ]
  },
  {
   "cell_type": "markdown",
   "metadata": {},
   "source": [
    "<a id=\"spaxels\"></a>\n",
    "### Interacting with Spaxels\n",
    "All of the core Marvin Galaxy Tools have the ability to extract one ore more ``Spaxel`` objects.  ``Spaxel`` objects are special Marvin objects to make it easier to deal with individual spaxels in galaxies and access their properties.  See the [Getting Started with Spaxels](https://sdss-marvin.readthedocs.io/en/stable/tools/spaxel.html#marvin-spaxel) for more information on how to interact with ``Spaxels``.  We can either use the standard array slicing notation (0-indexed, origin of coordinates in the lower left corner of the array)"
   ]
  },
  {
   "cell_type": "code",
   "execution_count": 37,
   "metadata": {
    "execution": {
     "iopub.execute_input": "2022-05-25T12:42:48.404136Z",
     "iopub.status.busy": "2022-05-25T12:42:48.403343Z",
     "iopub.status.idle": "2022-05-25T12:42:48.453662Z",
     "shell.execute_reply": "2022-05-25T12:42:48.452007Z",
     "shell.execute_reply.started": "2022-05-25T12:42:48.404084Z"
    },
    "tags": []
   },
   "outputs": [
    {
     "data": {
      "text/plain": [
       "<Marvin Spaxel (plateifu=8485-1901, x=10, y=15; x_cen=-7, y_cen=-2, loaded=cube)>"
      ]
     },
     "execution_count": 37,
     "metadata": {},
     "output_type": "execute_result"
    }
   ],
   "source": [
    "# extract the spaxel at array index x=10, y=15\n",
    "spaxel = cube[15, 10]\n",
    "spaxel"
   ]
  },
  {
   "cell_type": "markdown",
   "metadata": {},
   "source": [
    "or we can use ``getSpaxel`` method, which accepts multiple arguments. Note that by default, (x, y) coordinates passed to ``getSpaxel`` are measured from the center of the array."
   ]
  },
  {
   "cell_type": "code",
   "execution_count": 38,
   "metadata": {
    "execution": {
     "iopub.execute_input": "2022-05-25T12:42:49.347916Z",
     "iopub.status.busy": "2022-05-25T12:42:49.347143Z",
     "iopub.status.idle": "2022-05-25T12:42:49.373499Z",
     "shell.execute_reply": "2022-05-25T12:42:49.371800Z",
     "shell.execute_reply.started": "2022-05-25T12:42:49.347847Z"
    },
    "tags": []
   },
   "outputs": [
    {
     "data": {
      "text/plain": [
       "<Marvin Spaxel (plateifu=8485-1901, x=17, y=17; x_cen=0, y_cen=0, loaded=cube)>"
      ]
     },
     "execution_count": 38,
     "metadata": {},
     "output_type": "execute_result"
    }
   ],
   "source": [
    "# get the spaxel at the center of the target galaxy\n",
    "central_spaxel = cube.getSpaxel(x=0, y=0)\n",
    "central_spaxel"
   ]
  },
  {
   "cell_type": "code",
   "execution_count": 39,
   "metadata": {
    "execution": {
     "iopub.execute_input": "2022-05-25T12:42:49.761981Z",
     "iopub.status.busy": "2022-05-25T12:42:49.760389Z",
     "iopub.status.idle": "2022-05-25T12:42:50.489915Z",
     "shell.execute_reply": "2022-05-25T12:42:50.487949Z",
     "shell.execute_reply.started": "2022-05-25T12:42:49.761929Z"
    },
    "tags": []
   },
   "outputs": [
    {
     "data": {
      "text/plain": [
       "<AxesSubplot:xlabel='$\\\\mathrm{Wavelength}\\\\,[$$\\\\mathrm{\\\\mathring{A}}$$]$', ylabel='$\\\\mathrm{Flux}\\\\,[$$\\\\mathrm{1 \\\\times 10^{-17}\\\\,erg\\\\,\\\\mathring{A}^{-1}\\\\,s^{-1}\\\\,spaxel^{-1}\\\\,cm^{-2}}$$]$'>"
      ]
     },
     "execution_count": 39,
     "metadata": {},
     "output_type": "execute_result"
    },
    {
     "data": {
      "image/png": "[encoded data removed]",
      "text/plain": [
       "<Figure size 432x288 with 1 Axes>"
      ]
     },
     "metadata": {},
     "output_type": "display_data"
    }
   ],
   "source": [
    "# we can plot the spectrum of the spaxel\n",
    "spaxel.flux.plot()"
   ]
  },
  {
   "cell_type": "code",
   "execution_count": null,
   "metadata": {},
   "outputs": [],
   "source": []
  },
  {
   "cell_type": "markdown",
   "metadata": {},
   "source": [
    "### Additional Resources\n",
    "\n",
    "- Go through the [Lean Tutorial](https://sdss-marvin.readthedocs.io/en/latest/tutorials/lean-tutorial.html#marvin-lean-tutorial)\n",
    "- Learn more [Plotting Techniques](https://sdss-marvin.readthedocs.io/en/latest/tutorials/plotting-tutorial.html)\n",
    "- Dig into the [Galaxy Tools](https://sdss-marvin.readthedocs.io/en/latest/tools/index.html) in more detail.\n",
    "- Try out [Marvin Queries](https://sdss-marvin.readthedocs.io/en/latest/query/index.html)"
   ]
  },
  {
   "cell_type": "code",
   "execution_count": null,
   "metadata": {},
   "outputs": [],
   "source": []
  }
 ],
 "metadata": {
  "anaconda-cloud": {},
  "kernelspec": {
   "display_name": "Python 3.8 (py38)",
   "language": "python",
   "name": "py38"
  },
  "language_info": {
   "codemirror_mode": {
    "name": "ipython",
    "version": 3
   },
   "file_extension": ".py",
   "mimetype": "text/x-python",
   "name": "python",
   "nbconvert_exporter": "python",
   "pygments_lexer": "ipython3",
   "version": "3.8.5"
  }
 },
 "nbformat": 4,
 "nbformat_minor": 4
}
