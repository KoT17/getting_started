{
 "cells": [
  {
   "cell_type": "code",
   "execution_count": 2,
   "metadata": {
    "execution": {
     "iopub.execute_input": "2022-05-25T12:49:29.545787Z",
     "iopub.status.busy": "2022-05-25T12:49:29.545290Z",
     "iopub.status.idle": "2022-05-25T12:49:29.560525Z",
     "shell.execute_reply": "2022-05-25T12:49:29.558688Z",
     "shell.execute_reply.started": "2022-05-25T12:49:29.545742Z"
    }
   },
   "outputs": [],
   "source": [
    "import warnings\n",
    "warnings.simplefilter('ignore')"
   ]
  },
  {
   "cell_type": "markdown",
   "metadata": {},
   "source": [
    "# Marvin Results\n",
    "\n",
    "This tutorial explores some basics of how to handle results of your Marvin Query.  Much of this information can also be found in the [Marvin Results documentation](https://sdss-marvin.readthedocs.io/en/latest/query/results.html).\n",
    "\n",
    "Table of Contents:\n",
    "- [Performing a Query](#query)<br>\n",
    "- [Retrieving Results](#retrieve)<br>\n",
    "- [Formatting Results](#format)<br>\n",
    "- [Quickly Plotting Results](#plot)<br>\n",
    "- [Downloading Results](#download)<br>"
   ]
  },
  {
   "cell_type": "markdown",
   "metadata": {},
   "source": [
    "<a id='query'></a>\n",
    "## Performing a Query\n",
    "Our first step is to generate a query.  Let's perform a simple metadata query to look for all galaxies with a redshift < 0.1.  Let's also return the absolute magnitude g-r color and the Elliptical Petrosian half-light radius.  This step assumes familiarity with Marvin Queries.  To learn how to write queries, please see the [Marvin Query documentation](https://sdss-marvin.readthedocs.io/en/latest/query/query.html) or the [Marvin Query Tutorial](https://sdss-marvin.readthedocs.io/en/latest/tutorials/notebooks/marvin_queries.html)."
   ]
  },
  {
   "cell_type": "code",
   "execution_count": 1,
   "metadata": {
    "execution": {
     "iopub.execute_input": "2022-05-25T12:48:12.414114Z",
     "iopub.status.busy": "2022-05-25T12:48:12.413477Z",
     "iopub.status.idle": "2022-05-25T12:49:29.528464Z",
     "shell.execute_reply": "2022-05-25T12:49:29.526304Z",
     "shell.execute_reply.started": "2022-05-25T12:48:12.414062Z"
    }
   },
   "outputs": [
    {
     "name": "stderr",
     "output_type": "stream",
     "text": [
      "/home/idies/miniconda3/envs/py38/lib/python3.8/site-packages/marvin/core/exceptions.py:50: UserWarning: cannot initiate Sentry error reporting: [Errno 6] No such device or address.\n",
      "  warnings.warn('cannot initiate Sentry error reporting: {0}.'.format(str(ee)),\n",
      "\u001b[0;34m[INFO]: \u001b[0mNo release version set. Setting default to DR17\n",
      "\u001b[1;33m[WARNING]: \u001b[0m\u001b[0;39mpath /home/idies/workspace/sdss_sas/mangawork/manga/spectro/redux/v3_1_1/drpall-v3_1_1.fits cannot be found. Setting drpall to None.\u001b[0m \u001b[0;36m(MarvinUserWarning)\u001b[0m\n",
      "\u001b[1;33m[WARNING]: \u001b[0m\u001b[0;39mpath /home/idies/workspace/sdss_sas/mangawork/manga/spectro/analysis/v3_1_1/3.1.0/dapall-v3_1_1-3.1.0.fits cannot be found. Setting dapall to None.\u001b[0m \u001b[0;36m(MarvinUserWarning)\u001b[0m\n"
     ]
    }
   ],
   "source": [
    "# set up and run the query\n",
    "from marvin.tools.query import Query\n",
    "q = Query(search_filter='nsa.z < 0.1', return_params=['absmag_g_r', 'nsa.elpetro_th50_r'])\n",
    "r = q.run()"
   ]
  },
  {
   "cell_type": "code",
   "execution_count": 3,
   "metadata": {
    "execution": {
     "iopub.execute_input": "2022-05-25T12:49:33.417639Z",
     "iopub.status.busy": "2022-05-25T12:49:33.416917Z",
     "iopub.status.idle": "2022-05-25T12:49:33.429319Z",
     "shell.execute_reply": "2022-05-25T12:49:33.427550Z",
     "shell.execute_reply.started": "2022-05-25T12:49:33.417548Z"
    }
   },
   "outputs": [
    {
     "data": {
      "text/plain": [
       "Marvin Results(query=nsa.z < 0.1, totalcount=9524, count=100, mode=local)"
      ]
     },
     "execution_count": 3,
     "metadata": {},
     "output_type": "execute_result"
    }
   ],
   "source": [
    "# repr the results\n",
    "r"
   ]
  },
  {
   "cell_type": "markdown",
   "metadata": {},
   "source": [
    "Our query runs and indicates a total count of 4275 results.  By default, queries that return more than 1000 rows will be automatically paginated into sets (or chunks) of 100 rows, indicated by ``count=100``.  The number of rows queries return can be changed using the ``limit`` keyword argument to ``Qeuery``.  The results are stored in the ``results`` attribute."
   ]
  },
  {
   "cell_type": "code",
   "execution_count": 4,
   "metadata": {
    "execution": {
     "iopub.execute_input": "2022-05-25T12:49:35.420353Z",
     "iopub.status.busy": "2022-05-25T12:49:35.419674Z",
     "iopub.status.idle": "2022-05-25T12:49:35.433521Z",
     "shell.execute_reply": "2022-05-25T12:49:35.431965Z",
     "shell.execute_reply.started": "2022-05-25T12:49:35.420302Z"
    }
   },
   "outputs": [
    {
     "data": {
      "text/plain": [
       "<ResultSet(set=1.0/96, index=0:100, count_in_set=100, total=9524)>\n",
       "[ResultRow(mangaid='1-1009', plateifu='11866-12705', elpetro_absmag_g_r=1.1888656616210938, elpetro_th50_r=3.4470954, z=0.064824656),\n",
       " ResultRow(mangaid='1-10166', plateifu='12514-9101', elpetro_absmag_g_r=1.2210807800292969, elpetro_th50_r=7.782813, z=0.08058354),\n",
       " ResultRow(mangaid='1-10177', plateifu='12514-3704', elpetro_absmag_g_r=1.614206314086914, elpetro_th50_r=2.4108002, z=0.048428684),\n",
       " ResultRow(mangaid='1-10263', plateifu='12514-1902', elpetro_absmag_g_r=0.9414443969726562, elpetro_th50_r=3.4806821, z=0.020132923),\n",
       " ResultRow(mangaid='1-1033', plateifu='10843-12704', elpetro_absmag_g_r=1.0618581771850586, elpetro_th50_r=12.24891, z=0.012681201),\n",
       " ResultRow(mangaid='1-1033', plateifu='11866-9101', elpetro_absmag_g_r=1.0618581771850586, elpetro_th50_r=12.24891, z=0.012681201),\n",
       " ResultRow(mangaid='1-1037', plateifu='10843-12703', elpetro_absmag_g_r=1.0848217010498047, elpetro_th50_r=5.105556, z=0.039029263),\n",
       " ResultRow(mangaid='1-10375', plateifu='12510-1902', elpetro_absmag_g_r=0.9803256988525391, elpetro_th50_r=2.056577, z=0.038751837),\n",
       " ResultRow(mangaid='1-1038', plateifu='11866-6102', elpetro_absmag_g_r=1.5018806457519531, elpetro_th50_r=6.3171196, z=0.033372667),\n",
       " ResultRow(mangaid='1-106204', plateifu='12068-6104', elpetro_absmag_g_r=1.2326412200927734, elpetro_th50_r=5.805411, z=0.057716995),\n",
       " ResultRow(mangaid='1-106251', plateifu='12069-3704', elpetro_absmag_g_r=1.7984676361083984, elpetro_th50_r=4.1269956, z=0.053198155),\n",
       " ResultRow(mangaid='1-106338', plateifu='12069-6104', elpetro_absmag_g_r=1.6353721618652344, elpetro_th50_r=6.086268, z=0.059041668),\n",
       " ResultRow(mangaid='1-106408', plateifu='12070-6101', elpetro_absmag_g_r=1.2252063751220703, elpetro_th50_r=5.766983, z=0.07358428),\n",
       " ResultRow(mangaid='1-106411', plateifu='12070-1901', elpetro_absmag_g_r=1.3445720672607422, elpetro_th50_r=1.845286, z=0.073633745),\n",
       " ResultRow(mangaid='1-106520', plateifu='12070-9102', elpetro_absmag_g_r=1.7391376495361328, elpetro_th50_r=7.8720684, z=0.026041793),\n",
       " ResultRow(mangaid='1-106630', plateifu='12071-12705', elpetro_absmag_g_r=1.4964866638183594, elpetro_th50_r=9.035626, z=0.054814097),\n",
       " ResultRow(mangaid='1-106663', plateifu='12071-9101', elpetro_absmag_g_r=1.34722900390625, elpetro_th50_r=7.854441, z=0.015748328),\n",
       " ResultRow(mangaid='1-106664', plateifu='12071-3702', elpetro_absmag_g_r=1.2452373504638672, elpetro_th50_r=5.1655445, z=0.03250998),\n",
       " ResultRow(mangaid='1-106670', plateifu='12071-9102', elpetro_absmag_g_r=0.6458358764648438, elpetro_th50_r=7.399977, z=0.015345705),\n",
       " ResultRow(mangaid='1-106961', plateifu='8654-12701', elpetro_absmag_g_r=1.320016860961914, elpetro_th50_r=5.149671, z=0.057643738),\n",
       " ResultRow(mangaid='1-107040', plateifu='8654-6104', elpetro_absmag_g_r=1.4228706359863281, elpetro_th50_r=6.900417, z=0.06867604),\n",
       " ResultRow(mangaid='1-107452', plateifu='12769-9101', elpetro_absmag_g_r=1.6426239013671875, elpetro_th50_r=8.103689, z=0.06489298),\n",
       " ResultRow(mangaid='1-107573', plateifu='8656-9101', elpetro_absmag_g_r=1.056173324584961, elpetro_th50_r=8.931852, z=0.060237493),\n",
       " ResultRow(mangaid='1-10760', plateifu='12510-3701', elpetro_absmag_g_r=0.8890895843505859, elpetro_th50_r=3.3375127, z=0.07180949),\n",
       " ResultRow(mangaid='1-107659', plateifu='8657-3701', elpetro_absmag_g_r=0.9916591644287109, elpetro_th50_r=2.6015472, z=0.0411217),\n",
       " ResultRow(mangaid='1-107761', plateifu='8657-3704', elpetro_absmag_g_r=1.0686511993408203, elpetro_th50_r=2.7366838, z=0.041381188),\n",
       " ResultRow(mangaid='1-107835', plateifu='12073-12704', elpetro_absmag_g_r=0.45537567138671875, elpetro_th50_r=6.916807, z=0.040238895),\n",
       " ResultRow(mangaid='1-107841', plateifu='12696-9102', elpetro_absmag_g_r=1.7083797454833984, elpetro_th50_r=4.1450067, z=0.044665307),\n",
       " ResultRow(mangaid='1-107844', plateifu='12696-3702', elpetro_absmag_g_r=1.8793792724609375, elpetro_th50_r=4.0961285, z=0.043910038),\n",
       " ResultRow(mangaid='1-10786', plateifu='12510-12703', elpetro_absmag_g_r=0.8766040802001953, elpetro_th50_r=8.917942, z=0.012561398),\n",
       " ResultRow(mangaid='1-107935', plateifu='12696-9101', elpetro_absmag_g_r=1.1007823944091797, elpetro_th50_r=4.4731746, z=0.045898195),\n",
       " ResultRow(mangaid='1-10794', plateifu='12510-12704', elpetro_absmag_g_r=0.8901920318603516, elpetro_th50_r=8.685894, z=0.021848308),\n",
       " ResultRow(mangaid='1-10797', plateifu='12510-6103', elpetro_absmag_g_r=1.5744972229003906, elpetro_th50_r=3.5659919, z=0.07763901),\n",
       " ResultRow(mangaid='1-10808', plateifu='11024-3703', elpetro_absmag_g_r=1.0588054656982422, elpetro_th50_r=5.0320063, z=0.021990297),\n",
       " ResultRow(mangaid='1-1081', plateifu='11866-3701', elpetro_absmag_g_r=1.0969829559326172, elpetro_th50_r=2.6379664, z=0.046475276),\n",
       " ResultRow(mangaid='1-108124', plateifu='12074-12701', elpetro_absmag_g_r=1.7127752304077148, elpetro_th50_r=10.505594, z=0.018033672),\n",
       " ResultRow(mangaid='1-108127', plateifu='12772-12704', elpetro_absmag_g_r=0.7276439666748047, elpetro_th50_r=14.860051, z=0.017351467),\n",
       " ResultRow(mangaid='1-108143', plateifu='12772-6104', elpetro_absmag_g_r=1.254556655883789, elpetro_th50_r=3.7751896, z=0.04509018),\n",
       " ResultRow(mangaid='1-108250', plateifu='12075-12702', elpetro_absmag_g_r=1.5943984985351562, elpetro_th50_r=2.5794022, z=0.046183188),\n",
       " ResultRow(mangaid='1-108257', plateifu='12075-1901', elpetro_absmag_g_r=1.5865325927734375, elpetro_th50_r=1.8506525, z=0.045055505),\n",
       " ResultRow(mangaid='1-10850', plateifu='12510-6102', elpetro_absmag_g_r=1.2527046203613281, elpetro_th50_r=3.2386599, z=0.03756302),\n",
       " ResultRow(mangaid='1-10862', plateifu='12510-12701', elpetro_absmag_g_r=0.9717578887939453, elpetro_th50_r=14.214889, z=0.021240542),\n",
       " ResultRow(mangaid='1-108696', plateifu='12081-1902', elpetro_absmag_g_r=1.5594730377197266, elpetro_th50_r=2.114305, z=0.042106226),\n",
       " ResultRow(mangaid='1-108741', plateifu='12079-12704', elpetro_absmag_g_r=1.8147010803222656, elpetro_th50_r=7.7764254, z=0.039470937),\n",
       " ResultRow(mangaid='1-108765', plateifu='12079-9102', elpetro_absmag_g_r=1.6602611541748047, elpetro_th50_r=6.9060373, z=0.042793676),\n",
       " ResultRow(mangaid='1-108881', plateifu='10223-12704', elpetro_absmag_g_r=1.0528411865234375, elpetro_th50_r=9.614923, z=0.021058558),\n",
       " ResultRow(mangaid='1-108949', plateifu='10224-3704', elpetro_absmag_g_r=1.7038421630859375, elpetro_th50_r=3.9536517, z=0.024979617),\n",
       " ResultRow(mangaid='1-109056', plateifu='8077-6103', elpetro_absmag_g_r=1.1170387268066406, elpetro_th50_r=3.709004, z=0.047301855),\n",
       " ResultRow(mangaid='1-109073', plateifu='8078-12704', elpetro_absmag_g_r=1.0597877502441406, elpetro_th50_r=7.5472426, z=0.043588243),\n",
       " ResultRow(mangaid='1-109081', plateifu='8077-12705', elpetro_absmag_g_r=1.2303180694580078, elpetro_th50_r=9.6066475, z=0.04385919),\n",
       " ResultRow(mangaid='1-109112', plateifu='8078-1901', elpetro_absmag_g_r=1.5319881439208984, elpetro_th50_r=2.255412, z=0.024970215),\n",
       " ResultRow(mangaid='1-109152', plateifu='8154-12702', elpetro_absmag_g_r=1.5439453125, elpetro_th50_r=16.126255, z=0.028173625),\n",
       " ResultRow(mangaid='1-109167', plateifu='8078-1902', elpetro_absmag_g_r=1.6565742492675781, elpetro_th50_r=1.913222, z=0.024634399),\n",
       " ResultRow(mangaid='1-109206', plateifu='9192-1902', elpetro_absmag_g_r=1.0048789978027344, elpetro_th50_r=2.7678437, z=0.024973098),\n",
       " ResultRow(mangaid='1-109223', plateifu='9192-12702', elpetro_absmag_g_r=1.5623741149902344, elpetro_th50_r=11.692623, z=0.04351624),\n",
       " ResultRow(mangaid='1-109234', plateifu='9193-1901', elpetro_absmag_g_r=1.5257034301757812, elpetro_th50_r=2.1652818, z=0.04093087),\n",
       " ResultRow(mangaid='1-109244', plateifu='8080-12702', elpetro_absmag_g_r=1.5227127075195312, elpetro_th50_r=15.379007, z=0.026791101),\n",
       " ResultRow(mangaid='1-109250', plateifu='8080-1902', elpetro_absmag_g_r=0.7803421020507812, elpetro_th50_r=2.1597683, z=0.03837309),\n",
       " ResultRow(mangaid='1-109270', plateifu='9193-12703', elpetro_absmag_g_r=1.281930923461914, elpetro_th50_r=2.7423985, z=0.025226595),\n",
       " ResultRow(mangaid='1-109275', plateifu='9192-3703', elpetro_absmag_g_r=1.1280746459960938, elpetro_th50_r=2.5889301, z=0.043517917),\n",
       " ResultRow(mangaid='1-109284', plateifu='8080-6103', elpetro_absmag_g_r=1.13128662109375, elpetro_th50_r=3.6136615, z=0.06861011),\n",
       " ResultRow(mangaid='1-1093', plateifu='11836-1901', elpetro_absmag_g_r=1.2664375305175781, elpetro_th50_r=5.8834763, z=0.032185618),\n",
       " ResultRow(mangaid='1-109356', plateifu='8081-3703', elpetro_absmag_g_r=1.0161056518554688, elpetro_th50_r=4.400281, z=0.024178172),\n",
       " ResultRow(mangaid='1-109378', plateifu='8084-12703', elpetro_absmag_g_r=1.1536846160888672, elpetro_th50_r=9.641704, z=0.03911035),\n",
       " ResultRow(mangaid='1-109392', plateifu='8085-6101', elpetro_absmag_g_r=1.5789928436279297, elpetro_th50_r=6.786712, z=0.051480327),\n",
       " ResultRow(mangaid='1-109394', plateifu='8082-9102', elpetro_absmag_g_r=1.2603893280029297, elpetro_th50_r=7.1713686, z=0.03610732),\n",
       " ResultRow(mangaid='1-109428', plateifu='8155-3704', elpetro_absmag_g_r=1.6556587219238281, elpetro_th50_r=1.6106, z=0.047659427),\n",
       " ResultRow(mangaid='1-109521', plateifu='8156-6101', elpetro_absmag_g_r=1.7995262145996094, elpetro_th50_r=5.324952, z=0.049048375),\n",
       " ResultRow(mangaid='1-109679', plateifu='12685-12701', elpetro_absmag_g_r=1.1002693176269531, elpetro_th50_r=6.9108887, z=0.051546838),\n",
       " ResultRow(mangaid='1-109808', plateifu='12685-12704', elpetro_absmag_g_r=1.667593002319336, elpetro_th50_r=5.0854464, z=0.06408005),\n",
       " ResultRow(mangaid='1-109817', plateifu='12685-6102', elpetro_absmag_g_r=1.3504180908203125, elpetro_th50_r=3.5324264, z=0.056179114),\n",
       " ResultRow(mangaid='1-109836', plateifu='12685-12702', elpetro_absmag_g_r=1.0596923828125, elpetro_th50_r=5.6108394, z=0.046598148),\n",
       " ResultRow(mangaid='1-109849', plateifu='12685-9102', elpetro_absmag_g_r=1.7341747283935547, elpetro_th50_r=4.291394, z=0.056608994),\n",
       " ResultRow(mangaid='1-109860', plateifu='12685-6101', elpetro_absmag_g_r=1.7061901092529297, elpetro_th50_r=4.616068, z=0.05795381),\n",
       " ResultRow(mangaid='1-109872', plateifu='12685-3704', elpetro_absmag_g_r=1.7756996154785156, elpetro_th50_r=2.7112591, z=0.0568331),\n",
       " ResultRow(mangaid='1-109909', plateifu='12685-1901', elpetro_absmag_g_r=1.465585708618164, elpetro_th50_r=10.408197, z=0.099820584),\n",
       " ResultRow(mangaid='1-109924', plateifu='12685-6104', elpetro_absmag_g_r=1.7755069732666016, elpetro_th50_r=3.4217565, z=0.057600234),\n",
       " ResultRow(mangaid='1-109934', plateifu='12685-3703', elpetro_absmag_g_r=1.7073612213134766, elpetro_th50_r=3.1377149, z=0.051232398),\n",
       " ResultRow(mangaid='1-110095', plateifu='12685-3702', elpetro_absmag_g_r=1.5709075927734375, elpetro_th50_r=5.118298, z=0.05924619),\n",
       " ResultRow(mangaid='1-110133', plateifu='12685-12703', elpetro_absmag_g_r=0.9769554138183594, elpetro_th50_r=9.664472, z=0.017470798),\n",
       " ResultRow(mangaid='1-110139', plateifu='12685-6103', elpetro_absmag_g_r=1.7239837646484375, elpetro_th50_r=4.021267, z=0.059384044),\n",
       " ResultRow(mangaid='1-110165', plateifu='12685-12705', elpetro_absmag_g_r=1.179574966430664, elpetro_th50_r=7.694543, z=0.06059711),\n",
       " ResultRow(mangaid='1-113', plateifu='12512-9101', elpetro_absmag_g_r=2.0134029388427734, elpetro_th50_r=4.751685, z=0.06759457),\n",
       " ResultRow(mangaid='1-113208', plateifu='8618-3701', elpetro_absmag_g_r=1.4878807067871094, elpetro_th50_r=2.7162027, z=0.069904365),\n",
       " ResultRow(mangaid='1-113219', plateifu='7815-9102', elpetro_absmag_g_r=0.5433120727539062, elpetro_th50_r=5.1585293, z=0.040889695),\n",
       " ResultRow(mangaid='1-113242', plateifu='7972-6101', elpetro_absmag_g_r=1.903818130493164, elpetro_th50_r=6.1714554, z=0.043719698),\n",
       " ResultRow(mangaid='1-113265', plateifu='7972-12703', elpetro_absmag_g_r=1.0411739349365234, elpetro_th50_r=8.041406, z=0.043739777),\n",
       " ResultRow(mangaid='1-113315', plateifu='7972-3702', elpetro_absmag_g_r=1.6654090881347656, elpetro_th50_r=3.020077, z=0.062216245),\n",
       " ResultRow(mangaid='1-113322', plateifu='7972-12701', elpetro_absmag_g_r=2.2225608825683594, elpetro_th50_r=6.599677, z=0.043162815),\n",
       " ResultRow(mangaid='1-113343', plateifu='7972-1901', elpetro_absmag_g_r=1.6228084564208984, elpetro_th50_r=1.4783916, z=0.043394886),\n",
       " ResultRow(mangaid='1-113346', plateifu='7972-12702', elpetro_absmag_g_r=0.9439716339111328, elpetro_th50_r=7.121848, z=0.043138873),\n",
       " ResultRow(mangaid='1-113368', plateifu='7972-6103', elpetro_absmag_g_r=1.610769271850586, elpetro_th50_r=5.5207486, z=0.04315339),\n",
       " ResultRow(mangaid='1-113375', plateifu='7815-9101', elpetro_absmag_g_r=0.7575798034667969, elpetro_th50_r=8.967658, z=0.028214978),\n",
       " ResultRow(mangaid='1-113375', plateifu='7972-12704', elpetro_absmag_g_r=0.7575798034667969, elpetro_th50_r=8.967658, z=0.028214978),\n",
       " ResultRow(mangaid='1-113379', plateifu='7972-3701', elpetro_absmag_g_r=1.0977001190185547, elpetro_th50_r=6.083876, z=0.01716112),\n",
       " ResultRow(mangaid='1-113379', plateifu='7815-6101', elpetro_absmag_g_r=1.0977001190185547, elpetro_th50_r=6.083876, z=0.01716112),\n",
       " ResultRow(mangaid='1-113403', plateifu='7815-12703', elpetro_absmag_g_r=0.7454662322998047, elpetro_th50_r=4.264062, z=0.071512625),\n",
       " ResultRow(mangaid='1-113404', plateifu='7972-6104', elpetro_absmag_g_r=1.0419807434082031, elpetro_th50_r=3.5516825, z=0.04227131),\n",
       " ResultRow(mangaid='1-113405', plateifu='7972-3704', elpetro_absmag_g_r=1.273824691772461, elpetro_th50_r=2.4373574, z=0.042472336),\n",
       " ResultRow(mangaid='1-113418', plateifu='7815-12704', elpetro_absmag_g_r=1.440988540649414, elpetro_th50_r=7.3141084, z=0.043080613)]"
      ]
     },
     "execution_count": 4,
     "metadata": {},
     "output_type": "execute_result"
    }
   ],
   "source": [
    "# look at the results\n",
    "r.results"
   ]
  },
  {
   "cell_type": "markdown",
   "metadata": {},
   "source": [
    "A ``ResultSet`` contains a list of tuple rows with some default parameters like ``mangaid`` and ``plateifu``, plus any parameters used in the ``Query`` ``search_filter`` or requested with the ``return_params`` keyword.  The redshift, g-r color, and half-light radius has been returned.  We can look at all the columns available using the ``columns`` attribute.   "
   ]
  },
  {
   "cell_type": "code",
   "execution_count": 5,
   "metadata": {
    "execution": {
     "iopub.execute_input": "2022-05-25T12:49:36.418735Z",
     "iopub.status.busy": "2022-05-25T12:49:36.418011Z",
     "iopub.status.idle": "2022-05-25T12:49:36.430418Z",
     "shell.execute_reply": "2022-05-25T12:49:36.428882Z",
     "shell.execute_reply.started": "2022-05-25T12:49:36.418681Z"
    }
   },
   "outputs": [
    {
     "data": {
      "text/plain": [
       "<ParameterGroup name=Columns, n_parameters=5>\n",
       " [<QueryParameter full=cube.mangaid, name=mangaid, short=mangaid, remote=mangaid, display=Manga-ID>,\n",
       " <QueryParameter full=cube.plateifu, name=plateifu, short=plateifu, remote=plateifu, display=Plate-IFU>,\n",
       " <QueryParameter full=nsa.elpetro_absmag_g_r, name=elpetro_absmag_g_r, short=absmag_g_r, remote=elpetro_absmag_g_r, display=Absmag g-r>,\n",
       " <QueryParameter full=nsa.elpetro_th50_r, name=elpetro_th50_r, short=th50_r, remote=elpetro_th50_r, display=r-band half-light radius>,\n",
       " <QueryParameter full=nsa.z, name=z, short=z, remote=z, display=Redshift>]"
      ]
     },
     "execution_count": 5,
     "metadata": {},
     "output_type": "execute_result"
    }
   ],
   "source": [
    "# look at the columns returned by your results\n",
    "r.columns"
   ]
  },
  {
   "cell_type": "markdown",
   "metadata": {},
   "source": [
    "<a id='retrieve'></a>\n",
    "## Retrieving Results\n",
    "There are several options for handling paginated results.  To page through the sets of results without extending the results, use ``getNext`` and ``getPrevious``.  These methods simply page through.   "
   ]
  },
  {
   "cell_type": "code",
   "execution_count": 6,
   "metadata": {
    "execution": {
     "iopub.execute_input": "2022-05-25T12:49:37.415739Z",
     "iopub.status.busy": "2022-05-25T12:49:37.415014Z",
     "iopub.status.idle": "2022-05-25T12:49:38.531209Z",
     "shell.execute_reply": "2022-05-25T12:49:38.528868Z",
     "shell.execute_reply.started": "2022-05-25T12:49:37.415686Z"
    }
   },
   "outputs": [
    {
     "name": "stderr",
     "output_type": "stream",
     "text": [
      "\u001b[0;34m[INFO]: \u001b[0mRetrieving next 100, from 100 to 200\n"
     ]
    }
   ],
   "source": [
    "# get the next set of results\n",
    "n = r.getNext()"
   ]
  },
  {
   "cell_type": "code",
   "execution_count": 7,
   "metadata": {
    "execution": {
     "iopub.execute_input": "2022-05-25T12:49:38.550109Z",
     "iopub.status.busy": "2022-05-25T12:49:38.549654Z",
     "iopub.status.idle": "2022-05-25T12:49:38.562109Z",
     "shell.execute_reply": "2022-05-25T12:49:38.560310Z",
     "shell.execute_reply.started": "2022-05-25T12:49:38.550066Z"
    }
   },
   "outputs": [
    {
     "data": {
      "text/plain": [
       "<ResultSet(set=2.0/96, index=100:200, count_in_set=100, total=9524)>\n",
       "[ResultRow(mangaid='1-113469', plateifu='7972-12705', elpetro_absmag_g_r=0.8477897644042969, elpetro_th50_r=6.080981, z=0.03946172),\n",
       " ResultRow(mangaid='1-113469', plateifu='7815-12702', elpetro_absmag_g_r=0.8477897644042969, elpetro_th50_r=6.080981, z=0.03946172),\n",
       " ResultRow(mangaid='1-113518', plateifu='7972-6102', elpetro_absmag_g_r=0.3803386688232422, elpetro_th50_r=6.411989, z=0.029997509),\n",
       " ResultRow(mangaid='1-113520', plateifu='7815-1901', elpetro_absmag_g_r=1.7510347366333008, elpetro_th50_r=2.9852433, z=0.016765233),\n",
       " ResultRow(mangaid='1-113525', plateifu='7815-1902', elpetro_absmag_g_r=1.579066276550293, elpetro_th50_r=7.97363, z=0.016945735),\n",
       " ResultRow(mangaid='1-113525', plateifu='8618-6103', elpetro_absmag_g_r=1.579066276550293, elpetro_th50_r=7.97363, z=0.016945735),\n",
       " ResultRow(mangaid='1-113525', plateifu='7972-9102', elpetro_absmag_g_r=1.579066276550293, elpetro_th50_r=7.97363, z=0.016945735),\n",
       " ResultRow(mangaid='1-113539', plateifu='8618-12701', elpetro_absmag_g_r=1.2671661376953125, elpetro_th50_r=16.69943, z=0.017700225),\n",
       " ResultRow(mangaid='1-113540', plateifu='7815-3702', elpetro_absmag_g_r=0.9524078369140625, elpetro_th50_r=3.774947, z=0.029382324),\n",
       " ResultRow(mangaid='1-113551', plateifu='7972-3703', elpetro_absmag_g_r=1.4642143249511719, elpetro_th50_r=2.8334177, z=0.058850706),\n",
       " ResultRow(mangaid='1-113567', plateifu='8618-1902', elpetro_absmag_g_r=1.4173297882080078, elpetro_th50_r=9.660081, z=0.016743217),\n",
       " ResultRow(mangaid='1-113567', plateifu='7815-12701', elpetro_absmag_g_r=1.4173297882080078, elpetro_th50_r=9.660081, z=0.016743217),\n",
       " ResultRow(mangaid='1-113585', plateifu='7815-3703', elpetro_absmag_g_r=1.681589126586914, elpetro_th50_r=4.0300894, z=0.070275955),\n",
       " ResultRow(mangaid='1-113587', plateifu='8618-12704', elpetro_absmag_g_r=1.0235557556152344, elpetro_th50_r=5.0809765, z=0.070492566),\n",
       " ResultRow(mangaid='1-113647', plateifu='8618-6104', elpetro_absmag_g_r=1.7875499725341797, elpetro_th50_r=3.973523, z=0.073856324),\n",
       " ResultRow(mangaid='1-113651', plateifu='7815-3704', elpetro_absmag_g_r=1.4986743927001953, elpetro_th50_r=2.9653854, z=0.07088467),\n",
       " ResultRow(mangaid='1-113654', plateifu='8618-9102', elpetro_absmag_g_r=1.1083183288574219, elpetro_th50_r=4.8888135, z=0.043069396),\n",
       " ResultRow(mangaid='1-113663', plateifu='8618-3703', elpetro_absmag_g_r=2.803229331970215, elpetro_th50_r=3.0503495, z=0.031632792),\n",
       " ResultRow(mangaid='1-113672', plateifu='8618-3704', elpetro_absmag_g_r=1.256765365600586, elpetro_th50_r=2.3030307, z=0.070227824),\n",
       " ResultRow(mangaid='1-113698', plateifu='8618-1901', elpetro_absmag_g_r=0.9951953887939453, elpetro_th50_r=3.0674524, z=0.01674447),\n",
       " ResultRow(mangaid='1-113700', plateifu='8618-12703', elpetro_absmag_g_r=0.6140880584716797, elpetro_th50_r=4.672201, z=0.037837222),\n",
       " ResultRow(mangaid='1-113712', plateifu='7815-6104', elpetro_absmag_g_r=0.69244384765625, elpetro_th50_r=4.579272, z=0.08069666),\n",
       " ResultRow(mangaid='1-113789', plateifu='8619-6101', elpetro_absmag_g_r=2.3968563079833984, elpetro_th50_r=6.1555176, z=0.061761748),\n",
       " ResultRow(mangaid='1-114035', plateifu='8619-6103', elpetro_absmag_g_r=1.496084213256836, elpetro_th50_r=6.345928, z=0.09852081),\n",
       " ResultRow(mangaid='1-114059', plateifu='8619-12703', elpetro_absmag_g_r=1.0241985321044922, elpetro_th50_r=6.5726357, z=0.046850063),\n",
       " ResultRow(mangaid='1-114063', plateifu='8619-1901', elpetro_absmag_g_r=2.014314651489258, elpetro_th50_r=2.245328, z=0.08761858),\n",
       " ResultRow(mangaid='1-114073', plateifu='7975-12705', elpetro_absmag_g_r=0.7515163421630859, elpetro_th50_r=8.9485855, z=0.040289473),\n",
       " ResultRow(mangaid='1-114082', plateifu='7975-3701', elpetro_absmag_g_r=1.4438133239746094, elpetro_th50_r=4.7315826, z=0.04026826),\n",
       " ResultRow(mangaid='1-114093', plateifu='8619-3704', elpetro_absmag_g_r=1.8851699829101562, elpetro_th50_r=3.3115072, z=0.07843107),\n",
       " ResultRow(mangaid='1-114098', plateifu='8619-6102', elpetro_absmag_g_r=1.4925155639648438, elpetro_th50_r=5.990214, z=0.07703239),\n",
       " ResultRow(mangaid='1-114121', plateifu='7975-12701', elpetro_absmag_g_r=1.431711196899414, elpetro_th50_r=6.238, z=0.08793132),\n",
       " ResultRow(mangaid='1-114124', plateifu='8619-6104', elpetro_absmag_g_r=1.6094036102294922, elpetro_th50_r=6.032482, z=0.07728455),\n",
       " ResultRow(mangaid='1-114128', plateifu='7975-6101', elpetro_absmag_g_r=1.8634223937988281, elpetro_th50_r=3.2862449, z=0.077874966),\n",
       " ResultRow(mangaid='1-114129', plateifu='7975-12702', elpetro_absmag_g_r=2.1903228759765625, elpetro_th50_r=10.662438, z=0.07740972),\n",
       " ResultRow(mangaid='1-114145', plateifu='7975-6102', elpetro_absmag_g_r=1.4149646759033203, elpetro_th50_r=6.643856, z=0.03418848),\n",
       " ResultRow(mangaid='1-114147', plateifu='8619-12705', elpetro_absmag_g_r=0.6642971038818359, elpetro_th50_r=7.873782, z=0.011642115),\n",
       " ResultRow(mangaid='1-114171', plateifu='7975-3702', elpetro_absmag_g_r=1.7064170837402344, elpetro_th50_r=4.3282833, z=0.0881405),\n",
       " ResultRow(mangaid='1-114214', plateifu='8619-9101', elpetro_absmag_g_r=2.6289825439453125, elpetro_th50_r=6.070194, z=0.08910512),\n",
       " ResultRow(mangaid='1-114230', plateifu='8619-12701', elpetro_absmag_g_r=1.8769187927246094, elpetro_th50_r=8.385971, z=0.02921101),\n",
       " ResultRow(mangaid='1-114235', plateifu='8619-3702', elpetro_absmag_g_r=1.8349838256835938, elpetro_th50_r=3.4139934, z=0.053595796),\n",
       " ResultRow(mangaid='1-114245', plateifu='8619-9102', elpetro_absmag_g_r=1.5552482604980469, elpetro_th50_r=6.8543787, z=0.028830165),\n",
       " ResultRow(mangaid='1-114252', plateifu='8619-3701', elpetro_absmag_g_r=2.2597103118896484, elpetro_th50_r=2.9842627, z=0.047587093),\n",
       " ResultRow(mangaid='1-114253', plateifu='8619-12704', elpetro_absmag_g_r=0.39594459533691406, elpetro_th50_r=5.5652275, z=0.020551808),\n",
       " ResultRow(mangaid='1-114292', plateifu='8619-3703', elpetro_absmag_g_r=1.64788818359375, elpetro_th50_r=4.1984024, z=0.061297353),\n",
       " ResultRow(mangaid='1-114303', plateifu='7975-1901', elpetro_absmag_g_r=0.6586894989013672, elpetro_th50_r=9.024738, z=0.022010738),\n",
       " ResultRow(mangaid='1-114306', plateifu='7975-9101', elpetro_absmag_g_r=0.9952526092529297, elpetro_th50_r=7.50072, z=0.063650504),\n",
       " ResultRow(mangaid='1-114316', plateifu='8619-1902', elpetro_absmag_g_r=1.3122673034667969, elpetro_th50_r=1.7339649, z=0.045444094),\n",
       " ResultRow(mangaid='1-114325', plateifu='7975-12703', elpetro_absmag_g_r=1.3433799743652344, elpetro_th50_r=15.39947, z=0.028879073),\n",
       " ResultRow(mangaid='1-114334', plateifu='7975-1902', elpetro_absmag_g_r=1.4318389892578125, elpetro_th50_r=3.0839577, z=0.022247298),\n",
       " ResultRow(mangaid='1-114454', plateifu='7975-12704', elpetro_absmag_g_r=1.2972335815429688, elpetro_th50_r=5.009307, z=0.08886057),\n",
       " ResultRow(mangaid='1-114465', plateifu='7975-6104', elpetro_absmag_g_r=1.2139415740966797, elpetro_th50_r=4.044877, z=0.07885468),\n",
       " ResultRow(mangaid='1-114500', plateifu='7975-9102', elpetro_absmag_g_r=1.1416492462158203, elpetro_th50_r=7.546844, z=0.022084892),\n",
       " ResultRow(mangaid='1-114502', plateifu='7975-6103', elpetro_absmag_g_r=1.4673023223876953, elpetro_th50_r=3.4307737, z=0.07980582),\n",
       " ResultRow(mangaid='1-114532', plateifu='7975-3703', elpetro_absmag_g_r=1.7316570281982422, elpetro_th50_r=2.771671, z=0.09022606),\n",
       " ResultRow(mangaid='1-114782', plateifu='8620-3704', elpetro_absmag_g_r=1.0475883483886719, elpetro_th50_r=2.6695487, z=0.03630332),\n",
       " ResultRow(mangaid='1-114818', plateifu='8620-1902', elpetro_absmag_g_r=1.634115219116211, elpetro_th50_r=3.2775702, z=0.029107705),\n",
       " ResultRow(mangaid='1-114820', plateifu='8620-12705', elpetro_absmag_g_r=1.4936199188232422, elpetro_th50_r=10.633807, z=0.029833827),\n",
       " ResultRow(mangaid='1-114845', plateifu='8620-12704', elpetro_absmag_g_r=0.8512172698974609, elpetro_th50_r=5.1131086, z=0.046479605),\n",
       " ResultRow(mangaid='1-114919', plateifu='8620-12703', elpetro_absmag_g_r=1.5040531158447266, elpetro_th50_r=13.229819, z=0.02553443),\n",
       " ResultRow(mangaid='1-114923', plateifu='8620-9102', elpetro_absmag_g_r=1.1881189346313477, elpetro_th50_r=3.1581566, z=0.026332304),\n",
       " ResultRow(mangaid='1-114928', plateifu='7977-3702', elpetro_absmag_g_r=1.6571941375732422, elpetro_th50_r=4.630486, z=0.027347839),\n",
       " ResultRow(mangaid='1-114955', plateifu='7977-12701', elpetro_absmag_g_r=1.0124931335449219, elpetro_th50_r=5.0340056, z=0.09227989),\n",
       " ResultRow(mangaid='1-114956', plateifu='7977-3704', elpetro_absmag_g_r=1.3456974029541016, elpetro_th50_r=3.938061, z=0.027024804),\n",
       " ResultRow(mangaid='1-114980', plateifu='7977-9102', elpetro_absmag_g_r=1.1480846405029297, elpetro_th50_r=4.933189, z=0.06309155),\n",
       " ResultRow(mangaid='1-114998', plateifu='7977-6102', elpetro_absmag_g_r=2.770357131958008, elpetro_th50_r=6.30899, z=0.06140417),\n",
       " ResultRow(mangaid='1-115062', plateifu='7977-1901', elpetro_absmag_g_r=1.6595268249511719, elpetro_th50_r=1.2997066, z=0.026056856),\n",
       " ResultRow(mangaid='1-115066', plateifu='8620-6104', elpetro_absmag_g_r=1.4408931732177734, elpetro_th50_r=5.6852922, z=0.02676532),\n",
       " ResultRow(mangaid='1-115085', plateifu='7977-6103', elpetro_absmag_g_r=0.9126300811767578, elpetro_th50_r=4.956891, z=0.034930434),\n",
       " ResultRow(mangaid='1-115097', plateifu='7977-3701', elpetro_absmag_g_r=1.4994735717773438, elpetro_th50_r=4.6528153, z=0.027447285),\n",
       " ResultRow(mangaid='1-1151', plateifu='11836-12705', elpetro_absmag_g_r=0.7884654998779297, elpetro_th50_r=4.5656347, z=0.04464796),\n",
       " ResultRow(mangaid='1-115128', plateifu='7977-1902', elpetro_absmag_g_r=1.1044979095458984, elpetro_th50_r=7.786209, z=0.035811584),\n",
       " ResultRow(mangaid='1-115158', plateifu='7979-12702', elpetro_absmag_g_r=1.7218475341796875, elpetro_th50_r=7.5060067, z=0.028053157),\n",
       " ResultRow(mangaid='1-115162', plateifu='7977-12703', elpetro_absmag_g_r=1.131317138671875, elpetro_th50_r=7.3267035, z=0.073862724),\n",
       " ResultRow(mangaid='1-115232', plateifu='7979-12705', elpetro_absmag_g_r=1.0818195343017578, elpetro_th50_r=7.3793273, z=0.027457228),\n",
       " ResultRow(mangaid='1-115254', plateifu='7979-6101', elpetro_absmag_g_r=1.6555252075195312, elpetro_th50_r=6.654164, z=0.08043375),\n",
       " ResultRow(mangaid='1-115262', plateifu='7979-1902', elpetro_absmag_g_r=1.1601028442382812, elpetro_th50_r=1.8239753, z=0.06793619),\n",
       " ResultRow(mangaid='1-115274', plateifu='7980-6101', elpetro_absmag_g_r=1.4304447174072266, elpetro_th50_r=3.5999496, z=0.0678625),\n",
       " ResultRow(mangaid='1-115275', plateifu='7979-9102', elpetro_absmag_g_r=1.5367469787597656, elpetro_th50_r=4.359862, z=0.068609096),\n",
       " ResultRow(mangaid='1-115277', plateifu='7979-9101', elpetro_absmag_g_r=1.5612831115722656, elpetro_th50_r=4.1670113, z=0.06759864),\n",
       " ResultRow(mangaid='1-115317', plateifu='7980-6102', elpetro_absmag_g_r=1.6157703399658203, elpetro_th50_r=6.127096, z=0.025745574),\n",
       " ResultRow(mangaid='1-115320', plateifu='7977-3703', elpetro_absmag_g_r=0.9951915740966797, elpetro_th50_r=4.7248664, z=0.02752743),\n",
       " ResultRow(mangaid='1-115334', plateifu='7979-12703', elpetro_absmag_g_r=1.5505409240722656, elpetro_th50_r=9.001137, z=0.025182445),\n",
       " ResultRow(mangaid='1-115335', plateifu='7980-12704', elpetro_absmag_g_r=1.492574691772461, elpetro_th50_r=4.36254, z=0.026200525),\n",
       " ResultRow(mangaid='1-115341', plateifu='7978-12705', elpetro_absmag_g_r=1.4042301177978516, elpetro_th50_r=11.71144, z=0.09889127),\n",
       " ResultRow(mangaid='1-115345', plateifu='7978-9101', elpetro_absmag_g_r=1.7705230712890625, elpetro_th50_r=7.3457375, z=0.025190346),\n",
       " ResultRow(mangaid='1-115353', plateifu='7978-9102', elpetro_absmag_g_r=1.0437469482421875, elpetro_th50_r=8.134106, z=0.0237248),\n",
       " ResultRow(mangaid='1-115354', plateifu='7979-6103', elpetro_absmag_g_r=1.3602943420410156, elpetro_th50_r=5.6404023, z=0.026569745),\n",
       " ResultRow(mangaid='1-115357', plateifu='7978-12703', elpetro_absmag_g_r=1.276397705078125, elpetro_th50_r=10.370306, z=0.027039325),\n",
       " ResultRow(mangaid='1-115358', plateifu='7978-12702', elpetro_absmag_g_r=0.9562911987304688, elpetro_th50_r=9.244861, z=0.024444062),\n",
       " ResultRow(mangaid='1-115360', plateifu='7980-12701', elpetro_absmag_g_r=1.565145492553711, elpetro_th50_r=3.193873, z=0.024206553),\n",
       " ResultRow(mangaid='1-115365', plateifu='7979-12701', elpetro_absmag_g_r=1.2519512176513672, elpetro_th50_r=10.63159, z=0.02537916),\n",
       " ResultRow(mangaid='1-115366', plateifu='7980-12702', elpetro_absmag_g_r=0.9490337371826172, elpetro_th50_r=3.7020357, z=0.025490312),\n",
       " ResultRow(mangaid='1-115367', plateifu='7980-12705', elpetro_absmag_g_r=1.5745105743408203, elpetro_th50_r=2.6033242, z=0.023817504),\n",
       " ResultRow(mangaid='1-115376', plateifu='7978-3703', elpetro_absmag_g_r=1.199930191040039, elpetro_th50_r=4.871272, z=0.027698789),\n",
       " ResultRow(mangaid='1-115377', plateifu='7978-6104', elpetro_absmag_g_r=1.4579086303710938, elpetro_th50_r=6.3151155, z=0.02609554),\n",
       " ResultRow(mangaid='1-115380', plateifu='7980-3704', elpetro_absmag_g_r=1.5733718872070312, elpetro_th50_r=4.748833, z=0.02401857),\n",
       " ResultRow(mangaid='1-115386', plateifu='7980-9101', elpetro_absmag_g_r=1.629446029663086, elpetro_th50_r=2.7483346, z=0.024189033),\n",
       " ResultRow(mangaid='1-115388', plateifu='7978-3701', elpetro_absmag_g_r=1.6358489990234375, elpetro_th50_r=2.8990397, z=0.0741286),\n",
       " ResultRow(mangaid='1-115394', plateifu='7979-6104', elpetro_absmag_g_r=1.7169246673583984, elpetro_th50_r=6.241154, z=0.022110293),\n",
       " ResultRow(mangaid='1-115398', plateifu='7979-12704', elpetro_absmag_g_r=1.299325942993164, elpetro_th50_r=10.953888, z=0.025359951)]"
      ]
     },
     "execution_count": 7,
     "metadata": {},
     "output_type": "execute_result"
    }
   ],
   "source": [
    "# look at page 2\n",
    "r.results"
   ]
  },
  {
   "cell_type": "code",
   "execution_count": 8,
   "metadata": {
    "execution": {
     "iopub.execute_input": "2022-05-25T12:49:39.416746Z",
     "iopub.status.busy": "2022-05-25T12:49:39.416024Z",
     "iopub.status.idle": "2022-05-25T12:49:40.513319Z",
     "shell.execute_reply": "2022-05-25T12:49:40.511273Z",
     "shell.execute_reply.started": "2022-05-25T12:49:39.416693Z"
    }
   },
   "outputs": [
    {
     "name": "stderr",
     "output_type": "stream",
     "text": [
      "\u001b[0;34m[INFO]: \u001b[0mRetrieving previous 100, from 0 to 100\n"
     ]
    }
   ],
   "source": [
    "# get the previous set \n",
    "p = r.getPrevious()"
   ]
  },
  {
   "cell_type": "markdown",
   "metadata": {},
   "source": [
    "To extend your results and keep them, use the ``extendSet`` method.  By default, extending a set grabs the next page of 100 results (defined by ``r.chunk``) and appends to the existing set of results.  Rerunning ``extendSet`` continues to append results until you've retrieved them all. To avoid running ``extendSet`` multiple times, you can run use the ``loop`` method, which will loop over all pages appending the data until you've retrieved all the results. "
   ]
  },
  {
   "cell_type": "code",
   "execution_count": 9,
   "metadata": {
    "execution": {
     "iopub.execute_input": "2022-05-25T12:49:40.530673Z",
     "iopub.status.busy": "2022-05-25T12:49:40.530204Z",
     "iopub.status.idle": "2022-05-25T12:49:41.554476Z",
     "shell.execute_reply": "2022-05-25T12:49:41.552442Z",
     "shell.execute_reply.started": "2022-05-25T12:49:40.530626Z"
    }
   },
   "outputs": [
    {
     "name": "stderr",
     "output_type": "stream",
     "text": [
      "\u001b[0;34m[INFO]: \u001b[0mRetrieving next 100, from 100 to 200\n"
     ]
    },
    {
     "data": {
      "text/plain": [
       "Marvin Results(query=nsa.z < 0.1, totalcount=9524, count=200, mode=local)"
      ]
     },
     "execution_count": 9,
     "metadata": {},
     "output_type": "execute_result"
    }
   ],
   "source": [
    "# extend the set by one page\n",
    "r.extendSet()\n",
    "r"
   ]
  },
  {
   "cell_type": "markdown",
   "metadata": {},
   "source": [
    "We now have 200 results out of the 4275.  For results with a small number of total counts, you can attempt to retrieve all of the results with the ``getAll`` method.  Currently this method is limited to returning results containing 500,000 rows or rows with 25 columns.\n",
    "\n",
    "#### Getting all the results\n",
    "There are several options for getting all of the results.  \n",
    "- Use the ``getAll`` method to attempt to retrieve all the results in one request. \n",
    "- Use the ``loop`` method to loop over all the pages to extend/append the results together\n",
    "- Rerun the ``Query`` using a new ``limit`` to retrieve all the results. \n",
    "\n",
    "**Note:** A bug was recently found in ``getAll`` and might not work.  Instead we will rerun the query using a large limit to return all the results."
   ]
  },
  {
   "cell_type": "code",
   "execution_count": 10,
   "metadata": {
    "execution": {
     "iopub.execute_input": "2022-05-25T12:49:41.573221Z",
     "iopub.status.busy": "2022-05-25T12:49:41.572744Z",
     "iopub.status.idle": "2022-05-25T12:49:43.443902Z",
     "shell.execute_reply": "2022-05-25T12:49:43.442263Z",
     "shell.execute_reply.started": "2022-05-25T12:49:41.573173Z"
    }
   },
   "outputs": [
    {
     "data": {
      "text/plain": [
       "Marvin Results(query=nsa.z < 0.1, totalcount=9524, count=5000, mode=local)"
      ]
     },
     "execution_count": 10,
     "metadata": {},
     "output_type": "execute_result"
    }
   ],
   "source": [
    "# get all the results\n",
    "# r.getAll()\n",
    "\n",
    "# rerun the query\n",
    "q = Query(search_filter='nsa.z < 0.1', return_params=['absmag_g_r', 'nsa.elpetro_th50_r'], limit=5000)\n",
    "r = q.run()\n",
    "r"
   ]
  },
  {
   "cell_type": "markdown",
   "metadata": {},
   "source": [
    "We now have all the results.  We can extract columns of data by indexing the results list using the column name.  Let's extract the redshift and color."
   ]
  },
  {
   "cell_type": "code",
   "execution_count": 11,
   "metadata": {
    "execution": {
     "iopub.execute_input": "2022-05-25T12:49:44.467899Z",
     "iopub.status.busy": "2022-05-25T12:49:44.466354Z",
     "iopub.status.idle": "2022-05-25T12:49:44.482237Z",
     "shell.execute_reply": "2022-05-25T12:49:44.480359Z",
     "shell.execute_reply.started": "2022-05-25T12:49:44.467845Z"
    }
   },
   "outputs": [],
   "source": [
    "# extract individual columns of data\n",
    "redshift = r.results['nsa.z']\n",
    "color = r.results['absmag_g_r']"
   ]
  },
  {
   "cell_type": "markdown",
   "metadata": {},
   "source": [
    "<a id='format'></a>\n",
    "## Formatting Results\n",
    "You can convert the results to a variety of formats using the ``toXXX`` methods.  Common formats are **FITS**, **Astropy Table**, **Pandas Dataframe**, **JSON**, or **CSV**.  Only the FITS and CSV conversions will write the output to a file.  Astropy Tables and Pandas Dataframes have more options for writing out your dataset to a file.  Let's convert to Pandas Dataframe."
   ]
  },
  {
   "cell_type": "code",
   "execution_count": 12,
   "metadata": {
    "execution": {
     "iopub.execute_input": "2022-05-25T12:49:46.422758Z",
     "iopub.status.busy": "2022-05-25T12:49:46.422034Z",
     "iopub.status.idle": "2022-05-25T12:49:46.470804Z",
     "shell.execute_reply": "2022-05-25T12:49:46.468975Z",
     "shell.execute_reply.started": "2022-05-25T12:49:46.422706Z"
    }
   },
   "outputs": [
    {
     "data": {
      "text/html": [
       "<div>\n",
       "<style scoped>\n",
       "    .dataframe tbody tr th:only-of-type {\n",
       "        vertical-align: middle;\n",
       "    }\n",
       "\n",
       "    .dataframe tbody tr th {\n",
       "        vertical-align: top;\n",
       "    }\n",
       "\n",
       "    .dataframe thead th {\n",
       "        text-align: right;\n",
       "    }\n",
       "</style>\n",
       "<table border=\"1\" class=\"dataframe\">\n",
       "  <thead>\n",
       "    <tr style=\"text-align: right;\">\n",
       "      <th></th>\n",
       "      <th>mangaid</th>\n",
       "      <th>plateifu</th>\n",
       "      <th>elpetro_absmag_g_r</th>\n",
       "      <th>elpetro_th50_r</th>\n",
       "      <th>z</th>\n",
       "    </tr>\n",
       "  </thead>\n",
       "  <tbody>\n",
       "    <tr>\n",
       "      <th>0</th>\n",
       "      <td>1-1009</td>\n",
       "      <td>11866-12705</td>\n",
       "      <td>1.188866</td>\n",
       "      <td>3.447095</td>\n",
       "      <td>0.064825</td>\n",
       "    </tr>\n",
       "    <tr>\n",
       "      <th>1</th>\n",
       "      <td>1-10166</td>\n",
       "      <td>12514-9101</td>\n",
       "      <td>1.221081</td>\n",
       "      <td>7.782813</td>\n",
       "      <td>0.080584</td>\n",
       "    </tr>\n",
       "    <tr>\n",
       "      <th>2</th>\n",
       "      <td>1-10177</td>\n",
       "      <td>12514-3704</td>\n",
       "      <td>1.614206</td>\n",
       "      <td>2.410800</td>\n",
       "      <td>0.048429</td>\n",
       "    </tr>\n",
       "    <tr>\n",
       "      <th>3</th>\n",
       "      <td>1-10263</td>\n",
       "      <td>12514-1902</td>\n",
       "      <td>0.941444</td>\n",
       "      <td>3.480682</td>\n",
       "      <td>0.020133</td>\n",
       "    </tr>\n",
       "    <tr>\n",
       "      <th>4</th>\n",
       "      <td>1-1033</td>\n",
       "      <td>11866-9101</td>\n",
       "      <td>1.061858</td>\n",
       "      <td>12.248910</td>\n",
       "      <td>0.012681</td>\n",
       "    </tr>\n",
       "  </tbody>\n",
       "</table>\n",
       "</div>"
      ],
      "text/plain": [
       "   mangaid     plateifu  elpetro_absmag_g_r  elpetro_th50_r         z\n",
       "0   1-1009  11866-12705            1.188866        3.447095  0.064825\n",
       "1  1-10166   12514-9101            1.221081        7.782813  0.080584\n",
       "2  1-10177   12514-3704            1.614206        2.410800  0.048429\n",
       "3  1-10263   12514-1902            0.941444        3.480682  0.020133\n",
       "4   1-1033   11866-9101            1.061858       12.248910  0.012681"
      ]
     },
     "execution_count": 12,
     "metadata": {},
     "output_type": "execute_result"
    }
   ],
   "source": [
    "# convert the marvin results to a Pandas dataframe\n",
    "df = r.toDF()\n",
    "df.head()"
   ]
  },
  {
   "cell_type": "markdown",
   "metadata": {},
   "source": [
    "You can also convert the data into Marvin objects using the ``convertToTool`` method.  This will attempt to convert each result row into its corresponding Marvin Object.  The default conversion is to a ``Cube`` object.  Converted objects are stored in the ``r.objects`` attribute.  Let's convert our results to cubes. **Depending on the number of results, this may take awhile.  Let's limit our conversion to 5.**  Once converted, we now have Marvin Tools at our disposal."
   ]
  },
  {
   "cell_type": "code",
   "execution_count": 13,
   "metadata": {
    "execution": {
     "iopub.execute_input": "2022-05-25T12:49:47.420703Z",
     "iopub.status.busy": "2022-05-25T12:49:47.419807Z",
     "iopub.status.idle": "2022-05-25T12:49:48.018634Z",
     "shell.execute_reply": "2022-05-25T12:49:48.016548Z",
     "shell.execute_reply.started": "2022-05-25T12:49:47.420646Z"
    }
   },
   "outputs": [
    {
     "name": "stdout",
     "output_type": "stream",
     "text": [
      "Converting results to Marvin Cube objects\n"
     ]
    }
   ],
   "source": [
    "# convert the top 5 to cubes\n",
    "r.convertToTool('cube', limit=5)"
   ]
  },
  {
   "cell_type": "code",
   "execution_count": 14,
   "metadata": {
    "execution": {
     "iopub.execute_input": "2022-05-25T12:49:48.094220Z",
     "iopub.status.busy": "2022-05-25T12:49:48.093706Z",
     "iopub.status.idle": "2022-05-25T12:49:48.107280Z",
     "shell.execute_reply": "2022-05-25T12:49:48.105031Z",
     "shell.execute_reply.started": "2022-05-25T12:49:48.094172Z"
    }
   },
   "outputs": [
    {
     "data": {
      "text/plain": [
       "[<Marvin Cube (plateifu='11866-12705', mode='local', data_origin='db')>,\n",
       " <Marvin Cube (plateifu='12514-9101', mode='local', data_origin='db')>,\n",
       " <Marvin Cube (plateifu='12514-3704', mode='local', data_origin='db')>,\n",
       " <Marvin Cube (plateifu='12514-1902', mode='local', data_origin='db')>,\n",
       " <Marvin Cube (plateifu='11866-9101', mode='local', data_origin='db')>]"
      ]
     },
     "execution_count": 14,
     "metadata": {},
     "output_type": "execute_result"
    }
   ],
   "source": [
    "# look at the objects\n",
    "r.objects"
   ]
  },
  {
   "cell_type": "markdown",
   "metadata": {},
   "source": [
    "<a id='plot'></a>\n",
    "## Quickly Plotting the Results\n",
    "You can quickly plot the full set of results using the ``plot`` method.  ``plot`` accepts two string column names and will attempt to create a scatter plot, a hex-binned plot, or a scatter-density plot, depending on the total number of results.  The ``plot`` method returns the matplotlib **Figure** and **Axes** objects, as well as a dictionary of histogram information for each column.  The ``Results.plot`` method uses the underlying [plot utility function](https://sdss-marvin.readthedocs.io/en/latest/tools/utils/plot-scatter.html).  The utility function offers up more custom plotting options. Let's plot g-r color versus redshift.  **Regardless of the number of results you currently have loaded, the ``plot`` method will automatically retrieve all the results before plotting.** "
   ]
  },
  {
   "cell_type": "code",
   "execution_count": 15,
   "metadata": {
    "execution": {
     "iopub.execute_input": "2022-05-25T12:49:49.686204Z",
     "iopub.status.busy": "2022-05-25T12:49:49.685426Z",
     "iopub.status.idle": "2022-05-25T12:49:56.252076Z",
     "shell.execute_reply": "2022-05-25T12:49:56.249639Z",
     "shell.execute_reply.started": "2022-05-25T12:49:49.686151Z"
    }
   },
   "outputs": [
    {
     "data": {
      "image/png": "[encoded data removed]",
      "text/plain": [
       "<Figure size 432x288 with 4 Axes>"
      ]
     },
     "metadata": {},
     "output_type": "display_data"
    }
   ],
   "source": [
    "# make a scatter plot\n",
    "fig, ax, histdata = r.plot('z', 'absmag_g_r')"
   ]
  },
  {
   "cell_type": "markdown",
   "metadata": {},
   "source": [
    "By default, it will also plot histograms of the column as well.  This can be turned off by setting `with_hist=False`."
   ]
  },
  {
   "cell_type": "code",
   "execution_count": 16,
   "metadata": {
    "execution": {
     "iopub.execute_input": "2022-05-25T12:49:56.417532Z",
     "iopub.status.busy": "2022-05-25T12:49:56.417072Z",
     "iopub.status.idle": "2022-05-25T12:49:59.353105Z",
     "shell.execute_reply": "2022-05-25T12:49:59.351260Z",
     "shell.execute_reply.started": "2022-05-25T12:49:56.417485Z"
    }
   },
   "outputs": [
    {
     "data": {
      "image/png": "[encoded data removed]",
      "text/plain": [
       "<Figure size 432x288 with 2 Axes>"
      ]
     },
     "metadata": {},
     "output_type": "display_data"
    }
   ],
   "source": [
    "# make only a scatter plot\n",
    "fig, ax = r.plot('z', 'absmag_g_r', with_hist=False)"
   ]
  },
  {
   "cell_type": "markdown",
   "metadata": {},
   "source": [
    "We can also quickly plot a histogram of a single column of data using the ``hist`` method, which uses an underlying [hist utility function](https://sdss-marvin.readthedocs.io/en/latest/tools/utils/plot-hist.html).    "
   ]
  },
  {
   "cell_type": "code",
   "execution_count": 17,
   "metadata": {
    "execution": {
     "iopub.execute_input": "2022-05-25T12:49:59.503154Z",
     "iopub.status.busy": "2022-05-25T12:49:59.502695Z",
     "iopub.status.idle": "2022-05-25T12:50:03.173169Z",
     "shell.execute_reply": "2022-05-25T12:50:03.170553Z",
     "shell.execute_reply.started": "2022-05-25T12:49:59.503109Z"
    }
   },
   "outputs": [
    {
     "data": {
      "image/png": "[encoded data removed]",
      "text/plain": [
       "<Figure size 432x288 with 1 Axes>"
      ]
     },
     "metadata": {},
     "output_type": "display_data"
    }
   ],
   "source": [
    "histdata, fig, ax = r.hist('absmag_g_r')"
   ]
  },
  {
   "cell_type": "markdown",
   "metadata": {},
   "source": [
    "<a id='download'></a>\n",
    "## Downloading Results\n",
    "You can download the raw files from your results using the ``download`` method.  This uses the ``downloadList`` utility function under the hood.  By default this will download the DRP cubes for each target row.  It accepts any keyword arguments as ``downloadList``."
   ]
  },
  {
   "cell_type": "code",
   "execution_count": 18,
   "metadata": {
    "execution": {
     "iopub.execute_input": "2022-05-25T12:50:03.304218Z",
     "iopub.status.busy": "2022-05-25T12:50:03.303685Z",
     "iopub.status.idle": "2022-05-25T12:50:03.311723Z",
     "shell.execute_reply": "2022-05-25T12:50:03.309479Z",
     "shell.execute_reply.started": "2022-05-25T12:50:03.304170Z"
    }
   },
   "outputs": [],
   "source": [
    "# download the DRP datacube files from the results \n",
    "# r.download()"
   ]
  },
  {
   "cell_type": "markdown",
   "metadata": {},
   "source": [
    "## Additional Resoures\n",
    "- Get a refresher on [Queries](https://sdss-marvin.readthedocs.io/en/latest/query/query.html)\n",
    "- See more details of what you can do with [Results](https://sdss-marvin.readthedocs.io/en/latest/query/results.html#using-results)\n",
    "- See the [Results API](https://sdss-marvin.readthedocs.io/en/latest/reference/queries.html#marvin-results-ref) for a look at the Marvin Results object."
   ]
  },
  {
   "cell_type": "code",
   "execution_count": null,
   "metadata": {},
   "outputs": [],
   "source": []
  }
 ],
 "metadata": {
  "kernelspec": {
   "display_name": "Python 3.8 (py38)",
   "language": "python",
   "name": "py38"
  },
  "language_info": {
   "codemirror_mode": {
    "name": "ipython",
    "version": 3
   },
   "file_extension": ".py",
   "mimetype": "text/x-python",
   "name": "python",
   "nbconvert_exporter": "python",
   "pygments_lexer": "ipython3",
   "version": "3.8.5"
  }
 },
 "nbformat": 4,
 "nbformat_minor": 4
}
