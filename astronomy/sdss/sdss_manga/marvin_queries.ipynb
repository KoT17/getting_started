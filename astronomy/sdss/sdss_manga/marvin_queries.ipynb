{
 "cells": [
  {
   "cell_type": "code",
   "execution_count": 1,
   "metadata": {
    "execution": {
     "iopub.execute_input": "2022-05-25T12:46:03.556103Z",
     "iopub.status.busy": "2022-05-25T12:46:03.555503Z",
     "iopub.status.idle": "2022-05-25T12:46:03.582547Z",
     "shell.execute_reply": "2022-05-25T12:46:03.580495Z",
     "shell.execute_reply.started": "2022-05-25T12:46:03.555960Z"
    },
    "nbsphinx": "hidden"
   },
   "outputs": [],
   "source": [
    "import warnings\n",
    "warnings.simplefilter('ignore')"
   ]
  },
  {
   "cell_type": "markdown",
   "metadata": {
    "raw_mimetype": "text/restructuredtext"
   },
   "source": [
    "# Marvin Queries\n",
    "This tutorial goes through a few basics of how to perform queries on the MaNGA dataset using the Marvin Query tool. Please see the [Marvin Query](../../query/query.rst) page for more details on how to use Queries.  This tutorial covers the basics of:\n",
    "\n",
    "\n",
    " * querying on metadata information from the NSA catalog\n",
    " * how to combine multiple filter and return additional parameters\n",
    " * how to perform radial cone searches with Marvin\n",
    " * querying on information from the MaNGA DAPall summary file\n",
    " * querying using quality and target flags "
   ]
  },
  {
   "cell_type": "markdown",
   "metadata": {},
   "source": [
    "First let's import some basics"
   ]
  },
  {
   "cell_type": "code",
   "execution_count": 4,
   "metadata": {
    "execution": {
     "iopub.execute_input": "2022-05-25T12:47:22.699724Z",
     "iopub.status.busy": "2022-05-25T12:47:22.699035Z",
     "iopub.status.idle": "2022-05-25T12:47:22.708452Z",
     "shell.execute_reply": "2022-05-25T12:47:22.706482Z",
     "shell.execute_reply.started": "2022-05-25T12:47:22.699672Z"
    },
    "tags": []
   },
   "outputs": [],
   "source": [
    "# we should be using DR17 MaNGA data\n",
    "from marvin import config\n",
    "config.release\n",
    "\n",
    "# import the Query tool\n",
    "from marvin.tools.query import Query"
   ]
  },
  {
   "cell_type": "markdown",
   "metadata": {
    "raw_mimetype": "text/markdown"
   },
   "source": [
    "## Query Basics  \n",
    "### Querying on Metadata \n",
    "Let's go through some Query basics of how to do a query on metadata.  The two main keyword arguments to Query are **search_filter** and **return_params**.  **search_filter** is a string representing the SQL ``where`` condition you'd like to filter on.  This tutorial assumes a basic familiarity with the SQL boolean syntax needed to construct Marvin Queries.  Please see the [tutorial on SQL Boolean syntax](../boolean-search-tutorial.rst) to learn more. **return_params** is a list of parameters you want to return in the query in addition to those used in the SQL filter condition. "
   ]
  },
  {
   "cell_type": "markdown",
   "metadata": {},
   "source": [
    "Let's search for all galaxies with a redshift less than 0.1. To specify our search parameter, redshift, we must know the database table and name of the parameter. In this case, MaNGA uses the NASA-Sloan Atlas (NSA) for redshift information.  In the NSA catalog, the redshift is the **z** parameter of the **nsa** table, so our search parameter will be ``nsa.z``.  Generically, all search parameters will take the form `table.parameter`."
   ]
  },
  {
   "cell_type": "code",
   "execution_count": 5,
   "metadata": {
    "execution": {
     "iopub.execute_input": "2022-05-25T12:47:25.370407Z",
     "iopub.status.busy": "2022-05-25T12:47:25.369673Z",
     "iopub.status.idle": "2022-05-25T12:47:25.378922Z",
     "shell.execute_reply": "2022-05-25T12:47:25.376924Z",
     "shell.execute_reply.started": "2022-05-25T12:47:25.370355Z"
    },
    "tags": []
   },
   "outputs": [],
   "source": [
    "# filter for galaxies with a redshift < 0.1\n",
    "my_filter = 'nsa.z < 0.1'"
   ]
  },
  {
   "cell_type": "code",
   "execution_count": 6,
   "metadata": {
    "execution": {
     "iopub.execute_input": "2022-05-25T12:47:26.367512Z",
     "iopub.status.busy": "2022-05-25T12:47:26.365556Z",
     "iopub.status.idle": "2022-05-25T12:47:27.758688Z",
     "shell.execute_reply": "2022-05-25T12:47:27.756814Z",
     "shell.execute_reply.started": "2022-05-25T12:47:26.367459Z"
    }
   },
   "outputs": [
    {
     "name": "stdout",
     "output_type": "stream",
     "text": [
      "Marvin Results(query=nsa.z < 0.1, totalcount=9524, count=100, mode=local)\n",
      "number of results: 9524\n"
     ]
    }
   ],
   "source": [
    "# construct the query\n",
    "q = Query(search_filter=my_filter)\n",
    "\n",
    "# run the query\n",
    "r = q.run()\n",
    "\n",
    "# print some stuff\n",
    "print(r)\n",
    "print('number of results:', r.totalcount)"
   ]
  },
  {
   "cell_type": "markdown",
   "metadata": {},
   "source": [
    "After constructing queries, we can run them with **q.run()**.  This returns a **Marvin Results** object. Let's take a look.  This query returned 4275 objects.  For queries with large results, the results are automatically paginated in sets of 100 objects.  Default parameters returned in queries always include the **mangaid** and **plateifu**.  Marvin Queries will also return any parameters used in the definition of your filter condition. Since we filtered on redshift, the redshift is automatically included."
   ]
  },
  {
   "cell_type": "code",
   "execution_count": 7,
   "metadata": {
    "execution": {
     "iopub.execute_input": "2022-05-25T12:47:27.776114Z",
     "iopub.status.busy": "2022-05-25T12:47:27.775570Z",
     "iopub.status.idle": "2022-05-25T12:47:27.787519Z",
     "shell.execute_reply": "2022-05-25T12:47:27.785712Z",
     "shell.execute_reply.started": "2022-05-25T12:47:27.776070Z"
    }
   },
   "outputs": [
    {
     "name": "stdout",
     "output_type": "stream",
     "text": [
      "number in current set: 100\n",
      "<ResultSet(set=1.0/953, index=0:10, count_in_set=10, total=9524)>\n",
      "[ResultRow(mangaid='1-1009', plateifu='11866-12705', z=0.064824656),\n",
      " ResultRow(mangaid='1-10166', plateifu='12514-9101', z=0.08058354),\n",
      " ResultRow(mangaid='1-10177', plateifu='12514-3704', z=0.048428684),\n",
      " ResultRow(mangaid='1-10263', plateifu='12514-1902', z=0.020132923),\n",
      " ResultRow(mangaid='1-1033', plateifu='10843-12704', z=0.012681201),\n",
      " ResultRow(mangaid='1-1033', plateifu='11866-9101', z=0.012681201),\n",
      " ResultRow(mangaid='1-1037', plateifu='10843-12703', z=0.039029263),\n",
      " ResultRow(mangaid='1-10375', plateifu='12510-1902', z=0.038751837),\n",
      " ResultRow(mangaid='1-1038', plateifu='11866-6102', z=0.033372667),\n",
      " ResultRow(mangaid='1-106204', plateifu='12068-6104', z=0.057716995)]\n"
     ]
    }
   ],
   "source": [
    "# look at the current page of results (subset of 10)\n",
    "print('number in current set:', len(r.results))\n",
    "print(r.results[0:10])"
   ]
  },
  {
   "cell_type": "markdown",
   "metadata": {},
   "source": [
    "### Multiple Search Criteria and Returning Additional Parameters\n",
    "We can easily combine query filter conditions by constructing a boolean string using AND.  Let's search for galaxies with a redshift < 0.1 and log M$_\\star$ < 10.  The NSA catalog contains the Sersic profile determination for stellar mass, which is the **sersic_mass** or **sersic_logmass** parameter of the **`nsa`** table, so our search parameter will be **nsa.sersic_logmass**.  \n",
    "\n",
    "Let's also return the object RA and Dec as well using the **return_params** keyword.  This accepts a list of string parameters.  Object RA and Dec are included in the **cube** table so the parameter names are `cube.ra` and `cube.dec`."
   ]
  },
  {
   "cell_type": "code",
   "execution_count": 8,
   "metadata": {
    "execution": {
     "iopub.execute_input": "2022-05-25T12:47:30.529384Z",
     "iopub.status.busy": "2022-05-25T12:47:30.528558Z",
     "iopub.status.idle": "2022-05-25T12:47:32.957661Z",
     "shell.execute_reply": "2022-05-25T12:47:32.955576Z",
     "shell.execute_reply.started": "2022-05-25T12:47:30.529328Z"
    }
   },
   "outputs": [
    {
     "name": "stdout",
     "output_type": "stream",
     "text": [
      "Marvin Results(query=nsa.z < 0.1 and nsa.sersic_logmass < 10, totalcount=4216, count=100, mode=local)\n",
      "Number of objects: 4216\n"
     ]
    }
   ],
   "source": [
    "my_filter = 'nsa.z < 0.1 and nsa.sersic_logmass < 10'\n",
    "q = Query(search_filter=my_filter, return_params=['cube.ra', 'cube.dec'])\n",
    "r = q.run()\n",
    "print(r)\n",
    "print('Number of objects:', r.totalcount)"
   ]
  },
  {
   "cell_type": "markdown",
   "metadata": {},
   "source": [
    "This query return 1932 objects and now includes the RA, Dec, redshift and log Sersic stellar mass parameters. "
   ]
  },
  {
   "cell_type": "code",
   "execution_count": 9,
   "metadata": {
    "execution": {
     "iopub.execute_input": "2022-05-25T12:47:32.976989Z",
     "iopub.status.busy": "2022-05-25T12:47:32.976463Z",
     "iopub.status.idle": "2022-05-25T12:47:32.988073Z",
     "shell.execute_reply": "2022-05-25T12:47:32.986239Z",
     "shell.execute_reply.started": "2022-05-25T12:47:32.976944Z"
    }
   },
   "outputs": [
    {
     "data": {
      "text/plain": [
       "<ResultSet(set=1.0/422, index=0:10, count_in_set=10, total=4216)>\n",
       "[ResultRow(mangaid='1-10263', plateifu='12514-1902', ra=200.400259414, dec=0.573031983277, sersic_logmass=8.915024660185969, z=0.020132923),\n",
       " ResultRow(mangaid='1-1033', plateifu='11866-9101', ra=149.707718089, dec=0.836657711419, sersic_logmass=8.849841125765641, z=0.012681201),\n",
       " ResultRow(mangaid='1-1033', plateifu='10843-12704', ra=149.707718089, dec=0.836657711419, sersic_logmass=8.849841125765641, z=0.012681201),\n",
       " ResultRow(mangaid='1-1037', plateifu='10843-12703', ra=149.657311739, dec=0.870762819465, sersic_logmass=9.406284586801183, z=0.039029263),\n",
       " ResultRow(mangaid='1-10375', plateifu='12510-1902', ra=202.924176092, dec=-0.466036685729, sersic_logmass=9.232796161922877, z=0.038751837),\n",
       " ResultRow(mangaid='1-106663', plateifu='12071-9101', ra=347.324231618, dec=0.0644395785777, sersic_logmass=9.415455347717751, z=0.015748328),\n",
       " ResultRow(mangaid='1-106670', plateifu='12071-9102', ra=347.345531209, dec=1.00060002603, sersic_logmass=8.530121671920135, z=0.015345705),\n",
       " ResultRow(mangaid='1-107659', plateifu='8657-3701', ra=9.11575087486, dec=0.577002475521, sersic_logmass=9.392574612681031, z=0.0411217),\n",
       " ResultRow(mangaid='1-107761', plateifu='8657-3704', ra=10.1981233273, dec=0.621880632666, sersic_logmass=9.53711837184322, z=0.041381188),\n",
       " ResultRow(mangaid='1-107835', plateifu='12073-12704', ra=14.1637312846, dec=-1.0770352909, sersic_logmass=9.692693435569389, z=0.040238895)]"
      ]
     },
     "execution_count": 9,
     "metadata": {},
     "output_type": "execute_result"
    }
   ],
   "source": [
    "# print the first 10 rows\n",
    "r.results[0:10]"
   ]
  },
  {
   "cell_type": "markdown",
   "metadata": {},
   "source": [
    "## Radial Queries in Marvin\n",
    "Cone searches can be performed with Marvin Queries using a special **functional** syntax in your SQL string. Cone searches can be performed using the special ``radial`` string function.  The syntax for a cone search query is **radial(RA, Dec, radius)**.  Let's search for all galaxies within 0.5 degrees centered on RA, Dec = 232.5447, 48.6902.  The RA and Dec must be in decimal degrees and the radius is in units of degrees. "
   ]
  },
  {
   "cell_type": "code",
   "execution_count": 10,
   "metadata": {
    "execution": {
     "iopub.execute_input": "2022-05-25T12:47:32.991701Z",
     "iopub.status.busy": "2022-05-25T12:47:32.991219Z",
     "iopub.status.idle": "2022-05-25T12:47:34.603500Z",
     "shell.execute_reply": "2022-05-25T12:47:34.601702Z",
     "shell.execute_reply.started": "2022-05-25T12:47:32.991656Z"
    }
   },
   "outputs": [
    {
     "name": "stdout",
     "output_type": "stream",
     "text": [
      "Marvin Results(query=radial(232.5447, 48.6902, 0.5), totalcount=2, count=2, mode=local)\n",
      "<ResultSet(set=1.0/1, index=0:2, count_in_set=2, total=2)>\n",
      "[ResultRow(mangaid='1-209232', plateifu='8485-1901', ra=232.544703894, dec=48.6902009334),\n",
      " ResultRow(mangaid='1-209266', plateifu='8485-9101', ra=233.107502765, dec=48.8332849239)]\n"
     ]
    }
   ],
   "source": [
    "# build the radial filter condition\n",
    "my_filter = 'radial(232.5447, 48.6902, 0.5)'\n",
    "q = Query(search_filter=my_filter)\n",
    "r = q.run()\n",
    "print(r)\n",
    "print(r.results)"
   ]
  },
  {
   "cell_type": "markdown",
   "metadata": {},
   "source": [
    "## Queries using DAPall parameters.  \n",
    "MaNGA provides derived analysis properties in its **dapall** summary file.  Marvin allows for queries on any of the parameters in the file.  The table name for these parameters is **dapall**.  Let's find all galaxies that have a total measure star-formation rate > 5 M$_\\odot$/year.  The total SFR parameter in the DAPall table is ``sfr_tot``.      "
   ]
  },
  {
   "cell_type": "code",
   "execution_count": 11,
   "metadata": {
    "execution": {
     "iopub.execute_input": "2022-05-25T12:47:34.607379Z",
     "iopub.status.busy": "2022-05-25T12:47:34.606880Z",
     "iopub.status.idle": "2022-05-25T12:47:36.919009Z",
     "shell.execute_reply": "2022-05-25T12:47:36.916988Z",
     "shell.execute_reply.started": "2022-05-25T12:47:34.607332Z"
    }
   },
   "outputs": [
    {
     "name": "stdout",
     "output_type": "stream",
     "text": [
      "Marvin Results(query=dapall.sfr_tot > 5, totalcount=98, count=98, mode=local)\n",
      "<ResultSet(set=1.0/1, index=0:98, count_in_set=98, total=98)>\n",
      "[ResultRow(mangaid='1-114035', plateifu='8619-6103', sfr_tot=6.2517962, bintype_name='HYB10', template_name='MILESHC-MASTARHC2'),\n",
      " ResultRow(mangaid='1-114035', plateifu='8619-6103', sfr_tot=12.301004, bintype_name='HYB10', template_name='MILESHC-MASTARSSP'),\n",
      " ResultRow(mangaid='1-114532', plateifu='7975-3703', sfr_tot=50.95404, bintype_name='HYB10', template_name='MILESHC-MASTARSSP'),\n",
      " ResultRow(mangaid='1-114532', plateifu='7975-3703', sfr_tot=50.912937, bintype_name='HYB10', template_name='MILESHC-MASTARHC2'),\n",
      " ResultRow(mangaid='1-114928', plateifu='7977-3702', sfr_tot=2154.7244, bintype_name='HYB10', template_name='MILESHC-MASTARSSP'),\n",
      " ResultRow(mangaid='1-118449', plateifu='12089-12701', sfr_tot=5.211467, bintype_name='HYB10', template_name='MILESHC-MASTARSSP'),\n",
      " ResultRow(mangaid='1-118449', plateifu='12089-12701', sfr_tot=5.1740203, bintype_name='HYB10', template_name='MILESHC-MASTARHC2'),\n",
      " ResultRow(mangaid='1-120793', plateifu='8088-1902', sfr_tot=9.554007, bintype_name='HYB10', template_name='MILESHC-MASTARHC2'),\n",
      " ResultRow(mangaid='1-121218', plateifu='8139-3703', sfr_tot=493495.4, bintype_name='HYB10', template_name='MILESHC-MASTARSSP'),\n",
      " ResultRow(mangaid='1-121218', plateifu='8139-3703', sfr_tot=1958310.8, bintype_name='HYB10', template_name='MILESHC-MASTARHC2'),\n",
      " ResultRow(mangaid='1-121871', plateifu='9485-3703', sfr_tot=2803.2751, bintype_name='HYB10', template_name='MILESHC-MASTARHC2'),\n",
      " ResultRow(mangaid='1-121871', plateifu='9485-3703', sfr_tot=15428.036, bintype_name='HYB10', template_name='MILESHC-MASTARSSP'),\n",
      " ResultRow(mangaid='1-137799', plateifu='8247-3703', sfr_tot=39.122475, bintype_name='HYB10', template_name='MILESHC-MASTARHC2'),\n",
      " ResultRow(mangaid='1-137799', plateifu='8247-3703', sfr_tot=25.99991, bintype_name='HYB10', template_name='MILESHC-MASTARSSP'),\n",
      " ResultRow(mangaid='1-163887', plateifu='8940-12701', sfr_tot=223739.39, bintype_name='HYB10', template_name='MILESHC-MASTARSSP'),\n",
      " ResultRow(mangaid='1-174629', plateifu='8947-3703', sfr_tot=17.607609, bintype_name='HYB10', template_name='MILESHC-MASTARSSP'),\n",
      " ResultRow(mangaid='1-179530', plateifu='7964-3703', sfr_tot=1040481.5, bintype_name='HYB10', template_name='MILESHC-MASTARHC2'),\n",
      " ResultRow(mangaid='1-179530', plateifu='7964-3703', sfr_tot=281723.4, bintype_name='HYB10', template_name='MILESHC-MASTARSSP'),\n",
      " ResultRow(mangaid='1-216805', plateifu='8440-3702', sfr_tot=9.658985, bintype_name='HYB10', template_name='MILESHC-MASTARSSP'),\n",
      " ResultRow(mangaid='1-24092', plateifu='7991-1901', sfr_tot=5.781197, bintype_name='HYB10', template_name='MILESHC-MASTARHC2'),\n",
      " ResultRow(mangaid='1-24092', plateifu='7991-1901', sfr_tot=5.7860613, bintype_name='HYB10', template_name='MILESHC-MASTARSSP'),\n",
      " ResultRow(mangaid='1-245869', plateifu='8547-3703', sfr_tot=44.65224, bintype_name='HYB10', template_name='MILESHC-MASTARHC2'),\n",
      " ResultRow(mangaid='1-247661', plateifu='9036-9101', sfr_tot=133.33986, bintype_name='HYB10', template_name='MILESHC-MASTARSSP'),\n",
      " ResultRow(mangaid='1-248405', plateifu='8979-9101', sfr_tot=23.74855, bintype_name='HYB10', template_name='MILESHC-MASTARHC2'),\n",
      " ResultRow(mangaid='1-248405', plateifu='8979-9101', sfr_tot=26.968853, bintype_name='HYB10', template_name='MILESHC-MASTARSSP'),\n",
      " ResultRow(mangaid='1-250192', plateifu='11950-12703', sfr_tot=13556.522, bintype_name='HYB10', template_name='MILESHC-MASTARHC2'),\n",
      " ResultRow(mangaid='1-250192', plateifu='11950-12703', sfr_tot=653.9566, bintype_name='HYB10', template_name='MILESHC-MASTARSSP'),\n",
      " ResultRow(mangaid='1-250652', plateifu='8331-3703', sfr_tot=33.185505, bintype_name='HYB10', template_name='MILESHC-MASTARSSP'),\n",
      " ResultRow(mangaid='1-250652', plateifu='8331-3703', sfr_tot=14.483609, bintype_name='HYB10', template_name='MILESHC-MASTARHC2'),\n",
      " ResultRow(mangaid='1-258536', plateifu='8464-3703', sfr_tot=631.43726, bintype_name='HYB10', template_name='MILESHC-MASTARSSP'),\n",
      " ResultRow(mangaid='1-259538', plateifu='8317-3703', sfr_tot=672.87854, bintype_name='HYB10', template_name='MILESHC-MASTARHC2'),\n",
      " ResultRow(mangaid='1-259538', plateifu='8317-3703', sfr_tot=22.405798, bintype_name='HYB10', template_name='MILESHC-MASTARSSP'),\n",
      " ResultRow(mangaid='1-260823', plateifu='8447-3703', sfr_tot=6.033875, bintype_name='HYB10', template_name='MILESHC-MASTARSSP'),\n",
      " ResultRow(mangaid='1-262830', plateifu='9039-9101', sfr_tot=5.324941, bintype_name='HYB10', template_name='MILESHC-MASTARHC2'),\n",
      " ResultRow(mangaid='1-262830', plateifu='9039-9101', sfr_tot=5.3671856, bintype_name='HYB10', template_name='MILESHC-MASTARSSP'),\n",
      " ResultRow(mangaid='1-265495', plateifu='9046-1902', sfr_tot=36.079067, bintype_name='HYB10', template_name='MILESHC-MASTARSSP'),\n",
      " ResultRow(mangaid='1-265495', plateifu='9046-1902', sfr_tot=36.35767, bintype_name='HYB10', template_name='MILESHC-MASTARHC2'),\n",
      " ResultRow(mangaid='1-265618', plateifu='9088-3703', sfr_tot=398.46133, bintype_name='HYB10', template_name='MILESHC-MASTARSSP'),\n",
      " ResultRow(mangaid='1-265618', plateifu='9088-3703', sfr_tot=396.30377, bintype_name='HYB10', template_name='MILESHC-MASTARHC2'),\n",
      " ResultRow(mangaid='1-270739', plateifu='11984-6101', sfr_tot=70.57408, bintype_name='HYB10', template_name='MILESHC-MASTARSSP'),\n",
      " ResultRow(mangaid='1-273054', plateifu='11980-3701', sfr_tot=7.0783534, bintype_name='HYB10', template_name='MILESHC-MASTARHC2'),\n",
      " ResultRow(mangaid='1-283246', plateifu='8341-3703', sfr_tot=635640.06, bintype_name='HYB10', template_name='MILESHC-MASTARSSP'),\n",
      " ResultRow(mangaid='1-283246', plateifu='8341-3703', sfr_tot=746806.5, bintype_name='HYB10', template_name='MILESHC-MASTARHC2'),\n",
      " ResultRow(mangaid='1-294459', plateifu='9894-9101', sfr_tot=56.403442, bintype_name='HYB10', template_name='MILESHC-MASTARSSP'),\n",
      " ResultRow(mangaid='1-29874', plateifu='8655-12703', sfr_tot=7.5460043, bintype_name='HYB10', template_name='MILESHC-MASTARHC2'),\n",
      " ResultRow(mangaid='1-29874', plateifu='8655-12703', sfr_tot=7.6320105, bintype_name='HYB10', template_name='MILESHC-MASTARSSP'),\n",
      " ResultRow(mangaid='1-298823', plateifu='9508-12701', sfr_tot=344.77078, bintype_name='HYB10', template_name='MILESHC-MASTARSSP'),\n",
      " ResultRow(mangaid='1-31626', plateifu='8657-9101', sfr_tot=18.760994, bintype_name='HYB10', template_name='MILESHC-MASTARHC2'),\n",
      " ResultRow(mangaid='1-321074', plateifu='8326-6101', sfr_tot=372.37057, bintype_name='HYB10', template_name='MILESHC-MASTARSSP'),\n",
      " ResultRow(mangaid='1-33810', plateifu='12074-3703', sfr_tot=9.58455, bintype_name='HYB10', template_name='MILESHC-MASTARHC2'),\n",
      " ResultRow(mangaid='1-339132', plateifu='8138-3703', sfr_tot=10.435053, bintype_name='HYB10', template_name='MILESHC-MASTARHC2'),\n",
      " ResultRow(mangaid='1-339132', plateifu='8138-3703', sfr_tot=66.08324, bintype_name='HYB10', template_name='MILESHC-MASTARSSP'),\n",
      " ResultRow(mangaid='1-36645', plateifu='8077-12701', sfr_tot=18703.447, bintype_name='HYB10', template_name='MILESHC-MASTARHC2'),\n",
      " ResultRow(mangaid='1-37385', plateifu='9193-9101', sfr_tot=5.12378, bintype_name='HYB10', template_name='MILESHC-MASTARSSP'),\n",
      " ResultRow(mangaid='1-37494', plateifu='8154-3703', sfr_tot=9425.879, bintype_name='HYB10', template_name='MILESHC-MASTARSSP'),\n",
      " ResultRow(mangaid='1-37494', plateifu='8154-3703', sfr_tot=1279562.2, bintype_name='HYB10', template_name='MILESHC-MASTARHC2'),\n",
      " ResultRow(mangaid='1-378123', plateifu='8134-3703', sfr_tot=3126.0137, bintype_name='HYB10', template_name='MILESHC-MASTARSSP'),\n",
      " ResultRow(mangaid='1-37863', plateifu='9193-12704', sfr_tot=7.0081096, bintype_name='HYB10', template_name='MILESHC-MASTARHC2'),\n",
      " ResultRow(mangaid='1-37863', plateifu='9193-12704', sfr_tot=7.1172795, bintype_name='HYB10', template_name='MILESHC-MASTARSSP'),\n",
      " ResultRow(mangaid='1-379814', plateifu='10494-9101', sfr_tot=2003.8529, bintype_name='HYB10', template_name='MILESHC-MASTARHC2'),\n",
      " ResultRow(mangaid='1-379814', plateifu='10494-9101', sfr_tot=2960.1536, bintype_name='HYB10', template_name='MILESHC-MASTARSSP'),\n",
      " ResultRow(mangaid='1-392952', plateifu='8943-9101', sfr_tot=2844.48, bintype_name='HYB10', template_name='MILESHC-MASTARHC2'),\n",
      " ResultRow(mangaid='1-395734', plateifu='8984-3703', sfr_tot=23449.08, bintype_name='HYB10', template_name='MILESHC-MASTARHC2'),\n",
      " ResultRow(mangaid='1-395734', plateifu='8984-3703', sfr_tot=39022.348, bintype_name='HYB10', template_name='MILESHC-MASTARSSP'),\n",
      " ResultRow(mangaid='1-419022', plateifu='12622-9101', sfr_tot=3240.0234, bintype_name='HYB10', template_name='MILESHC-MASTARSSP'),\n",
      " ResultRow(mangaid='1-419022', plateifu='12622-9101', sfr_tot=15.247829, bintype_name='HYB10', template_name='MILESHC-MASTARHC2'),\n",
      " ResultRow(mangaid='1-43214', plateifu='8135-1902', sfr_tot=27.216013, bintype_name='HYB10', template_name='MILESHC-MASTARHC2'),\n",
      " ResultRow(mangaid='1-43214', plateifu='8135-1902', sfr_tot=27.006218, bintype_name='HYB10', template_name='MILESHC-MASTARSSP'),\n",
      " ResultRow(mangaid='1-44447', plateifu='8143-3703', sfr_tot=13.818579, bintype_name='HYB10', template_name='MILESHC-MASTARHC2'),\n",
      " ResultRow(mangaid='1-44915', plateifu='8719-3703', sfr_tot=48.790897, bintype_name='HYB10', template_name='MILESHC-MASTARHC2'),\n",
      " ResultRow(mangaid='1-44915', plateifu='8719-3703', sfr_tot=37.983845, bintype_name='HYB10', template_name='MILESHC-MASTARSSP'),\n",
      " ResultRow(mangaid='1-45112', plateifu='8718-3703', sfr_tot=20.275434, bintype_name='HYB10', template_name='MILESHC-MASTARHC2'),\n",
      " ResultRow(mangaid='1-45112', plateifu='8718-3703', sfr_tot=27.525877, bintype_name='HYB10', template_name='MILESHC-MASTARSSP'),\n",
      " ResultRow(mangaid='1-461292', plateifu='8241-6101', sfr_tot=178.84329, bintype_name='HYB10', template_name='MILESHC-MASTARSSP'),\n",
      " ResultRow(mangaid='1-461292', plateifu='8241-6101', sfr_tot=153.46378, bintype_name='HYB10', template_name='MILESHC-MASTARHC2'),\n",
      " ResultRow(mangaid='1-47627', plateifu='8244-3703', sfr_tot=274341.25, bintype_name='HYB10', template_name='MILESHC-MASTARSSP'),\n",
      " ResultRow(mangaid='1-47627', plateifu='8244-3703', sfr_tot=440804.12, bintype_name='HYB10', template_name='MILESHC-MASTARHC2'),\n",
      " ResultRow(mangaid='1-488712', plateifu='8449-3703', sfr_tot=11.211878, bintype_name='HYB10', template_name='MILESHC-MASTARHC2'),\n",
      " ResultRow(mangaid='1-488712', plateifu='8449-3703', sfr_tot=23.516012, bintype_name='HYB10', template_name='MILESHC-MASTARSSP'),\n",
      " ResultRow(mangaid='1-52037', plateifu='8727-12703', sfr_tot=5.1046686, bintype_name='HYB10', template_name='MILESHC-MASTARSSP'),\n",
      " ResultRow(mangaid='1-523004', plateifu='8320-6101', sfr_tot=48.82069, bintype_name='HYB10', template_name='MILESHC-MASTARSSP'),\n",
      " ResultRow(mangaid='1-55194', plateifu='11753-9101', sfr_tot=21.120848, bintype_name='HYB10', template_name='MILESHC-MASTARSSP'),\n",
      " ResultRow(mangaid='1-559153', plateifu='9094-12704', sfr_tot=23.94492, bintype_name='HYB10', template_name='MILESHC-MASTARSSP'),\n",
      " ResultRow(mangaid='1-559761', plateifu='11022-3701', sfr_tot=8.654511, bintype_name='HYB10', template_name='MILESHC-MASTARSSP'),\n",
      " ResultRow(mangaid='1-570488', plateifu='12083-12704', sfr_tot=6463.9897, bintype_name='HYB10', template_name='MILESHC-MASTARHC2'),\n",
      " ResultRow(mangaid='1-570488', plateifu='12083-12704', sfr_tot=6393.8975, bintype_name='HYB10', template_name='MILESHC-MASTARSSP'),\n",
      " ResultRow(mangaid='1-605249', plateifu='9488-12703', sfr_tot=337.01627, bintype_name='HYB10', template_name='MILESHC-MASTARHC2'),\n",
      " ResultRow(mangaid='1-605249', plateifu='9488-12703', sfr_tot=9.991517, bintype_name='HYB10', template_name='MILESHC-MASTARSSP'),\n",
      " ResultRow(mangaid='1-61173', plateifu='11865-9101', sfr_tot=6808.1006, bintype_name='HYB10', template_name='MILESHC-MASTARHC2'),\n",
      " ResultRow(mangaid='1-61173', plateifu='11865-9101', sfr_tot=5193.434, bintype_name='HYB10', template_name='MILESHC-MASTARSSP'),\n",
      " ResultRow(mangaid='1-635646', plateifu='8619-12702', sfr_tot=28.157776, bintype_name='HYB10', template_name='MILESHC-MASTARSSP'),\n",
      " ResultRow(mangaid='1-635646', plateifu='8619-12702', sfr_tot=28.149584, bintype_name='HYB10', template_name='MILESHC-MASTARHC2'),\n",
      " ResultRow(mangaid='1-91747', plateifu='8481-3703', sfr_tot=298.6228, bintype_name='HYB10', template_name='MILESHC-MASTARHC2'),\n",
      " ResultRow(mangaid='1-91747', plateifu='8481-3703', sfr_tot=7.480736, bintype_name='HYB10', template_name='MILESHC-MASTARSSP'),\n",
      " ResultRow(mangaid='1-93876', plateifu='8484-9101', sfr_tot=111.737816, bintype_name='HYB10', template_name='MILESHC-MASTARHC2'),\n",
      " ResultRow(mangaid='46-251', plateifu='11950-12705', sfr_tot=740.33563, bintype_name='HYB10', template_name='MILESHC-MASTARSSP'),\n",
      " ResultRow(mangaid='54-16', plateifu='11838-6101', sfr_tot=13.956174, bintype_name='HYB10', template_name='MILESHC-MASTARHC2'),\n",
      " ResultRow(mangaid='54-16', plateifu='11838-6101', sfr_tot=14.181354, bintype_name='HYB10', template_name='MILESHC-MASTARSSP')]\n"
     ]
    }
   ],
   "source": [
    "my_filter = 'dapall.sfr_tot > 5'\n",
    "q = Query(search_filter=my_filter)\n",
    "r = q.run()\n",
    "print(r)\n",
    "print(r.results)"
   ]
  },
  {
   "cell_type": "markdown",
   "metadata": {},
   "source": [
    "The query returns 6 results, but looking at the plateifu, we see there are only 3 unique targets.  This is because the DAPall file provides measurements for multiple bintypes and by default will return entries for all bintypes.  We can select those out using the ``bintype.name`` parameter. Let's filter on only the HYB10 bintype. "
   ]
  },
  {
   "cell_type": "code",
   "execution_count": 12,
   "metadata": {
    "execution": {
     "iopub.execute_input": "2022-05-25T12:47:36.950388Z",
     "iopub.status.busy": "2022-05-25T12:47:36.949946Z",
     "iopub.status.idle": "2022-05-25T12:47:39.309681Z",
     "shell.execute_reply": "2022-05-25T12:47:39.307841Z",
     "shell.execute_reply.started": "2022-05-25T12:47:36.950345Z"
    }
   },
   "outputs": [
    {
     "name": "stdout",
     "output_type": "stream",
     "text": [
      "Marvin Results(query=dapall.sfr_tot > 5 and bintype.name==HYB10, totalcount=98, count=98, mode=local)\n",
      "<ResultSet(set=1.0/1, index=0:98, count_in_set=98, total=98)>\n",
      "[ResultRow(mangaid='1-114035', plateifu='8619-6103', bintype_name='HYB10', sfr_tot=6.2517962, template_name='MILESHC-MASTARHC2'),\n",
      " ResultRow(mangaid='1-114035', plateifu='8619-6103', bintype_name='HYB10', sfr_tot=12.301004, template_name='MILESHC-MASTARSSP'),\n",
      " ResultRow(mangaid='1-114532', plateifu='7975-3703', bintype_name='HYB10', sfr_tot=50.95404, template_name='MILESHC-MASTARSSP'),\n",
      " ResultRow(mangaid='1-114532', plateifu='7975-3703', bintype_name='HYB10', sfr_tot=50.912937, template_name='MILESHC-MASTARHC2'),\n",
      " ResultRow(mangaid='1-114928', plateifu='7977-3702', bintype_name='HYB10', sfr_tot=2154.7244, template_name='MILESHC-MASTARSSP'),\n",
      " ResultRow(mangaid='1-118449', plateifu='12089-12701', bintype_name='HYB10', sfr_tot=5.211467, template_name='MILESHC-MASTARSSP'),\n",
      " ResultRow(mangaid='1-118449', plateifu='12089-12701', bintype_name='HYB10', sfr_tot=5.1740203, template_name='MILESHC-MASTARHC2'),\n",
      " ResultRow(mangaid='1-120793', plateifu='8088-1902', bintype_name='HYB10', sfr_tot=9.554007, template_name='MILESHC-MASTARHC2'),\n",
      " ResultRow(mangaid='1-121218', plateifu='8139-3703', bintype_name='HYB10', sfr_tot=493495.4, template_name='MILESHC-MASTARSSP'),\n",
      " ResultRow(mangaid='1-121218', plateifu='8139-3703', bintype_name='HYB10', sfr_tot=1958310.8, template_name='MILESHC-MASTARHC2'),\n",
      " ResultRow(mangaid='1-121871', plateifu='9485-3703', bintype_name='HYB10', sfr_tot=2803.2751, template_name='MILESHC-MASTARHC2'),\n",
      " ResultRow(mangaid='1-121871', plateifu='9485-3703', bintype_name='HYB10', sfr_tot=15428.036, template_name='MILESHC-MASTARSSP'),\n",
      " ResultRow(mangaid='1-137799', plateifu='8247-3703', bintype_name='HYB10', sfr_tot=39.122475, template_name='MILESHC-MASTARHC2'),\n",
      " ResultRow(mangaid='1-137799', plateifu='8247-3703', bintype_name='HYB10', sfr_tot=25.99991, template_name='MILESHC-MASTARSSP'),\n",
      " ResultRow(mangaid='1-163887', plateifu='8940-12701', bintype_name='HYB10', sfr_tot=223739.39, template_name='MILESHC-MASTARSSP'),\n",
      " ResultRow(mangaid='1-174629', plateifu='8947-3703', bintype_name='HYB10', sfr_tot=17.607609, template_name='MILESHC-MASTARSSP'),\n",
      " ResultRow(mangaid='1-179530', plateifu='7964-3703', bintype_name='HYB10', sfr_tot=1040481.5, template_name='MILESHC-MASTARHC2'),\n",
      " ResultRow(mangaid='1-179530', plateifu='7964-3703', bintype_name='HYB10', sfr_tot=281723.4, template_name='MILESHC-MASTARSSP'),\n",
      " ResultRow(mangaid='1-216805', plateifu='8440-3702', bintype_name='HYB10', sfr_tot=9.658985, template_name='MILESHC-MASTARSSP'),\n",
      " ResultRow(mangaid='1-24092', plateifu='7991-1901', bintype_name='HYB10', sfr_tot=5.781197, template_name='MILESHC-MASTARHC2'),\n",
      " ResultRow(mangaid='1-24092', plateifu='7991-1901', bintype_name='HYB10', sfr_tot=5.7860613, template_name='MILESHC-MASTARSSP'),\n",
      " ResultRow(mangaid='1-245869', plateifu='8547-3703', bintype_name='HYB10', sfr_tot=44.65224, template_name='MILESHC-MASTARHC2'),\n",
      " ResultRow(mangaid='1-247661', plateifu='9036-9101', bintype_name='HYB10', sfr_tot=133.33986, template_name='MILESHC-MASTARSSP'),\n",
      " ResultRow(mangaid='1-248405', plateifu='8979-9101', bintype_name='HYB10', sfr_tot=23.74855, template_name='MILESHC-MASTARHC2'),\n",
      " ResultRow(mangaid='1-248405', plateifu='8979-9101', bintype_name='HYB10', sfr_tot=26.968853, template_name='MILESHC-MASTARSSP'),\n",
      " ResultRow(mangaid='1-250192', plateifu='11950-12703', bintype_name='HYB10', sfr_tot=653.9566, template_name='MILESHC-MASTARSSP'),\n",
      " ResultRow(mangaid='1-250192', plateifu='11950-12703', bintype_name='HYB10', sfr_tot=13556.522, template_name='MILESHC-MASTARHC2'),\n",
      " ResultRow(mangaid='1-250652', plateifu='8331-3703', bintype_name='HYB10', sfr_tot=33.185505, template_name='MILESHC-MASTARSSP'),\n",
      " ResultRow(mangaid='1-250652', plateifu='8331-3703', bintype_name='HYB10', sfr_tot=14.483609, template_name='MILESHC-MASTARHC2'),\n",
      " ResultRow(mangaid='1-258536', plateifu='8464-3703', bintype_name='HYB10', sfr_tot=631.43726, template_name='MILESHC-MASTARSSP'),\n",
      " ResultRow(mangaid='1-259538', plateifu='8317-3703', bintype_name='HYB10', sfr_tot=672.87854, template_name='MILESHC-MASTARHC2'),\n",
      " ResultRow(mangaid='1-259538', plateifu='8317-3703', bintype_name='HYB10', sfr_tot=22.405798, template_name='MILESHC-MASTARSSP'),\n",
      " ResultRow(mangaid='1-260823', plateifu='8447-3703', bintype_name='HYB10', sfr_tot=6.033875, template_name='MILESHC-MASTARSSP'),\n",
      " ResultRow(mangaid='1-262830', plateifu='9039-9101', bintype_name='HYB10', sfr_tot=5.324941, template_name='MILESHC-MASTARHC2'),\n",
      " ResultRow(mangaid='1-262830', plateifu='9039-9101', bintype_name='HYB10', sfr_tot=5.3671856, template_name='MILESHC-MASTARSSP'),\n",
      " ResultRow(mangaid='1-265495', plateifu='9046-1902', bintype_name='HYB10', sfr_tot=36.079067, template_name='MILESHC-MASTARSSP'),\n",
      " ResultRow(mangaid='1-265495', plateifu='9046-1902', bintype_name='HYB10', sfr_tot=36.35767, template_name='MILESHC-MASTARHC2'),\n",
      " ResultRow(mangaid='1-265618', plateifu='9088-3703', bintype_name='HYB10', sfr_tot=396.30377, template_name='MILESHC-MASTARHC2'),\n",
      " ResultRow(mangaid='1-265618', plateifu='9088-3703', bintype_name='HYB10', sfr_tot=398.46133, template_name='MILESHC-MASTARSSP'),\n",
      " ResultRow(mangaid='1-270739', plateifu='11984-6101', bintype_name='HYB10', sfr_tot=70.57408, template_name='MILESHC-MASTARSSP'),\n",
      " ResultRow(mangaid='1-273054', plateifu='11980-3701', bintype_name='HYB10', sfr_tot=7.0783534, template_name='MILESHC-MASTARHC2'),\n",
      " ResultRow(mangaid='1-283246', plateifu='8341-3703', bintype_name='HYB10', sfr_tot=746806.5, template_name='MILESHC-MASTARHC2'),\n",
      " ResultRow(mangaid='1-283246', plateifu='8341-3703', bintype_name='HYB10', sfr_tot=635640.06, template_name='MILESHC-MASTARSSP'),\n",
      " ResultRow(mangaid='1-294459', plateifu='9894-9101', bintype_name='HYB10', sfr_tot=56.403442, template_name='MILESHC-MASTARSSP'),\n",
      " ResultRow(mangaid='1-29874', plateifu='8655-12703', bintype_name='HYB10', sfr_tot=7.5460043, template_name='MILESHC-MASTARHC2'),\n",
      " ResultRow(mangaid='1-29874', plateifu='8655-12703', bintype_name='HYB10', sfr_tot=7.6320105, template_name='MILESHC-MASTARSSP'),\n",
      " ResultRow(mangaid='1-298823', plateifu='9508-12701', bintype_name='HYB10', sfr_tot=344.77078, template_name='MILESHC-MASTARSSP'),\n",
      " ResultRow(mangaid='1-31626', plateifu='8657-9101', bintype_name='HYB10', sfr_tot=18.760994, template_name='MILESHC-MASTARHC2'),\n",
      " ResultRow(mangaid='1-321074', plateifu='8326-6101', bintype_name='HYB10', sfr_tot=372.37057, template_name='MILESHC-MASTARSSP'),\n",
      " ResultRow(mangaid='1-33810', plateifu='12074-3703', bintype_name='HYB10', sfr_tot=9.58455, template_name='MILESHC-MASTARHC2'),\n",
      " ResultRow(mangaid='1-339132', plateifu='8138-3703', bintype_name='HYB10', sfr_tot=10.435053, template_name='MILESHC-MASTARHC2'),\n",
      " ResultRow(mangaid='1-339132', plateifu='8138-3703', bintype_name='HYB10', sfr_tot=66.08324, template_name='MILESHC-MASTARSSP'),\n",
      " ResultRow(mangaid='1-36645', plateifu='8077-12701', bintype_name='HYB10', sfr_tot=18703.447, template_name='MILESHC-MASTARHC2'),\n",
      " ResultRow(mangaid='1-37385', plateifu='9193-9101', bintype_name='HYB10', sfr_tot=5.12378, template_name='MILESHC-MASTARSSP'),\n",
      " ResultRow(mangaid='1-37494', plateifu='8154-3703', bintype_name='HYB10', sfr_tot=1279562.2, template_name='MILESHC-MASTARHC2'),\n",
      " ResultRow(mangaid='1-37494', plateifu='8154-3703', bintype_name='HYB10', sfr_tot=9425.879, template_name='MILESHC-MASTARSSP'),\n",
      " ResultRow(mangaid='1-378123', plateifu='8134-3703', bintype_name='HYB10', sfr_tot=3126.0137, template_name='MILESHC-MASTARSSP'),\n",
      " ResultRow(mangaid='1-37863', plateifu='9193-12704', bintype_name='HYB10', sfr_tot=7.1172795, template_name='MILESHC-MASTARSSP'),\n",
      " ResultRow(mangaid='1-37863', plateifu='9193-12704', bintype_name='HYB10', sfr_tot=7.0081096, template_name='MILESHC-MASTARHC2'),\n",
      " ResultRow(mangaid='1-379814', plateifu='10494-9101', bintype_name='HYB10', sfr_tot=2003.8529, template_name='MILESHC-MASTARHC2'),\n",
      " ResultRow(mangaid='1-379814', plateifu='10494-9101', bintype_name='HYB10', sfr_tot=2960.1536, template_name='MILESHC-MASTARSSP'),\n",
      " ResultRow(mangaid='1-392952', plateifu='8943-9101', bintype_name='HYB10', sfr_tot=2844.48, template_name='MILESHC-MASTARHC2'),\n",
      " ResultRow(mangaid='1-395734', plateifu='8984-3703', bintype_name='HYB10', sfr_tot=23449.08, template_name='MILESHC-MASTARHC2'),\n",
      " ResultRow(mangaid='1-395734', plateifu='8984-3703', bintype_name='HYB10', sfr_tot=39022.348, template_name='MILESHC-MASTARSSP'),\n",
      " ResultRow(mangaid='1-419022', plateifu='12622-9101', bintype_name='HYB10', sfr_tot=3240.0234, template_name='MILESHC-MASTARSSP'),\n",
      " ResultRow(mangaid='1-419022', plateifu='12622-9101', bintype_name='HYB10', sfr_tot=15.247829, template_name='MILESHC-MASTARHC2'),\n",
      " ResultRow(mangaid='1-43214', plateifu='8135-1902', bintype_name='HYB10', sfr_tot=27.006218, template_name='MILESHC-MASTARSSP'),\n",
      " ResultRow(mangaid='1-43214', plateifu='8135-1902', bintype_name='HYB10', sfr_tot=27.216013, template_name='MILESHC-MASTARHC2'),\n",
      " ResultRow(mangaid='1-44447', plateifu='8143-3703', bintype_name='HYB10', sfr_tot=13.818579, template_name='MILESHC-MASTARHC2'),\n",
      " ResultRow(mangaid='1-44915', plateifu='8719-3703', bintype_name='HYB10', sfr_tot=48.790897, template_name='MILESHC-MASTARHC2'),\n",
      " ResultRow(mangaid='1-44915', plateifu='8719-3703', bintype_name='HYB10', sfr_tot=37.983845, template_name='MILESHC-MASTARSSP'),\n",
      " ResultRow(mangaid='1-45112', plateifu='8718-3703', bintype_name='HYB10', sfr_tot=27.525877, template_name='MILESHC-MASTARSSP'),\n",
      " ResultRow(mangaid='1-45112', plateifu='8718-3703', bintype_name='HYB10', sfr_tot=20.275434, template_name='MILESHC-MASTARHC2'),\n",
      " ResultRow(mangaid='1-461292', plateifu='8241-6101', bintype_name='HYB10', sfr_tot=153.46378, template_name='MILESHC-MASTARHC2'),\n",
      " ResultRow(mangaid='1-461292', plateifu='8241-6101', bintype_name='HYB10', sfr_tot=178.84329, template_name='MILESHC-MASTARSSP'),\n",
      " ResultRow(mangaid='1-47627', plateifu='8244-3703', bintype_name='HYB10', sfr_tot=274341.25, template_name='MILESHC-MASTARSSP'),\n",
      " ResultRow(mangaid='1-47627', plateifu='8244-3703', bintype_name='HYB10', sfr_tot=440804.12, template_name='MILESHC-MASTARHC2'),\n",
      " ResultRow(mangaid='1-488712', plateifu='8449-3703', bintype_name='HYB10', sfr_tot=23.516012, template_name='MILESHC-MASTARSSP'),\n",
      " ResultRow(mangaid='1-488712', plateifu='8449-3703', bintype_name='HYB10', sfr_tot=11.211878, template_name='MILESHC-MASTARHC2'),\n",
      " ResultRow(mangaid='1-52037', plateifu='8727-12703', bintype_name='HYB10', sfr_tot=5.1046686, template_name='MILESHC-MASTARSSP'),\n",
      " ResultRow(mangaid='1-523004', plateifu='8320-6101', bintype_name='HYB10', sfr_tot=48.82069, template_name='MILESHC-MASTARSSP'),\n",
      " ResultRow(mangaid='1-55194', plateifu='11753-9101', bintype_name='HYB10', sfr_tot=21.120848, template_name='MILESHC-MASTARSSP'),\n",
      " ResultRow(mangaid='1-559153', plateifu='9094-12704', bintype_name='HYB10', sfr_tot=23.94492, template_name='MILESHC-MASTARSSP'),\n",
      " ResultRow(mangaid='1-559761', plateifu='11022-3701', bintype_name='HYB10', sfr_tot=8.654511, template_name='MILESHC-MASTARSSP'),\n",
      " ResultRow(mangaid='1-570488', plateifu='12083-12704', bintype_name='HYB10', sfr_tot=6393.8975, template_name='MILESHC-MASTARSSP'),\n",
      " ResultRow(mangaid='1-570488', plateifu='12083-12704', bintype_name='HYB10', sfr_tot=6463.9897, template_name='MILESHC-MASTARHC2'),\n",
      " ResultRow(mangaid='1-605249', plateifu='9488-12703', bintype_name='HYB10', sfr_tot=337.01627, template_name='MILESHC-MASTARHC2'),\n",
      " ResultRow(mangaid='1-605249', plateifu='9488-12703', bintype_name='HYB10', sfr_tot=9.991517, template_name='MILESHC-MASTARSSP'),\n",
      " ResultRow(mangaid='1-61173', plateifu='11865-9101', bintype_name='HYB10', sfr_tot=5193.434, template_name='MILESHC-MASTARSSP'),\n",
      " ResultRow(mangaid='1-61173', plateifu='11865-9101', bintype_name='HYB10', sfr_tot=6808.1006, template_name='MILESHC-MASTARHC2'),\n",
      " ResultRow(mangaid='1-635646', plateifu='8619-12702', bintype_name='HYB10', sfr_tot=28.157776, template_name='MILESHC-MASTARSSP'),\n",
      " ResultRow(mangaid='1-635646', plateifu='8619-12702', bintype_name='HYB10', sfr_tot=28.149584, template_name='MILESHC-MASTARHC2'),\n",
      " ResultRow(mangaid='1-91747', plateifu='8481-3703', bintype_name='HYB10', sfr_tot=7.480736, template_name='MILESHC-MASTARSSP'),\n",
      " ResultRow(mangaid='1-91747', plateifu='8481-3703', bintype_name='HYB10', sfr_tot=298.6228, template_name='MILESHC-MASTARHC2'),\n",
      " ResultRow(mangaid='1-93876', plateifu='8484-9101', bintype_name='HYB10', sfr_tot=111.737816, template_name='MILESHC-MASTARHC2'),\n",
      " ResultRow(mangaid='46-251', plateifu='11950-12705', bintype_name='HYB10', sfr_tot=740.33563, template_name='MILESHC-MASTARSSP'),\n",
      " ResultRow(mangaid='54-16', plateifu='11838-6101', bintype_name='HYB10', sfr_tot=13.956174, template_name='MILESHC-MASTARHC2'),\n",
      " ResultRow(mangaid='54-16', plateifu='11838-6101', bintype_name='HYB10', sfr_tot=14.181354, template_name='MILESHC-MASTARSSP')]\n"
     ]
    }
   ],
   "source": [
    "my_filter = 'dapall.sfr_tot > 5 and bintype.name==HYB10'\n",
    "q = Query(search_filter=my_filter)\n",
    "r = q.run()\n",
    "print(r)\n",
    "print(r.results)"
   ]
  },
  {
   "cell_type": "markdown",
   "metadata": {},
   "source": [
    "## Query on Quality and Target Flags \n",
    "Marvin includes the ability to perform queries using quality or target flag information. These work using the special **quality** and **targets** keyword arguments.  These keywords accept a list of flag maskbit labels provided by the [Maskbit Datamodel](../../datamodel/dr15.rst#dr15-maskbits).  These keywords are inclusive, meaning they will only filter on objects satisfying those labels. "
   ]
  },
  {
   "cell_type": "markdown",
   "metadata": {},
   "source": [
    "### Searching by Target Flags\n",
    "Let's find all galaxies that are in the MaNGA MAIN target selection sample. Targets in the MAIN sample are a part of the PRIMARY, SECONDARY and COLOR-ENHANCED samples.  These are the **primary**, **secondary**, and **color-enhanced** flag labels. The **targets** keywords accepts all labels from the MANGA_TARGET1, MANGA_TARGET2, or MANGA_TARGET3 maskbit schema. "
   ]
  },
  {
   "cell_type": "code",
   "execution_count": 13,
   "metadata": {
    "execution": {
     "iopub.execute_input": "2022-05-25T12:47:40.364275Z",
     "iopub.status.busy": "2022-05-25T12:47:40.363551Z",
     "iopub.status.idle": "2022-05-25T12:47:42.110840Z",
     "shell.execute_reply": "2022-05-25T12:47:42.108727Z",
     "shell.execute_reply.started": "2022-05-25T12:47:40.364224Z"
    }
   },
   "outputs": [
    {
     "name": "stdout",
     "output_type": "stream",
     "text": [
      "Marvin Results(query=None, totalcount=5232, count=100, mode=local)\n",
      "There are 5232 galaxies in the main sample\n",
      "<ResultSet(set=1.0/1047, index=0:5, count_in_set=5, total=5232)>\n",
      "[ResultRow(mangaid='1-1009', plateifu='11866-12705', manga_target1=2080),\n",
      " ResultRow(mangaid='1-10166', plateifu='12514-9101', manga_target1=1040),\n",
      " ResultRow(mangaid='1-10177', plateifu='12514-3704', manga_target1=2336),\n",
      " ResultRow(mangaid='1-10263', plateifu='12514-1902', manga_target1=1168),\n",
      " ResultRow(mangaid='1-1033', plateifu='11866-9101', manga_target1=1168)]\n"
     ]
    }
   ],
   "source": [
    "# create the targets list of labels\n",
    "targets = ['primary', 'secondary', 'color-enhanced']\n",
    "q = Query(targets=targets)\n",
    "r = q.run()\n",
    "print(r)\n",
    "print('There are {0} galaxies in the main sample'.format(r.totalcount))\n",
    "print(r.results[0:5])"
   ]
  },
  {
   "cell_type": "markdown",
   "metadata": {},
   "source": [
    "The **targets** keyword is equivalent to the ``cube.manga_targetX`` search parameter, where `X` is 1, 2, or 3.  The bits for the primary, secondary, and color-enhanced samples are 10, 11, and 12, respectively.  These combine into the value 7168.  The above query is equivalent to the filter condition ``cube.manga_target1 & 7168`` "
   ]
  },
  {
   "cell_type": "code",
   "execution_count": 14,
   "metadata": {
    "execution": {
     "iopub.execute_input": "2022-05-25T12:47:43.366284Z",
     "iopub.status.busy": "2022-05-25T12:47:43.365566Z",
     "iopub.status.idle": "2022-05-25T12:47:44.738157Z",
     "shell.execute_reply": "2022-05-25T12:47:44.735869Z",
     "shell.execute_reply.started": "2022-05-25T12:47:43.366234Z"
    }
   },
   "outputs": [
    {
     "name": "stdout",
     "output_type": "stream",
     "text": [
      "Marvin Results(query=cube.manga_target1 & 7168, totalcount=9853, count=100, mode=local)\n"
     ]
    }
   ],
   "source": [
    "value = 1<<10 | 1<<11 | 1<<12\n",
    "my_filter = 'cube.manga_target1 & {0}'.format(value)\n",
    "q = Query(search_filter=my_filter)\n",
    "r = q.run()\n",
    "print(r)"
   ]
  },
  {
   "cell_type": "markdown",
   "metadata": {},
   "source": [
    "Let's search only for galaxies that are ``Milky Way Analogs`` or ``Dwarfs`` ancillary targets. "
   ]
  },
  {
   "cell_type": "code",
   "execution_count": 15,
   "metadata": {
    "execution": {
     "iopub.execute_input": "2022-05-25T12:47:44.759149Z",
     "iopub.status.busy": "2022-05-25T12:47:44.758649Z",
     "iopub.status.idle": "2022-05-25T12:47:46.033839Z",
     "shell.execute_reply": "2022-05-25T12:47:46.031813Z",
     "shell.execute_reply.started": "2022-05-25T12:47:44.759101Z"
    }
   },
   "outputs": [
    {
     "name": "stdout",
     "output_type": "stream",
     "text": [
      "Marvin Results(query=None, totalcount=69, count=69, mode=local)\n",
      "There are 69 galaxies from the Milky Way Analogs and Dwarfs ancillary target catalogs\n",
      "<ResultSet(set=1.0/1, index=0:69, count_in_set=69, total=69)>\n",
      "[ResultRow(mangaid='1-114147', plateifu='8619-12705', manga_target3=16384),\n",
      " ResultRow(mangaid='1-114253', plateifu='8619-12704', manga_target3=16384),\n",
      " ResultRow(mangaid='1-117559', plateifu='12087-6104', manga_target3=8192),\n",
      " ResultRow(mangaid='1-118202', plateifu='12089-1901', manga_target3=8396800),\n",
      " ResultRow(mangaid='1-121994', plateifu='9485-9102', manga_target3=16384),\n",
      " ResultRow(mangaid='1-123217', plateifu='11745-6101', manga_target3=8192),\n",
      " ResultRow(mangaid='1-124604', plateifu='8439-6103', manga_target3=8192),\n",
      " ResultRow(mangaid='1-131989', plateifu='8546-12702', manga_target3=16384),\n",
      " ResultRow(mangaid='1-135491', plateifu='9869-6101', manga_target3=8192),\n",
      " ResultRow(mangaid='1-135927', plateifu='11947-6102', manga_target3=8192),\n",
      " ResultRow(mangaid='1-146067', plateifu='8937-6102', manga_target3=16384),\n",
      " ResultRow(mangaid='1-151970', plateifu='11019-3701', manga_target3=8192),\n",
      " ResultRow(mangaid='1-153693', plateifu='10215-12705', manga_target3=8192),\n",
      " ResultRow(mangaid='1-1752', plateifu='11838-12701', manga_target3=8192),\n",
      " ResultRow(mangaid='1-176074', plateifu='11833-6102', manga_target3=8192),\n",
      " ResultRow(mangaid='1-176091', plateifu='11833-6101', manga_target3=8192),\n",
      " ResultRow(mangaid='1-178735', plateifu='9191-6102', manga_target3=8192),\n",
      " ResultRow(mangaid='1-180893', plateifu='8617-12705', manga_target3=16384),\n",
      " ResultRow(mangaid='1-181214', plateifu='10842-12703', manga_target3=8192),\n",
      " ResultRow(mangaid='1-187821', plateifu='8996-6104', manga_target3=16384),\n",
      " ResultRow(mangaid='1-198869', plateifu='8551-6101', manga_target3=16384),\n",
      " ResultRow(mangaid='1-199488', plateifu='9038-6103', manga_target3=16384),\n",
      " ResultRow(mangaid='1-218519', plateifu='8942-12703', manga_target3=16384),\n",
      " ResultRow(mangaid='1-218707', plateifu='11746-9102', manga_target3=8192),\n",
      " ResultRow(mangaid='1-231133', plateifu='10501-12701', manga_target3=8396800),\n",
      " ResultRow(mangaid='1-234408', plateifu='8319-6102', manga_target3=8192),\n",
      " ResultRow(mangaid='1-23818', plateifu='8611-6104', manga_target3=16384),\n",
      " ResultRow(mangaid='1-245331', plateifu='11012-9102', manga_target3=8192),\n",
      " ResultRow(mangaid='1-249049', plateifu='11940-12704', manga_target3=8200),\n",
      " ResultRow(mangaid='1-249292', plateifu='12675-1901', manga_target3=16384),\n",
      " ResultRow(mangaid='1-26135', plateifu='12066-9101', manga_target3=8192),\n",
      " ResultRow(mangaid='1-264682', plateifu='9091-6103', manga_target3=16384),\n",
      " ResultRow(mangaid='1-271967', plateifu='9866-12701', manga_target3=8192),\n",
      " ResultRow(mangaid='1-276557', plateifu='8993-6101', manga_target3=16384),\n",
      " ResultRow(mangaid='1-286139', plateifu='8327-6104', manga_target3=8192),\n",
      " ResultRow(mangaid='1-295506', plateifu='9049-6101', manga_target3=16384),\n",
      " ResultRow(mangaid='1-296659', plateifu='9040-6102', manga_target3=8192),\n",
      " ResultRow(mangaid='1-297871', plateifu='10216-6102', manga_target3=8192),\n",
      " ResultRow(mangaid='1-321962', plateifu='8552-6101', manga_target3=16384),\n",
      " ResultRow(mangaid='1-33227', plateifu='12772-3703', manga_target3=8192),\n",
      " ResultRow(mangaid='1-335448', plateifu='11965-9102', manga_target3=8192),\n",
      " ResultRow(mangaid='1-338566', plateifu='8566-6103', manga_target3=16384),\n",
      " ResultRow(mangaid='1-351538', plateifu='8567-6101', manga_target3=8192),\n",
      " ResultRow(mangaid='1-352403', plateifu='10494-12701', manga_target3=8192),\n",
      " ResultRow(mangaid='1-384388', plateifu='9494-6102', manga_target3=16384),\n",
      " ResultRow(mangaid='1-384394', plateifu='9494-6103', manga_target3=16384),\n",
      " ResultRow(mangaid='1-384930', plateifu='9493-12702', manga_target3=16384),\n",
      " ResultRow(mangaid='1-385149', plateifu='9502-6102', manga_target3=16384),\n",
      " ResultRow(mangaid='1-386657', plateifu='8987-6101', manga_target3=16384),\n",
      " ResultRow(mangaid='1-386800', plateifu='8987-6103', manga_target3=16384),\n",
      " ResultRow(mangaid='1-397168', plateifu='11750-6101', manga_target3=8192),\n",
      " ResultRow(mangaid='1-39795', plateifu='8091-12704', manga_target3=8192),\n",
      " ResultRow(mangaid='1-40071', plateifu='12092-6102', manga_target3=8192),\n",
      " ResultRow(mangaid='1-403958', plateifu='8981-12705', manga_target3=16384),\n",
      " ResultRow(mangaid='1-40751', plateifu='12093-3704', manga_target3=8192),\n",
      " ResultRow(mangaid='1-415958', plateifu='8985-6101', manga_target3=16384),\n",
      " ResultRow(mangaid='1-41746', plateifu='9514-9101', manga_target3=8192),\n",
      " ResultRow(mangaid='1-457602', plateifu='9878-3703', manga_target3=8192),\n",
      " ResultRow(mangaid='1-457843', plateifu='8982-12702', manga_target3=16384),\n",
      " ResultRow(mangaid='1-459275', plateifu='11744-9102', manga_target3=8192),\n",
      " ResultRow(mangaid='1-522297', plateifu='11010-6102', manga_target3=8192),\n",
      " ResultRow(mangaid='1-53292', plateifu='12511-6103', manga_target3=16384),\n",
      " ResultRow(mangaid='1-608172', plateifu='10846-6104', manga_target3=8196),\n",
      " ResultRow(mangaid='1-77595', plateifu='10842-12705', manga_target3=8192),\n",
      " ResultRow(mangaid='1-92554', plateifu='8565-6104', manga_target3=16384),\n",
      " ResultRow(mangaid='42-88', plateifu='8617-12702', manga_target3=8192),\n",
      " ResultRow(mangaid='43-130', plateifu='9507-6104', manga_target3=16384),\n",
      " ResultRow(mangaid='43-22', plateifu='8713-6101', manga_target3=16384),\n",
      " ResultRow(mangaid='43-47', plateifu='8725-9101', manga_target3=16384)]\n"
     ]
    }
   ],
   "source": [
    "targets = ['mwa', 'dwarf']\n",
    "q = Query(targets=targets)\n",
    "r = q.run()\n",
    "print(r)\n",
    "print('There are {0} galaxies from the Milky Way Analogs and Dwarfs ancillary target catalogs'.format(r.totalcount))\n",
    "print(r.results)"
   ]
  },
  {
   "cell_type": "markdown",
   "metadata": {},
   "source": [
    "### Searching by Quality Flags\n",
    "The **quality** accepts all labels from the MANGA_DRPQUAL and MANGA_DAPQUAL maskbit schema.  Let's find all galaxies that suffered from bad flux calibration.  This is the flag **BADFLUX** (bit 8) from the MANGA_DRPQUAL maskbit schema.  "
   ]
  },
  {
   "cell_type": "code",
   "execution_count": 16,
   "metadata": {
    "execution": {
     "iopub.execute_input": "2022-05-25T12:47:47.369709Z",
     "iopub.status.busy": "2022-05-25T12:47:47.368992Z",
     "iopub.status.idle": "2022-05-25T12:47:48.781801Z",
     "shell.execute_reply": "2022-05-25T12:47:48.779697Z",
     "shell.execute_reply.started": "2022-05-25T12:47:47.369658Z"
    }
   },
   "outputs": [
    {
     "name": "stdout",
     "output_type": "stream",
     "text": [
      "Marvin Results(query=None, totalcount=118, count=118, mode=local)\n",
      "There are 118 galaxies with bad flux calibration\n",
      "<ResultSet(set=1.0/12, index=0:10, count_in_set=10, total=118)>\n",
      "[ResultRow(mangaid='1-108143', plateifu='12772-6104', quality=1073746242),\n",
      " ResultRow(mangaid='1-10856', plateifu='11024-6104', quality=16640),\n",
      " ResultRow(mangaid='1-109860', plateifu='12685-6101', quality=1073746242),\n",
      " ResultRow(mangaid='1-113273', plateifu='7972-1902', quality=1073742146),\n",
      " ResultRow(mangaid='1-121035', plateifu='8144-1901', quality=1073742144),\n",
      " ResultRow(mangaid='1-135564', plateifu='11941-12705', quality=16704),\n",
      " ResultRow(mangaid='1-138351', plateifu='12490-1901', quality=1073746242),\n",
      " ResultRow(mangaid='1-149170', plateifu='8997-3701', quality=1073742144),\n",
      " ResultRow(mangaid='1-152769', plateifu='8936-3704', quality=1073742144),\n",
      " ResultRow(mangaid='1-154049', plateifu='11742-3704', quality=16704)]\n"
     ]
    }
   ],
   "source": [
    "quality = ['BADFLUX']\n",
    "q = Query(quality=quality)\n",
    "r = q.run()\n",
    "print(r)\n",
    "print('There are {0} galaxies with bad flux calibration'.format(r.totalcount))\n",
    "print(r.results[0:10])"
   ]
  },
  {
   "cell_type": "markdown",
   "metadata": {},
   "source": [
    "The **quality** keyword is equivalent to the search parameters ``cube.quality`` for DRP flags or the ``file.quality`` for DAP flags.  The above query is equivalent to ``cube.quality & 256``.  You can also perform a NOT bitmask selection using the ``~`` symbol.  To perform a NOT selection we can only use the ``cube.quality`` parameter. Let's select all galaxies that do not have bad flux calibration.  "
   ]
  },
  {
   "cell_type": "code",
   "execution_count": 17,
   "metadata": {
    "execution": {
     "iopub.execute_input": "2022-05-25T12:47:49.375946Z",
     "iopub.status.busy": "2022-05-25T12:47:49.375045Z",
     "iopub.status.idle": "2022-05-25T12:47:52.283960Z",
     "shell.execute_reply": "2022-05-25T12:47:52.281813Z",
     "shell.execute_reply.started": "2022-05-25T12:47:49.375877Z"
    }
   },
   "outputs": [
    {
     "name": "stdout",
     "output_type": "stream",
     "text": [
      "Objects with bad flux calibration: 118\n",
      "Bad objects with no bad flux calibration: 4044\n"
     ]
    }
   ],
   "source": [
    "# the above query as a filter condition\n",
    "q = Query(search_filter='cube.quality & 256')\n",
    "r = q.run()\n",
    "print('Objects with bad flux calibration:', r.totalcount)\n",
    "\n",
    "# objects with bad quality other than bad flux calibration\n",
    "q = Query(search_filter='cube.quality & ~256')\n",
    "r = q.run()\n",
    "print('Bad objects with no bad flux calibration:', r.totalcount)"
   ]
  },
  {
   "cell_type": "markdown",
   "metadata": {},
   "source": [
    "To find exactly objects with good quality and no bad flags set, use ``cube.quality == 0``. "
   ]
  },
  {
   "cell_type": "code",
   "execution_count": 18,
   "metadata": {
    "execution": {
     "iopub.execute_input": "2022-05-25T12:47:52.302948Z",
     "iopub.status.busy": "2022-05-25T12:47:52.302420Z",
     "iopub.status.idle": "2022-05-25T12:47:53.757927Z",
     "shell.execute_reply": "2022-05-25T12:47:53.755077Z",
     "shell.execute_reply.started": "2022-05-25T12:47:52.302889Z"
    }
   },
   "outputs": [
    {
     "name": "stdout",
     "output_type": "stream",
     "text": [
      "Marvin Results(query=cube.quality == 0, totalcount=7229, count=100, mode=local)\n",
      "Objects with good quality: 7229\n"
     ]
    }
   ],
   "source": [
    "q = Query(search_filter='cube.quality == 0')\n",
    "r = q.run()\n",
    "print(r)\n",
    "print('Objects with good quality:', r.totalcount)"
   ]
  },
  {
   "cell_type": "markdown",
   "metadata": {},
   "source": [
    "## Useful Resources\n",
    "\n",
    "Check out these pages on the Marvin Docs site for more information querying with Marvin.\n",
    "\n",
    "- [Query](../../query/query.rst)\n",
    "- [Query Datamodel](../../datamodel/query_dm.rst)\n",
    "- [Results](../../query/results.rst)\n",
    "- [SQL Boolean Syntax Tutorial](../boolean-search-tutorial.rst)"
   ]
  }
 ],
 "metadata": {
  "anaconda-cloud": {},
  "celltoolbar": "Raw Cell Format",
  "kernelspec": {
   "display_name": "Python 3.8 (py38)",
   "language": "python",
   "name": "py38"
  },
  "language_info": {
   "codemirror_mode": {
    "name": "ipython",
    "version": 3
   },
   "file_extension": ".py",
   "mimetype": "text/x-python",
   "name": "python",
   "nbconvert_exporter": "python",
   "pygments_lexer": "ipython3",
   "version": "3.8.5"
  }
 },
 "nbformat": 4,
 "nbformat_minor": 4
}
