{
 "cells": [
  {
   "cell_type": "markdown",
   "metadata": {},
   "source": [
    "# Spatially-Resolved Mass-Metallicity Relation\n",
    "\n",
    "We're going to construct the spatially-resolved mass-metallicity relation (MZR) for a MaNGA galaxy, where mass refers to stellar mass and metallicity refers to gas-phase oxygen abundance.\n",
    "\n",
    "### Roadmap\n",
    "1. Compute metallicity.\n",
    "2. Select spaxels that are\n",
    "  1. star-forming, \n",
    "  2. not flagged as \"bad data,\" and\n",
    "  3. above a signal-to-noise ratio threshold.\n",
    "3. Compute stellar mass surface density.\n",
    "4. Plot metallicity as a function of stellar mass surface density."
   ]
  },
  {
   "cell_type": "code",
   "execution_count": 1,
   "metadata": {
    "execution": {
     "iopub.execute_input": "2022-05-25T13:14:42.618570Z",
     "iopub.status.busy": "2022-05-25T13:14:42.617858Z",
     "iopub.status.idle": "2022-05-25T13:14:42.647207Z",
     "shell.execute_reply": "2022-05-25T13:14:42.645326Z",
     "shell.execute_reply.started": "2022-05-25T13:14:42.618512Z"
    }
   },
   "outputs": [],
   "source": [
    "import numpy as np\n",
    "import matplotlib.pyplot as plt\n",
    "%matplotlib inline"
   ]
  },
  {
   "cell_type": "markdown",
   "metadata": {},
   "source": [
    "## Load Maps for Galaxy\n",
    "\n",
    "Import the Marvin `Maps` class from `marvin.tools.maps` and initialize a `Maps` object for the galaxy 8077-6104."
   ]
  },
  {
   "cell_type": "code",
   "execution_count": 2,
   "metadata": {
    "execution": {
     "iopub.execute_input": "2022-05-25T13:15:00.623409Z",
     "iopub.status.busy": "2022-05-25T13:15:00.622786Z",
     "iopub.status.idle": "2022-05-25T13:15:34.761405Z",
     "shell.execute_reply": "2022-05-25T13:15:34.759332Z",
     "shell.execute_reply.started": "2022-05-25T13:15:00.623358Z"
    }
   },
   "outputs": [
    {
     "name": "stderr",
     "output_type": "stream",
     "text": [
      "/home/idies/miniconda3/envs/py38/lib/python3.8/site-packages/marvin/core/exceptions.py:50: UserWarning: cannot initiate Sentry error reporting: [Errno 6] No such device or address.\n",
      "  warnings.warn('cannot initiate Sentry error reporting: {0}.'.format(str(ee)),\n",
      "\u001b[0;34m[INFO]: \u001b[0mNo release version set. Setting default to DR17\n",
      "\u001b[1;33m[WARNING]: \u001b[0m\u001b[0;39mpath /home/idies/workspace/sdss_sas/mangawork/manga/spectro/redux/v3_1_1/drpall-v3_1_1.fits cannot be found. Setting drpall to None.\u001b[0m \u001b[0;36m(MarvinUserWarning)\u001b[0m\n",
      "\u001b[1;33m[WARNING]: \u001b[0m\u001b[0;39mpath /home/idies/workspace/sdss_sas/mangawork/manga/spectro/analysis/v3_1_1/3.1.0/dapall-v3_1_1-3.1.0.fits cannot be found. Setting dapall to None.\u001b[0m \u001b[0;36m(MarvinUserWarning)\u001b[0m\n"
     ]
    }
   ],
   "source": [
    "from marvin.tools.maps import Maps\n",
    "\n",
    "# REMOVE FROM NOTEBOOK\n",
    "#filename = '/home/idies/workspace/manga/sas/dr15/manga/spectro/analsysi/v2_4_3/2.2.1/SPX-GAU-MILESHC/8077/6104/manga-8077-6104-MAPS-SPX-GAU-MILESHC.fits.gz'\n",
    "#maps = Maps(filename=filename)\n",
    "\n",
    "maps = Maps('8077-6104')"
   ]
  },
  {
   "cell_type": "markdown",
   "metadata": {},
   "source": [
    "## Measure Metallicity\n",
    "\n",
    "\n",
    "### Pettini & Pagel (2004) N2 metallicity calibration\n",
    "\n",
    "We are going to use the N2 metallicity calibration (their Equation 1) from Pettini & Pagel (2004):\n",
    "\n",
    "12 + log(O/H) = 8.90 + 0.57 $\\times$ log( $\\frac{F([NII])}{F(H\\alpha)}$ ).\n",
    "\n",
    "One of the benefits of this calibration is that the required lines are very close in wavelength, so the reddening correction is negligible.\n",
    "\n",
    "Get [NII] 6585 and Halpha flux maps from the Marvin `Maps` object.  Note: MaNGA (and Marvin) use the wavelengths of lines in vaccuum, whereas they are usually reported in air, hence the slight offsets."
   ]
  },
  {
   "cell_type": "code",
   "execution_count": 3,
   "metadata": {
    "execution": {
     "iopub.execute_input": "2022-05-25T13:15:34.777679Z",
     "iopub.status.busy": "2022-05-25T13:15:34.777199Z",
     "iopub.status.idle": "2022-05-25T13:15:35.571706Z",
     "shell.execute_reply": "2022-05-25T13:15:35.569952Z",
     "shell.execute_reply.started": "2022-05-25T13:15:34.777632Z"
    }
   },
   "outputs": [],
   "source": [
    "nii = maps.emline_gflux_nii_6585\n",
    "ha = maps.emline_gflux_ha_6564"
   ]
  },
  {
   "cell_type": "markdown",
   "metadata": {},
   "source": [
    "Calculate the necessary line ratio.\n",
    "\n",
    "Marvin can do map arithmetic, which propagates the inverse variances and masks, so you can just do `+`, `-`, `*`, `/`, and `**` operations as normal.  (Note: taking the log of a Marvin `Map` will work for the values but the inverse variance propagation does not correctly propagate the inverse variance yet.)"
   ]
  },
  {
   "cell_type": "code",
   "execution_count": 4,
   "metadata": {
    "execution": {
     "iopub.execute_input": "2022-05-25T13:15:35.576255Z",
     "iopub.status.busy": "2022-05-25T13:15:35.575763Z",
     "iopub.status.idle": "2022-05-25T13:15:35.600561Z",
     "shell.execute_reply": "2022-05-25T13:15:35.598642Z",
     "shell.execute_reply.started": "2022-05-25T13:15:35.576210Z"
    }
   },
   "outputs": [],
   "source": [
    "n2 = nii / ha\n",
    "logn2 = np.log10(n2)"
   ]
  },
  {
   "cell_type": "markdown",
   "metadata": {},
   "source": [
    "Finally, calculate the metallicity."
   ]
  },
  {
   "cell_type": "code",
   "execution_count": 5,
   "metadata": {
    "execution": {
     "iopub.execute_input": "2022-05-25T13:15:35.602466Z",
     "iopub.status.busy": "2022-05-25T13:15:35.602017Z",
     "iopub.status.idle": "2022-05-25T13:15:35.617444Z",
     "shell.execute_reply": "2022-05-25T13:15:35.615626Z",
     "shell.execute_reply.started": "2022-05-25T13:15:35.602422Z"
    }
   },
   "outputs": [],
   "source": [
    "oh = 8.90 + (0.57 * logn2)"
   ]
  },
  {
   "cell_type": "markdown",
   "metadata": {},
   "source": [
    "## Select Spaxels\n",
    "### Using the BPT Diagram to select star-forming spaxels\n",
    "\n",
    "Metallicity indicators only work for star-forming spaxels, so we need a way to select only these spaxels.\n",
    "\n",
    "The classic diagnostic diagram for classify the emission from galaxies (or galactic sub-regions) as star-forming or non-star-forming (i.e., from active galactic nuclei (AGN) or evolved stars) was originally proposed in Baldwin, Phillips, & Terlevich (1981) and is known as the **BPT diagram**.\n",
    "\n",
    "The BPT diagram uses ratios of emission lines to separate thermal and non-thermal emission.\n",
    "\n",
    "The classic BPT diagram uses [OIII]5007 / Hbeta vs. [NII]6583 / Halpha, but there are several versions of the BPT diagram that use different lines ratios."
   ]
  },
  {
   "cell_type": "markdown",
   "metadata": {},
   "source": [
    "### BPT Diagrams with Marvin\n",
    "\n",
    "Let's use Marvin's `maps.get_bpt()` method to make BPT diagrams for this galaxy.\n",
    "\n",
    "**red line**: maximal starbust (Kewley et al 2001) -- everything to the right is non-star-forming.  \n",
    "**dashed black line**: conservative star-forming cut (Kauffmann et al. 2003) -- everything to the left is star-forming.\n",
    "\n",
    "Line ratios that fall in between these two lines are designated \"Composite\" with contributions from both star-forming and non-star-forming emission.\n",
    "\n",
    "**blue line**: separates non-star-forming spaxels into Seyferts and LINERs.\n",
    "\n",
    "Seyferts are a type of AGNs.\n",
    "\n",
    "LINERs (Low Ionization Nuclear Emission Regions) are not always nuclear (LIER is a better acronym) and not always AGN (oftern hot evolved stars).\n",
    "\n",
    "Sometimes these diagnostic diagrams disagree with each other, hence the \"Ambiguous\" designation.\n",
    "\n",
    "Try using `maps.get_bpt?` to read the documentation on how to use this function."
   ]
  },
  {
   "cell_type": "code",
   "execution_count": 6,
   "metadata": {
    "execution": {
     "iopub.execute_input": "2022-05-25T13:15:42.629082Z",
     "iopub.status.busy": "2022-05-25T13:15:42.628346Z",
     "iopub.status.idle": "2022-05-25T13:15:48.042664Z",
     "shell.execute_reply": "2022-05-25T13:15:48.040731Z",
     "shell.execute_reply.started": "2022-05-25T13:15:42.629031Z"
    }
   },
   "outputs": [
    {
     "data": {
      "image/png": "[encoded data removed]",
      "text/plain": [
       "<Figure size 612x720 with 8 Axes>"
      ]
     },
     "metadata": {},
     "output_type": "display_data"
    }
   ],
   "source": [
    "masks_bpt, __, __ = maps.get_bpt()"
   ]
  },
  {
   "cell_type": "markdown",
   "metadata": {},
   "source": [
    "The BPT masks are dictionaries of dictionaries of a boolean (True/False) arrays.  We are interested in the spaxels that are classified as star-forming in all three BPT diagrams are designated as ``True``, which is designated with the `global` key.  Print this mask."
   ]
  },
  {
   "cell_type": "code",
   "execution_count": 7,
   "metadata": {
    "execution": {
     "iopub.execute_input": "2022-05-25T13:15:49.624785Z",
     "iopub.status.busy": "2022-05-25T13:15:49.624008Z",
     "iopub.status.idle": "2022-05-25T13:15:49.642276Z",
     "shell.execute_reply": "2022-05-25T13:15:49.640120Z",
     "shell.execute_reply.started": "2022-05-25T13:15:49.624733Z"
    }
   },
   "outputs": [
    {
     "data": {
      "text/plain": [
       "array([[False, False, False, ..., False, False, False],\n",
       "       [False, False, False, ..., False, False, False],\n",
       "       [False, False, False, ..., False, False, False],\n",
       "       ...,\n",
       "       [False, False, False, ..., False, False, False],\n",
       "       [False, False, False, ..., False, False, False],\n",
       "       [False, False, False, ..., False, False, False]])"
      ]
     },
     "execution_count": 7,
     "metadata": {},
     "output_type": "execute_result"
    }
   ],
   "source": [
    "masks_bpt['sf']['global']"
   ]
  },
  {
   "cell_type": "markdown",
   "metadata": {},
   "source": [
    "### Masks\n",
    "MaNGA (and SDSS generally) use bitmasks to communicate data quality.\n",
    "\n",
    "Marvin has built-in methods to convert from the bitmasks integer values to individual bits or labels and to create new masks by specifying a set of labels.\n",
    "\n",
    "Show the mask schema with `n2.pixmask.schema`."
   ]
  },
  {
   "cell_type": "code",
   "execution_count": 8,
   "metadata": {
    "execution": {
     "iopub.execute_input": "2022-05-25T13:15:51.631558Z",
     "iopub.status.busy": "2022-05-25T13:15:51.630837Z",
     "iopub.status.idle": "2022-05-25T13:15:51.662187Z",
     "shell.execute_reply": "2022-05-25T13:15:51.660000Z",
     "shell.execute_reply.started": "2022-05-25T13:15:51.631506Z"
    }
   },
   "outputs": [
    {
     "data": {
      "text/html": [
       "<div>\n",
       "<style scoped>\n",
       "    .dataframe tbody tr th:only-of-type {\n",
       "        vertical-align: middle;\n",
       "    }\n",
       "\n",
       "    .dataframe tbody tr th {\n",
       "        vertical-align: top;\n",
       "    }\n",
       "\n",
       "    .dataframe thead th {\n",
       "        text-align: right;\n",
       "    }\n",
       "</style>\n",
       "<table border=\"1\" class=\"dataframe\">\n",
       "  <thead>\n",
       "    <tr style=\"text-align: right;\">\n",
       "      <th></th>\n",
       "      <th>bit</th>\n",
       "      <th>label</th>\n",
       "      <th>description</th>\n",
       "    </tr>\n",
       "  </thead>\n",
       "  <tbody>\n",
       "    <tr>\n",
       "      <th>0</th>\n",
       "      <td>0</td>\n",
       "      <td>NOCOV</td>\n",
       "      <td>No coverage in this spaxel</td>\n",
       "    </tr>\n",
       "    <tr>\n",
       "      <th>1</th>\n",
       "      <td>1</td>\n",
       "      <td>LOWCOV</td>\n",
       "      <td>Low coverage in this spaxel</td>\n",
       "    </tr>\n",
       "    <tr>\n",
       "      <th>2</th>\n",
       "      <td>2</td>\n",
       "      <td>DEADFIBER</td>\n",
       "      <td>Major contributing fiber is dead</td>\n",
       "    </tr>\n",
       "    <tr>\n",
       "      <th>3</th>\n",
       "      <td>3</td>\n",
       "      <td>FORESTAR</td>\n",
       "      <td>Foreground star</td>\n",
       "    </tr>\n",
       "    <tr>\n",
       "      <th>4</th>\n",
       "      <td>4</td>\n",
       "      <td>NOVALUE</td>\n",
       "      <td>Spaxel was not fit because it did not meet sel...</td>\n",
       "    </tr>\n",
       "    <tr>\n",
       "      <th>5</th>\n",
       "      <td>5</td>\n",
       "      <td>UNRELIABLE</td>\n",
       "      <td>Value is deemed unreliable; see TRM for defini...</td>\n",
       "    </tr>\n",
       "    <tr>\n",
       "      <th>6</th>\n",
       "      <td>6</td>\n",
       "      <td>MATHERROR</td>\n",
       "      <td>Mathematical error in computing value</td>\n",
       "    </tr>\n",
       "    <tr>\n",
       "      <th>7</th>\n",
       "      <td>7</td>\n",
       "      <td>FITFAILED</td>\n",
       "      <td>Attempted fit for property failed</td>\n",
       "    </tr>\n",
       "    <tr>\n",
       "      <th>8</th>\n",
       "      <td>8</td>\n",
       "      <td>NEARBOUND</td>\n",
       "      <td>Fitted value is too near an imposed boundary; ...</td>\n",
       "    </tr>\n",
       "    <tr>\n",
       "      <th>9</th>\n",
       "      <td>9</td>\n",
       "      <td>NOCORRECTION</td>\n",
       "      <td>Appropriate correction not available</td>\n",
       "    </tr>\n",
       "    <tr>\n",
       "      <th>10</th>\n",
       "      <td>10</td>\n",
       "      <td>MULTICOMP</td>\n",
       "      <td>Multi-component velocity features present</td>\n",
       "    </tr>\n",
       "    <tr>\n",
       "      <th>11</th>\n",
       "      <td>30</td>\n",
       "      <td>DONOTUSE</td>\n",
       "      <td>Do not use this spaxel for science</td>\n",
       "    </tr>\n",
       "  </tbody>\n",
       "</table>\n",
       "</div>"
      ],
      "text/plain": [
       "    bit         label                                        description\n",
       "0     0         NOCOV                         No coverage in this spaxel\n",
       "1     1        LOWCOV                        Low coverage in this spaxel\n",
       "2     2     DEADFIBER                   Major contributing fiber is dead\n",
       "3     3      FORESTAR                                    Foreground star\n",
       "4     4       NOVALUE  Spaxel was not fit because it did not meet sel...\n",
       "5     5    UNRELIABLE  Value is deemed unreliable; see TRM for defini...\n",
       "6     6     MATHERROR              Mathematical error in computing value\n",
       "7     7     FITFAILED                  Attempted fit for property failed\n",
       "8     8     NEARBOUND  Fitted value is too near an imposed boundary; ...\n",
       "9     9  NOCORRECTION               Appropriate correction not available\n",
       "10   10     MULTICOMP          Multi-component velocity features present\n",
       "11   30      DONOTUSE                 Do not use this spaxel for science"
      ]
     },
     "execution_count": 8,
     "metadata": {},
     "output_type": "execute_result"
    }
   ],
   "source": [
    "n2.pixmask.schema"
   ]
  },
  {
   "cell_type": "markdown",
   "metadata": {},
   "source": [
    "Select non-star-forming spaxels (from the BPT mask) and set their mask value to the DAP's DONOTUSE value with the `n2.pixmask.labels_to_value()` method.  Note that we are selecting spaxels that we want from the BPT mask (i.e., `True` is a spaxel to keep), whereas we are using the pixmask to select spaxels that we want to exclude (i.e., `True` is a spaxel to ignore)."
   ]
  },
  {
   "cell_type": "code",
   "execution_count": 9,
   "metadata": {
    "execution": {
     "iopub.execute_input": "2022-05-25T13:15:53.633903Z",
     "iopub.status.busy": "2022-05-25T13:15:53.631791Z",
     "iopub.status.idle": "2022-05-25T13:15:53.646694Z",
     "shell.execute_reply": "2022-05-25T13:15:53.643749Z",
     "shell.execute_reply.started": "2022-05-25T13:15:53.633814Z"
    }
   },
   "outputs": [],
   "source": [
    "mask_non_sf = ~masks_bpt['sf']['global'] * n2.pixmask.labels_to_value('DONOTUSE')"
   ]
  },
  {
   "cell_type": "markdown",
   "metadata": {},
   "source": [
    "Select spaxels classified by the DAP as bad data according to the masks for spaxels with no IFU coverage, with unreliable measurements, or otherwise unfit for science.  Use the `n2.pixmask.get_mask` method."
   ]
  },
  {
   "cell_type": "code",
   "execution_count": 10,
   "metadata": {
    "execution": {
     "iopub.execute_input": "2022-05-25T13:15:54.649744Z",
     "iopub.status.busy": "2022-05-25T13:15:54.649006Z",
     "iopub.status.idle": "2022-05-25T13:15:54.665974Z",
     "shell.execute_reply": "2022-05-25T13:15:54.663719Z",
     "shell.execute_reply.started": "2022-05-25T13:15:54.649692Z"
    }
   },
   "outputs": [],
   "source": [
    "mask_bad_data = n2.pixmask.get_mask(['NOCOV', 'UNRELIABLE', 'DONOTUSE'])"
   ]
  },
  {
   "cell_type": "markdown",
   "metadata": {},
   "source": [
    "Select spaxels with signal-to-noise ratios (SNRs) > 3 on both [NII] 6585 and Halpha.\n",
    "\n",
    "`ha.ivar` = inverse variance = $\\frac{1}{\\sigma^2}$, where $\\sigma$ is the error."
   ]
  },
  {
   "cell_type": "code",
   "execution_count": 11,
   "metadata": {
    "execution": {
     "iopub.execute_input": "2022-05-25T13:15:55.623469Z",
     "iopub.status.busy": "2022-05-25T13:15:55.622756Z",
     "iopub.status.idle": "2022-05-25T13:15:55.635299Z",
     "shell.execute_reply": "2022-05-25T13:15:55.633080Z",
     "shell.execute_reply.started": "2022-05-25T13:15:55.623418Z"
    }
   },
   "outputs": [],
   "source": [
    "min_snr = 3.\n",
    "mask_nii_low_snr = (np.abs(nii.value * np.sqrt(nii.ivar)) < min_snr)\n",
    "mask_ha_low_snr = (np.abs(ha.value * np.sqrt(ha.ivar)) < min_snr)"
   ]
  },
  {
   "cell_type": "markdown",
   "metadata": {},
   "source": [
    "Do a [bitwise (binary) OR](https://www.tutorialspoint.com/python/bitwise_operators_example.htm) to create a master mask of spaxels to ignore."
   ]
  },
  {
   "cell_type": "code",
   "execution_count": 12,
   "metadata": {
    "execution": {
     "iopub.execute_input": "2022-05-25T13:15:57.635744Z",
     "iopub.status.busy": "2022-05-25T13:15:57.635004Z",
     "iopub.status.idle": "2022-05-25T13:15:57.644838Z",
     "shell.execute_reply": "2022-05-25T13:15:57.643228Z",
     "shell.execute_reply.started": "2022-05-25T13:15:57.635691Z"
    }
   },
   "outputs": [],
   "source": [
    "mask = mask_non_sf | mask_bad_data | mask_nii_low_snr | mask_ha_low_snr"
   ]
  },
  {
   "cell_type": "code",
   "execution_count": null,
   "metadata": {
    "tags": []
   },
   "outputs": [],
   "source": []
  },
  {
   "cell_type": "markdown",
   "metadata": {},
   "source": [
    "## Plot the Metallicity Map\n",
    "\n",
    "Plot the map of metallicity using the `plot()` method from your Marvin `Map` metallicity object.  Also, mask undesirable spaxels and label the colorbar.\n",
    "\n",
    "Note: solar metallicity is about 8.7."
   ]
  },
  {
   "cell_type": "code",
   "execution_count": 13,
   "metadata": {
    "execution": {
     "iopub.execute_input": "2022-05-25T13:15:58.636843Z",
     "iopub.status.busy": "2022-05-25T13:15:58.636339Z",
     "iopub.status.idle": "2022-05-25T13:15:59.183826Z",
     "shell.execute_reply": "2022-05-25T13:15:59.182147Z",
     "shell.execute_reply.started": "2022-05-25T13:15:58.636796Z"
    }
   },
   "outputs": [
    {
     "data": {
      "image/png": "[encoded data removed]",
      "text/plain": [
       "<Figure size 432x288 with 2 Axes>"
      ]
     },
     "metadata": {},
     "output_type": "display_data"
    }
   ],
   "source": [
    "fig, ax = oh.plot(mask=mask, cblabel='12+log(O/H)')"
   ]
  },
  {
   "cell_type": "markdown",
   "metadata": {},
   "source": [
    "## Compute Stellar Mass Surface Density\n",
    "\n",
    "1. Read in spaxel stellar mass measurements from the Firefly spectral fitting catalog (Goddard et al. 2017).\n",
    "  - The [Firefly stellar population fitting results file](https://data.sdss.org/sas/dr14/manga/spectro/firefly/v1_0_3/manga_firefly-v2_1_2-STELLARPOP.fits) is large (1.8 GB), so we have extracted only the measurements needed for our purposes.\n",
    "  - [Summary of the Firefly Value Added Catalog](http://www.sdss.org/dr14/manga/manga-data/manga-firefly-value-added-catalog/)\n",
    "  - [Datamodel of the Firefly Value Added Catalog](https://data.sdss.org/datamodel/files/MANGA_FIREFLY/FIREFLY_VER/manga_firefly-STELLARPOP.html)\n",
    "2. Convert spaxel angular size to a physical scale in pc.\n",
    "3. Divide stellar mass by area to get stellar surface mass density.\n",
    "\n",
    "### Read in stellar masses\n",
    "\n",
    "Use [pandas](http://pandas.pydata.org/pandas-docs/stable/) to read in the csv file with stellar masses."
   ]
  },
  {
   "cell_type": "code",
   "execution_count": 69,
   "metadata": {
    "execution": {
     "iopub.execute_input": "2022-05-25T13:30:06.629011Z",
     "iopub.status.busy": "2022-05-25T13:30:06.626632Z",
     "iopub.status.idle": "2022-05-25T13:30:06.663925Z",
     "shell.execute_reply": "2022-05-25T13:30:06.662172Z",
     "shell.execute_reply.started": "2022-05-25T13:30:06.628955Z"
    },
    "tags": []
   },
   "outputs": [],
   "source": [
    "import pandas as pd\n",
    "mstar = pd.read_csv(f'manga-{maps.plateifu}_mstar.csv')\n",
    "\n",
    "# this data is from an older release, temporarily resize to match new mask data\n",
    "mstar = mstar[0:52]\n",
    "mstar = mstar.drop(columns=['0','53'])"
   ]
  },
  {
   "cell_type": "markdown",
   "metadata": {},
   "source": [
    "Plot stellar mass map using `ax.imshow()`.  MaNGA maps are oriented such that you want to specify `origin='lower'`.  Also include a labelled colorbar."
   ]
  },
  {
   "cell_type": "code",
   "execution_count": 70,
   "metadata": {
    "execution": {
     "iopub.execute_input": "2022-05-25T13:30:07.632722Z",
     "iopub.status.busy": "2022-05-25T13:30:07.631954Z",
     "iopub.status.idle": "2022-05-25T13:30:08.224949Z",
     "shell.execute_reply": "2022-05-25T13:30:08.221946Z",
     "shell.execute_reply.started": "2022-05-25T13:30:07.632667Z"
    },
    "tags": []
   },
   "outputs": [
    {
     "data": {
      "image/png": "[encoded data removed]",
      "text/plain": [
       "<Figure size 432x288 with 2 Axes>"
      ]
     },
     "metadata": {
      "needs_background": "light"
     },
     "output_type": "display_data"
    }
   ],
   "source": [
    "fig, ax = plt.subplots()\n",
    "p = ax.imshow(mstar, origin='lower')\n",
    "ax.set_xlabel('spaxel')\n",
    "ax.set_ylabel('spaxel')\n",
    "cb = fig.colorbar(p)\n",
    "cb.set_label('log(Mstar) [M$_\\odot$]')"
   ]
  },
  {
   "cell_type": "markdown",
   "metadata": {},
   "source": [
    "### Calculate physical size of a spaxel\n",
    "\n",
    "MaNGA's maps (and data cubes) have a spaxel size of 0.5 arcsec. Let's convert that into a physical scale for our galaxy."
   ]
  },
  {
   "cell_type": "code",
   "execution_count": 71,
   "metadata": {
    "execution": {
     "iopub.execute_input": "2022-05-25T13:30:08.636584Z",
     "iopub.status.busy": "2022-05-25T13:30:08.635987Z",
     "iopub.status.idle": "2022-05-25T13:30:08.645034Z",
     "shell.execute_reply": "2022-05-25T13:30:08.643023Z",
     "shell.execute_reply.started": "2022-05-25T13:30:08.636535Z"
    },
    "tags": []
   },
   "outputs": [],
   "source": [
    "spaxel_size = 0.5  # [arcsec]\n",
    "\n",
    "# or programmatically:\n",
    "# spaxel_size = float(maps.getCube().header['CD2_2']) * 3600"
   ]
  },
  {
   "cell_type": "markdown",
   "metadata": {},
   "source": [
    "Get the redshift of the galaxy from the `maps.nsa` attribute."
   ]
  },
  {
   "cell_type": "code",
   "execution_count": 61,
   "metadata": {
    "execution": {
     "iopub.execute_input": "2022-05-25T13:29:01.641096Z",
     "iopub.status.busy": "2022-05-25T13:29:01.640373Z",
     "iopub.status.idle": "2022-05-25T13:29:01.650169Z",
     "shell.execute_reply": "2022-05-25T13:29:01.648408Z",
     "shell.execute_reply.started": "2022-05-25T13:29:01.641051Z"
    },
    "tags": []
   },
   "outputs": [],
   "source": [
    "redshift = maps.nsa['z']"
   ]
  },
  {
   "cell_type": "markdown",
   "metadata": {},
   "source": [
    "We'll use the **small angle approximation** to estimate the physical scale:\n",
    "\n",
    "$\\theta = \\mathrm{tan}^{-1}(\\frac{d}{D}) \\approx \\frac{206,265 \\, \\mathrm{arcsec}}{1 \\, \\mathrm{radian}} \\frac{d}{D}$,\n",
    "\n",
    "where  \n",
    "$\\theta$ is the angular size of the object (in our case spaxel) in arcsec,  \n",
    "$d$ is the diameter of the object (spaxel), and  \n",
    "$D$ is the angular diameter distance.\n",
    "\n",
    "\n",
    "The distance (via the **Hubble Law** --- which is fairly accurate for low redshift objects) is\n",
    "\n",
    "$D \\approx \\frac{cz}{H_0}$,\n",
    "\n",
    "where  \n",
    "$c$ is the speed of light in km/s,  \n",
    "$z$ is the redshift, and  \n",
    "$H_0$ is the Hubble constant in km/s/Mpc.\n",
    "\n",
    "Calculate $D$."
   ]
  },
  {
   "cell_type": "code",
   "execution_count": 62,
   "metadata": {
    "execution": {
     "iopub.execute_input": "2022-05-25T13:29:02.636945Z",
     "iopub.status.busy": "2022-05-25T13:29:02.636217Z",
     "iopub.status.idle": "2022-05-25T13:29:02.647210Z",
     "shell.execute_reply": "2022-05-25T13:29:02.644566Z",
     "shell.execute_reply.started": "2022-05-25T13:29:02.636889Z"
    },
    "tags": []
   },
   "outputs": [],
   "source": [
    "c = 299792  # speed of light [km/s]\n",
    "H0 = 70  # [km s^-1 Mpc^-1]\n",
    "D = c * redshift / H0  # approx. distance to galaxy [Mpc]"
   ]
  },
  {
   "cell_type": "markdown",
   "metadata": {},
   "source": [
    "Rearrange the small angle formula to solve for the scale ($\\frac{d}{\\theta}$) in pc / arcsec."
   ]
  },
  {
   "cell_type": "code",
   "execution_count": 63,
   "metadata": {
    "execution": {
     "iopub.execute_input": "2022-05-25T13:29:02.651312Z",
     "iopub.status.busy": "2022-05-25T13:29:02.650775Z",
     "iopub.status.idle": "2022-05-25T13:29:02.666907Z",
     "shell.execute_reply": "2022-05-25T13:29:02.664846Z",
     "shell.execute_reply.started": "2022-05-25T13:29:02.651262Z"
    },
    "tags": []
   },
   "outputs": [],
   "source": [
    "scale = 1 / 206265 * D * 1e6  # 1 radian = 206265 arcsec [pc / arcsec]"
   ]
  },
  {
   "cell_type": "markdown",
   "metadata": {},
   "source": [
    "Now convert the spaxel size from arcsec to parsecs and calculate the area of a spaxel."
   ]
  },
  {
   "cell_type": "code",
   "execution_count": 64,
   "metadata": {
    "execution": {
     "iopub.execute_input": "2022-05-25T13:29:03.648500Z",
     "iopub.status.busy": "2022-05-25T13:29:03.638204Z",
     "iopub.status.idle": "2022-05-25T13:29:03.659120Z",
     "shell.execute_reply": "2022-05-25T13:29:03.656914Z",
     "shell.execute_reply.started": "2022-05-25T13:29:03.648413Z"
    },
    "tags": []
   },
   "outputs": [],
   "source": [
    "spaxel_area = (scale * spaxel_size)**2  # [pc^2]"
   ]
  },
  {
   "cell_type": "markdown",
   "metadata": {},
   "source": [
    "Finally, we simply divide the stellar mass by the area to get the stellar mass surface density $\\Sigma_\\star$ in units of $\\frac{M_\\odot}{pc^2}$."
   ]
  },
  {
   "cell_type": "code",
   "execution_count": 65,
   "metadata": {
    "execution": {
     "iopub.execute_input": "2022-05-25T13:29:04.620538Z",
     "iopub.status.busy": "2022-05-25T13:29:04.619858Z",
     "iopub.status.idle": "2022-05-25T13:29:04.633754Z",
     "shell.execute_reply": "2022-05-25T13:29:04.631821Z",
     "shell.execute_reply.started": "2022-05-25T13:29:04.620486Z"
    },
    "tags": []
   },
   "outputs": [],
   "source": [
    "sigma_star = np.log10(10**mstar / spaxel_area)  # [Msun / pc^2]"
   ]
  },
  {
   "cell_type": "markdown",
   "metadata": {},
   "source": [
    "Let's plot metallicity as a function of $\\Sigma_\\star$!  Remember to apply the mask.  Also set the axis range to be `[0, 4, 8, 8.8]`."
   ]
  },
  {
   "cell_type": "code",
   "execution_count": 66,
   "metadata": {
    "execution": {
     "iopub.execute_input": "2022-05-25T13:29:05.628402Z",
     "iopub.status.busy": "2022-05-25T13:29:05.627747Z",
     "iopub.status.idle": "2022-05-25T13:29:06.124964Z",
     "shell.execute_reply": "2022-05-25T13:29:06.122956Z",
     "shell.execute_reply.started": "2022-05-25T13:29:05.628351Z"
    },
    "tags": []
   },
   "outputs": [
    {
     "data": {
      "text/plain": [
       "(0.0, 4.0, 8.0, 8.8)"
      ]
     },
     "execution_count": 66,
     "metadata": {},
     "output_type": "execute_result"
    },
    {
     "data": {
      "image/png": "[encoded data removed]",
      "text/plain": [
       "<Figure size 432x432 with 1 Axes>"
      ]
     },
     "metadata": {
      "needs_background": "light"
     },
     "output_type": "display_data"
    }
   ],
   "source": [
    "fig, ax = plt.subplots(figsize=(6, 6))\n",
    "ax.scatter(sigma_star.values[mask == 0], oh.value[mask == 0], alpha=0.15)\n",
    "ax.set_xlabel('log(Mstar) [M$_\\odot$]')\n",
    "ax.set_ylabel('12+log(O/H)')\n",
    "ax.axis([0, 4, 8.0, 8.8])"
   ]
  },
  {
   "cell_type": "markdown",
   "metadata": {},
   "source": [
    "### MaNGA Spatially-Resolved Mass-Metallicity Relation\n",
    "\n",
    "We have constructed the spatially-resolved MZR for one galaxy, but we are interested in understanding the evolution of galaxies in general, so we want to repeat this exercise for many galaxies.  In [Barrera-Ballesteros et al. (2016)](https://arxiv.org/pdf/1609.01740.pdf), Jorge Barrera-Ballesteros (who gave a talk at Pitt in November 2017) did just this, and here is the analogous figure for 653 disk galaxies.\n",
    "\n",
    "<img src=\"images/barrera-ballesteros_local_mzr.png\" style=\"width: 400px;\"/>"
   ]
  },
  {
   "cell_type": "markdown",
   "metadata": {},
   "source": [
    "The best fit line from Barrera-Ballesteros et al. (2016) is given in the next cell. "
   ]
  },
  {
   "cell_type": "code",
   "execution_count": 67,
   "metadata": {
    "execution": {
     "iopub.execute_input": "2022-05-25T13:29:11.691392Z",
     "iopub.status.busy": "2022-05-25T13:29:11.690566Z",
     "iopub.status.idle": "2022-05-25T13:29:11.705065Z",
     "shell.execute_reply": "2022-05-25T13:29:11.702820Z",
     "shell.execute_reply.started": "2022-05-25T13:29:11.691341Z"
    }
   },
   "outputs": [],
   "source": [
    "# fitting formula\n",
    "aa = 8.55\n",
    "bb = 0.014\n",
    "cc = 3.14\n",
    "xx = np.linspace(1, 3, 1000)\n",
    "yy = aa + bb * (xx - cc) * np.exp(-(xx - cc))"
   ]
  },
  {
   "cell_type": "markdown",
   "metadata": {},
   "source": [
    "Remake the spatially-resolved MZR plot for our galaxy showing the he best fit line from Barrera-Ballesteros et al. (2016)."
   ]
  },
  {
   "cell_type": "code",
   "execution_count": 68,
   "metadata": {
    "execution": {
     "iopub.execute_input": "2022-05-25T13:29:12.637496Z",
     "iopub.status.busy": "2022-05-25T13:29:12.636803Z",
     "iopub.status.idle": "2022-05-25T13:29:13.106153Z",
     "shell.execute_reply": "2022-05-25T13:29:13.104182Z",
     "shell.execute_reply.started": "2022-05-25T13:29:12.637444Z"
    }
   },
   "outputs": [
    {
     "data": {
      "text/plain": [
       "(0.0, 4.0, 8.0, 8.8)"
      ]
     },
     "execution_count": 68,
     "metadata": {},
     "output_type": "execute_result"
    },
    {
     "data": {
      "image/png": "[encoded data removed]",
      "text/plain": [
       "<Figure size 432x432 with 1 Axes>"
      ]
     },
     "metadata": {
      "needs_background": "light"
     },
     "output_type": "display_data"
    }
   ],
   "source": [
    "fig, ax = plt.subplots(figsize=(6, 6))\n",
    "ax.scatter(sigma_star.values[mask == 0], oh.value[mask == 0], alpha=0.15)\n",
    "ax.plot(xx, yy)\n",
    "ax.set_xlabel('log(Mstar) [M$_\\odot$]')\n",
    "ax.set_ylabel('12+log(O/H)')\n",
    "ax.axis([0, 4, 8.0, 8.8])"
   ]
  },
  {
   "cell_type": "markdown",
   "metadata": {},
   "source": [
    "The spaxels in our galaxy are typically above the best fit relation.  Part of the offset may be due to systematic differences in the metallicity calibrator used, but the overal trend of flat metallicity as stellar mass surface densities decreases seems to be in tension with their best fit.  It would be worth investigating this effect for more galaxies to understand if individual galaxies typically obey the best fit relation or whether they typically exhibit a flat trend in this space.\n",
    "\n",
    "\n",
    "Ultimately, Barrera-Ballesteros et al. (2016) concluded that the spatially-resolved MZR is a scaled version of the global MZR (e.g., see Tremonti et al. 2004)."
   ]
  },
  {
   "cell_type": "code",
   "execution_count": null,
   "metadata": {},
   "outputs": [],
   "source": []
  }
 ],
 "metadata": {
  "kernelspec": {
   "display_name": "Python 3.8 (py38)",
   "language": "python",
   "name": "py38"
  },
  "language_info": {
   "codemirror_mode": {
    "name": "ipython",
    "version": 3
   },
   "file_extension": ".py",
   "mimetype": "text/x-python",
   "name": "python",
   "nbconvert_exporter": "python",
   "pygments_lexer": "ipython3",
   "version": "3.8.5"
  }
 },
 "nbformat": 4,
 "nbformat_minor": 4
}
