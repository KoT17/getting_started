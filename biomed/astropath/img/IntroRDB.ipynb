{
 "cells": [
  {
   "cell_type": "markdown",
   "metadata": {},
   "source": [
    "<h1 style=\"color:blue\"> Introduction Relational Databases: Data Models and SQL</h2>\n"
   ]
  },
  {
   "cell_type": "markdown",
   "metadata": {},
   "source": [
    "##Relational database consists of Tables\n",
    "<img src=\"img/table.png\" width=700/>"
   ]
  },
  {
   "cell_type": "markdown",
   "metadata": {
    "collapsed": true
   },
   "source": [
    "<h2 style=\"color:red\">Data model for university courses</h2>\n",
    "\n",
    "**Course**: code, name, credits, description, ...<br/>\n",
    "**Teacher**: name, email, office.<br/>\n",
    "**Students**: name, email, ...<br/>"
   ]
  },
  {
   "cell_type": "markdown",
   "metadata": {},
   "source": [
    "##`Courses` table\n",
    "<img src=\"img/course.png\"/>"
   ]
  },
  {
   "cell_type": "markdown",
   "metadata": {},
   "source": [
    "Table DDL (data definition language):\n",
    "```\n",
    "create table courses (\n",
    "    number varchar(6) not null,\n",
    "    name varchar(32) not null,\n",
    "    description varchar(1024),\n",
    "    credits int \n",
    ");\n",
    "```"
   ]
  },
  {
   "cell_type": "markdown",
   "metadata": {},
   "source": [
    "## Sequential Query Language (SQL, \"sequel\")\n",
    "\n",
    "### `SELECT ... FROM ... WHERE ...`"
   ]
  },
  {
   "cell_type": "markdown",
   "metadata": {},
   "source": [
    "##CasJobs\n",
    "In <a href=\"http://scitest02.pha.jhu.edu/CasJobs/SubmitJob.aspx\" target=\"_blank\">CasJobs</a>, using IPDSDB as contex, try:\n",
    "```\n",
    "SELECT number, name, description, credits\n",
    "  FROM courses\n",
    "```\n",
    "<img src=\"img/query_course.png\"/><br/><br/>\n"
   ]
  },
  {
   "cell_type": "markdown",
   "metadata": {},
   "source": [
    "Try:\n",
    "```\n",
    "SELECT number, name\n",
    "  FROM courses\n",
    " WHERE credits = 3\n",
    "```\n"
   ]
  },
  {
   "cell_type": "markdown",
   "metadata": {},
   "source": [
    "##More `WHERE` clauses\n",
    "\n",
    "* `   =  <>  !=  <  >  <=  >=`\n",
    "* `   credits between 2 and 3   ` (inclusive) \n",
    "* `   name like ‘%Web%’`\n",
    "* `   credits = 3 and name like '%Web%`\n",
    "* `   credits = 3 or credits=1`\n",
    "* `   credits in (2,4)`\n",
    "* `   description IS NULL`\n",
    "* `   description IS NOT NULL`\n",
    "* `   exists (...)     `   (later)\n"
   ]
  },
  {
   "cell_type": "markdown",
   "metadata": {},
   "source": [
    "Try:\n",
    "```\n",
    "SELECT *\n",
    "  FROM courses\n",
    " WHERE name like '%Web%'\n",
    " ```"
   ]
  },
  {
   "cell_type": "markdown",
   "metadata": {},
   "source": [
    "## NULL\n",
    "Try and compare:\n",
    "```\n",
    "SELECT number, name\n",
    "  FROM courses\n",
    " WHERE description IS NULL\n",
    "```\n",
    "```\n",
    "SELECT number, name\n",
    "  FROM courses\n",
    " WHERE description IS NOT NULL\n",
    "```\n",
    "Three-valued-logic:\n",
    "```\n",
    "SELECT number, name\n",
    "  FROM courses\n",
    " WHERE description = NULL\n",
    "```\n",
    "```\n",
    "SELECT number, name\n",
    "  FROM courses\n",
    " WHERE description != NULL\n",
    "```\n",
    "```\n",
    "SELECT number, name\n",
    "  FROM courses\n",
    " WHERE NULL = NULL\n",
    "```\n"
   ]
  },
  {
   "cell_type": "markdown",
   "metadata": {},
   "source": [
    "##Custom column names\n",
    "Try:\n",
    "```\n",
    "SELECT number as courseID, name as courseName\n",
    "  FROM courses\n",
    "```"
   ]
  },
  {
   "cell_type": "markdown",
   "metadata": {},
   "source": [
    "##`ORDER BY ... [ASC|DESC]`\n",
    "Try:\n",
    "```\n",
    "SELECT *\n",
    "  FROM courses\n",
    " ORDER BY credits DESC\n",
    "```"
   ]
  },
  {
   "cell_type": "markdown",
   "metadata": {},
   "source": [
    "## TOP\n",
    "Try:\n",
    "```\n",
    "SELECT TOP 1 *\n",
    "  FROM courses\n",
    " ORDER BY credits DESC\n",
    "```"
   ]
  },
  {
   "cell_type": "markdown",
   "metadata": {},
   "source": [
    "##Aggregation: `COUNT(...), MAX(...), MIN(...), AVG(...)`\n",
    "Try:\n",
    "```\n",
    "SELECT count(*), MIN(credits), MAX(credits), AVG(credits)\n",
    "  FROM courses\n",
    " WHERE credits > 1\n",
    "```\n",
    "Note the AVG of integers.\n",
    "##Casting:\n",
    "```\n",
    "SELECT count(*), MIN(credits), MAX(credits), AVG(cast(credits as real))\n",
    "  FROM courses\n",
    " WHERE credits > 1\n",
    "```\n"
   ]
  },
  {
   "cell_type": "markdown",
   "metadata": {},
   "source": [
    "##Course with Teacher\n",
    "<img src=\"img/courseTeacher.png\"/>"
   ]
  },
  {
   "cell_type": "markdown",
   "metadata": {},
   "source": [
    "```\n",
    "create table courseTeacher (\n",
    "    number varchar(6),\n",
    "    name varchar(32),\n",
    "    description varchar1024),\n",
    "    credits int ,\n",
    "    teacherName varchar(64) not null,\n",
    "\tteacherEmail varchar(128),\n",
    "\tteacherOffice varchar(32)\n",
    ");\n",
    "```"
   ]
  },
  {
   "cell_type": "markdown",
   "metadata": {},
   "source": [
    "Try:\n",
    "```\n",
    "select * from courseteacher\n",
    "```\n",
    "\n",
    "<img src=\"img/query_courseteacher.png\"/>\n"
   ]
  },
  {
   "cell_type": "markdown",
   "metadata": {},
   "source": [
    "Note the redundancy: teacher's email and office are repeated for each class (s)he gives."
   ]
  },
  {
   "cell_type": "markdown",
   "metadata": {},
   "source": [
    "##Course with Teacher and Students\n",
    "<img src=\"img/courseTeacherStudent.png\" width=\"300px\"/>"
   ]
  },
  {
   "cell_type": "markdown",
   "metadata": {},
   "source": [
    "```\n",
    "create table courseTeacherStudent (\n",
    "    number varchar(6),\n",
    "    name varchar(32),\n",
    "    description varchar1024),\n",
    "    credits int ,\n",
    "    teacherName varchar(64) not null,\n",
    "\tteacherEmail varchar(128),\n",
    "\tteacherOffice varchar(32),\n",
    "    studentName varchar(64) not null,\n",
    "\tstudentEmail varchar(128)\n",
    ");\n",
    "```"
   ]
  },
  {
   "cell_type": "markdown",
   "metadata": {},
   "source": [
    "##Redundancy\n",
    "\n",
    "Try\n",
    "```\n",
    "SELECT *\n",
    "  FROM courseteacherstudent\n",
    "```\n",
    "<br/>\n",
    "<img src=\"img/query_courseteacherstudent.png\"/>\n",
    "Even more redundancy..."
   ]
  },
  {
   "cell_type": "markdown",
   "metadata": {},
   "source": [
    "##Normalization\n",
    "Splitting up tables to remove redundancy."
   ]
  },
  {
   "cell_type": "markdown",
   "metadata": {},
   "source": [
    "##Separate Course from Teacher\n",
    "Each `course` has 1-and-only-1 `teacher`, but a teacher can teach `0,1,2.. many` courses.<br/>\n",
    "I.e. different courses can have same `teacher`.<br/>\n",
    "Let `course` identify/point-to `teacher` using a 'FOREIGN KEY` column: `teacherId`<br/>\n",
    "\n",
    "<img src=\"img/normalize1.png\" width=\"500px\"/><br/>\n"
   ]
  },
  {
   "cell_type": "markdown",
   "metadata": {},
   "source": [
    "How to query? Use `JOIN`-s"
   ]
  },
  {
   "cell_type": "markdown",
   "metadata": {},
   "source": [
    "## JOINS\n",
    "Try\n",
    "```\n",
    "SELECT c.number, c.name,c.description, c.credits\n",
    ",      t.name as teacherName,t.email as teacherEmail, t.office as teacherOffice\n",
    "  FROM course c\n",
    "    JOIN  teacher t\n",
    "      ON t.id=c.teacherid\n",
    " ```\n",
    "\n",
    "Alternative syntax:\n",
    " \n",
    " ```\n",
    "SELECT c.number, c.name,c.description, c.credits\n",
    ",      t.name as teacherName,t.email as teacherEmail, t.office as teacherOffice\n",
    "  FROM course c\n",
    "  ,    teacher t\n",
    " WHERE t.id=c.teacherid\n",
    " ```"
   ]
  },
  {
   "cell_type": "markdown",
   "metadata": {},
   "source": [
    "##Separating out the students\n",
    "A row can only point to at most one other row.<br/>\n",
    "But a student can be enrolled in multiple courses: so no FK from `student` to `course`.<br/>\n",
    "A course can contains multiple students: so no FK from `course` to `student`.<br/>\n",
    "Solution:<br/>\n",
    "Add seperate `enrolled` table, pointing to both `student` and `course`.\n"
   ]
  },
  {
   "cell_type": "markdown",
   "metadata": {},
   "source": [
    "##The full data model\n",
    "<img src=\"img/courses.png\" width=600/>"
   ]
  },
  {
   "cell_type": "markdown",
   "metadata": {},
   "source": [
    "<h2 style=\"color:red\">table definitions: DDL</h2>\n",
    "```\n",
    "create table teacher (id varchar(5), name varchar(24), email varchar(128), office varchar(32));\n",
    "\n",
    "create table student (id varchar(3), name varchar(24), email varchar(128));\n",
    "\n",
    "create table course (\n",
    "    number varchar(6),\n",
    "    name varchar(32),\n",
    "    description varchar(1024),\n",
    "    credits int,\n",
    "    teacherid varchar(6) \n",
    ");\n",
    "\n",
    "create table enrolled (studentId varchar(3), courseNumber varchar(6));\n",
    "\n",
    "```"
   ]
  },
  {
   "cell_type": "markdown",
   "metadata": {},
   "source": [
    "##Sample queries:\n",
    "Try:\n",
    "```\n",
    "SELECT c.number, s.name\n",
    "  FROM course c\n",
    "  ,    enrolled e\n",
    "  ,    student s\n",
    " WHERE e.courseNumber = c.number\n",
    "   AND e.studentID = s.ID\n",
    " ```\n",
    "```\n",
    "SELECT t.name as teacher, s.name as student\n",
    "  FROM course c\n",
    "  ,    enrolled e\n",
    "  ,    student s\n",
    "  ,    teacher t\n",
    " WHERE e.courseNumber = c.number\n",
    "   AND e.studentID = s.ID\n",
    "   AND t.id = c.teacherId\n",
    " ORDER by teacher, student\n",
    " ```\n"
   ]
  },
  {
   "cell_type": "markdown",
   "metadata": {},
   "source": [
    "## GROUP BY [TODO make some of them homework]\n",
    "Questions: \n",
    "* how can we count for each course the number of students it has.\n",
    "* count for each teacher the number of courses (s)he teaches\n",
    "* count for each student the number of courses (s)he takes and the total number of credits (s)he may gain\n",
    "```\n",
    "SELECT c.number, count(*)\n",
    "  FROM course c\n",
    "  ,    enrolled e\n",
    "  ,    student s\n",
    " WHERE e.courseNumber = c.number\n",
    "   AND e.studentID = s.ID\n",
    " GROUP BY c.number\n",
    "```\n",
    "```\n",
    "SELECT s.name, count(*) as numCourses, SUM(c.credits) as totalCredits\n",
    "  FROM course c\n",
    "  ,    enrolled e\n",
    "  ,    student s\n",
    " WHERE e.courseNumber = c.number\n",
    "   AND e.studentID = s.ID\n",
    " GROUP BY s.name\n",
    "```\n"
   ]
  },
  {
   "cell_type": "markdown",
   "metadata": {},
   "source": [
    "## sub-select and common-table-expressions\n",
    "Question: find all students in the course with the lowest number of credits\n",
    "```\n",
    "SELECT c.credits, s.*\n",
    "  FROM (SELECT TOP 1 number,credits\n",
    "          FROM course\n",
    "         ORDER BY credits ASC) c\n",
    "  ,    enrolled e\n",
    "  ,    student s\n",
    " WHERE e.courseNumber = c.number\n",
    "   AND e.studentID = s.id\n",
    "```\n",
    "Alternative:\n",
    "```\n",
    "WITH c as (\n",
    "SELECT TOP 1 number,credits\n",
    "  FROM course\n",
    " ORDER BY credits ASC\n",
    ")\n",
    "SELECT c.credits, s.*\n",
    "  FROM c\n",
    "  ,    enrolled e\n",
    "  ,    student s\n",
    " WHERE e.courseNumber = c.number\n",
    "   AND e.studentID = s.id\n",
    "```\n",
    "\n"
   ]
  },
  {
   "cell_type": "markdown",
   "metadata": {},
   "source": [
    "## Tasks\n",
    "Create a copy of this model in your MyDB and modify it to include the following:\n",
    "* Add the student's year to the model.\n",
    "* Add the start/end dates of the course\n",
    "* Where would grades go?\n",
    "* How could we model the Department that provides the course. \n",
    "* How/where should we add teaching assistants?\n",
    "* Suggest a way to add \"prerequisite courses\" to the model.\n",
    "* ...\n",
    "\n",
    "Read up on\n",
    "* `INSERT INTO ...`\n",
    "* `DELETE FROM ...`\n",
    "* `DROP TABLE <TABLE-NAME>`\n",
    "\n",
    "\n",
    " "
   ]
  },
  {
   "cell_type": "markdown",
   "metadata": {},
   "source": [
    "<h1 style=\"color:green\">Using IPython Notebook to query database</h1>"
   ]
  },
  {
   "cell_type": "code",
   "execution_count": 34,
   "metadata": {
    "collapsed": true
   },
   "outputs": [],
   "source": [
    "# standard first block for defining the token and makinhg it available as a system variable for the session\n",
    "# token must be replaced with new one once it has expired\n",
    "token=\"01cc861ec78d475cad8af907c31ed0c2\"\n",
    "import sys\n",
    "sys.argv.append(\"--ident=\"+token)"
   ]
  },
  {
   "cell_type": "code",
   "execution_count": 35,
   "metadata": {
    "collapsed": true
   },
   "outputs": [],
   "source": [
    "# import CasJobs for querying database\n",
    "import SciServer.CasJobs\n",
    "# import pandas for using its DataFrame\n",
    "import pandas\n",
    "# import numpy for various numerical utilities\n",
    "import numpy as np\n",
    "# import plotting library, in particular for plotting elements\n",
    "import matplotlib.pyplot as plt"
   ]
  },
  {
   "cell_type": "code",
   "execution_count": 36,
   "metadata": {
    "collapsed": false
   },
   "outputs": [
    {
     "name": "stdout",
     "output_type": "stream",
     "text": [
      "executeQuery POST response:  200 OK\n",
      "executeQuery POST response:  200 OK\n"
     ]
    }
   ],
   "source": [
    "query=\"\"\"\n",
    "SELECT *\n",
    "  FROM Course\n",
    "  \"\"\"\n",
    "queryResponse = SciServer.CasJobs.executeQuery(query, \"IPDSDB\")\n",
    "# as CSV\n",
    "body=queryResponse.read().decode('utf-8')\n",
    "\n",
    "# run again\n",
    "queryResponse = SciServer.CasJobs.executeQuery(query, \"IPDSDB\")\n",
    "# parse results into pandas.DataFrame \n",
    "courses = pandas.read_csv(queryResponse,index_col=None)\n",
    "\n"
   ]
  },
  {
   "cell_type": "code",
   "execution_count": 37,
   "metadata": {
    "collapsed": false
   },
   "outputs": [
    {
     "name": "stdout",
     "output_type": "stream",
     "text": [
      "number,name,description,credits,teacherid\n",
      "\"SDV100\",\"College Success Skills\",\"\",1,\"dm112\"\n",
      "\"ITD110\",\"Web Page Design I\",\"An introduction to web page design\",3,\"je232\"\n",
      "\"ITP100\",\"Software Design\",\"General software design principles\",3,\"je232\"\n",
      "\"ITD132\",\"Structured Query Language\",\"\",3,\"cm147\"\n",
      "\"ITP140\",\"Client Side Scripting\",\"\",4,\"kr387\"\n",
      "\"ITP225\",\"Web Scripting Languages\",\"\",4,\"kr387\"\n",
      "\n"
     ]
    }
   ],
   "source": [
    "print(body)"
   ]
  },
  {
   "cell_type": "code",
   "execution_count": 38,
   "metadata": {
    "collapsed": false
   },
   "outputs": [
    {
     "data": {
      "text/html": [
       "<div>\n",
       "<table border=\"1\" class=\"dataframe\">\n",
       "  <thead>\n",
       "    <tr style=\"text-align: right;\">\n",
       "      <th></th>\n",
       "      <th>number</th>\n",
       "      <th>name</th>\n",
       "      <th>description</th>\n",
       "      <th>credits</th>\n",
       "      <th>teacherid</th>\n",
       "    </tr>\n",
       "  </thead>\n",
       "  <tbody>\n",
       "    <tr>\n",
       "      <th>0</th>\n",
       "      <td>SDV100</td>\n",
       "      <td>College Success Skills</td>\n",
       "      <td>NaN</td>\n",
       "      <td>1</td>\n",
       "      <td>dm112</td>\n",
       "    </tr>\n",
       "    <tr>\n",
       "      <th>1</th>\n",
       "      <td>ITD110</td>\n",
       "      <td>Web Page Design I</td>\n",
       "      <td>An introduction to web page design</td>\n",
       "      <td>3</td>\n",
       "      <td>je232</td>\n",
       "    </tr>\n",
       "    <tr>\n",
       "      <th>2</th>\n",
       "      <td>ITP100</td>\n",
       "      <td>Software Design</td>\n",
       "      <td>General software design principles</td>\n",
       "      <td>3</td>\n",
       "      <td>je232</td>\n",
       "    </tr>\n",
       "    <tr>\n",
       "      <th>3</th>\n",
       "      <td>ITD132</td>\n",
       "      <td>Structured Query Language</td>\n",
       "      <td>NaN</td>\n",
       "      <td>3</td>\n",
       "      <td>cm147</td>\n",
       "    </tr>\n",
       "    <tr>\n",
       "      <th>4</th>\n",
       "      <td>ITP140</td>\n",
       "      <td>Client Side Scripting</td>\n",
       "      <td>NaN</td>\n",
       "      <td>4</td>\n",
       "      <td>kr387</td>\n",
       "    </tr>\n",
       "    <tr>\n",
       "      <th>5</th>\n",
       "      <td>ITP225</td>\n",
       "      <td>Web Scripting Languages</td>\n",
       "      <td>NaN</td>\n",
       "      <td>4</td>\n",
       "      <td>kr387</td>\n",
       "    </tr>\n",
       "  </tbody>\n",
       "</table>\n",
       "</div>"
      ],
      "text/plain": [
       "   number                       name                         description  \\\n",
       "0  SDV100     College Success Skills                                 NaN   \n",
       "1  ITD110          Web Page Design I  An introduction to web page design   \n",
       "2  ITP100            Software Design  General software design principles   \n",
       "3  ITD132  Structured Query Language                                 NaN   \n",
       "4  ITP140      Client Side Scripting                                 NaN   \n",
       "5  ITP225    Web Scripting Languages                                 NaN   \n",
       "\n",
       "   credits teacherid  \n",
       "0        1     dm112  \n",
       "1        3     je232  \n",
       "2        3     je232  \n",
       "3        3     cm147  \n",
       "4        4     kr387  \n",
       "5        4     kr387  "
      ]
     },
     "execution_count": 38,
     "metadata": {},
     "output_type": "execute_result"
    }
   ],
   "source": [
    "courses"
   ]
  },
  {
   "cell_type": "markdown",
   "metadata": {},
   "source": [
    "<h2 style=\"color:red\">Data model for runs of an experiment</h2>"
   ]
  },
  {
   "cell_type": "markdown",
   "metadata": {},
   "source": [
    "<img src=\"img/Runs.png\" width=700/>"
   ]
  },
  {
   "cell_type": "markdown",
   "metadata": {},
   "source": [
    "<h2 style=\"color:red\"> table definitions: DDL</h2>\n",
    "```\n",
    "create table Instruments\n",
    "(\n",
    "\tInsID int not null identity(1,1) primary key,\n",
    "\tName nvarchar(64) not null\n",
    ")\n",
    "\n",
    "create table Users\n",
    "(\n",
    "\tUserID int not null identity(10,1) primary key,\n",
    "\tName nvarchar(128) not null,\n",
    "\tAdvisorID int null,\n",
    ")\n",
    "\n",
    "create table Runs\n",
    "(\n",
    "\tRunID int not null identity(100,1) primary key,\n",
    "\tInsID int not null,\n",
    "\tXmin float not null,\n",
    "\tXmax float not null,\n",
    "\tUserID int not null,\n",
    "\tComment nvarchar(128) null,\n",
    ")\n",
    "\n",
    "create table Data\n",
    "(\n",
    "\tID int not null identity(10000,1) primary key,\n",
    "\tRunID int not null,\n",
    "\tX float not null,\n",
    "\tY float not null,\n",
    ")\n",
    "```"
   ]
  }
 ],
 "metadata": {
  "kernelspec": {
   "display_name": "Python 3",
   "language": "python",
   "name": "python3"
  },
  "language_info": {
   "codemirror_mode": {
    "name": "ipython",
    "version": 3
   },
   "file_extension": ".py",
   "mimetype": "text/x-python",
   "name": "python",
   "nbconvert_exporter": "python",
   "pygments_lexer": "ipython3",
   "version": "3.4.3"
  }
 },
 "nbformat": 4,
 "nbformat_minor": 0
}
