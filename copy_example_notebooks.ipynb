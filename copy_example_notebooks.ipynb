{
 "cells": [
  {
   "cell_type": "markdown",
   "metadata": {},
   "source": [
    "# Copy example notebooks"
   ]
  },
  {
   "cell_type": "markdown",
   "metadata": {},
   "source": [
    "SciServer Compute's <strong><code>Getting Started</code></strong> volume is read-only and shared among all users. This means that you can run all the Example Notebooks in any container, and you can make temporary edits, but you cannot save your changes.\n",
    "\n",
    "Run this two-cell Python script - both cells in order - to copy all the example notebooks into a directory of your choosing inside your <strong><code>persistent</code></strong> folder. Go to that folder for a version of these example notebooks that you can freely edit.\n",
    "\n",
    "At any time, you may run this script again to restore the original example notebooks.\n",
    "\n",
    "Have fun learning how to use SciServer!"
   ]
  },
  {
   "cell_type": "markdown",
   "metadata": {},
   "source": [
    "## 1. Import needed modules"
   ]
  },
  {
   "cell_type": "code",
   "execution_count": null,
   "metadata": {},
   "outputs": [],
   "source": [
    "from SciServer import Authentication\n",
    "import os\n",
    "import shutil\n",
    "from IPython.core.display import HTML, display\n",
    "print('Imported all necessary modules!')"
   ]
  },
  {
   "cell_type": "markdown",
   "metadata": {},
   "source": [
    "## 2. Copy example notebooks"
   ]
  },
  {
   "cell_type": "code",
   "execution_count": null,
   "metadata": {},
   "outputs": [],
   "source": [
    "# Copies example notebooks from Getting Started container into your\n",
    "#    persistent directory, in a folder you specify.\n",
    "#    Go to that folder - there you can edit and save these notebooks. \n",
    "folderName = 'examples'\n",
    "\n",
    "myUserName = Authentication.getKeystoneUserWithToken(Authentication.getToken()).userName\n",
    "\n",
    "path = \"/home/idies/workspace/Storage/\" + myUserName + \"/persistent/\" +folderName\n",
    "infilePath = \"/home/idies/workspace/getting_started/Example-Notebooks/\"\n",
    "os.chdir(infilePath)\n",
    "\n",
    "if (os.path.exists(path)):\n",
    "    s = '<p><strong>Error:</strong> directory <b><code>{0:}</code></b> already exists.<br />Please delete it, or change the value of <code>folderName</code>.'.format(folderName)\n",
    "    display(HTML(s))\n",
    "else:\n",
    "    print('Copying files...')\n",
    "    shutil.copytree(infilePath, path)\n",
    "    os.chdir(infilePath)\n",
    "    display(HTML('Example notebooks copied into <strong>persistent/{0:}</strong> folder!'.format(folderName)))"
   ]
  }
 ],
 "metadata": {
  "kernelspec": {
   "display_name": "Python 3",
   "language": "python",
   "name": "python3"
  },
  "language_info": {
   "codemirror_mode": {
    "name": "ipython",
    "version": 3
   },
   "file_extension": ".py",
   "mimetype": "text/x-python",
   "name": "python",
   "nbconvert_exporter": "python",
   "pygments_lexer": "ipython3",
   "version": "3.6.6"
  }
 },
 "nbformat": 4,
 "nbformat_minor": 2
}
