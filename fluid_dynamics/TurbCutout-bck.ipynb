{
 "cells": [
  {
   "cell_type": "code",
   "execution_count": null,
   "metadata": {},
   "outputs": [],
   "source": [
    "import numpy as np\n",
    "import pyJHTDB\n",
    "from pyJHTDB import libJHTDB\n",
    "import ctypes\n"
   ]
  },
  {
   "cell_type": "code",
   "execution_count": null,
   "metadata": {},
   "outputs": [],
   "source": [
    "import json\n",
    "with open(\"parameters.txt\",\"r\") as pf:\n",
    "    params=json.load(pf)\n",
    "\n",
    "auth_token=params[\"token\"]\n",
    "tstart=int(params.get(\"ts\"))\n",
    "tend=int(params.get(\"te\"))\n",
    "tstep=int(params.get(\"stridet\"))\n",
    "xstart=int(params.get(\"xs\"))\n",
    "ystart=int(params.get(\"ys\"))\n",
    "zstart=int(params.get(\"zs\"))\n",
    "xend=int(params.get(\"xe\"))\n",
    "yend=int(params.get(\"ye\"))\n",
    "zend=int(params.get(\"ze\"))\n",
    "xstep=int(params.get(\"stridex\",1))\n",
    "ystep=int(params.get(\"stridey\",1))\n",
    "zstep=int(params.get(\"stridez\",1))\n",
    "Filter_Width=int(params.get(\"filter_width\",1))\n",
    "time_step=int(params.get(\"stridet\",0))\n",
    "fields=params.get(\"function\",\"u\")\n",
    "data_set=params.get(\"dataset\",\"isotropic1024coarse\")\n",
    "output_filename=params.get(\"output_filename\",data_set)\n",
    "\n",
    "#if fields == 'u':\n",
    "#    VarName=\"Velocity\"\n",
    "#    dim = 3\n",
    "#elif fields == 'a':\n",
    "#    VarName=\"Vector Potential\"\n",
    "#    dim = 3\n",
    "#elif fields == 'b':\n",
    "#    VarName=\"Magnetic Field\"\n",
    "#    dim = 3\n",
    "#elif fields == 'p':\n",
    "#    VarName=\"Pressure\"\n",
    "#    dim = 1\n",
    "#elif fields == 'd':\n",
    "#    VarName=\"Density\"\n",
    "#    dim = 1\n",
    "#elif fields == 't':\n",
    "#    VarName=\"Temperature\"\n",
    "#    dim = 1"
   ]
  },
  {
   "cell_type": "code",
   "execution_count": null,
   "metadata": {},
   "outputs": [],
   "source": [
    "lJHTDB = libJHTDB()\n",
    "lJHTDB.initialize()\n",
    "lJHTDB.lib.turblibSetExitOnError(ctypes.c_int(0));\n",
    "lJHTDB.add_token(auth_token)\n",
    "\n",
    "## \"filename\" parameter is the file names of output files, if filename='N/A', no files will be written. \n",
    "##             For example, if filename='results', the function will write \"results.h5\" and \"results.xmf\".\n",
    "## The function only returns the data at the last time step within [t_start:t_step:t_end]\n",
    "## The function only returns the data in the last field. For example, result=p if field=[up].\n",
    "result = lJHTDB.getbigCutout(\n",
    "        data_set=data_set, fields=fields, t_start=tstart, t_end=tend, t_step=tstep,\n",
    "        start=np.array([xstart, ystart, zstart], dtype = np.int),\n",
    "        end=np.array([xend, yend, zend], dtype = np.int),\n",
    "        step=np.array([xstep, ystep, zstep], dtype = np.int),\n",
    "        filter_width=Filter_Width,filename=output_filename)\n",
    "\n",
    "lJHTDB.finalize()\n",
    "print(result.shape)"
   ]
  },
  {
   "cell_type": "code",
   "execution_count": null,
   "metadata": {},
   "outputs": [],
   "source": []
  }
 ],
 "metadata": {
  "kernelspec": {
   "display_name": "Python 3",
   "language": "python",
   "name": "python3"
  },
  "language_info": {
   "codemirror_mode": {
    "name": "ipython",
    "version": 3
   },
   "file_extension": ".py",
   "mimetype": "text/x-python",
   "name": "python",
   "nbconvert_exporter": "python",
   "pygments_lexer": "ipython3",
   "version": "3.7.1"
  }
 },
 "nbformat": 4,
 "nbformat_minor": 4
}
